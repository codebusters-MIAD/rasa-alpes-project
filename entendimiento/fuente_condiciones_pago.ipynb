{
 "cells": [
  {
   "cell_type": "markdown",
   "id": "b9c0dbc31f691d7f",
   "metadata": {},
   "source": [
    "### **Cargue de datos**\n"
   ]
  },
  {
   "cell_type": "code",
   "execution_count": 11,
   "id": "6e0b9437dee95be9",
   "metadata": {
    "ExecuteTime": {
     "end_time": "2024-11-02T22:49:33.346338Z",
     "start_time": "2024-11-02T22:49:33.334055Z"
    }
   },
   "outputs": [],
   "source": [
    "# Important libraries\n",
    "from pyspark.sql import SparkSession\n",
    "from pyspark.sql import functions\n",
    "from pyspark.sql.types import StructType\n",
    "from pyspark import SparkContext, SparkConf, SQLContext\n",
    "from pyspark.sql.types import FloatType, StringType, IntegerType, DateType\n",
    "from pyspark.sql.functions import udf, col, length, isnan, when, count\n",
    "from pyspark.sql.functions import col, to_date\n",
    "import pyspark.sql.functions as f\n",
    "from pyspark.sql.types import NumericType\n",
    "import os \n",
    "from datetime import datetime\n",
    "from pyspark.sql import types as t\n",
    "import matplotlib.pyplot as plt\n",
    "import numpy as np\n",
    "import pandas as pd\n",
    "import seaborn as sns\n",
    "import missingno as msno\n",
    "from pyspark.sql.functions import col"
   ]
  },
  {
   "cell_type": "code",
   "execution_count": 6,
   "id": "17ae6929d3eff6b7",
   "metadata": {
    "ExecuteTime": {
     "end_time": "2024-11-02T22:48:09.205489Z",
     "start_time": "2024-11-02T22:48:09.197292Z"
    }
   },
   "outputs": [],
   "source": [
    "class MySQLConnector:\n",
    "    def __init__(self, spark: SparkSession, connection_properties: dict, url: str):\n",
    "        self.spark = spark\n",
    "        self.properties = connection_properties\n",
    "        self.url = url\n",
    "\n",
    "    def get_dataframe(self, sql_query: str):\n",
    "        \"\"\"\n",
    "        Execute a SQL query and return the result as a Spark DataFrame.\n",
    "\n",
    "        Parameters:\n",
    "        sql_query (str): SQL query to be executed.\n",
    "\n",
    "        Returns:\n",
    "        DataFrame: Resultant DataFrame from the executed SQL query.\n",
    "        \"\"\"\n",
    "        df = self.spark.read.jdbc(\n",
    "            url=self.url,\n",
    "            table=sql_query,\n",
    "            properties=self.properties\n",
    "        )\n",
    "        return df"
   ]
  },
  {
   "cell_type": "code",
   "execution_count": 7,
   "id": "3206f565cdda805d",
   "metadata": {
    "ExecuteTime": {
     "end_time": "2024-11-02T22:48:10.876120Z",
     "start_time": "2024-11-02T22:48:10.868181Z"
    }
   },
   "outputs": [],
   "source": [
    "# Utils to create spark object\n",
    "def create_spark_session(path_jar_driver):\n",
    "    # Configuración de la sesión de Spark\n",
    "    conf = SparkConf() \\\n",
    "        .set('spark.driver.extraClassPath', path_jar_driver)\n",
    "\n",
    "    spark_context = SparkContext(conf=conf)\n",
    "    sql_context = SQLContext(spark_context)\n",
    "    spark = sql_context.sparkSession\n",
    "\n",
    "    return spark\n"
   ]
  },
  {
   "cell_type": "code",
   "execution_count": 8,
   "id": "7c8aba642579b88a",
   "metadata": {
    "ExecuteTime": {
     "end_time": "2024-11-02T22:48:14.392605Z",
     "start_time": "2024-11-02T22:48:14.388900Z"
    }
   },
   "outputs": [],
   "source": [
    "# Given Credentials\n",
    "db_user = 'Estudiante_65_202415'\n",
    "db_psswd = 'Estudiante_202010409'\n",
    "\n",
    "connection_properties = {\n",
    "    \"user\": db_user,\n",
    "    \"password\": db_psswd,\n",
    "    \"driver\": \"com.mysql.cj.jdbc.Driver\"\n",
    "}\n",
    "\n",
    "default_string_connection = 'jdbc:mysql://157.253.236.120:8080/WWImportersTransactional'"
   ]
  },
  {
   "cell_type": "markdown",
   "id": "40d1d522f74b332d",
   "metadata": {},
   "source": []
  },
  {
   "cell_type": "code",
   "execution_count": 9,
   "id": "d6340dd46feec44d",
   "metadata": {
    "ExecuteTime": {
     "end_time": "2024-11-02T22:48:19.195089Z",
     "start_time": "2024-11-02T22:48:19.187904Z"
    }
   },
   "outputs": [],
   "source": [
    "# WINDOWS - Compatible with VM  \n",
    "path_jar_driver = 'C:\\Program Files (x86)\\MySQL\\Connector J 8.0\\mysql-connector-java-8.0.28.jar'\n",
    "\n",
    "# LINUX users: to download the jar wget https://dev.mysql.com/get/Downloads/Connector-J/mysql-connector-java-8.0.28.tar.gz\n",
    "#path_jar_driver = '/opt/mysql/lib/mysql-connector-java-8.0.28.jar'"
   ]
  },
  {
   "cell_type": "code",
   "execution_count": 4,
   "id": "717e435e7aa32edc",
   "metadata": {
    "ExecuteTime": {
     "end_time": "2024-11-02T13:34:09.458247Z",
     "start_time": "2024-11-02T13:34:06.049085Z"
    }
   },
   "outputs": [
    {
     "name": "stderr",
     "output_type": "stream",
     "text": [
      "24/11/02 08:34:07 WARN Utils: Your hostname, willp resolves to a loopback address: 127.0.1.1; using 192.168.1.113 instead (on interface wlp9s0)\n",
      "24/11/02 08:34:07 WARN Utils: Set SPARK_LOCAL_IP if you need to bind to another address\n",
      "Setting default log level to \"WARN\".\n",
      "To adjust logging level use sc.setLogLevel(newLevel). For SparkR, use setLogLevel(newLevel).\n",
      "24/11/02 08:34:08 WARN NativeCodeLoader: Unable to load native-hadoop library for your platform... using builtin-java classes where applicable\n",
      "24/11/02 08:34:09 WARN Utils: Service 'SparkUI' could not bind on port 4040. Attempting port 4041.\n",
      "/home/willp/anaconda3/lib/python3.11/site-packages/pyspark/sql/context.py:112: FutureWarning: Deprecated in 3.0.0. Use SparkSession.builder.getOrCreate() instead.\n",
      "  warnings.warn(\n"
     ]
    }
   ],
   "source": [
    "spark = create_spark_session(path_jar_driver)"
   ]
  },
  {
   "cell_type": "code",
   "execution_count": 25,
   "id": "b10143c751547669",
   "metadata": {
    "ExecuteTime": {
     "end_time": "2024-11-02T14:08:49.065974Z",
     "start_time": "2024-11-02T14:08:49.057925Z"
    }
   },
   "outputs": [],
   "source": [
    "conn = MySQLConnector(spark=spark, connection_properties=connection_properties, url=default_string_connection)"
   ]
  },
  {
   "cell_type": "code",
   "execution_count": 30,
   "id": "282dd4eaa006d227",
   "metadata": {
    "ExecuteTime": {
     "end_time": "2024-11-02T15:30:58.674579Z",
     "start_time": "2024-11-02T15:30:58.560729Z"
    }
   },
   "outputs": [],
   "source": [
    "sql_conditions = 'RaSaTransaccional.FuenteCondicionesDePago_Copia_E'"
   ]
  },
  {
   "cell_type": "code",
   "execution_count": 31,
   "id": "eb5177b891222e47",
   "metadata": {
    "ExecuteTime": {
     "end_time": "2024-11-02T15:31:20.889852Z",
     "start_time": "2024-11-02T15:31:18.002649Z"
    }
   },
   "outputs": [
    {
     "name": "stdout",
     "output_type": "stream",
     "text": [
      "+-----------------+--------------------+--------------------+-----+---------------------+-----------------------+----------------------------------------+---------------------------------------+-----+\n",
      "|IdTipoBeneficio_T|              Nombre|     UnidadDelLimite|EsEHB|EstaCubiertaPorSeguro|TieneLimiteCuantitativo|ExcluidoDelDesembolsoMaximoDentroDeLaRed|ExcluidoDelDesembolsoMaximoFueraDeLaRed|Fecha|\n",
      "+-----------------+--------------------+--------------------+-----+---------------------+-----------------------+----------------------------------------+---------------------------------------+-----+\n",
      "|              565|Nutritional Couns...|                    |   No|                  Yes|                     No|                                      No|                                    Yes| 2017|\n",
      "|              795|Rehabilitative Sp...|Days per Benefit ...|  Yes|                  Yes|                    Yes|                                      No|                                    Yes| 2017|\n",
      "|              200| Denture Adjustments|                    |   No|                  Yes|                     No|                                      No|                                    Yes| 2017|\n",
      "|              335|        Hearing Aids| Item(s) per 3 Years|  Yes|                  Yes|                    Yes|                                      No|                                    Yes| 2017|\n",
      "|              570|Occlusal Adjustments|Procedure(s) per ...|   No|                  Yes|                    Yes|                                      No|                                    Yes| 2017|\n",
      "|              735|Preventive Care/S...|                    |  Yes|                  Yes|                     No|                                      No|                                    Yes| 2017|\n",
      "|              865|Skilled Nursing F...|                    |  Yes|                   No|                     No|                                      No|                                     No| 2017|\n",
      "|              880|     Specialty Drugs|                    |  Yes|                  Yes|                     No|                                      No|                                     No| 2017|\n",
      "|              135|   Chiropractic Care|Visit(s) per Bene...|  Yes|                  Yes|                    Yes|                                      No|                                     No| 2017|\n",
      "|              510|Newborn Hearing S...|                    |   No|                  Yes|                     No|                                      No|                                     No| 2017|\n",
      "|              790|Rehabilitative Oc...|   Visit(s) per Year|  Yes|                  Yes|                    Yes|                                      No|                                    Yes| 2017|\n",
      "|              360|    Hospice Services| Months per Lifetime|  Yes|                  Yes|                    Yes|                                      No|                                     No| 2017|\n",
      "|              865|Skilled Nursing F...|       Days per Stay|  Yes|                  Yes|                    Yes|                                      No|                                    Yes| 2018|\n",
      "|              400|    Infusion Therapy|                    |   No|                  Yes|                     No|                                      No|                                    Yes| 2018|\n",
      "|              330|Habilitation Serv...|                    |  Yes|                  Yes|                     No|                                      No|                                    Yes| 2017|\n",
      "|             1030|Weight Loss Programs|   Visit(s) per Year|  Yes|                  Yes|                    Yes|                                      No|                                     No| 2017|\n",
      "|              275|Eye Glasses for C...|                    |  Yes|                  Yes|                     No|                                      No|                                     No| 2018|\n",
      "|              365|Human Leukocyte A...|Procedure(s) per ...|   No|                  Yes|                    Yes|                                      No|                                    Yes| 2017|\n",
      "|              655|   Partial Pulpotomy|                    |   No|                  Yes|                     No|                                      No|                                    Yes| 2017|\n",
      "|              820|Routine Dental Se...|   Visit(s) per Year|   No|                  Yes|                    Yes|                                     Yes|                                    Yes| 2018|\n",
      "+-----------------+--------------------+--------------------+-----+---------------------+-----------------------+----------------------------------------+---------------------------------------+-----+\n",
      "only showing top 20 rows\n",
      "\n"
     ]
    }
   ],
   "source": [
    "benefits  = conn.get_dataframe(sql_conditions)\n",
    "benefits.show()"
   ]
  },
  {
   "cell_type": "markdown",
   "id": "654e59fdea34b40f",
   "metadata": {},
   "source": [
    "## **Perfilamiento de datos**"
   ]
  },
  {
   "cell_type": "markdown",
   "id": "a77d1e2f9221378f",
   "metadata": {},
   "source": [
    "### **Entendimiento de los datos**"
   ]
  },
  {
   "cell_type": "markdown",
   "id": "a6eafb5f35788679",
   "metadata": {},
   "source": []
  },
  {
   "cell_type": "markdown",
   "id": "d556f902a0923b4d",
   "metadata": {},
   "source": [
    "### **Revisión de reglas de negocio:** "
   ]
  },
  {
   "cell_type": "markdown",
   "id": "71165001dfc551ea",
   "metadata": {},
   "source": []
  },
  {
   "cell_type": "markdown",
   "id": "323dd5357c6de355",
   "metadata": {},
   "source": [
    "### **Análisis de calidad de datos**"
   ]
  },
  {
   "cell_type": "markdown",
   "id": "4b884857f8d22160",
   "metadata": {},
   "source": [
    "#### **Completitud y Validez de los datos**"
   ]
  },
  {
   "cell_type": "markdown",
   "id": "4da5861c338ad115",
   "metadata": {},
   "source": [
    "#### **Cardinalidad**"
   ]
  },
  {
   "cell_type": "markdown",
   "id": "2905af2dbde59ecb",
   "metadata": {},
   "source": [
    "#### **Consistencia de los datos**"
   ]
  },
  {
   "cell_type": "markdown",
   "id": "d1126a91c0834298",
   "metadata": {},
   "source": [
    "### **Analisis Descriptivo**"
   ]
  },
  {
   "cell_type": "markdown",
   "id": "f27b5c2e0f1e59d7",
   "metadata": {},
   "source": []
  },
  {
   "cell_type": "markdown",
   "id": "410018fd60c5d75",
   "metadata": {},
   "source": []
  },
  {
   "cell_type": "markdown",
   "id": "2e04cd600e02d9ff",
   "metadata": {},
   "source": [
    "### Conclusiones\n",
    "\n",
    "Las conclusiones se van consolidad en un solo documento word.\n"
   ]
  }
 ],
 "metadata": {
  "kernelspec": {
   "display_name": "Python 3 (ipykernel)",
   "language": "python",
   "name": "python3"
  },
  "language_info": {
   "codemirror_mode": {
    "name": "ipython",
    "version": 3
   },
   "file_extension": ".py",
   "mimetype": "text/x-python",
   "name": "python",
   "nbconvert_exporter": "python",
   "pygments_lexer": "ipython3",
   "version": "3.7.13"
  }
 },
 "nbformat": 4,
 "nbformat_minor": 5
}
