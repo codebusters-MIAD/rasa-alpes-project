{
 "cells": [
  {
   "cell_type": "markdown",
   "id": "b9c0dbc31f691d7f",
   "metadata": {},
   "source": [
    "### **Cargue de datos**\n"
   ]
  },
  {
   "cell_type": "code",
   "execution_count": 42,
   "id": "0db2e882-bdcd-4631-a817-9e83e21589fc",
   "metadata": {},
   "outputs": [
    {
     "name": "stdout",
     "output_type": "stream",
     "text": [
      "Requirement already satisfied: pyspark in c:\\users\\rodolfo\\anaconda3\\lib\\site-packages (3.5.3)Note: you may need to restart the kernel to use updated packages.\n",
      "\n",
      "Requirement already satisfied: py4j==0.10.9.7 in c:\\users\\rodolfo\\anaconda3\\lib\\site-packages (from pyspark) (0.10.9.7)\n"
     ]
    }
   ],
   "source": [
    "pip install pyspark"
   ]
  },
  {
   "cell_type": "code",
   "execution_count": 24,
   "id": "8c7fc14280de3077",
   "metadata": {
    "ExecuteTime": {
     "end_time": "2024-11-02T22:49:52.852386Z",
     "start_time": "2024-11-02T22:49:52.842884Z"
    }
   },
   "outputs": [],
   "source": [
    "# Important Libraries\n",
    "from pyspark.sql import SparkSession\n",
    "from pyspark.sql import functions\n",
    "from pyspark.sql.types import StructType\n",
    "from pyspark import SparkContext, SparkConf, SQLContext\n",
    "from pyspark.sql.types import FloatType, StringType, IntegerType, DateType\n",
    "from pyspark.sql.functions import udf, col, length, isnan, when, count\n",
    "from pyspark.sql.functions import col, to_date\n",
    "import pyspark.sql.functions as f\n",
    "from pyspark.sql.types import NumericType\n",
    "import os \n",
    "from datetime import datetime\n",
    "from pyspark.sql import types as t\n",
    "import matplotlib.pyplot as plt\n",
    "import numpy as np\n",
    "import pandas as pd\n",
    "import seaborn as sns\n",
    "#import missingno as msno\n",
    "from pyspark.sql.functions import col"
   ]
  },
  {
   "cell_type": "code",
   "execution_count": 3,
   "id": "d6340dd46feec44d",
   "metadata": {
    "ExecuteTime": {
     "end_time": "2024-11-02T13:34:01.405026Z",
     "start_time": "2024-11-02T13:34:01.398527Z"
    }
   },
   "outputs": [],
   "source": [
    "# WINDOWS - Compatible with VM\n",
    "#path_jar_driver = 'C:\\\\Users\\\\Rodolfo\\\\OneDrive\\\\Maestria MIAD\\\\Semestre 1\\\\Ciclo 2\\\\Modelado de Datos y ETL\\\\Semana 2\\\\mysql-connector-j-9.0.0.jar'\n",
    "path_jar_driver = 'C:\\Program Files (x86)\\MySQL\\Connector J 8.0\\mysql-connector-java-8.0.28.jar'\n",
    "\n",
    "# LINUX users: to download the jar wget https://dev.mysql.com/get/Downloads/Connector-J/mysql-connector-java-8.0.28.tar.gz\n",
    "#path_jar_driver = '/opt/mysql/lib/mysql-connector-java-8.0.28.jar'"
   ]
  },
  {
   "cell_type": "code",
   "execution_count": 4,
   "id": "b898a225-d4af-4388-ad09-072078b6e81e",
   "metadata": {},
   "outputs": [
    {
     "name": "stderr",
     "output_type": "stream",
     "text": [
      "C:\\Users\\estudiante\\anaconda3\\envs\\Tutoriales\\lib\\site-packages\\pyspark\\sql\\context.py:79: FutureWarning: Deprecated in 3.0.0. Use SparkSession.builder.getOrCreate() instead.\n",
      "  FutureWarning\n"
     ]
    }
   ],
   "source": [
    "#Configuración de la sesión\n",
    "conf=SparkConf() \\\n",
    "    .set('spark.driver.extraClassPath', path_jar_driver)\n",
    "\n",
    "spark_context = SparkContext(conf=conf)\n",
    "sql_context = SQLContext(spark_context)\n",
    "spark = sql_context.sparkSession"
   ]
  },
  {
   "cell_type": "code",
   "execution_count": 47,
   "id": "ebc1536a-feb8-4f51-8140-e7e424859ab5",
   "metadata": {},
   "outputs": [],
   "source": [
    "spark.stop()"
   ]
  },
  {
   "cell_type": "code",
   "execution_count": 5,
   "id": "7ce446d4-b095-4683-baa0-f2cfdee02e9b",
   "metadata": {},
   "outputs": [],
   "source": [
    "# Si quiere practicar la conexion con el servidor de base de datos:\n",
    "db_connection_string = 'jdbc:mysql://157.253.236.120:8080/RaSaTransaccional'\n",
    "# El usuario es su estudiante _i asignado y su contraseña la encontrará en el archivo excel de Coursera \n",
    "db_user = 'Estudiante_52_202415'\n",
    "db_psswd = 'Estudiante_202425423'\n",
    "\n",
    "PATH='./'"
   ]
  },
  {
   "cell_type": "code",
   "execution_count": 6,
   "id": "167c92dd-e067-4838-8ef9-a3c18e608672",
   "metadata": {},
   "outputs": [],
   "source": [
    "def obtener_dataframe_de_bd(db_connection_string, sql, db_user, db_psswd):\n",
    "    df_bd = spark.read.format('jdbc')\\\n",
    "        .option('url', db_connection_string) \\\n",
    "        .option('dbtable', sql) \\\n",
    "        .option('user', db_user) \\\n",
    "        .option('password', db_psswd) \\\n",
    "        .option('driver', 'com.mysql.cj.jdbc.Driver') \\\n",
    "        .load()\n",
    "    return df_bd"
   ]
  },
  {
   "cell_type": "code",
   "execution_count": 7,
   "id": "fe48a489-17f3-49ce-881d-291a8519d68f",
   "metadata": {},
   "outputs": [
    {
     "name": "stdout",
     "output_type": "stream",
     "text": [
      "Conexión a Spark exitosa.\n"
     ]
    }
   ],
   "source": [
    "try:\n",
    "    # Verifica si el spark_context ya está creado\n",
    "    if 'spark_context' in globals() and spark_context is not None:\n",
    "        if spark_context._jsc is not None:  # Verifica si JavaSparkContext está activo\n",
    "            print(\"Conexión a Spark exitosa.\")\n",
    "        else:\n",
    "            print(\"Error: SparkContext no está inicializado correctamente.\")\n",
    "    else:\n",
    "        print(\"Error: SparkContext no existe.\")\n",
    "except Exception as e:\n",
    "    print(f\"Error al verificar la conexión a Spark: {e}\")"
   ]
  },
  {
   "cell_type": "code",
   "execution_count": 8,
   "id": "03abfb17-0c1a-4fb1-b4e1-6463545fe61b",
   "metadata": {},
   "outputs": [
    {
     "name": "stdout",
     "output_type": "stream",
     "text": [
      "RaSaTransaccional.FuenteCondicionesDePago_Copia_E\n"
     ]
    }
   ],
   "source": [
    "sql_FuenteCondicionesDePago_Copia_E = 'RaSaTransaccional.FuenteCondicionesDePago_Copia_E'\n",
    "print(sql_FuenteCondicionesDePago_Copia_E)"
   ]
  },
  {
   "cell_type": "code",
   "execution_count": 9,
   "id": "d3e6ed9b-0329-486f-9630-f79d18402c53",
   "metadata": {},
   "outputs": [],
   "source": [
    "FuenteCondicionesDePago_Copia_E = obtener_dataframe_de_bd(db_connection_string, sql_FuenteCondicionesDePago_Copia_E, db_user, db_psswd)"
   ]
  },
  {
   "cell_type": "code",
   "execution_count": null,
   "id": "03ab655e-6369-4b84-98d5-79850835fe43",
   "metadata": {},
   "outputs": [],
   "source": []
  },
  {
   "cell_type": "markdown",
   "id": "654e59fdea34b40f",
   "metadata": {},
   "source": [
    "## **Perfilamiento de datos**"
   ]
  },
  {
   "cell_type": "markdown",
   "id": "a77d1e2f9221378f",
   "metadata": {},
   "source": [
    "### **Entendimiento de los datos**"
   ]
  },
  {
   "cell_type": "code",
   "execution_count": 10,
   "id": "291fe5ca-77c1-4e3a-8931-005da6d76920",
   "metadata": {},
   "outputs": [
    {
     "name": "stdout",
     "output_type": "stream",
     "text": [
      "+---------------------+--------------------+--------+\n",
      "|IdCondicionesDePago_T|         Descripcion|    Tipo|\n",
      "+---------------------+--------------------+--------+\n",
      "|                  187|Copay with deduct...|  Copago|\n",
      "|                  204|       Copay per Day|  Copago|\n",
      "|                   45|         Coinsurance|Coseguro|\n",
      "|                   85|Copay per Day bef...|  Copago|\n",
      "|                   18|No Charge after d...|Coseguro|\n",
      "+---------------------+--------------------+--------+\n",
      "only showing top 5 rows\n",
      "\n"
     ]
    }
   ],
   "source": [
    "FuenteCondicionesDePago_Copia_E.show(5)"
   ]
  },
  {
   "cell_type": "code",
   "execution_count": 11,
   "id": "49e71445-3bb0-4d58-9e87-a6b116733ae2",
   "metadata": {},
   "outputs": [
    {
     "data": {
      "text/plain": [
       "StructType(List(StructField(IdCondicionesDePago_T,IntegerType,true),StructField(Descripcion,StringType,true),StructField(Tipo,StringType,true)))"
      ]
     },
     "execution_count": 11,
     "metadata": {},
     "output_type": "execute_result"
    }
   ],
   "source": [
    "FuenteCondicionesDePago_Copia_E.schema"
   ]
  },
  {
   "cell_type": "code",
   "execution_count": 12,
   "id": "fde5950d-c9cb-48c4-91b1-839814bbe6c1",
   "metadata": {},
   "outputs": [
    {
     "name": "stdout",
     "output_type": "stream",
     "text": [
      "(31, 3)\n"
     ]
    }
   ],
   "source": [
    "print((FuenteCondicionesDePago_Copia_E.count(), len(FuenteCondicionesDePago_Copia_E.columns)))"
   ]
  },
  {
   "cell_type": "code",
   "execution_count": 13,
   "id": "906ddfd8-099d-4a8e-b015-b94b40916027",
   "metadata": {},
   "outputs": [
    {
     "name": "stdout",
     "output_type": "stream",
     "text": [
      "+-------+---------------------+--------------+-------------+\n",
      "|summary|IdCondicionesDePago_T|   Descripcion|         Tipo|\n",
      "+-------+---------------------+--------------+-------------+\n",
      "|  count|                   31|            31|           31|\n",
      "|   mean|   152.16129032258064|          null|          NaN|\n",
      "| stddev|   161.75312398306122|          null|          NaN|\n",
      "|    min|                    9|   Coinsurance|     Copagado|\n",
      "|    max|                  714|Not Applicable|SinTipoCopago|\n",
      "+-------+---------------------+--------------+-------------+\n",
      "\n"
     ]
    }
   ],
   "source": [
    "FuenteCondicionesDePago_Copia_E.describe().show()"
   ]
  },
  {
   "cell_type": "code",
   "execution_count": 13,
   "id": "273a4b72-7c47-4fc8-a71d-9364e8bc3800",
   "metadata": {},
   "outputs": [
    {
     "name": "stdout",
     "output_type": "stream",
     "text": [
      "Valores únicos en 'IdCondicionesDePago_T': 24\n"
     ]
    }
   ],
   "source": [
    "Vrunicos = FuenteCondicionesDePago_Copia_E.distinct().count() \n",
    "print(f\"Valores únicos en 'IdCondicionesDePago_T': {Vrunicos}\")"
   ]
  },
  {
   "cell_type": "markdown",
   "id": "73a81a82",
   "metadata": {},
   "source": [
    "La tabla FuenteCondicionesDePago_Copia_E contiene la información de las condiciones de pago asociadas a cada uno de los planes de beneficios de la seguridad social. Esta tabla es importante porque permite medir el costo de dichos planes de beneficios.\n",
    "\n",
    "La variable “idCondicionesDePago_T” es de tipo Integer, la variable “Descripcion” es de tipo String y la variable “Tipo” también es de tipo String. \n",
    "\n",
    "Cada fila registra el tipo de condición de pago, copago, coseguro o pago anticipado, que se asocia con un plan de beneficios existente; además, incluye el nombre y el identificador. \n",
    "\n",
    "La tabla está compuesta por 31 registros, de los cuales 24 son registros únicos. La llave primaria es la variable idCondicionesDePago_T. "
   ]
  },
  {
   "cell_type": "markdown",
   "id": "d556f902a0923b4d",
   "metadata": {},
   "source": [
    "### **Revisión de reglas de negocio:** "
   ]
  },
  {
   "cell_type": "markdown",
   "id": "71165001dfc551ea",
   "metadata": {},
   "source": [
    "Existen 15 y 5 diferentes condiciones de pago y cooseguro respectivamente"
   ]
  },
  {
   "cell_type": "code",
   "execution_count": 27,
   "id": "c6d60751-8293-4b43-bce8-9efd22b3c566",
   "metadata": {},
   "outputs": [
    {
     "name": "stdout",
     "output_type": "stream",
     "text": [
      "Cantidad total de condiciones de pago existentes: 23\n",
      "Cantidad de registros con Tipo 'coseguro': 5\n"
     ]
    }
   ],
   "source": [
    "total_condiciones_pago = FuenteCondicionesDePago_Copia_E.select(\"IdCondicionesDePago_T\").distinct().count()\n",
    "print(\"Cantidad total de condiciones de pago existentes:\", total_condiciones_pago)\n",
    "\n",
    "# Contar la cantidad de registros donde Tipo es \"cooseguro\"\n",
    "cantidad_tipo_cooseguro = FuenteCondicionesDePago_Copia_E.filter(col(\"Tipo\") == \"coseguro\").distinct().count()\n",
    "print(\"Cantidad de registros con Tipo 'coseguro':\", cantidad_tipo_cooseguro)"
   ]
  },
  {
   "cell_type": "markdown",
   "id": "44f6bf69",
   "metadata": {},
   "source": [
    "La empresa nos informa que existen 15 condiciones de copago y 5 de coseguro, respectivamente al revisar la información de la tabla, se observa que este dato es correcto. "
   ]
  },
  {
   "cell_type": "markdown",
   "id": "323dd5357c6de355",
   "metadata": {},
   "source": [
    "### **Análisis de calidad de datos**"
   ]
  },
  {
   "cell_type": "markdown",
   "id": "4b884857f8d22160",
   "metadata": {},
   "source": [
    "#### **Unicidad y Validez de los datos**"
   ]
  },
  {
   "cell_type": "code",
   "execution_count": 15,
   "id": "bc0280c7-a104-4579-9eab-a5c1333cdee4",
   "metadata": {},
   "outputs": [
    {
     "name": "stdout",
     "output_type": "stream",
     "text": [
      "Cantidad de registros duplicados: 7\n"
     ]
    }
   ],
   "source": [
    "# Unicidad\n",
    "total_registros = FuenteCondicionesDePago_Copia_E.count()\n",
    "registros_sin_duplicados = FuenteCondicionesDePago_Copia_E.dropDuplicates()\n",
    "duplicados = total_registros - registros_sin_duplicados.count()\n",
    "print(f\"Cantidad de registros duplicados: {duplicados}\")"
   ]
  },
  {
   "cell_type": "code",
   "execution_count": 16,
   "id": "e5f86cd1-12ff-4479-97fb-ac3e6afd6876",
   "metadata": {},
   "outputs": [
    {
     "name": "stdout",
     "output_type": "stream",
     "text": [
      "Número de IDs inválidos: 0\n"
     ]
    }
   ],
   "source": [
    "# Validez\n",
    "#Verificar que IDs sean positivos\n",
    "invalid_ids = FuenteCondicionesDePago_Copia_E.filter(col(\"IdCondicionesDePago_T\") < 0).count()\n",
    "print(\"Número de IDs inválidos:\", invalid_ids)"
   ]
  },
  {
   "cell_type": "markdown",
   "id": "2905af2dbde59ecb",
   "metadata": {},
   "source": [
    "#### **Completitud y Consistencia de los datos**"
   ]
  },
  {
   "cell_type": "code",
   "execution_count": 19,
   "id": "cb1f2183-d598-4a95-86dc-d5e6d2c1daa4",
   "metadata": {},
   "outputs": [
    {
     "name": "stdout",
     "output_type": "stream",
     "text": [
      "No existen valores vacíos\n",
      "[]\n"
     ]
    }
   ],
   "source": [
    "# Completitud\n",
    "def contar_vacios(df):\n",
    "    resultados = []\n",
    "    for c in df.columns:\n",
    "        vacios = df.filter(df[c].isNull()).count()\n",
    "        if vacios!=0:\n",
    "            print('número de vacíos para columna '+c+': '+str( vacios ))\n",
    "            resultados.append(vacios)\n",
    "    if not resultados:\n",
    "       print(\"No existen valores vacíos\")\n",
    "    return resultados\n",
    "\n",
    "columnas_vacias = contar_vacios(FuenteCondicionesDePago_Copia_E)\n",
    "print(columnas_vacias)\n"
   ]
  },
  {
   "cell_type": "code",
   "execution_count": 38,
   "id": "d50a02c4-f473-4aff-a433-971b8a718edb",
   "metadata": {},
   "outputs": [
    {
     "name": "stdout",
     "output_type": "stream",
     "text": [
      "+--------------------+-----+\n",
      "|         Descripcion|count|\n",
      "+--------------------+-----+\n",
      "|No Charge after d...|    2|\n",
      "|         Coinsurance|    2|\n",
      "|               Copay|    2|\n",
      "|           No Charge|    2|\n",
      "|      Not Applicable|    2|\n",
      "|Copay per Stay af...|    2|\n",
      "|      Copay per Stay|    2|\n",
      "|Coinsurance after...|    1|\n",
      "|Copay before dedu...|    1|\n",
      "|Copay with deduct...|    1|\n",
      "|Copay per Day wit...|    1|\n",
      "|Copay per Stay wi...|    1|\n",
      "|Copay after deduc...|    1|\n",
      "|Copay per Day bef...|    1|\n",
      "|       Copay per Day|    1|\n",
      "|Copay per Day aft...|    1|\n",
      "|Copay per Stay be...|    1|\n",
      "+--------------------+-----+\n",
      "\n",
      "+-------------+-----+\n",
      "|         Tipo|count|\n",
      "+-------------+-----+\n",
      "|       Copago|   15|\n",
      "|     Coseguro|    5|\n",
      "|     Copagado|    1|\n",
      "|  Coseguridad|    1|\n",
      "|          NaN|    1|\n",
      "|SinTipoCopago|    1|\n",
      "+-------------+-----+\n",
      "\n"
     ]
    }
   ],
   "source": [
    "# Consistencia\n",
    "FuenteCondicionesDePago_Copia_E = FuenteCondicionesDePago_Copia_E.dropDuplicates()\n",
    "FuenteCondicionesDePago_Copia_E.groupBy(\"Descripcion\").count().orderBy(\"count\", ascending=False).show()\n",
    "FuenteCondicionesDePago_Copia_E.groupBy(\"Tipo\").count().orderBy(\"count\", ascending=False).show()"
   ]
  },
  {
   "cell_type": "markdown",
   "id": "8e813358",
   "metadata": {},
   "source": [
    "Teniendo en cuenta que es una tabla con pocos registros y solo tres variables, dos de tipo string y una de tipo integer que actúa como identificador, se obtienen los siguientes resultados: \n",
    "\n",
    "Se registran únicamente dos valores vacíos en la columna Tipo. \n",
    "\n",
    "Siete de los 31 registros son duplicados. Aunque es un porcentaje significativo, estos registros deben ser eliminados. "
   ]
  },
  {
   "cell_type": "markdown",
   "id": "d1126a91c0834298",
   "metadata": {},
   "source": [
    "### **Analisis Descriptivo**"
   ]
  },
  {
   "cell_type": "code",
   "execution_count": 22,
   "id": "64b12ec8",
   "metadata": {},
   "outputs": [
    {
     "name": "stdout",
     "output_type": "stream",
     "text": [
      "+-------+---------------------+--------------+-------------+\n",
      "|summary|IdCondicionesDePago_T|   Descripcion|         Tipo|\n",
      "+-------+---------------------+--------------+-------------+\n",
      "|  count|                   31|            31|           31|\n",
      "|   mean|   152.16129032258064|          null|          NaN|\n",
      "| stddev|   161.75312398306122|          null|          NaN|\n",
      "|    min|                    9|   Coinsurance|     Copagado|\n",
      "|    25%|                   45|          null|          NaN|\n",
      "|    50%|                  119|          null|          NaN|\n",
      "|    75%|                  204|          null|          NaN|\n",
      "|    max|                  714|Not Applicable|SinTipoCopago|\n",
      "+-------+---------------------+--------------+-------------+\n",
      "\n"
     ]
    }
   ],
   "source": [
    "estadisticasdes = FuenteCondicionesDePago_Copia_E.summary()\n",
    "estadisticasdes.show()"
   ]
  },
  {
   "cell_type": "code",
   "execution_count": 26,
   "id": "b62d2f23",
   "metadata": {},
   "outputs": [
    {
     "data": {
      "image/png": "[encoded data removed]",
      "text/plain": [
       "<Figure size 432x288 with 1 Axes>"
      ]
     },
     "metadata": {
      "needs_background": "light"
     },
     "output_type": "display_data"
    }
   ],
   "source": [
    "df_FuenteCondicionesDePago_Copia_E = FuenteCondicionesDePago_Copia_E.toPandas()\n",
    "df_FuenteCondicionesDePago_Copia_E.boxplot(column='IdCondicionesDePago_T')\n",
    "plt.title(\"Boxplot de IdCondicionesDePago_T\")\n",
    "plt.ylabel(\"Valores de IdCondicionesDePago_T\")\n",
    "plt.show()"
   ]
  },
  {
   "cell_type": "markdown",
   "id": "5d5e153e",
   "metadata": {},
   "source": [
    "Se destaca en la variable “idCondicionesDePago_T” el valor mínimo de 9 y máximo de 714, lo que muestra una dispersión de los datos que además no guarda una secuencia incremental, característica propia en el identificador de este tipo de tablas. \n",
    "\n",
    "La frecuencia relativa muestra que, de los 23 registros únicos de condiciones de pago, 15 corresponden a copago, 5 a coseguro  y 3 a otras condiciones de pago, además existen 2 registros NaN. "
   ]
  },
  {
   "cell_type": "markdown",
   "id": "f27b5c2e0f1e59d7",
   "metadata": {},
   "source": []
  },
  {
   "cell_type": "markdown",
   "id": "410018fd60c5d75",
   "metadata": {},
   "source": []
  },
  {
   "cell_type": "markdown",
   "id": "2e04cd600e02d9ff",
   "metadata": {},
   "source": [
    "### Conclusiones\n",
    "\n",
    "Las conclusiones se incluyen en el informe de presentación \"Entendimiento de los datos\".\n"
   ]
  }
 ],
 "metadata": {
  "kernelspec": {
   "display_name": "Python 3 (ipykernel)",
   "language": "python",
   "name": "python3"
  },
  "language_info": {
   "codemirror_mode": {
    "name": "ipython",
    "version": 3
   },
   "file_extension": ".py",
   "mimetype": "text/x-python",
   "name": "python",
   "nbconvert_exporter": "python",
   "pygments_lexer": "ipython3",
   "version": "3.7.13"
  }
 },
 "nbformat": 4,
 "nbformat_minor": 5
}
