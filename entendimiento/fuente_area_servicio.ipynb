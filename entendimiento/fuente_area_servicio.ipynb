{
 "cells": [
  {
   "metadata": {},
   "cell_type": "markdown",
   "source": "### **Cargue de datos**\n",
   "id": "b9c0dbc31f691d7f"
  },
  {
   "metadata": {
    "ExecuteTime": {
     "end_time": "2024-11-02T13:40:49.789256Z",
     "start_time": "2024-11-02T13:40:49.786359Z"
    }
   },
   "cell_type": "code",
   "source": [
    "# Given Credentials\n",
    "db_user = 'Estudiante_65_202415'\n",
    "db_psswd = 'Estudiante_202010409'\n",
    "\n",
    "connection_properties = {\n",
    "    \"user\": db_user,\n",
    "    \"password\": db_psswd,\n",
    "    \"driver\": \"com.mysql.cj.jdbc.Driver\"\n",
    "}\n",
    "\n",
    "default_string_connection = 'jdbc:mysql://157.253.236.120:8080/WWImportersTransactional'"
   ],
   "id": "7c8aba642579b88a",
   "outputs": [],
   "execution_count": 8
  },
  {
   "metadata": {},
   "cell_type": "markdown",
   "source": "",
   "id": "40d1d522f74b332d"
  },
  {
   "metadata": {
    "ExecuteTime": {
     "end_time": "2024-11-02T13:28:38.394222Z",
     "start_time": "2024-11-02T13:28:38.271631Z"
    }
   },
   "cell_type": "code",
   "source": [
    "# Import reusable modules\n",
    "import modules.spark_session_module \n",
    "import modules.mysql_connector\n"
   ],
   "id": "ab57524e52380534",
   "outputs": [],
   "execution_count": 1
  },
  {
   "metadata": {
    "ExecuteTime": {
     "end_time": "2024-11-02T13:34:01.405026Z",
     "start_time": "2024-11-02T13:34:01.398527Z"
    }
   },
   "cell_type": "code",
   "source": [
    "# WINDOWS - Compatible with VM  \n",
    "#path_jar_driver = 'C:\\Program Files (x86)\\MySQL\\Connector J 8.0\\mysql-connector-java-8.0.28.jar'\n",
    "\n",
    "# LINUX users: to download the jar wget https://dev.mysql.com/get/Downloads/Connector-J/mysql-connector-java-8.0.28.tar.gz\n",
    "path_jar_driver = '/opt/mysql/lib/mysql-connector-java-8.0.28.jar'"
   ],
   "id": "d6340dd46feec44d",
   "outputs": [],
   "execution_count": 3
  },
  {
   "metadata": {
    "ExecuteTime": {
     "end_time": "2024-11-02T13:34:09.458247Z",
     "start_time": "2024-11-02T13:34:06.049085Z"
    }
   },
   "cell_type": "code",
   "source": "spark = modules.spark_session_module.create_spark_session(path_jar_driver)",
   "id": "717e435e7aa32edc",
   "outputs": [
    {
     "name": "stderr",
     "output_type": "stream",
     "text": [
      "24/11/02 08:34:07 WARN Utils: Your hostname, willp resolves to a loopback address: 127.0.1.1; using 192.168.1.113 instead (on interface wlp9s0)\n",
      "24/11/02 08:34:07 WARN Utils: Set SPARK_LOCAL_IP if you need to bind to another address\n",
      "Setting default log level to \"WARN\".\n",
      "To adjust logging level use sc.setLogLevel(newLevel). For SparkR, use setLogLevel(newLevel).\n",
      "24/11/02 08:34:08 WARN NativeCodeLoader: Unable to load native-hadoop library for your platform... using builtin-java classes where applicable\n",
      "24/11/02 08:34:09 WARN Utils: Service 'SparkUI' could not bind on port 4040. Attempting port 4041.\n",
      "/home/willp/anaconda3/lib/python3.11/site-packages/pyspark/sql/context.py:112: FutureWarning: Deprecated in 3.0.0. Use SparkSession.builder.getOrCreate() instead.\n",
      "  warnings.warn(\n"
     ]
    }
   ],
   "execution_count": 4
  },
  {
   "metadata": {
    "ExecuteTime": {
     "end_time": "2024-11-02T14:08:49.065974Z",
     "start_time": "2024-11-02T14:08:49.057925Z"
    }
   },
   "cell_type": "code",
   "source": "conn = modules.mysql_connector.MySQLConnector(spark=spark, connection_properties=connection_properties, url=default_string_connection)",
   "id": "b10143c751547669",
   "outputs": [],
   "execution_count": 25
  },
  {
   "metadata": {
    "ExecuteTime": {
     "end_time": "2024-11-02T15:30:58.674579Z",
     "start_time": "2024-11-02T15:30:58.560729Z"
    }
   },
   "cell_type": "code",
   "source": "sql_service_area = 'RaSaTransaccional.FuenteAreasDeServicio_Copia_E'",
   "id": "282dd4eaa006d227",
   "outputs": [],
   "execution_count": 30
  },
  {
   "metadata": {
    "ExecuteTime": {
     "end_time": "2024-11-02T15:31:20.889852Z",
     "start_time": "2024-11-02T15:31:18.002649Z"
    }
   },
   "cell_type": "code",
   "source": [
    "benefits  = conn.get_dataframe(sql_service_area)\n",
    "benefits.show()"
   ],
   "id": "eb5177b891222e47",
   "outputs": [
    {
     "name": "stdout",
     "output_type": "stream",
     "text": [
      "+-----------------+--------------------+--------------------+-----+---------------------+-----------------------+----------------------------------------+---------------------------------------+-----+\n",
      "|IdTipoBeneficio_T|              Nombre|     UnidadDelLimite|EsEHB|EstaCubiertaPorSeguro|TieneLimiteCuantitativo|ExcluidoDelDesembolsoMaximoDentroDeLaRed|ExcluidoDelDesembolsoMaximoFueraDeLaRed|Fecha|\n",
      "+-----------------+--------------------+--------------------+-----+---------------------+-----------------------+----------------------------------------+---------------------------------------+-----+\n",
      "|              565|Nutritional Couns...|                    |   No|                  Yes|                     No|                                      No|                                    Yes| 2017|\n",
      "|              795|Rehabilitative Sp...|Days per Benefit ...|  Yes|                  Yes|                    Yes|                                      No|                                    Yes| 2017|\n",
      "|              200| Denture Adjustments|                    |   No|                  Yes|                     No|                                      No|                                    Yes| 2017|\n",
      "|              335|        Hearing Aids| Item(s) per 3 Years|  Yes|                  Yes|                    Yes|                                      No|                                    Yes| 2017|\n",
      "|              570|Occlusal Adjustments|Procedure(s) per ...|   No|                  Yes|                    Yes|                                      No|                                    Yes| 2017|\n",
      "|              735|Preventive Care/S...|                    |  Yes|                  Yes|                     No|                                      No|                                    Yes| 2017|\n",
      "|              865|Skilled Nursing F...|                    |  Yes|                   No|                     No|                                      No|                                     No| 2017|\n",
      "|              880|     Specialty Drugs|                    |  Yes|                  Yes|                     No|                                      No|                                     No| 2017|\n",
      "|              135|   Chiropractic Care|Visit(s) per Bene...|  Yes|                  Yes|                    Yes|                                      No|                                     No| 2017|\n",
      "|              510|Newborn Hearing S...|                    |   No|                  Yes|                     No|                                      No|                                     No| 2017|\n",
      "|              790|Rehabilitative Oc...|   Visit(s) per Year|  Yes|                  Yes|                    Yes|                                      No|                                    Yes| 2017|\n",
      "|              360|    Hospice Services| Months per Lifetime|  Yes|                  Yes|                    Yes|                                      No|                                     No| 2017|\n",
      "|              865|Skilled Nursing F...|       Days per Stay|  Yes|                  Yes|                    Yes|                                      No|                                    Yes| 2018|\n",
      "|              400|    Infusion Therapy|                    |   No|                  Yes|                     No|                                      No|                                    Yes| 2018|\n",
      "|              330|Habilitation Serv...|                    |  Yes|                  Yes|                     No|                                      No|                                    Yes| 2017|\n",
      "|             1030|Weight Loss Programs|   Visit(s) per Year|  Yes|                  Yes|                    Yes|                                      No|                                     No| 2017|\n",
      "|              275|Eye Glasses for C...|                    |  Yes|                  Yes|                     No|                                      No|                                     No| 2018|\n",
      "|              365|Human Leukocyte A...|Procedure(s) per ...|   No|                  Yes|                    Yes|                                      No|                                    Yes| 2017|\n",
      "|              655|   Partial Pulpotomy|                    |   No|                  Yes|                     No|                                      No|                                    Yes| 2017|\n",
      "|              820|Routine Dental Se...|   Visit(s) per Year|   No|                  Yes|                    Yes|                                     Yes|                                    Yes| 2018|\n",
      "+-----------------+--------------------+--------------------+-----+---------------------+-----------------------+----------------------------------------+---------------------------------------+-----+\n",
      "only showing top 20 rows\n",
      "\n"
     ]
    }
   ],
   "execution_count": 31
  },
  {
   "metadata": {},
   "cell_type": "markdown",
   "source": "## **Perfilamiento de datos**",
   "id": "654e59fdea34b40f"
  },
  {
   "metadata": {},
   "cell_type": "markdown",
   "source": "### **Entendimiento de los datos**",
   "id": "a77d1e2f9221378f"
  },
  {
   "metadata": {},
   "cell_type": "markdown",
   "source": "",
   "id": "a6eafb5f35788679"
  },
  {
   "metadata": {},
   "cell_type": "markdown",
   "source": "### **Revisión de reglas de negocio:** ",
   "id": "d556f902a0923b4d"
  },
  {
   "metadata": {},
   "cell_type": "markdown",
   "source": "",
   "id": "71165001dfc551ea"
  },
  {
   "metadata": {},
   "cell_type": "markdown",
   "source": "### **Análisis de calidad de datos**",
   "id": "323dd5357c6de355"
  },
  {
   "metadata": {},
   "cell_type": "markdown",
   "source": "#### **Completitud y Validez de los datos**",
   "id": "4b884857f8d22160"
  },
  {
   "metadata": {},
   "cell_type": "markdown",
   "source": "#### **Cardinalidad**",
   "id": "4da5861c338ad115"
  },
  {
   "metadata": {},
   "cell_type": "markdown",
   "source": "#### **Consistencia de los datos**",
   "id": "2905af2dbde59ecb"
  },
  {
   "metadata": {},
   "cell_type": "markdown",
   "source": "### **Analisis Descriptivo**",
   "id": "d1126a91c0834298"
  },
  {
   "metadata": {},
   "cell_type": "markdown",
   "source": "",
   "id": "f27b5c2e0f1e59d7"
  },
  {
   "metadata": {},
   "cell_type": "markdown",
   "source": "",
   "id": "410018fd60c5d75"
  },
  {
   "metadata": {},
   "cell_type": "markdown",
   "source": [
    "### Conclusiones\n",
    "\n",
    "Las conclusiones se van consolidad en un solo documento word.\n"
   ],
   "id": "2e04cd600e02d9ff"
  }
 ],
 "metadata": {
  "kernelspec": {
   "display_name": "Python 3",
   "language": "python",
   "name": "python3"
  },
  "language_info": {
   "codemirror_mode": {
    "name": "ipython",
    "version": 2
   },
   "file_extension": ".py",
   "mimetype": "text/x-python",
   "name": "python",
   "nbconvert_exporter": "python",
   "pygments_lexer": "ipython2",
   "version": "2.7.6"
  }
 },
 "nbformat": 4,
 "nbformat_minor": 5
}
