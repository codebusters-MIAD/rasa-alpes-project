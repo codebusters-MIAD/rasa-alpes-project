{
 "cells": [
  {
   "cell_type": "markdown",
   "id": "b9c0dbc31f691d7f",
   "metadata": {},
   "source": [
    "### **Cargue de datos**\n"
   ]
  },
  {
   "cell_type": "markdown",
   "id": "58a14602-64cd-499e-9fdc-70560e4e9ef4",
   "metadata": {},
   "source": [
    "A continuación se importan los modulos que se usaran a lo largo del desarrollo del entendimiento de los datos."
   ]
  },
  {
   "cell_type": "code",
   "execution_count": 1,
   "id": "b762a287",
   "metadata": {},
   "outputs": [],
   "source": [
    "from pyspark.sql import SparkSession\n",
    "from pyspark.sql import functions\n",
    "from pyspark.sql.types import StructType\n",
    "from pyspark import SparkContext, SparkConf, SQLContext\n",
    "from pyspark.sql.types import FloatType, StringType, IntegerType, DateType\n",
    "from pyspark.sql.functions import udf, col, length, isnan, when, count\n",
    "from pyspark.sql.functions import col, to_date\n",
    "import pyspark.sql.functions as f\n",
    "from pyspark.sql.types import NumericType\n",
    "import os \n",
    "from datetime import datetime\n",
    "from pyspark.sql import types as t\n",
    "import matplotlib.pyplot as plt\n",
    "import numpy as np\n",
    "import pandas as pd\n",
    "import seaborn as sns\n",
    "import missingno as msno\n",
    "from pyspark.sql.functions import col"
   ]
  },
  {
   "cell_type": "markdown",
   "id": "127b82b3-79ec-48ac-9b1e-353996d2efe2",
   "metadata": {},
   "source": [
    "Tambien se definen las credenciales de acceso a la base de datos."
   ]
  },
  {
   "cell_type": "code",
   "execution_count": 2,
   "id": "7c8aba642579b88a",
   "metadata": {
    "ExecuteTime": {
     "end_time": "2024-11-02T13:40:49.789256Z",
     "start_time": "2024-11-02T13:40:49.786359Z"
    }
   },
   "outputs": [],
   "source": [
    "# Given Credentials\n",
    "db_user = 'Estudiante_65_202415'\n",
    "db_psswd = 'Estudiante_202010409'\n",
    "\n",
    "connection_properties = {\n",
    "    \"user\": db_user,\n",
    "    \"password\": db_psswd,\n",
    "    \"driver\": \"com.mysql.cj.jdbc.Driver\"\n",
    "}\n",
    "\n",
    "default_string_connection = 'jdbc:mysql://157.253.236.120:8080/WWImportersTransactional'"
   ]
  },
  {
   "cell_type": "code",
   "execution_count": 3,
   "id": "4d5d2386",
   "metadata": {},
   "outputs": [],
   "source": [
    "class MySQLConnector:\n",
    "    def __init__(self, spark: SparkSession, connection_properties: dict, url: str):\n",
    "        self.spark = spark\n",
    "        self.properties = connection_properties\n",
    "        self.url = url\n",
    "\n",
    "    def get_dataframe(self, sql_query: str):\n",
    "        \"\"\"\n",
    "        Execute a SQL query and return the result as a Spark DataFrame.\n",
    "\n",
    "        Parameters:\n",
    "        sql_query (str): SQL query to be executed.\n",
    "\n",
    "        Returns:\n",
    "        DataFrame: Resultant DataFrame from the executed SQL query.\n",
    "        \"\"\"\n",
    "        df = self.spark.read.jdbc(\n",
    "            url=self.url,\n",
    "            table=sql_query,\n",
    "            properties=self.properties\n",
    "        )\n",
    "        return df\n",
    "    \n",
    "def plot_numeric_box_plots(spark_df, sample_fraction=0.1):\n",
    "    \"\"\"\n",
    "    Genera diagramas de caja para todas las columnas numéricas de un DataFrame de Spark.\n",
    "\n",
    "    Parámetros:\n",
    "    - spark_df: DataFrame de Spark.\n",
    "    - sample_fraction: Fracción de datos a muestrear (valor entre 0 y 1). Por defecto es 1.0 (todos los datos).\n",
    "    Retorna:\n",
    "    - None. La función muestra los diagramas de caja.\n",
    "    \"\"\"\n",
    "    # Identificar las columnas numéricas\n",
    "    numeric_columns = [field.name for field in spark_df.schema.fields if isinstance(field.dataType, NumericType)]\n",
    "\n",
    "    if not numeric_columns:\n",
    "        print(\"El DataFrame no contiene columnas numéricas.\")\n",
    "        return\n",
    "\n",
    "    if sample_fraction < 1.0:\n",
    "        spark_df = spark_df.sample(fraction=sample_fraction)\n",
    "\n",
    "    spark_numeric_df = spark_df.select(*numeric_columns)\n",
    "\n",
    "    pandas_df = spark_numeric_df.toPandas()\n",
    "    pandas_df = pandas_df.dropna()\n",
    "\n",
    "    sns.set(style=\"whitegrid\")\n",
    "\n",
    "    num_columns = len(numeric_columns)\n",
    "    fig, axes = plt.subplots(nrows=1, ncols=num_columns, figsize=(5 * num_columns, 6))\n",
    "\n",
    "    if num_columns == 1:\n",
    "        axes = [axes]\n",
    "\n",
    "    for ax, column in zip(axes, numeric_columns):\n",
    "        sns.boxplot(y=pandas_df[column], ax=ax)\n",
    "        ax.set_title(f'Diagrama de caja de {column}')\n",
    "        ax.set_ylabel(column)\n",
    "        ax.set_xlabel('')\n",
    "\n",
    "    plt.tight_layout()\n",
    "    plt.show()\n",
    "\n",
    "def plot_correlation_heatmap(spark_df, sample_fraction=1.0):\n",
    "    \"\"\"\n",
    "    Genera un mapa de calor de correlaciones para todas las columnas numéricas de un DataFrame de Spark.\n",
    "\n",
    "    Parámetros:\n",
    "    - spark_df: DataFrame de Spark.\n",
    "    - sample_fraction: Fracción de datos a muestrear (valor entre 0 y 1). Por defecto es 1.0 (todos los datos).\n",
    "\n",
    "    Retorna:\n",
    "    - None. La función muestra el mapa de calor de correlaciones.\n",
    "    \"\"\"\n",
    "    numeric_columns = [field.name for field in spark_df.schema.fields if isinstance(field.dataType, NumericType)]\n",
    "\n",
    "    if not numeric_columns:\n",
    "        print(\"El DataFrame no contiene columnas numéricas.\")\n",
    "        return\n",
    "\n",
    "    if sample_fraction < 1.0:\n",
    "        spark_df = spark_df.sample(fraction=sample_fraction)\n",
    "\n",
    "    spark_numeric_df = spark_df.select(*numeric_columns)\n",
    "\n",
    "    pandas_df = spark_numeric_df.toPandas()\n",
    "\n",
    "    pandas_df = pandas_df.dropna()\n",
    "\n",
    "    corr_matrix = pandas_df.corr()\n",
    "\n",
    "    plt.figure(figsize=(10, 8))\n",
    "    sns.heatmap(corr_matrix, annot=True, cmap='coolwarm', fmt='.2f', linewidths=0.5)\n",
    "    plt.title('Mapa de calor de correlaciones')\n",
    "    plt.show()\n",
    "\n",
    "\n",
    "def plot_scatter(df, x_col, y_col, sample_fraction):\n",
    "    \"\"\"\n",
    "    Genera un gráfico de dispersión entre dos columnas de un DataFrame de Spark.\n",
    "\n",
    "    Parámetros:\n",
    "    df (DataFrame): DataFrame de Spark con los datos.\n",
    "    x_col (str): Nombre de la columna para el eje x.\n",
    "    y_col (str): Nombre de la columna para el eje y.\n",
    "    sample_fraction (float): Porcentaje de datos a muestrear (entre 0 y 1).\n",
    "    \"\"\"\n",
    "\n",
    "    if sample_fraction <= 0 or sample_fraction > 1:\n",
    "        raise ValueError(\"El parámetro sample_fraction debe estar entre 0 y 1.\")\n",
    "\n",
    "    sample_df = df.select(x_col, y_col).sample(fraction=sample_fraction)\n",
    "\n",
    "    pandas_df = sample_df.toPandas()\n",
    "\n",
    "    if pandas_df.empty:\n",
    "        print(\"No hay datos para visualizar después del muestreo. Por favor, incrementa sample_fraction.\")\n",
    "        return\n",
    "\n",
    "    if pandas_df[x_col].dtype == 'object':\n",
    "        try:\n",
    "            pandas_df[x_col] = pd.to_datetime(pandas_df[x_col])\n",
    "        except Exception as e:\n",
    "            print(f\"Error al convertir {x_col} a datetime: {e}\")\n",
    "            return\n",
    "\n",
    "    plt.figure(figsize=(12, 6))\n",
    "    sns.scatterplot(data=pandas_df, x=x_col, y=y_col)\n",
    "    plt.title(f\"Gráfico de dispersión de {y_col} vs {x_col}\")\n",
    "    plt.xlabel(x_col)\n",
    "    plt.ylabel(y_col)\n",
    "    plt.xticks(rotation=45)  # Rotar etiquetas del eje x si es necesario\n",
    "    plt.tight_layout()\n",
    "    plt.show()\n",
    "\n",
    "def create_spark_session(path_jar_driver):\n",
    "    # Configuración de la sesión de Spark\n",
    "    conf = SparkConf() \\\n",
    "            .set('spark.driver.extraClassPath', path_jar_driver)\n",
    "\n",
    "    spark_context = SparkContext(conf=conf)\n",
    "    sql_context = SQLContext(spark_context)\n",
    "    spark = sql_context.sparkSession\n",
    "\n",
    "    return spark"
   ]
  },
  {
   "cell_type": "code",
   "execution_count": 13,
   "id": "ab57524e52380534",
   "metadata": {
    "ExecuteTime": {
     "end_time": "2024-11-02T13:28:38.394222Z",
     "start_time": "2024-11-02T13:28:38.271631Z"
    }
   },
   "outputs": [],
   "source": [
    "# Import reusable modules\n",
    "#import modules.spark_session_module \n",
    "#import modules.mysql_connector\n",
    "#import modules.mysql_connector"
   ]
  },
  {
   "cell_type": "code",
   "execution_count": 4,
   "id": "d6340dd46feec44d",
   "metadata": {
    "ExecuteTime": {
     "end_time": "2024-11-02T13:34:01.405026Z",
     "start_time": "2024-11-02T13:34:01.398527Z"
    }
   },
   "outputs": [],
   "source": [
    "# WINDOWS - Compatible with VM  \n",
    "path_jar_driver = 'C:\\Program Files (x86)\\MySQL\\Connector J 8.0\\mysql-connector-java-8.0.28.jar'\n",
    "#path_jar_driver = 'D:\\Librerias\\mysql-connector-java-8.0.28.jar'\n",
    "\n",
    "# LINUX users: to download the jar wget https://dev.mysql.com/get/Downloads/Connector-J/mysql-connector-java-8.0.28.tar.gz\n",
    "#path_jar_driver = '/opt/mysql/lib/mysql-connector-java-8.0.28.jar'"
   ]
  },
  {
   "cell_type": "code",
   "execution_count": 5,
   "id": "717e435e7aa32edc",
   "metadata": {
    "ExecuteTime": {
     "end_time": "2024-11-02T13:34:09.458247Z",
     "start_time": "2024-11-02T13:34:06.049085Z"
    }
   },
   "outputs": [
    {
     "name": "stderr",
     "output_type": "stream",
     "text": [
      "C:\\Users\\estudiante\\anaconda3\\envs\\Tutoriales\\lib\\site-packages\\pyspark\\sql\\context.py:79: FutureWarning: Deprecated in 3.0.0. Use SparkSession.builder.getOrCreate() instead.\n",
      "  FutureWarning\n"
     ]
    }
   ],
   "source": [
    "#spark = modules.spark_session_module.create_spark_session(path_jar_driver)\n",
    "spark = create_spark_session(path_jar_driver)"
   ]
  },
  {
   "cell_type": "code",
   "execution_count": 7,
   "id": "b10143c751547669",
   "metadata": {
    "ExecuteTime": {
     "end_time": "2024-11-02T14:08:49.065974Z",
     "start_time": "2024-11-02T14:08:49.057925Z"
    }
   },
   "outputs": [],
   "source": [
    "conn = MySQLConnector(spark=spark, connection_properties=connection_properties, url=default_string_connection)"
   ]
  },
  {
   "cell_type": "code",
   "execution_count": 8,
   "id": "282dd4eaa006d227",
   "metadata": {
    "ExecuteTime": {
     "end_time": "2024-11-02T15:30:58.674579Z",
     "start_time": "2024-11-02T15:30:58.560729Z"
    }
   },
   "outputs": [],
   "source": [
    "sql_benefits = 'RaSaTransaccional.FuenteTiposBeneficio_Copia_E'"
   ]
  },
  {
   "cell_type": "code",
   "execution_count": 13,
   "id": "eb5177b891222e47",
   "metadata": {
    "ExecuteTime": {
     "end_time": "2024-11-02T15:31:20.889852Z",
     "start_time": "2024-11-02T15:31:18.002649Z"
    }
   },
   "outputs": [],
   "source": [
    "beneficios  = conn.get_dataframe(sql_benefits)"
   ]
  },
  {
   "cell_type": "code",
   "execution_count": 11,
   "id": "1f4767e1-e245-4155-81c9-6dae4bc70894",
   "metadata": {},
   "outputs": [
    {
     "name": "stdout",
     "output_type": "stream",
     "text": [
      "+-----------------+--------------------+--------------------+-----+---------------------+-----------------------+----------------------------------------+---------------------------------------+-----+\n",
      "|IdTipoBeneficio_T|              Nombre|     UnidadDelLimite|EsEHB|EstaCubiertaPorSeguro|TieneLimiteCuantitativo|ExcluidoDelDesembolsoMaximoDentroDeLaRed|ExcluidoDelDesembolsoMaximoFueraDeLaRed|Fecha|\n",
      "+-----------------+--------------------+--------------------+-----+---------------------+-----------------------+----------------------------------------+---------------------------------------+-----+\n",
      "|              565|Nutritional Couns...|                    |   No|                  Yes|                     No|                                      No|                                    Yes| 2017|\n",
      "|              795|Rehabilitative Sp...|Days per Benefit ...|  Yes|                  Yes|                    Yes|                                      No|                                    Yes| 2017|\n",
      "|              200| Denture Adjustments|                    |   No|                  Yes|                     No|                                      No|                                    Yes| 2017|\n",
      "|              335|        Hearing Aids| Item(s) per 3 Years|  Yes|                  Yes|                    Yes|                                      No|                                    Yes| 2017|\n",
      "|              570|Occlusal Adjustments|Procedure(s) per ...|   No|                  Yes|                    Yes|                                      No|                                    Yes| 2017|\n",
      "|              735|Preventive Care/S...|                    |  Yes|                  Yes|                     No|                                      No|                                    Yes| 2017|\n",
      "|              865|Skilled Nursing F...|                    |  Yes|                   No|                     No|                                      No|                                     No| 2017|\n",
      "|              880|     Specialty Drugs|                    |  Yes|                  Yes|                     No|                                      No|                                     No| 2017|\n",
      "|              135|   Chiropractic Care|Visit(s) per Bene...|  Yes|                  Yes|                    Yes|                                      No|                                     No| 2017|\n",
      "|              510|Newborn Hearing S...|                    |   No|                  Yes|                     No|                                      No|                                     No| 2017|\n",
      "|              790|Rehabilitative Oc...|   Visit(s) per Year|  Yes|                  Yes|                    Yes|                                      No|                                    Yes| 2017|\n",
      "|              360|    Hospice Services| Months per Lifetime|  Yes|                  Yes|                    Yes|                                      No|                                     No| 2017|\n",
      "|              865|Skilled Nursing F...|       Days per Stay|  Yes|                  Yes|                    Yes|                                      No|                                    Yes| 2018|\n",
      "|              400|    Infusion Therapy|                    |   No|                  Yes|                     No|                                      No|                                    Yes| 2018|\n",
      "|              330|Habilitation Serv...|                    |  Yes|                  Yes|                     No|                                      No|                                    Yes| 2017|\n",
      "|             1030|Weight Loss Programs|   Visit(s) per Year|  Yes|                  Yes|                    Yes|                                      No|                                     No| 2017|\n",
      "|              275|Eye Glasses for C...|                    |  Yes|                  Yes|                     No|                                      No|                                     No| 2018|\n",
      "|              365|Human Leukocyte A...|Procedure(s) per ...|   No|                  Yes|                    Yes|                                      No|                                    Yes| 2017|\n",
      "|              655|   Partial Pulpotomy|                    |   No|                  Yes|                     No|                                      No|                                    Yes| 2017|\n",
      "|              820|Routine Dental Se...|   Visit(s) per Year|   No|                  Yes|                    Yes|                                     Yes|                                    Yes| 2018|\n",
      "+-----------------+--------------------+--------------------+-----+---------------------+-----------------------+----------------------------------------+---------------------------------------+-----+\n",
      "only showing top 20 rows\n",
      "\n"
     ]
    }
   ],
   "source": []
  },
  {
   "cell_type": "markdown",
   "id": "654e59fdea34b40f",
   "metadata": {},
   "source": [
    "## **Perfilamiento de datos**"
   ]
  },
  {
   "cell_type": "markdown",
   "id": "a77d1e2f9221378f",
   "metadata": {},
   "source": [
    "### **Entendimiento de los datos**"
   ]
  },
  {
   "cell_type": "markdown",
   "id": "a6eafb5f35788679",
   "metadata": {},
   "source": [
    "A continuacion se realiza el entendimiento de los datos."
   ]
  },
  {
   "cell_type": "code",
   "execution_count": 12,
   "id": "c3b9d34d-37bf-4842-968a-eadfef848c7c",
   "metadata": {},
   "outputs": [
    {
     "data": {
      "text/plain": [
       "DataFrame[IdTipoBeneficio_T: int, Nombre: string, UnidadDelLimite: string, EsEHB: string, EstaCubiertaPorSeguro: string, TieneLimiteCuantitativo: string, ExcluidoDelDesembolsoMaximoDentroDeLaRed: string, ExcluidoDelDesembolsoMaximoFueraDeLaRed: string, Fecha: int]"
      ]
     },
     "execution_count": 12,
     "metadata": {},
     "output_type": "execute_result"
    }
   ],
   "source": [
    "beneficios"
   ]
  },
  {
   "cell_type": "code",
   "execution_count": 14,
   "id": "b75f2bd2-a971-41d4-bb57-230e485e39f8",
   "metadata": {},
   "outputs": [
    {
     "name": "stdout",
     "output_type": "stream",
     "text": [
      "+-----------------+--------------------+--------------------+-----+---------------------+-----------------------+----------------------------------------+---------------------------------------+-----+\n",
      "|IdTipoBeneficio_T|              Nombre|     UnidadDelLimite|EsEHB|EstaCubiertaPorSeguro|TieneLimiteCuantitativo|ExcluidoDelDesembolsoMaximoDentroDeLaRed|ExcluidoDelDesembolsoMaximoFueraDeLaRed|Fecha|\n",
      "+-----------------+--------------------+--------------------+-----+---------------------+-----------------------+----------------------------------------+---------------------------------------+-----+\n",
      "|              565|Nutritional Couns...|                    |   No|                  Yes|                     No|                                      No|                                    Yes| 2017|\n",
      "|              795|Rehabilitative Sp...|Days per Benefit ...|  Yes|                  Yes|                    Yes|                                      No|                                    Yes| 2017|\n",
      "|              200| Denture Adjustments|                    |   No|                  Yes|                     No|                                      No|                                    Yes| 2017|\n",
      "|              335|        Hearing Aids| Item(s) per 3 Years|  Yes|                  Yes|                    Yes|                                      No|                                    Yes| 2017|\n",
      "|              570|Occlusal Adjustments|Procedure(s) per ...|   No|                  Yes|                    Yes|                                      No|                                    Yes| 2017|\n",
      "|              735|Preventive Care/S...|                    |  Yes|                  Yes|                     No|                                      No|                                    Yes| 2017|\n",
      "|              865|Skilled Nursing F...|                    |  Yes|                   No|                     No|                                      No|                                     No| 2017|\n",
      "|              880|     Specialty Drugs|                    |  Yes|                  Yes|                     No|                                      No|                                     No| 2017|\n",
      "|              135|   Chiropractic Care|Visit(s) per Bene...|  Yes|                  Yes|                    Yes|                                      No|                                     No| 2017|\n",
      "|              510|Newborn Hearing S...|                    |   No|                  Yes|                     No|                                      No|                                     No| 2017|\n",
      "|              790|Rehabilitative Oc...|   Visit(s) per Year|  Yes|                  Yes|                    Yes|                                      No|                                    Yes| 2017|\n",
      "|              360|    Hospice Services| Months per Lifetime|  Yes|                  Yes|                    Yes|                                      No|                                     No| 2017|\n",
      "|              865|Skilled Nursing F...|       Days per Stay|  Yes|                  Yes|                    Yes|                                      No|                                    Yes| 2018|\n",
      "|              400|    Infusion Therapy|                    |   No|                  Yes|                     No|                                      No|                                    Yes| 2018|\n",
      "|              330|Habilitation Serv...|                    |  Yes|                  Yes|                     No|                                      No|                                    Yes| 2017|\n",
      "|             1030|Weight Loss Programs|   Visit(s) per Year|  Yes|                  Yes|                    Yes|                                      No|                                     No| 2017|\n",
      "|              275|Eye Glasses for C...|                    |  Yes|                  Yes|                     No|                                      No|                                     No| 2018|\n",
      "|              365|Human Leukocyte A...|Procedure(s) per ...|   No|                  Yes|                    Yes|                                      No|                                    Yes| 2017|\n",
      "|              655|   Partial Pulpotomy|                    |   No|                  Yes|                     No|                                      No|                                    Yes| 2017|\n",
      "|              820|Routine Dental Se...|   Visit(s) per Year|   No|                  Yes|                    Yes|                                     Yes|                                    Yes| 2018|\n",
      "+-----------------+--------------------+--------------------+-----+---------------------+-----------------------+----------------------------------------+---------------------------------------+-----+\n",
      "only showing top 20 rows\n",
      "\n"
     ]
    }
   ],
   "source": [
    "beneficios.show()"
   ]
  },
  {
   "cell_type": "markdown",
   "id": "b434cf8f-273f-400d-9dbb-06ab67bdf45b",
   "metadata": {},
   "source": [
    "Como puede observarse en el anterior dataframe, la tabla de beneficios contiene la siguiente información:\n",
    "* `IdTipoBeneficio_T` que corresponde al identificador del identificador del tipo de beneficio.\n",
    "* `Nombre` que corresponde a la descripción del tipo de beneficio.\n",
    "* `UnidadDelLimite` xxxx.\n",
    "* `EsEHB` xxxxxx.\n",
    "* `EstaCubiertaPorSeguro` Esta columna indica si el tipo de beneficio esta cubierto por el seguro.\n",
    "* `TieneLimiteCuantitativo` Esta columna señala si el tipo de beneficio tiene limite cuantitativo, toma valores Yes/No.\n",
    "* `ExcluidoDelDesembolsoMaximoDentroDeLaRed` Esta columna indica si el tipo de beneficio esta excluido del desembolso maximo dentro de la red, toma valores Yes/No.\n",
    "* `ExcluidoDelDesembolsoMaximoFueraDeLaRed` Esta columna indica si el tipo de beneficio esta excluido del desembolso maximo fuera de la red, toma valores Yes/No.\n",
    "* `Fecha` Indica el año de vigencia del tipo de beneficio.\n",
    "\n",
    "La primera columna corresponderia a la llave primaria de la tabla."
   ]
  },
  {
   "cell_type": "markdown",
   "id": "d556f902a0923b4d",
   "metadata": {},
   "source": [
    "### **Revisión de reglas de negocio:** "
   ]
  },
  {
   "cell_type": "markdown",
   "id": "71165001dfc551ea",
   "metadata": {},
   "source": [
    "A continuación se muestran las reglas de negocio dadas que tienen relación con la tabla tipo de beneficios:\n",
    "\n",
    "* Los tipos de beneficios con límite cuantitativo deben tener una cantidad límite diferente de cero en los planes que los ofrecen.\n",
    "* Las fuentes FuenteAreasDeServicio_Copia_E y FuenteTiposBeneficio_Copia_E comparten información de los años 2017 al 2019\n",
    "* La empresa comparte 5409 áreas de servicios y 170 tipos de beneficios."
   ]
  },
  {
   "cell_type": "markdown",
   "id": "323dd5357c6de355",
   "metadata": {},
   "source": [
    "### **Análisis de calidad de datos**"
   ]
  },
  {
   "cell_type": "markdown",
   "id": "4b884857f8d22160",
   "metadata": {},
   "source": [
    "#### **Completitud y Validez de los datos**"
   ]
  },
  {
   "cell_type": "markdown",
   "id": "4da5861c338ad115",
   "metadata": {},
   "source": [
    "#### **Cardinalidad**"
   ]
  },
  {
   "cell_type": "markdown",
   "id": "2905af2dbde59ecb",
   "metadata": {},
   "source": [
    "#### **Consistencia de los datos**"
   ]
  },
  {
   "cell_type": "markdown",
   "id": "d1126a91c0834298",
   "metadata": {},
   "source": [
    "### **Analisis Descriptivo**"
   ]
  },
  {
   "cell_type": "markdown",
   "id": "f27b5c2e0f1e59d7",
   "metadata": {},
   "source": []
  },
  {
   "cell_type": "markdown",
   "id": "410018fd60c5d75",
   "metadata": {},
   "source": []
  },
  {
   "cell_type": "markdown",
   "id": "2e04cd600e02d9ff",
   "metadata": {},
   "source": [
    "### Conclusiones\n",
    "\n",
    "Las conclusiones se van consolidad en un solo documento word.\n"
   ]
  }
 ],
 "metadata": {
  "kernelspec": {
   "display_name": "Python 3 (ipykernel)",
   "language": "python",
   "name": "python3"
  },
  "language_info": {
   "codemirror_mode": {
    "name": "ipython",
    "version": 3
   },
   "file_extension": ".py",
   "mimetype": "text/x-python",
   "name": "python",
   "nbconvert_exporter": "python",
   "pygments_lexer": "ipython3",
   "version": "3.7.13"
  }
 },
 "nbformat": 4,
 "nbformat_minor": 5
}
