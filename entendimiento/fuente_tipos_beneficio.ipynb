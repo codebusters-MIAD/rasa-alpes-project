{
 "cells": [
  {
   "cell_type": "markdown",
   "id": "b9c0dbc31f691d7f",
   "metadata": {},
   "source": [
    "### **Cargue de datos**\n"
   ]
  },
  {
   "cell_type": "markdown",
   "id": "58a14602-64cd-499e-9fdc-70560e4e9ef4",
   "metadata": {},
   "source": [
    "A continuación se importan los modulos que se usaran a lo largo del desarrollo del entendimiento de los datos."
   ]
  },
  {
   "cell_type": "code",
   "execution_count": 79,
   "id": "b762a287",
   "metadata": {},
   "outputs": [],
   "source": [
    "from pyspark.sql import SparkSession\n",
    "from pyspark.sql import functions\n",
    "from pyspark.sql.types import StructType\n",
    "from pyspark import SparkContext, SparkConf, SQLContext\n",
    "from pyspark.sql.types import FloatType, StringType, IntegerType, DateType\n",
    "from pyspark.sql.functions import udf, col, length, isnan, when, count\n",
    "from pyspark.sql.functions import col, to_date\n",
    "import pyspark.sql.functions as f\n",
    "from pyspark.sql.types import NumericType\n",
    "import os \n",
    "from datetime import datetime\n",
    "from pyspark.sql import types as t\n",
    "import matplotlib.pyplot as plt\n",
    "import numpy as np\n",
    "import pandas as pd\n",
    "import seaborn as sns\n",
    "import missingno as msno\n",
    "from pyspark.sql.functions import col"
   ]
  },
  {
   "cell_type": "markdown",
   "id": "127b82b3-79ec-48ac-9b1e-353996d2efe2",
   "metadata": {},
   "source": [
    "Tambien se definen las credenciales de acceso a la base de datos."
   ]
  },
  {
   "cell_type": "code",
   "execution_count": 3,
   "id": "7c8aba642579b88a",
   "metadata": {
    "ExecuteTime": {
     "end_time": "2024-11-02T13:40:49.789256Z",
     "start_time": "2024-11-02T13:40:49.786359Z"
    }
   },
   "outputs": [],
   "source": [
    "# Given Credentials\n",
    "db_user = 'Estudiante_65_202415'\n",
    "db_psswd = 'Estudiante_202010409'\n",
    "\n",
    "connection_properties = {\n",
    "    \"user\": db_user,\n",
    "    \"password\": db_psswd,\n",
    "    \"driver\": \"com.mysql.cj.jdbc.Driver\"\n",
    "}\n",
    "\n",
    "default_string_connection = 'jdbc:mysql://157.253.236.120:8080/WWImportersTransactional'"
   ]
  },
  {
   "cell_type": "code",
   "execution_count": 4,
   "id": "d6340dd46feec44d",
   "metadata": {
    "ExecuteTime": {
     "end_time": "2024-11-02T13:34:01.405026Z",
     "start_time": "2024-11-02T13:34:01.398527Z"
    }
   },
   "outputs": [],
   "source": [
    "# WINDOWS - Compatible with VM  \n",
    "path_jar_driver = 'C:\\Program Files (x86)\\MySQL\\Connector J 8.0\\mysql-connector-java-8.0.28.jar'\n",
    "#path_jar_driver = 'D:\\Librerias\\mysql-connector-java-8.0.28.jar'\n",
    "\n",
    "# LINUX users: to download the jar wget https://dev.mysql.com/get/Downloads/Connector-J/mysql-connector-java-8.0.28.tar.gz\n",
    "#path_jar_driver = '/opt/mysql/lib/mysql-connector-java-8.0.28.jar'"
   ]
  },
  {
   "cell_type": "markdown",
   "id": "bebc01bc-0a32-4223-aee1-74e0f23daf7f",
   "metadata": {},
   "source": [
    "A continuaciónse crean algunas funciones que serán utiles para el desarrollo de esta exploración."
   ]
  },
  {
   "cell_type": "code",
   "execution_count": 5,
   "id": "4d5d2386",
   "metadata": {},
   "outputs": [],
   "source": [
    "class MySQLConnector:\n",
    "    def __init__(self, spark: SparkSession, connection_properties: dict, url: str):\n",
    "        self.spark = spark\n",
    "        self.properties = connection_properties\n",
    "        self.url = url\n",
    "\n",
    "    def get_dataframe(self, sql_query: str):\n",
    "        \"\"\"\n",
    "        Execute a SQL query and return the result as a Spark DataFrame.\n",
    "\n",
    "        Parameters:\n",
    "        sql_query (str): SQL query to be executed.\n",
    "\n",
    "        Returns:\n",
    "        DataFrame: Resultant DataFrame from the executed SQL query.\n",
    "        \"\"\"\n",
    "        df = self.spark.read.jdbc(\n",
    "            url=self.url,\n",
    "            table=sql_query,\n",
    "            properties=self.properties\n",
    "        )\n",
    "        return df\n",
    "    \n",
    "def plot_numeric_box_plots(spark_df, sample_fraction=0.1):\n",
    "    \"\"\"\n",
    "    Genera diagramas de caja para todas las columnas numéricas de un DataFrame de Spark.\n",
    "\n",
    "    Parámetros:\n",
    "    - spark_df: DataFrame de Spark.\n",
    "    - sample_fraction: Fracción de datos a muestrear (valor entre 0 y 1). Por defecto es 1.0 (todos los datos).\n",
    "    Retorna:\n",
    "    - None. La función muestra los diagramas de caja.\n",
    "    \"\"\"\n",
    "    # Identificar las columnas numéricas\n",
    "    numeric_columns = [field.name for field in spark_df.schema.fields if isinstance(field.dataType, NumericType)]\n",
    "\n",
    "    if not numeric_columns:\n",
    "        print(\"El DataFrame no contiene columnas numéricas.\")\n",
    "        return\n",
    "\n",
    "    if sample_fraction < 1.0:\n",
    "        spark_df = spark_df.sample(fraction=sample_fraction)\n",
    "\n",
    "    spark_numeric_df = spark_df.select(*numeric_columns)\n",
    "\n",
    "    pandas_df = spark_numeric_df.toPandas()\n",
    "    pandas_df = pandas_df.dropna()\n",
    "\n",
    "    sns.set(style=\"whitegrid\")\n",
    "\n",
    "    num_columns = len(numeric_columns)\n",
    "    fig, axes = plt.subplots(nrows=1, ncols=num_columns, figsize=(5 * num_columns, 6))\n",
    "\n",
    "    if num_columns == 1:\n",
    "        axes = [axes]\n",
    "\n",
    "    for ax, column in zip(axes, numeric_columns):\n",
    "        sns.boxplot(y=pandas_df[column], ax=ax)\n",
    "        ax.set_title(f'Diagrama de caja de {column}')\n",
    "        ax.set_ylabel(column)\n",
    "        ax.set_xlabel('')\n",
    "\n",
    "    plt.tight_layout()\n",
    "    plt.show()\n",
    "\n",
    "def plot_correlation_heatmap(spark_df, sample_fraction=1.0):\n",
    "    \"\"\"\n",
    "    Genera un mapa de calor de correlaciones para todas las columnas numéricas de un DataFrame de Spark.\n",
    "\n",
    "    Parámetros:\n",
    "    - spark_df: DataFrame de Spark.\n",
    "    - sample_fraction: Fracción de datos a muestrear (valor entre 0 y 1). Por defecto es 1.0 (todos los datos).\n",
    "\n",
    "    Retorna:\n",
    "    - None. La función muestra el mapa de calor de correlaciones.\n",
    "    \"\"\"\n",
    "    numeric_columns = [field.name for field in spark_df.schema.fields if isinstance(field.dataType, NumericType)]\n",
    "\n",
    "    if not numeric_columns:\n",
    "        print(\"El DataFrame no contiene columnas numéricas.\")\n",
    "        return\n",
    "\n",
    "    if sample_fraction < 1.0:\n",
    "        spark_df = spark_df.sample(fraction=sample_fraction)\n",
    "\n",
    "    spark_numeric_df = spark_df.select(*numeric_columns)\n",
    "\n",
    "    pandas_df = spark_numeric_df.toPandas()\n",
    "\n",
    "    pandas_df = pandas_df.dropna()\n",
    "\n",
    "    corr_matrix = pandas_df.corr()\n",
    "\n",
    "    plt.figure(figsize=(10, 8))\n",
    "    sns.heatmap(corr_matrix, annot=True, cmap='coolwarm', fmt='.2f', linewidths=0.5)\n",
    "    plt.title('Mapa de calor de correlaciones')\n",
    "    plt.show()\n",
    "\n",
    "\n",
    "def plot_scatter(df, x_col, y_col, sample_fraction):\n",
    "    \"\"\"\n",
    "    Genera un gráfico de dispersión entre dos columnas de un DataFrame de Spark.\n",
    "\n",
    "    Parámetros:\n",
    "    df (DataFrame): DataFrame de Spark con los datos.\n",
    "    x_col (str): Nombre de la columna para el eje x.\n",
    "    y_col (str): Nombre de la columna para el eje y.\n",
    "    sample_fraction (float): Porcentaje de datos a muestrear (entre 0 y 1).\n",
    "    \"\"\"\n",
    "\n",
    "    if sample_fraction <= 0 or sample_fraction > 1:\n",
    "        raise ValueError(\"El parámetro sample_fraction debe estar entre 0 y 1.\")\n",
    "\n",
    "    sample_df = df.select(x_col, y_col).sample(fraction=sample_fraction)\n",
    "\n",
    "    pandas_df = sample_df.toPandas()\n",
    "\n",
    "    if pandas_df.empty:\n",
    "        print(\"No hay datos para visualizar después del muestreo. Por favor, incrementa sample_fraction.\")\n",
    "        return\n",
    "\n",
    "    if pandas_df[x_col].dtype == 'object':\n",
    "        try:\n",
    "            pandas_df[x_col] = pd.to_datetime(pandas_df[x_col])\n",
    "        except Exception as e:\n",
    "            print(f\"Error al convertir {x_col} a datetime: {e}\")\n",
    "            return\n",
    "\n",
    "    plt.figure(figsize=(12, 6))\n",
    "    sns.scatterplot(data=pandas_df, x=x_col, y=y_col)\n",
    "    plt.title(f\"Gráfico de dispersión de {y_col} vs {x_col}\")\n",
    "    plt.xlabel(x_col)\n",
    "    plt.ylabel(y_col)\n",
    "    plt.xticks(rotation=45)  # Rotar etiquetas del eje x si es necesario\n",
    "    plt.tight_layout()\n",
    "    plt.show()\n",
    "\n",
    "def create_spark_session(path_jar_driver):\n",
    "    # Configuración de la sesión de Spark\n",
    "    conf = SparkConf() \\\n",
    "            .set('spark.driver.extraClassPath', path_jar_driver)\n",
    "\n",
    "    spark_context = SparkContext(conf=conf)\n",
    "    sql_context = SQLContext(spark_context)\n",
    "    spark = sql_context.sparkSession\n",
    "\n",
    "    return spark"
   ]
  },
  {
   "cell_type": "code",
   "execution_count": 13,
   "id": "ab57524e52380534",
   "metadata": {
    "ExecuteTime": {
     "end_time": "2024-11-02T13:28:38.394222Z",
     "start_time": "2024-11-02T13:28:38.271631Z"
    }
   },
   "outputs": [],
   "source": [
    "# Import reusable modules\n",
    "#import modules.spark_session_module \n",
    "#import modules.mysql_connector\n",
    "#import modules.mysql_connector"
   ]
  },
  {
   "cell_type": "code",
   "execution_count": 6,
   "id": "717e435e7aa32edc",
   "metadata": {
    "ExecuteTime": {
     "end_time": "2024-11-02T13:34:09.458247Z",
     "start_time": "2024-11-02T13:34:06.049085Z"
    }
   },
   "outputs": [
    {
     "name": "stderr",
     "output_type": "stream",
     "text": [
      "C:\\Users\\estudiante\\anaconda3\\envs\\Tutoriales\\lib\\site-packages\\pyspark\\sql\\context.py:79: FutureWarning: Deprecated in 3.0.0. Use SparkSession.builder.getOrCreate() instead.\n",
      "  FutureWarning\n"
     ]
    }
   ],
   "source": [
    "#spark = modules.spark_session_module.create_spark_session(path_jar_driver)\n",
    "spark = create_spark_session(path_jar_driver)"
   ]
  },
  {
   "cell_type": "code",
   "execution_count": 7,
   "id": "b10143c751547669",
   "metadata": {
    "ExecuteTime": {
     "end_time": "2024-11-02T14:08:49.065974Z",
     "start_time": "2024-11-02T14:08:49.057925Z"
    }
   },
   "outputs": [],
   "source": [
    "conn = MySQLConnector(spark=spark, connection_properties=connection_properties, url=default_string_connection)"
   ]
  },
  {
   "cell_type": "code",
   "execution_count": 14,
   "id": "282dd4eaa006d227",
   "metadata": {
    "ExecuteTime": {
     "end_time": "2024-11-02T15:30:58.674579Z",
     "start_time": "2024-11-02T15:30:58.560729Z"
    }
   },
   "outputs": [],
   "source": [
    "sql_beneficios = 'RaSaTransaccional.FuenteTiposBeneficio_Copia_E'\n",
    "sql_planes = 'RaSaTransaccional.FuentePlanesBeneficio_Copia_E'"
   ]
  },
  {
   "cell_type": "code",
   "execution_count": 15,
   "id": "eb5177b891222e47",
   "metadata": {
    "ExecuteTime": {
     "end_time": "2024-11-02T15:31:20.889852Z",
     "start_time": "2024-11-02T15:31:18.002649Z"
    }
   },
   "outputs": [],
   "source": [
    "beneficios  = conn.get_dataframe(sql_beneficios)\n",
    "planes = conn.get_dataframe(sql_planes)"
   ]
  },
  {
   "cell_type": "markdown",
   "id": "654e59fdea34b40f",
   "metadata": {},
   "source": [
    "## **Perfilamiento de datos**"
   ]
  },
  {
   "cell_type": "markdown",
   "id": "a77d1e2f9221378f",
   "metadata": {},
   "source": [
    "### **Entendimiento de los datos**"
   ]
  },
  {
   "cell_type": "markdown",
   "id": "a6eafb5f35788679",
   "metadata": {},
   "source": [
    "A continuacion se realiza el entendimiento de los datos."
   ]
  },
  {
   "cell_type": "code",
   "execution_count": 10,
   "id": "c3b9d34d-37bf-4842-968a-eadfef848c7c",
   "metadata": {},
   "outputs": [
    {
     "data": {
      "text/plain": [
       "DataFrame[IdTipoBeneficio_T: int, Nombre: string, UnidadDelLimite: string, EsEHB: string, EstaCubiertaPorSeguro: string, TieneLimiteCuantitativo: string, ExcluidoDelDesembolsoMaximoDentroDeLaRed: string, ExcluidoDelDesembolsoMaximoFueraDeLaRed: string, Fecha: int]"
      ]
     },
     "execution_count": 10,
     "metadata": {},
     "output_type": "execute_result"
    }
   ],
   "source": [
    "beneficios"
   ]
  },
  {
   "cell_type": "code",
   "execution_count": 11,
   "id": "b75f2bd2-a971-41d4-bb57-230e485e39f8",
   "metadata": {},
   "outputs": [
    {
     "name": "stdout",
     "output_type": "stream",
     "text": [
      "+-----------------+--------------------+--------------------+-----+---------------------+-----------------------+----------------------------------------+---------------------------------------+-----+\n",
      "|IdTipoBeneficio_T|              Nombre|     UnidadDelLimite|EsEHB|EstaCubiertaPorSeguro|TieneLimiteCuantitativo|ExcluidoDelDesembolsoMaximoDentroDeLaRed|ExcluidoDelDesembolsoMaximoFueraDeLaRed|Fecha|\n",
      "+-----------------+--------------------+--------------------+-----+---------------------+-----------------------+----------------------------------------+---------------------------------------+-----+\n",
      "|              565|Nutritional Couns...|                    |   No|                  Yes|                     No|                                      No|                                    Yes| 2017|\n",
      "|              795|Rehabilitative Sp...|Days per Benefit ...|  Yes|                  Yes|                    Yes|                                      No|                                    Yes| 2017|\n",
      "|              200| Denture Adjustments|                    |   No|                  Yes|                     No|                                      No|                                    Yes| 2017|\n",
      "|              335|        Hearing Aids| Item(s) per 3 Years|  Yes|                  Yes|                    Yes|                                      No|                                    Yes| 2017|\n",
      "|              570|Occlusal Adjustments|Procedure(s) per ...|   No|                  Yes|                    Yes|                                      No|                                    Yes| 2017|\n",
      "|              735|Preventive Care/S...|                    |  Yes|                  Yes|                     No|                                      No|                                    Yes| 2017|\n",
      "|              865|Skilled Nursing F...|                    |  Yes|                   No|                     No|                                      No|                                     No| 2017|\n",
      "|              880|     Specialty Drugs|                    |  Yes|                  Yes|                     No|                                      No|                                     No| 2017|\n",
      "|              135|   Chiropractic Care|Visit(s) per Bene...|  Yes|                  Yes|                    Yes|                                      No|                                     No| 2017|\n",
      "|              510|Newborn Hearing S...|                    |   No|                  Yes|                     No|                                      No|                                     No| 2017|\n",
      "|              790|Rehabilitative Oc...|   Visit(s) per Year|  Yes|                  Yes|                    Yes|                                      No|                                    Yes| 2017|\n",
      "|              360|    Hospice Services| Months per Lifetime|  Yes|                  Yes|                    Yes|                                      No|                                     No| 2017|\n",
      "|              865|Skilled Nursing F...|       Days per Stay|  Yes|                  Yes|                    Yes|                                      No|                                    Yes| 2018|\n",
      "|              400|    Infusion Therapy|                    |   No|                  Yes|                     No|                                      No|                                    Yes| 2018|\n",
      "|              330|Habilitation Serv...|                    |  Yes|                  Yes|                     No|                                      No|                                    Yes| 2017|\n",
      "|             1030|Weight Loss Programs|   Visit(s) per Year|  Yes|                  Yes|                    Yes|                                      No|                                     No| 2017|\n",
      "|              275|Eye Glasses for C...|                    |  Yes|                  Yes|                     No|                                      No|                                     No| 2018|\n",
      "|              365|Human Leukocyte A...|Procedure(s) per ...|   No|                  Yes|                    Yes|                                      No|                                    Yes| 2017|\n",
      "|              655|   Partial Pulpotomy|                    |   No|                  Yes|                     No|                                      No|                                    Yes| 2017|\n",
      "|              820|Routine Dental Se...|   Visit(s) per Year|   No|                  Yes|                    Yes|                                     Yes|                                    Yes| 2018|\n",
      "+-----------------+--------------------+--------------------+-----+---------------------+-----------------------+----------------------------------------+---------------------------------------+-----+\n",
      "only showing top 20 rows\n",
      "\n"
     ]
    }
   ],
   "source": [
    "beneficios.show()"
   ]
  },
  {
   "cell_type": "markdown",
   "id": "b434cf8f-273f-400d-9dbb-06ab67bdf45b",
   "metadata": {},
   "source": [
    "Como puede observarse en el anterior dataframe, la tabla de beneficios contiene la siguiente información:\n",
    "* `IdTipoBeneficio_T` que corresponde al identificador del identificador del tipo de beneficio.\n",
    "* `Nombre` que corresponde a la descripción del tipo de beneficio.\n",
    "* `UnidadDelLimite` Corresponde a la unidad en la que se expresa el limite del beneficio (si lo hay).\n",
    "* `EsEHB` Indica si el beneficio es esencial de salud.\n",
    "* `EstaCubiertaPorSeguro` Esta columna indica si el tipo de beneficio esta cubierto por el seguro.\n",
    "* `TieneLimiteCuantitativo` Esta columna señala si el tipo de beneficio tiene limite cuantitativo, toma valores Yes/No.\n",
    "* `ExcluidoDelDesembolsoMaximoDentroDeLaRed` Esta columna indica si el tipo de beneficio esta excluido del desembolso máximo dentro de la red, toma valores Yes/No.\n",
    "* `ExcluidoDelDesembolsoMaximoFueraDeLaRed` Esta columna indica si el tipo de beneficio esta excluido del desembolso máximo fuera de la red, toma valores Yes/No.\n",
    "* `Fecha` Indica el año en que se define el tipo de beneficio.\n",
    "\n",
    "La primera columna correspondería a la llave primaria de la tabla. Solo las columnas `IdTipoBeneficio_T` y `Fecha` son de tipo entero (INT); las demas columnas son de tipo texto (STRING)\n",
    "\n",
    "**¿Qué representa una fila de esta tabla?** Cada fila de esta tabla representa un tipo de beneficio en el sistema de salud vigilado por RaSA indicando las caracteristicas generales de cada beneficio como su descripción; unidades del limite; si es un beneficio esencial; si lo cubre el seguro; si se excluye del desembolso maximo desntro y fuera de la red; y el año de definición del beneficio."
   ]
  },
  {
   "cell_type": "code",
   "execution_count": 13,
   "id": "905bc8e2-9943-42e8-b9ea-a4c52f7e2d70",
   "metadata": {},
   "outputs": [
    {
     "data": {
      "text/plain": [
       "849"
      ]
     },
     "execution_count": 13,
     "metadata": {},
     "output_type": "execute_result"
    }
   ],
   "source": [
    "beneficios.count()"
   ]
  },
  {
   "cell_type": "markdown",
   "id": "55bcdc78-f292-4ac7-8e2e-31990c4bdcc9",
   "metadata": {},
   "source": [
    "Por último se señala que esta tabla contiene 849 registros."
   ]
  },
  {
   "cell_type": "markdown",
   "id": "d556f902a0923b4d",
   "metadata": {},
   "source": [
    "### **Revisión de reglas de negocio:** "
   ]
  },
  {
   "cell_type": "markdown",
   "id": "71165001dfc551ea",
   "metadata": {},
   "source": [
    "A continuación se muestran las reglas de negocio dadas que tienen relación con la tabla tipo de beneficios:\n",
    "\n",
    "* **(REGLA 2)**\n",
    "Los tipos de beneficios con límite cuantitativo deben tener una cantidad límite diferente de cero en los planes que los ofrecen.\n",
    "\n",
    "* **(REGLA 3)**\n",
    "Las fuentes FuenteAreasDeServicio_Copia_E y FuenteTiposBeneficio_Copia_E comparten información de los años 2017 al 2019\n",
    "\n",
    "* **(REGLA 4)**\n",
    "La empresa comparte 5409 áreas de servicios y 170 tipos de beneficios.\n",
    "\n",
    "A continuación se hará la revisión de la `REGLA 2`.\n",
    "\n",
    "#### REVISIÓN DE LA REGLA 2\n",
    "\n",
    "`Los tipos de beneficios con límite cuantitativo deben tener una cantidad límite diferente de cero en los planes que los ofrecen.`\n"
   ]
  },
  {
   "cell_type": "code",
   "execution_count": 31,
   "id": "19ac1a92-93da-4539-a7ac-acfad7820858",
   "metadata": {},
   "outputs": [
    {
     "name": "stdout",
     "output_type": "stream",
     "text": [
      "Existen 849 registros de tipos de beneficios en la tabla de tipo de beneficios, sin embargo solo 578 corresponden a valores unicos. Existen 271 valores duplicados.\n"
     ]
    }
   ],
   "source": [
    "total = beneficios.count()\n",
    "sin_duplicados = beneficios.distinct().count()\n",
    "diff = total - sin_duplicados\n",
    "\n",
    "print(f\"Existen {total} registros de tipos de beneficios en la tabla de tipo de beneficios, sin embargo solo {sin_duplicados} corresponden a valores unicos. Existen {diff} valores duplicados.\")"
   ]
  },
  {
   "cell_type": "markdown",
   "id": "530a8099-00de-4b7c-a973-c0cbe8c86c63",
   "metadata": {},
   "source": [
    "Esta primera inspección indica que se debe proceder con cautela frente a los analisis cruzados con la tabla de hechos dado que puede generar muchos mas registros al intentar realizar alguna operacion de join dado que se estaria trabajando con una relación de muchos a muchos y no es optimo.\n",
    "\n",
    "Esta tabla de tipo de beneficio deberia contener registros unicos. Sin embargo como ya se indico existen al menos 271 filas completamente duplicadas, esto se puede solucionar facilmente eliminando las filas duplicadas, sin embargo se debera consultar con el cliente acerca de este hallazgo y esperar sus comentarios para proceder."
   ]
  },
  {
   "cell_type": "code",
   "execution_count": 28,
   "id": "79ebec96-9c2d-4a98-b3a5-6330c1b871d3",
   "metadata": {},
   "outputs": [
    {
     "name": "stdout",
     "output_type": "stream",
     "text": [
      "Existen 271 tipos de beneficios indicados con limite cuantitativo en la tabla de tipo de beneficios, sin embargo solo 210 corresponden a valores unicos. Existen 61 valores duplicados.\n"
     ]
    }
   ],
   "source": [
    "beneficios_con_limite = beneficios.filter(beneficios[\"TieneLimiteCuantitativo\"]=='Yes')\n",
    "total = beneficios_con_limite.count()\n",
    "sin_duplicados = beneficios_con_limite.distinct().count()\n",
    "diff = total - sin_duplicados\n",
    "\n",
    "print(f\"Existen {total} tipos de beneficios indicados con limite cuantitativo en la tabla de tipo de beneficios, sin embargo solo {sin_duplicados} corresponden a valores unicos. Existen {diff} valores duplicados.\")"
   ]
  },
  {
   "cell_type": "code",
   "execution_count": 29,
   "id": "cc6015cc-36ee-42f5-aeaa-f672deb372be",
   "metadata": {},
   "outputs": [
    {
     "name": "stdout",
     "output_type": "stream",
     "text": [
      "Existen 30571 tipos de beneficios con cantidad limite igual a cero o nula en la tabla de planes, sin embargo solo 23355 corresponden a valores unicos. Existen 7216 valores duplicados.\n"
     ]
    }
   ],
   "source": [
    "registros_sin_limite = planes.filter((col(\"cantidadLimite\") == 0) | (col(\"cantidadLimite\").isNull()))\n",
    "total = registros_sin_limite.count()\n",
    "sin_duplicados = registros_sin_limite.distinct().count()\n",
    "diff = total - sin_duplicados\n",
    "\n",
    "print(f\"Existen {total} tipos de planes con cantidad limite igual a cero o nula en la tabla de planes, sin embargo solo {sin_duplicados} corresponden a valores unicos. Existen {diff} valores duplicados.\")"
   ]
  },
  {
   "cell_type": "code",
   "execution_count": 30,
   "id": "f2440c03-4bc2-4339-9f4d-46fe73415a72",
   "metadata": {},
   "outputs": [
    {
     "data": {
      "text/plain": [
       "44"
      ]
     },
     "execution_count": 30,
     "metadata": {},
     "output_type": "execute_result"
    }
   ],
   "source": [
    "beneficios_con_limite_unicos = beneficios_con_limite.select(\"IdTipoBeneficio_T\").distinct()\n",
    "registros_sin_limite_unicos = registros_sin_limite.select(\"IdTipoBeneficio_T\").distinct()\n",
    "\n",
    "df_joined = beneficios_con_limite_unicos.join(registros_sin_limite_unicos, \"IdTipoBeneficio_T\", \"inner\")\n",
    "df_joined.count()"
   ]
  },
  {
   "cell_type": "markdown",
   "id": "0a589d34-ebed-4235-a4ad-68bd6d0e3642",
   "metadata": {},
   "source": [
    "Existen al menos 44 planes de beneficios para los que no se cumple la regla de negocio # 2, dado que a pesar de ser beneficios con limite cuantitativo en la tabla de planes aparecen con cantidad limite igual a cero o nula.\n",
    "\n",
    "Luego de esta breve inspección es posible constatar que la regla de negocio # 2 no se cumple en las tablas analizadas dado que se encuentran al menos 44 beneficios marcados con 'Yes' en la columna TieneLimiteCuantitativo en la `FuenteTiposBeneficio_Copia_E` que no reflejan un limite acorde (diferente de cero) en la `FuentePlanesBeneficio_Copia_E`."
   ]
  },
  {
   "cell_type": "markdown",
   "id": "136aace0-c546-47cd-adbf-13f88c9f554b",
   "metadata": {},
   "source": [
    "#### REVISIÓN DE LA REGLA 3\n",
    "\n",
    "`Las fuentes FuenteAreasDeServicio_Copia_E y FuenteTiposBeneficio_Copia_E comparten información de los años 2017 al 2019`\n",
    "\n",
    "**Nota**\n",
    "Solo se hara referencia en este analisis al cumplimiento de esta regla en la tabla `FuenteTiposBeneficio_Copia_E`"
   ]
  },
  {
   "cell_type": "code",
   "execution_count": 37,
   "id": "de1e1432-af3d-4203-b5a3-49d863f3d58a",
   "metadata": {},
   "outputs": [
    {
     "name": "stdout",
     "output_type": "stream",
     "text": [
      "+-------+-------------------+\n",
      "|summary|              Fecha|\n",
      "+-------+-------------------+\n",
      "|  count|                849|\n",
      "|   mean|  2017.208480565371|\n",
      "| stddev|0.40646157760308743|\n",
      "|    min|               2017|\n",
      "|    max|               2018|\n",
      "+-------+-------------------+\n",
      "\n"
     ]
    }
   ],
   "source": [
    "result = beneficios.describe(\"Fecha\")\n",
    "result.show()"
   ]
  },
  {
   "cell_type": "code",
   "execution_count": 38,
   "id": "cd53ef25-aa0e-4fa7-b69f-59735c0883a2",
   "metadata": {},
   "outputs": [
    {
     "name": "stdout",
     "output_type": "stream",
     "text": [
      "+-----+-----+\n",
      "|Fecha|count|\n",
      "+-----+-----+\n",
      "| 2017|  672|\n",
      "| 2018|  177|\n",
      "+-----+-----+\n",
      "\n"
     ]
    }
   ],
   "source": [
    "beneficios.groupBy(\"Fecha\").count().orderBy(\"count\", ascending=False).show()"
   ]
  },
  {
   "cell_type": "markdown",
   "id": "b176a4dd-da95-454b-90ef-92a593ad9dcd",
   "metadata": {},
   "source": [
    "En la tabla solo se observan datos de los años 2017 y 2018, la regla de negocio # 3 indica que tambien incluye datos del 2019, sin embargo no hay ningún dato para dicho año. Por otra parte solo la mayoria de los datos corresponden al año 2017, lo que podria indicar falta de datos para el año 2018.\n",
    "\n",
    "De lo anterior se puede concluir que parece haber falta de datos de los años 2018 (parcial) y de 2019 (completo). La regla # 3 no se puede validar con los datos suministrados.\n",
    "\n",
    "#### REVISIÓN DE LA REGLA 4\n",
    "\n",
    "`La empresa comparte 5409 áreas de servicios y 170 tipos de beneficios.`\n",
    "\n",
    "**Nota**\n",
    "Solo se hara referencia en este analisis al cumplimiento de esta regla en la tabla `FuenteTiposBeneficio_Copia_E`"
   ]
  },
  {
   "cell_type": "code",
   "execution_count": 42,
   "id": "f845d5a7-5afe-4a17-90c0-892e11371ee6",
   "metadata": {},
   "outputs": [
    {
     "name": "stdout",
     "output_type": "stream",
     "text": [
      "Existen 849 registros de tipos de beneficios en la tabla de tipo de beneficios, sin embargo solo 578 corresponden a filas unicas. Existen 271 filas duplicadas.\n"
     ]
    }
   ],
   "source": [
    "total = beneficios.count()\n",
    "sin_duplicados = beneficios.distinct().count()\n",
    "diff = total - sin_duplicados\n",
    "\n",
    "print(f\"Existen {total} registros de tipos de beneficios en la tabla de tipo de beneficios, sin embargo solo {sin_duplicados} corresponden a filas unicas. Existen {diff} filas duplicadas.\")"
   ]
  },
  {
   "cell_type": "markdown",
   "id": "989802d4-d344-432a-aeef-b8f7943ff2af",
   "metadata": {},
   "source": [
    "En la tabla analizada existen 578 filas unicas, valor mucho mayor que el indicado por la regla, 170. Esta es una incongruencia significativa, sin embargo se procederá a investigar la cantidad de IDs unicos en lugar de la cantidad de filas unicas."
   ]
  },
  {
   "cell_type": "code",
   "execution_count": 44,
   "id": "1b2bd9f5-f8d1-414a-a4f6-df880f1ba5bf",
   "metadata": {},
   "outputs": [
    {
     "name": "stdout",
     "output_type": "stream",
     "text": [
      "Existen 178 IDs de tipos de beneficios unicos en la tabla de tipo de beneficios.\n"
     ]
    }
   ],
   "source": [
    "beneficios_unicos_ID = beneficios.select(\"IdTipoBeneficio_T\").distinct().count()\n",
    "print(f\"Existen {beneficios_unicos_ID} IDs de tipos de beneficios unicos en la tabla de tipo de beneficios.\")"
   ]
  },
  {
   "cell_type": "markdown",
   "id": "330026d6-ffc2-4105-94ab-07e0998296f0",
   "metadata": {},
   "source": [
    "Este numero mucho mas cercano al indicado por la regla # 4 lo cual indica que los IDs de tipos de beneificios no solo estan duplicados sino que tambien contiene filas que a pesar de tener el mismo ID presentan variaciones en la información de las otras columnas.\n",
    "\n",
    "A continuación se explorará la cantidad de valores diferentes que pueden tomar las otras columnas del dataframe para los diferentes IDs."
   ]
  },
  {
   "cell_type": "code",
   "execution_count": 52,
   "id": "8f9e4b4e-dbf5-410a-b10f-79bd56fd2230",
   "metadata": {},
   "outputs": [
    {
     "name": "stdout",
     "output_type": "stream",
     "text": [
      "Revisión para la columna IdTipoBeneficio_T\n",
      "+-----------------+----------------------+\n",
      "|IdTipoBeneficio_T|num_valores_diferentes|\n",
      "+-----------------+----------------------+\n",
      "|              735|                     1|\n",
      "|              295|                     1|\n",
      "|             1000|                     1|\n",
      "|              565|                     1|\n",
      "|              230|                     1|\n",
      "|              205|                     1|\n",
      "|              570|                     1|\n",
      "|               15|                     1|\n",
      "|              375|                     1|\n",
      "|              180|                     1|\n",
      "|              625|                     1|\n",
      "|              210|                     1|\n",
      "|              755|                     1|\n",
      "|              820|                     1|\n",
      "|              190|                     1|\n",
      "|              640|                     1|\n",
      "|               85|                     1|\n",
      "|              140|                     1|\n",
      "|             1020|                     1|\n",
      "|              370|                     1|\n",
      "+-----------------+----------------------+\n",
      "only showing top 20 rows\n",
      "\n",
      "Revisión para la columna Nombre\n",
      "+-----------------+----------------------+\n",
      "|IdTipoBeneficio_T|num_valores_diferentes|\n",
      "+-----------------+----------------------+\n",
      "|             1025|                     1|\n",
      "|              540|                     1|\n",
      "|              580|                     1|\n",
      "|               85|                     1|\n",
      "|               65|                     1|\n",
      "|              970|                     1|\n",
      "|              255|                     1|\n",
      "|             1005|                     1|\n",
      "|              375|                     1|\n",
      "|              155|                     1|\n",
      "|              950|                     1|\n",
      "|              530|                     1|\n",
      "|              115|                     1|\n",
      "|              830|                     1|\n",
      "|              385|                     1|\n",
      "|              210|                     1|\n",
      "|             1030|                     1|\n",
      "|              460|                     1|\n",
      "|              350|                     1|\n",
      "|              860|                     1|\n",
      "+-----------------+----------------------+\n",
      "only showing top 20 rows\n",
      "\n",
      "Revisión para la columna UnidadDelLimite\n",
      "+-----------------+----------------------+\n",
      "|IdTipoBeneficio_T|num_valores_diferentes|\n",
      "+-----------------+----------------------+\n",
      "|              190|                    11|\n",
      "|             1000|                     9|\n",
      "|              830|                     9|\n",
      "|              335|                     9|\n",
      "|              865|                     9|\n",
      "|              275|                     8|\n",
      "|              825|                     7|\n",
      "|              795|                     6|\n",
      "|              350|                     6|\n",
      "|              395|                     5|\n",
      "|              735|                     5|\n",
      "|              135|                     5|\n",
      "|              450|                     5|\n",
      "|              765|                     5|\n",
      "|              330|                     5|\n",
      "|              360|                     4|\n",
      "|              770|                     4|\n",
      "|               15|                     4|\n",
      "|              790|                     4|\n",
      "|              565|                     4|\n",
      "+-----------------+----------------------+\n",
      "only showing top 20 rows\n",
      "\n",
      "Revisión para la columna EsEHB\n",
      "+-----------------+----------------------+\n",
      "|IdTipoBeneficio_T|num_valores_diferentes|\n",
      "+-----------------+----------------------+\n",
      "|              135|                     3|\n",
      "|              165|                     3|\n",
      "|               75|                     3|\n",
      "|              640|                     3|\n",
      "|             1000|                     3|\n",
      "|              865|                     3|\n",
      "|              190|                     2|\n",
      "|              845|                     2|\n",
      "|              220|                     2|\n",
      "|               70|                     2|\n",
      "|              540|                     2|\n",
      "|              460|                     2|\n",
      "|             1015|                     2|\n",
      "|              565|                     2|\n",
      "|              400|                     2|\n",
      "|              395|                     2|\n",
      "|              375|                     2|\n",
      "|              335|                     2|\n",
      "|              725|                     2|\n",
      "|                5|                     2|\n",
      "+-----------------+----------------------+\n",
      "only showing top 20 rows\n",
      "\n",
      "Revisión para la columna EstaCubiertaPorSeguro\n",
      "+-----------------+----------------------+\n",
      "|IdTipoBeneficio_T|num_valores_diferentes|\n",
      "+-----------------+----------------------+\n",
      "|              595|                     3|\n",
      "|               80|                     3|\n",
      "|               10|                     3|\n",
      "|              725|                     2|\n",
      "|              140|                     2|\n",
      "|              190|                     2|\n",
      "|              590|                     2|\n",
      "|             1030|                     2|\n",
      "|               75|                     2|\n",
      "|              770|                     2|\n",
      "|               15|                     2|\n",
      "|              220|                     2|\n",
      "|               85|                     2|\n",
      "|              450|                     2|\n",
      "|             1000|                     2|\n",
      "|                5|                     2|\n",
      "|              565|                     2|\n",
      "|              400|                     2|\n",
      "|              335|                     2|\n",
      "|              395|                     2|\n",
      "+-----------------+----------------------+\n",
      "only showing top 20 rows\n",
      "\n",
      "Revisión para la columna TieneLimiteCuantitativo\n",
      "+-----------------+----------------------+\n",
      "|IdTipoBeneficio_T|num_valores_diferentes|\n",
      "+-----------------+----------------------+\n",
      "|              395|                     4|\n",
      "|              830|                     3|\n",
      "|               15|                     3|\n",
      "|              165|                     3|\n",
      "|             1000|                     3|\n",
      "|              330|                     3|\n",
      "|               75|                     3|\n",
      "|              640|                     3|\n",
      "|              835|                     3|\n",
      "|              575|                     3|\n",
      "|              765|                     3|\n",
      "|              215|                     3|\n",
      "|              795|                     3|\n",
      "|              770|                     3|\n",
      "|              595|                     3|\n",
      "|              455|                     3|\n",
      "|               85|                     2|\n",
      "|             1045|                     2|\n",
      "|              590|                     2|\n",
      "|             1030|                     2|\n",
      "+-----------------+----------------------+\n",
      "only showing top 20 rows\n",
      "\n",
      "Revisión para la columna ExcluidoDelDesembolsoMaximoDentroDeLaRed\n",
      "+-----------------+----------------------+\n",
      "|IdTipoBeneficio_T|num_valores_diferentes|\n",
      "+-----------------+----------------------+\n",
      "|                5|                     2|\n",
      "|              165|                     2|\n",
      "|              590|                     2|\n",
      "|              440|                     2|\n",
      "|               80|                     2|\n",
      "|              595|                     2|\n",
      "|              835|                     2|\n",
      "|              825|                     2|\n",
      "|              820|                     2|\n",
      "|              450|                     2|\n",
      "|              455|                     2|\n",
      "|              395|                     2|\n",
      "|             1030|                     2|\n",
      "|               10|                     2|\n",
      "|               15|                     2|\n",
      "|              540|                     1|\n",
      "|             1025|                     1|\n",
      "|              580|                     1|\n",
      "|               65|                     1|\n",
      "|               85|                     1|\n",
      "+-----------------+----------------------+\n",
      "only showing top 20 rows\n",
      "\n",
      "Revisión para la columna ExcluidoDelDesembolsoMaximoFueraDeLaRed\n",
      "+-----------------+----------------------+\n",
      "|IdTipoBeneficio_T|num_valores_diferentes|\n",
      "+-----------------+----------------------+\n",
      "|              330|                     2|\n",
      "|              455|                     2|\n",
      "|              625|                     2|\n",
      "|              140|                     2|\n",
      "|             1035|                     2|\n",
      "|              305|                     2|\n",
      "|              255|                     2|\n",
      "|              435|                     2|\n",
      "|              830|                     2|\n",
      "|              770|                     2|\n",
      "|              350|                     2|\n",
      "|              440|                     2|\n",
      "|              540|                     2|\n",
      "|              250|                     2|\n",
      "|              190|                     2|\n",
      "|              120|                     2|\n",
      "|              725|                     2|\n",
      "|              235|                     2|\n",
      "|               85|                     2|\n",
      "|              620|                     2|\n",
      "+-----------------+----------------------+\n",
      "only showing top 20 rows\n",
      "\n",
      "Revisión para la columna Fecha\n",
      "+-----------------+----------------------+\n",
      "|IdTipoBeneficio_T|num_valores_diferentes|\n",
      "+-----------------+----------------------+\n",
      "|              330|                     2|\n",
      "|              125|                     2|\n",
      "|              190|                     2|\n",
      "|              220|                     2|\n",
      "|              795|                     2|\n",
      "|              450|                     2|\n",
      "|             1030|                     2|\n",
      "|             1000|                     2|\n",
      "|               85|                     2|\n",
      "|              565|                     2|\n",
      "|              440|                     2|\n",
      "|              400|                     2|\n",
      "|                5|                     2|\n",
      "|              395|                     2|\n",
      "|               15|                     2|\n",
      "|               10|                     2|\n",
      "|              830|                     2|\n",
      "|              510|                     2|\n",
      "|              770|                     2|\n",
      "|               80|                     2|\n",
      "+-----------------+----------------------+\n",
      "only showing top 20 rows\n",
      "\n"
     ]
    }
   ],
   "source": [
    "for col in beneficios.columns:\n",
    "    result = beneficios.groupBy(\"IdTipoBeneficio_T\").agg(\n",
    "        f.countDistinct(col).alias(\"num_valores_diferentes\")\n",
    "    )\n",
    "    result_sorted = result.orderBy(f.col(\"num_valores_diferentes\"), ascending=False)\n",
    "    print(f\"Revisión para la columna {col}\")\n",
    "    result_sorted.show()"
   ]
  },
  {
   "cell_type": "markdown",
   "id": "cb519b79-da43-457b-99bf-54940b3d1970",
   "metadata": {},
   "source": [
    "De lo anterior se resalta que la columna `UnidadDelLimite` presenta el mayor numero de variaciones para cada ID de tipo de beneficio."
   ]
  },
  {
   "cell_type": "markdown",
   "id": "b195c434-001d-4864-859b-04c817d7be13",
   "metadata": {},
   "source": [
    "Por lo pronto se puede concluir que la regla # 4 referente al numero de beneficios registrados no se cumple y se debe realizar un fuerte trabajo de limpieza para organizar adecuadamente esta tabla."
   ]
  },
  {
   "cell_type": "markdown",
   "id": "323dd5357c6de355",
   "metadata": {},
   "source": [
    "### **Análisis de calidad de datos**"
   ]
  },
  {
   "cell_type": "markdown",
   "id": "4b884857f8d22160",
   "metadata": {},
   "source": [
    "#### **Unicidad**\n",
    "\n",
    "En esta sección se revisará la unicidad de los registros (filas) de la tabla y tambien de la columna de IDs ya que esta deberia contener valores unicos."
   ]
  },
  {
   "cell_type": "code",
   "execution_count": 65,
   "id": "f3c078c5-ea88-44af-954a-47252130efca",
   "metadata": {},
   "outputs": [
    {
     "name": "stdout",
     "output_type": "stream",
     "text": [
      "Existen 849 registros de tipos de beneficios en la tabla de tipo de beneficios, sin embargo solo 578 corresponden a valores unicos. Existen 271 valores duplicados.\n"
     ]
    }
   ],
   "source": [
    "total = beneficios.count()\n",
    "sin_duplicados = beneficios.distinct().count()\n",
    "diff = total - sin_duplicados\n",
    "\n",
    "print(f\"Existen {total} registros de tipos de beneficios en la tabla de tipo de beneficios, sin embargo solo {sin_duplicados} corresponden a valores unicos. Existen {diff} valores duplicados.\")"
   ]
  },
  {
   "cell_type": "code",
   "execution_count": 66,
   "id": "288fd2fa-3e3b-415b-b934-231f643fbfc2",
   "metadata": {},
   "outputs": [
    {
     "name": "stdout",
     "output_type": "stream",
     "text": [
      "Existen 178 IDs de tipos de beneficios unicos en la tabla de tipo de beneficios.\n"
     ]
    }
   ],
   "source": [
    "beneficios_unicos_ID = beneficios.select(\"IdTipoBeneficio_T\").distinct().count()\n",
    "print(f\"Existen {beneficios_unicos_ID} IDs de tipos de beneficios unicos en la tabla de tipo de beneficios.\")"
   ]
  },
  {
   "cell_type": "markdown",
   "id": "af20bab7-ad0c-4325-8a92-175fbbd051d8",
   "metadata": {},
   "source": [
    "* Hay un total de 849 filas en el dataframe\n",
    "* Existen 271 filas duplicadas\n",
    "* Solo hay 178 IDs unicos de beneficios"
   ]
  },
  {
   "cell_type": "markdown",
   "id": "4da5861c338ad115",
   "metadata": {},
   "source": [
    "#### **Validez**"
   ]
  },
  {
   "cell_type": "markdown",
   "id": "d444938a-502e-4e4d-a9d3-306d605c69d4",
   "metadata": {},
   "source": [
    "La validez de los datos es abordada de manera exhaustiva en la seccion de Analisis descriptivo. Sin embargo aqui se replican algunas de las concluiones mas relevantes frente a la validez de los datos."
   ]
  },
  {
   "cell_type": "code",
   "execution_count": 68,
   "id": "a42cc60d-7203-426e-8a9b-5ca5bd1a4d28",
   "metadata": {},
   "outputs": [
    {
     "name": "stdout",
     "output_type": "stream",
     "text": [
      "Revisión para la columna Nombre\n",
      "+-----------------+----------------------+\n",
      "|IdTipoBeneficio_T|num_nombres_diferentes|\n",
      "+-----------------+----------------------+\n",
      "|             1025|                     1|\n",
      "|              540|                     1|\n",
      "|              580|                     1|\n",
      "|               85|                     1|\n",
      "|               65|                     1|\n",
      "|              970|                     1|\n",
      "|              255|                     1|\n",
      "|             1005|                     1|\n",
      "|              375|                     1|\n",
      "|              155|                     1|\n",
      "|              950|                     1|\n",
      "|              530|                     1|\n",
      "|              115|                     1|\n",
      "|              830|                     1|\n",
      "|              385|                     1|\n",
      "|              210|                     1|\n",
      "|             1030|                     1|\n",
      "|              460|                     1|\n",
      "|              350|                     1|\n",
      "|              860|                     1|\n",
      "+-----------------+----------------------+\n",
      "only showing top 20 rows\n",
      "\n"
     ]
    }
   ],
   "source": [
    "result = beneficios.groupBy(\"IdTipoBeneficio_T\").agg(\n",
    "    f.countDistinct(\"Nombre\").alias(\"num_nombres_diferentes\")\n",
    ")\n",
    "result_sorted = result.orderBy(f.col(\"num_nombres_diferentes\"), ascending=False)\n",
    "print(f\"Revisión para la columna Nombre\")\n",
    "result_sorted.show()"
   ]
  },
  {
   "cell_type": "markdown",
   "id": "666e8fa2-24c9-406b-8c0b-3fa382f6ca2c",
   "metadata": {},
   "source": [
    "* Para cada ID existe un unico Nombre o descripción del beneficio\n",
    "* Las columnas `EsEHB`, `EstaCubiertaPorSeguro`, `TieneLimiteCuantitativo`, `ExcluidoDelDesembolsoMaximoDentroDeLaRed` y `ExcluidoDelDesembolsoMaximoFueraDeLaRed` toman principalmente valores 'Yes' y 'No', lo que indica que podrian modelarse como tipo booleano.\n",
    "* Se necesita una mejor descripción de los atributos de la tabla y un mayor entendimiento del negocio para llegar a mejores conclusiones frente a la validez de los datos registrados.\n",
    "* Para mayor detalle remitase a la sección de Analisis descriptivo donde se revisan en detalle cada columna y tambien algunas interacciones entre las categorias por medio de tablas de contingencia."
   ]
  },
  {
   "cell_type": "markdown",
   "id": "2905af2dbde59ecb",
   "metadata": {},
   "source": [
    "#### **Completitud**"
   ]
  },
  {
   "cell_type": "code",
   "execution_count": 74,
   "id": "b23111cc-5d70-4849-af6c-cdf20edc5937",
   "metadata": {},
   "outputs": [
    {
     "name": "stdout",
     "output_type": "stream",
     "text": [
      "Conteo de celdas nulas:\n",
      "+-----------------+------+---------------+-----+---------------------+-----------------------+----------------------------------------+---------------------------------------+-----+\n",
      "|IdTipoBeneficio_T|Nombre|UnidadDelLimite|EsEHB|EstaCubiertaPorSeguro|TieneLimiteCuantitativo|ExcluidoDelDesembolsoMaximoDentroDeLaRed|ExcluidoDelDesembolsoMaximoFueraDeLaRed|Fecha|\n",
      "+-----------------+------+---------------+-----+---------------------+-----------------------+----------------------------------------+---------------------------------------+-----+\n",
      "|                0|     0|              0|    0|                    0|                      0|                                       0|                                      0|    0|\n",
      "+-----------------+------+---------------+-----+---------------------+-----------------------+----------------------------------------+---------------------------------------+-----+\n",
      "\n",
      "Conteo de celdas con espacios:\n",
      "+-----------------+------+---------------+-----+---------------------+-----------------------+----------------------------------------+---------------------------------------+-----+\n",
      "|IdTipoBeneficio_T|Nombre|UnidadDelLimite|EsEHB|EstaCubiertaPorSeguro|TieneLimiteCuantitativo|ExcluidoDelDesembolsoMaximoDentroDeLaRed|ExcluidoDelDesembolsoMaximoFueraDeLaRed|Fecha|\n",
      "+-----------------+------+---------------+-----+---------------------+-----------------------+----------------------------------------+---------------------------------------+-----+\n",
      "|                0|   809|            290|    0|                    0|                      0|                                       2|                                      0|    0|\n",
      "+-----------------+------+---------------+-----+---------------------+-----------------------+----------------------------------------+---------------------------------------+-----+\n",
      "\n",
      "Conteo de celdas vacias:\n",
      "+-----------------+------+---------------+-----+---------------------+-----------------------+----------------------------------------+---------------------------------------+-----+\n",
      "|IdTipoBeneficio_T|Nombre|UnidadDelLimite|EsEHB|EstaCubiertaPorSeguro|TieneLimiteCuantitativo|ExcluidoDelDesembolsoMaximoDentroDeLaRed|ExcluidoDelDesembolsoMaximoFueraDeLaRed|Fecha|\n",
      "+-----------------+------+---------------+-----+---------------------+-----------------------+----------------------------------------+---------------------------------------+-----+\n",
      "|                0|     0|            559|    0|                    0|                      0|                                       0|                                      0|    0|\n",
      "+-----------------+------+---------------+-----+---------------------+-----------------------+----------------------------------------+---------------------------------------+-----+\n",
      "\n",
      "Conteo de celdas con valor cero:\n",
      "+-----------------+------+---------------+-----+---------------------+-----------------------+----------------------------------------+---------------------------------------+-----+\n",
      "|IdTipoBeneficio_T|Nombre|UnidadDelLimite|EsEHB|EstaCubiertaPorSeguro|TieneLimiteCuantitativo|ExcluidoDelDesembolsoMaximoDentroDeLaRed|ExcluidoDelDesembolsoMaximoFueraDeLaRed|Fecha|\n",
      "+-----------------+------+---------------+-----+---------------------+-----------------------+----------------------------------------+---------------------------------------+-----+\n",
      "|                0|     0|              0|    0|                    0|                      0|                                       0|                                      0|    0|\n",
      "+-----------------+------+---------------+-----+---------------------+-----------------------+----------------------------------------+---------------------------------------+-----+\n",
      "\n"
     ]
    }
   ],
   "source": [
    "# Conteo de celdas nulas\n",
    "null_counts = beneficios.agg(*[f.count(when(f.col(c).isNull(), 1)).alias(c) for c in beneficios.columns])\n",
    "print(\"Conteo de celdas nulas:\")\n",
    "null_counts.show()\n",
    "\n",
    "# Conteo de celdas con espacios\n",
    "columns_with_spaces_count = beneficios.agg(*[f.count(when(f.col(c).contains(\" \"), 1)).alias(c) for c in beneficios.columns])\n",
    "print(\"Conteo de celdas con espacios:\")\n",
    "columns_with_spaces_count.show()\n",
    "\n",
    "# Conteo de celdas vacias\n",
    "columns_with_spaces_count = beneficios.agg(*[f.count(when(f.col(c) == \"\", 1)).alias(c) for c in beneficios.columns])\n",
    "print(\"Conteo de celdas vacias:\")\n",
    "columns_with_spaces_count.show()\n",
    "\n",
    "# Conteo de celdas con valor 0\n",
    "columns_with_spaces_count = beneficios.agg(*[f.count(when(f.col(c) == 0, 1)).alias(c) for c in beneficios.columns])\n",
    "print(\"Conteo de celdas con valor cero:\")\n",
    "columns_with_spaces_count.show()"
   ]
  },
  {
   "cell_type": "markdown",
   "id": "2af617cf-07ff-4859-82a3-13bc2bb75112",
   "metadata": {},
   "source": [
    "* No existen celdas nulas\n",
    "* Las celdas `Nombre` y  `UnidadDelLimite` contienen espacios, esto puede ser normal dada la naturaleza del tipo de dato y la manera en que estan definidos los valores permitidos de estas columnas.\n",
    "* Hay 2 valores con espacios en la columna `ExcluidoDelDesembolsoMaximoDentroDeLaRed` lo cual no es lo esperado ya que principalmente esta columna toma valores 'Yes'/'No' (ver analisis descriptivo). Sin embargo mas adelante se indicara que hay 2 registros que toman el valor 'Algunas veces'.\n",
    "* La columna `UnidadDelLimite` tiene 559 datos vacios, esto parece estar dado por la naturaleza del atributo, no todos los tipos de beneficio tienen limite cuantitativo.\n",
    "* No hay celdas con valor cero."
   ]
  },
  {
   "cell_type": "markdown",
   "id": "a0d3ae11-88ea-4e1e-bd18-1e12dbd7bfa2",
   "metadata": {},
   "source": [
    "#### **Consistencia**\n",
    "\n",
    "Dentro de las validaciones que se pueden hacer para confirmar la consistencia de los datos, se tiene que la columna `UnidadDelLimite` solo toma valores tipo texto cuando la columna `TieneLimiteCuantitativo` toma el valor de 'Si' o 'Yes' , de lo contrario es una cadena vacia \"\"."
   ]
  },
  {
   "cell_type": "code",
   "execution_count": 77,
   "id": "fa54eb62-ebdd-40b0-98fa-fce8ea0a0c3e",
   "metadata": {},
   "outputs": [
    {
     "name": "stdout",
     "output_type": "stream",
     "text": [
      "+-----------------+--------------------+--------------------+-----+---------------------+-----------------------+----------------------------------------+---------------------------------------+-----+------------+\n",
      "|IdTipoBeneficio_T|              Nombre|     UnidadDelLimite|EsEHB|EstaCubiertaPorSeguro|TieneLimiteCuantitativo|ExcluidoDelDesembolsoMaximoDentroDeLaRed|ExcluidoDelDesembolsoMaximoFueraDeLaRed|Fecha|regla_valida|\n",
      "+-----------------+--------------------+--------------------+-----+---------------------+-----------------------+----------------------------------------+---------------------------------------+-----+------------+\n",
      "|              330|Habilitation Serv...|Visit(s) per Bene...|  Yes|                  Yes|                     No|                                      No|                                     No| 2018|       false|\n",
      "|              820|Routine Dental Se...|Visit(s) per 6 Mo...|   No|                  Yes|                     No|                                     Yes|                                    Yes| 2017|       false|\n",
      "|              820|Routine Dental Se...|   Visit(s) per Year|   No|                  Yes|                     No|                                     Yes|                                    Yes| 2017|       false|\n",
      "|              825|Routine Eye Exam ...|Visit(s) per Bene...|   No|                  Yes|                     No|                                     Yes|                                    Yes| 2018|       false|\n",
      "|              830|Routine Eye Exam ...|    Exam(s) per Year|  Yes|                  Yes|                     No|                                      No|                                     No| 2017|       false|\n",
      "|              505| Naprapathic Service|Visit(s) per Bene...|   No|                  Yes|                     No|                                      No|                                     No| 2018|       false|\n",
      "|              825|Routine Eye Exam ...|   Visit(s) per Year|   No|                  Yes|                     No|                                     Yes|                                    Yes| 2017|       false|\n",
      "|              865|Skilled Nursing F...|       Days per Year|  Yes|                  Yes|                     No|                                      No|                                     No| 2017|       false|\n",
      "|              275|Eye Glasses for C...|    Item(s) per Year|  Yes|                  Yes|                     No|                                      No|                                     No| 2017|       false|\n",
      "|              190|Dental Check-Up f...|   Visit(s) per Year|  Yes|                   No|                     No|                                      No|                                     No| 2017|       false|\n",
      "|              330|Habilitation Serv...|   Visit(s) per Year| True|                  Yes|                     No|                                      No|                                     No| 2017|       false|\n",
      "|              595| Orthodontia - Child|                    |  Yes|                  Yes|                    Yes|                                      No|                                    Yes| 2018|       false|\n",
      "|              665|Periodontal Maint...|                    |   No|                  Yes|                    Yes|                                      No|                                    Yes| 2017|       false|\n",
      "|               15|         Acupuncture|                    |   No|                  Yes|                    Yes|                                      No|                                    Yes| 2017|       false|\n",
      "|              595| Orthodontia - Child|                    |  Yes|                  Yes|                    Yes|                                      No|                                     No| 2018|       false|\n",
      "|              425|Inpatient Rehabil...|                    |   No|                  Yes|                    Yes|                                      No|                                     No| 2017|       false|\n",
      "|              765|Private-Duty Nursing|                    |  Yes|                  Yes|                    Yes|                                      No|                                     No| 2017|       false|\n",
      "|              125|Cardiac and Pulmo...|                    |   No|                  Yes|                    Yes|                                      No|                                     No| 2018|       false|\n",
      "|              735|Preventive Care/S...|                    |  Yes|                  Yes|                    Yes|                                      No|                                     No| 2018|       false|\n",
      "|              765|Private-Duty Nursing|                    |  Yes|                  Yes|                    Yes|                                      No|                                     No| 2018|       false|\n",
      "+-----------------+--------------------+--------------------+-----+---------------------+-----------------------+----------------------------------------+---------------------------------------+-----+------------+\n",
      "only showing top 20 rows\n",
      "\n"
     ]
    }
   ],
   "source": [
    "validacion = beneficios.withColumn(\n",
    "    \"regla_valida\",\n",
    "    f.when(\n",
    "        (f.col(\"TieneLimiteCuantitativo\").isin(\"Si\", \"Yes\")) & (f.col(\"UnidadDelLimite\") != \"\"), True\n",
    "    ).otherwise(\n",
    "        f.when(\n",
    "            ~(f.col(\"TieneLimiteCuantitativo\").isin(\"Si\", \"Yes\")) & (f.col(\"UnidadDelLimite\") == \"\"), True\n",
    "        ).otherwise(False)\n",
    "    )\n",
    ")\n",
    "\n",
    "invalid_rows = validacion.filter(f.col(\"regla_valida\") == False)\n",
    "invalid_rows.show()"
   ]
  },
  {
   "cell_type": "code",
   "execution_count": 78,
   "id": "6015a5ef-99ff-4885-91b1-30d1ae2facce",
   "metadata": {},
   "outputs": [
    {
     "data": {
      "text/plain": [
       "33"
      ]
     },
     "execution_count": 78,
     "metadata": {},
     "output_type": "execute_result"
    }
   ],
   "source": [
    "invalid_rows.count()"
   ]
  },
  {
   "cell_type": "markdown",
   "id": "dfff0057-a038-4730-8e5e-0a47a629b025",
   "metadata": {},
   "source": [
    "* Existen registros que tienen indicado `UnidadDelLimite` aun cuando indican que no tienen `TieneLimiteCuantitativo`.\n",
    "* Existen registros que no tienen indicado `UnidadDelLimite` aun cuando indican que Si tienen `TieneLimiteCuantitativo`.\n",
    "* Se tienen 33 casos como los apenas descritos."
   ]
  },
  {
   "cell_type": "markdown",
   "id": "d1126a91c0834298",
   "metadata": {},
   "source": [
    "### **Analisis Descriptivo**"
   ]
  },
  {
   "cell_type": "code",
   "execution_count": 54,
   "id": "be161ee7-5b58-4f6c-9c9a-c1a9f5d42b75",
   "metadata": {},
   "outputs": [
    {
     "name": "stdout",
     "output_type": "stream",
     "text": [
      "Resumen general de los datos:\n",
      "+-------+-----------------+--------------------+-----------------+-----+---------------------+-----------------------+----------------------------------------+---------------------------------------+-------------------+\n",
      "|summary|IdTipoBeneficio_T|              Nombre|  UnidadDelLimite|EsEHB|EstaCubiertaPorSeguro|TieneLimiteCuantitativo|ExcluidoDelDesembolsoMaximoDentroDeLaRed|ExcluidoDelDesembolsoMaximoFueraDeLaRed|              Fecha|\n",
      "+-------+-----------------+--------------------+-----------------+-----+---------------------+-----------------------+----------------------------------------+---------------------------------------+-------------------+\n",
      "|  count|              849|                 849|              849|  849|                  849|                    849|                                     849|                                    849|                849|\n",
      "|   mean|  504.62308598351|                null|             null| null|                 null|                   null|                                    null|                                   null|  2017.208480565371|\n",
      "| stddev|305.0836557627739|                null|             null| null|                 null|                   null|                                    null|                                   null|0.40646157760308743|\n",
      "|    min|                5|Abortion for Whic...|                 |   No|                False|                   Nein|                           Algunas veces|                                     No|               2017|\n",
      "|    25%|              220|                null|             null| null|                 null|                   null|                                    null|                                   null|               2017|\n",
      "|    50%|              510|                null|             null| null|                 null|                   null|                                    null|                                   null|               2017|\n",
      "|    75%|              790|                null|             null| null|                 null|                   null|                                    null|                                   null|               2017|\n",
      "|    max|             1055|X-rays and Diagno...|Visit(s) per year|  Yes|                  Yes|                    Yes|                                     Yes|                                    Yes|               2018|\n",
      "+-------+-----------------+--------------------+-----------------+-----+---------------------+-----------------------+----------------------------------------+---------------------------------------+-------------------+\n",
      "\n"
     ]
    }
   ],
   "source": [
    "print(\"Resumen general de los datos:\")\n",
    "beneficios.summary().show()"
   ]
  },
  {
   "cell_type": "markdown",
   "id": "410018fd60c5d75",
   "metadata": {},
   "source": [
    "A partir del summary anterior se puede establecer:\n",
    "\n",
    "* La columna `IdTipoBeneficio_T` parece estar uniformemente descrita entre 5 y 1055, tomando valores enteros y sin presentar valores atipicos. De esta columna, siendo un indice, no se espera poder llegar a conclusiones relavantes pero es importante inspeccionarla para establecer si puede llegar a haber vacios de información ya que los indices numericos normalmente son consecutivos.\n",
    "* Las columnas `Nombre`, `UnidadDelLimite`, `EsEHB`, `EstaCubiertaPorSeguro`, `TieneLimiteCuantitativo`, `ExcluidoDelDesembolsoMaximoDentroDeLaRed` y `ExcluidoDelDesembolsoMaximoFueraDeLaRed` son de tipo texto.\n",
    "* La columna `Fecha` toma datos enteros entre 2017 y 2018."
   ]
  },
  {
   "cell_type": "code",
   "execution_count": 57,
   "id": "6d1f6b68-12d0-41df-8de2-937b2eb27d67",
   "metadata": {},
   "outputs": [
    {
     "name": "stdout",
     "output_type": "stream",
     "text": [
      "Revisión para la columna IdTipoBeneficio_T\n",
      "+-----------------+-----+\n",
      "|IdTipoBeneficio_T|count|\n",
      "+-----------------+-----+\n",
      "|              190|   29|\n",
      "|              865|   26|\n",
      "|              595|   21|\n",
      "|              825|   20|\n",
      "|              335|   19|\n",
      "|              765|   19|\n",
      "|              830|   19|\n",
      "|              275|   18|\n",
      "|              565|   17|\n",
      "|              135|   17|\n",
      "|              835|   16|\n",
      "|              455|   16|\n",
      "|             1000|   15|\n",
      "|               10|   15|\n",
      "|              640|   15|\n",
      "|              820|   15|\n",
      "|              795|   14|\n",
      "|              330|   14|\n",
      "|             1030|   14|\n",
      "|              735|   13|\n",
      "+-----------------+-----+\n",
      "only showing top 20 rows\n",
      "\n",
      "Conteo de filas en la columna 'IdTipoBeneficio_T': 849\n",
      "Valores únicos en la columna 'IdTipoBeneficio_T': 178\n",
      "Cardinalidad: 0.20966\n",
      "\n",
      "\n",
      "Revisión para la columna Nombre\n",
      "+--------------------+-----+\n",
      "|              Nombre|count|\n",
      "+--------------------+-----+\n",
      "|Dental Check-Up f...|   29|\n",
      "|Skilled Nursing F...|   26|\n",
      "| Orthodontia - Child|   21|\n",
      "|Routine Eye Exam ...|   20|\n",
      "|Routine Eye Exam ...|   19|\n",
      "|        Hearing Aids|   19|\n",
      "|Private-Duty Nursing|   19|\n",
      "|Eye Glasses for C...|   18|\n",
      "|Nutritional Couns...|   17|\n",
      "|   Chiropractic Care|   17|\n",
      "|Major Dental Care...|   16|\n",
      "|   Routine Foot Care|   16|\n",
      "|Treatment for Tem...|   15|\n",
      "|   Accidental Dental|   15|\n",
      "|Outpatient Rehabi...|   15|\n",
      "|Routine Dental Se...|   15|\n",
      "|Weight Loss Programs|   14|\n",
      "|Rehabilitative Sp...|   14|\n",
      "|Habilitation Serv...|   14|\n",
      "|Basic Dental Care...|   13|\n",
      "+--------------------+-----+\n",
      "only showing top 20 rows\n",
      "\n",
      "Conteo de filas en la columna 'Nombre': 849\n",
      "Valores únicos en la columna 'Nombre': 178\n",
      "Cardinalidad: 0.20966\n",
      "\n",
      "\n",
      "Revisión para la columna UnidadDelLimite\n",
      "+--------------------+-----+\n",
      "|     UnidadDelLimite|count|\n",
      "+--------------------+-----+\n",
      "|                    |  559|\n",
      "|   Visit(s) per Year|   64|\n",
      "|Visit(s) per Bene...|   31|\n",
      "|       Days per Year|   14|\n",
      "|Days per Benefit ...|   13|\n",
      "|Visit(s) per Year...|   11|\n",
      "|    Item(s) per Year|   10|\n",
      "|    Exam(s) per Year|   10|\n",
      "|    Dollars per Year|    9|\n",
      "|Visit(s) per Bene...|    7|\n",
      "|Visit(s) per 6 Mo...|    7|\n",
      "|   Visit(s) per year|    6|\n",
      "|Item(s) per Benef...|    6|\n",
      "|Procedure(s) per ...|    6|\n",
      "|Procedure(s) per ...|    5|\n",
      "|Procedure(s) per ...|    5|\n",
      "|Treatment(s) per ...|    4|\n",
      "|Exam(s) per Benef...|    4|\n",
      "| Item(s) per 2 Years|    4|\n",
      "|Procedure(s) per ...|    4|\n",
      "+--------------------+-----+\n",
      "only showing top 20 rows\n",
      "\n",
      "Conteo de filas en la columna 'UnidadDelLimite': 849\n",
      "Valores únicos en la columna 'UnidadDelLimite': 63\n",
      "Cardinalidad: 0.07420\n",
      "\n",
      "\n",
      "Revisión para la columna EsEHB\n",
      "+-----+-----+\n",
      "|EsEHB|count|\n",
      "+-----+-----+\n",
      "|  Yes|  430|\n",
      "|   No|  399|\n",
      "| True|   20|\n",
      "+-----+-----+\n",
      "\n",
      "Conteo de filas en la columna 'EsEHB': 849\n",
      "Valores únicos en la columna 'EsEHB': 3\n",
      "Cardinalidad: 0.00353\n",
      "\n",
      "\n",
      "Revisión para la columna EstaCubiertaPorSeguro\n",
      "+---------------------+-----+\n",
      "|EstaCubiertaPorSeguro|count|\n",
      "+---------------------+-----+\n",
      "|                  Yes|  743|\n",
      "|                   No|   98|\n",
      "|                False|    8|\n",
      "+---------------------+-----+\n",
      "\n",
      "Conteo de filas en la columna 'EstaCubiertaPorSeguro': 849\n",
      "Valores únicos en la columna 'EstaCubiertaPorSeguro': 3\n",
      "Cardinalidad: 0.00353\n",
      "\n",
      "\n",
      "Revisión para la columna TieneLimiteCuantitativo\n",
      "+-----------------------+-----+\n",
      "|TieneLimiteCuantitativo|count|\n",
      "+-----------------------+-----+\n",
      "|                     No|  542|\n",
      "|                    Yes|  271|\n",
      "|                   Nein|   24|\n",
      "|                     Si|   12|\n",
      "+-----------------------+-----+\n",
      "\n",
      "Conteo de filas en la columna 'TieneLimiteCuantitativo': 849\n",
      "Valores únicos en la columna 'TieneLimiteCuantitativo': 4\n",
      "Cardinalidad: 0.00471\n",
      "\n",
      "\n",
      "Revisión para la columna ExcluidoDelDesembolsoMaximoDentroDeLaRed\n",
      "+----------------------------------------+-----+\n",
      "|ExcluidoDelDesembolsoMaximoDentroDeLaRed|count|\n",
      "+----------------------------------------+-----+\n",
      "|                                      No|  787|\n",
      "|                                     Yes|   60|\n",
      "|                           Algunas veces|    2|\n",
      "+----------------------------------------+-----+\n",
      "\n",
      "Conteo de filas en la columna 'ExcluidoDelDesembolsoMaximoDentroDeLaRed': 849\n",
      "Valores únicos en la columna 'ExcluidoDelDesembolsoMaximoDentroDeLaRed': 3\n",
      "Cardinalidad: 0.00353\n",
      "\n",
      "\n",
      "Revisión para la columna ExcluidoDelDesembolsoMaximoFueraDeLaRed\n",
      "+---------------------------------------+-----+\n",
      "|ExcluidoDelDesembolsoMaximoFueraDeLaRed|count|\n",
      "+---------------------------------------+-----+\n",
      "|                                     No|  516|\n",
      "|                                    Yes|  333|\n",
      "+---------------------------------------+-----+\n",
      "\n",
      "Conteo de filas en la columna 'ExcluidoDelDesembolsoMaximoFueraDeLaRed': 849\n",
      "Valores únicos en la columna 'ExcluidoDelDesembolsoMaximoFueraDeLaRed': 2\n",
      "Cardinalidad: 0.00236\n",
      "\n",
      "\n",
      "Revisión para la columna Fecha\n",
      "+-----+-----+\n",
      "|Fecha|count|\n",
      "+-----+-----+\n",
      "| 2017|  672|\n",
      "| 2018|  177|\n",
      "+-----+-----+\n",
      "\n",
      "Conteo de filas en la columna 'Fecha': 849\n",
      "Valores únicos en la columna 'Fecha': 2\n",
      "Cardinalidad: 0.00236\n",
      "\n",
      "\n"
     ]
    }
   ],
   "source": [
    "for col in beneficios.columns:\n",
    "    print(f\"Revisión para la columna {col}\")\n",
    "    beneficios.groupby(col).count().orderBy(\"count\", ascending=False).show()\n",
    "    filas = beneficios.select(col).count()\n",
    "    print(\"Conteo de filas en la columna '\" + col + \"': \" + str(filas))\n",
    "    filas_unicas = beneficios.select(col).distinct().count()\n",
    "    print(\"Valores únicos en la columna '\" + col + \"': \" + str(filas_unicas))\n",
    "    cardinal = filas_unicas / filas\n",
    "    cardinal_formateado = \"{:.5f}\".format(cardinal)\n",
    "    print(\"Cardinalidad: \" + str(cardinal_formateado) + \"\\n\\n\")"
   ]
  },
  {
   "cell_type": "markdown",
   "id": "028df8b2-57bc-4327-bae2-fa07bd3378a7",
   "metadata": {},
   "source": [
    "Algunas observaciones a partir del resultado mostrado:\n",
    "\n",
    "* Las columnas `IdTipoBeneficio_T` y `Nombre` tienen 178 datos unicos y una cardinalidad de 0.20966 la mas alta del dataframe.\n",
    "* La columna `UnidadDelLimite` tiene 63 valores unicos y una cardinalidad de 0.07420. Se debe tener en cuenta que po definicion esta columna puede estar vacia y de hecho lo está en la mayoria de los registros (559) representando un 65.8% del total (incluyendo los duplicados).\n",
    "* La columna `EsEHB` cuenta con 3 valores unicos, siendo uno de ellos el valor 'True' que posiblemente puede imputarse como un 'Yes'. Sin embargo esto debe consultarse con el cliente para definir reglas de imputación. La cardinalidad es de 0.00353.\n",
    "* La columna `EstaCubiertaPorSeguro` cuenta con 3 valores unicos, siendo uno de ellos el valor 'False' que posiblemente puede imputarse como un 'No'. Sin embargo esto debe consultarse con el cliente para definir reglas de imputación. La cardinalidad es de 0.00353.\n",
    "* La columna `TieneLimiteCuantitativo` cuenta con 4 valores unicos, siendo uno de ellos el valor 'Nein' que posiblemente puede imputarse como un 'No' y el valor 'Si' que posiblemente puede imputarse como un 'Yes'. Sin embargo esto debe consultarse con el cliente para definir reglas de imputación. La cardinalidad es de 0.00471.\n",
    "* La columna `ExcluidoDelDesembolsoMaximoDentroDeLaRed` cuenta con 3 valores unicos, siendo uno de ellos el valor 'Algunas veces' apareciendo un total de 2 veces. Esto debe consultarse con el cliente para definir se dicho valor debe considerarse como valido para esta columna o si debe imputarse a 'Yes' o 'No'. La cardinalidad es de 0.00353.\n",
    "* La columna `ExcluidoDelDesembolsoMaximoFueraDeLaRed` cuenta con 2 valores unicos 'Yes' y 'No'. La cardinalidad es de 0.00236.\n",
    "* La columna `Fecha` cuenta con 2 valores unicos '2017' y '2018'. La cardinalidad es de 0.00236."
   ]
  },
  {
   "cell_type": "code",
   "execution_count": 58,
   "id": "a02d8f9a-934f-4bfb-baca-24129ee95477",
   "metadata": {},
   "outputs": [
    {
     "data": {
      "text/plain": [
       "array([[<AxesSubplot:title={'center':'IdTipoBeneficio_T'}>]], dtype=object)"
      ]
     },
     "execution_count": 58,
     "metadata": {},
     "output_type": "execute_result"
    },
    {
     "data": {
      "image/png": "[encoded data removed]",
      "text/plain": [
       "<Figure size 432x288 with 1 Axes>"
      ]
     },
     "metadata": {
      "needs_background": "light"
     },
     "output_type": "display_data"
    }
   ],
   "source": [
    "beneficios.select('IdTipoBeneficio_T').toPandas().hist()"
   ]
  },
  {
   "cell_type": "code",
   "execution_count": 59,
   "id": "7b096f48-a087-4722-a18c-a55588b253c7",
   "metadata": {},
   "outputs": [
    {
     "data": {
      "text/plain": [
       "array([[<AxesSubplot:title={'center':'Fecha'}>]], dtype=object)"
      ]
     },
     "execution_count": 59,
     "metadata": {},
     "output_type": "execute_result"
    },
    {
     "data": {
      "image/png": "[encoded data removed]",
      "text/plain": [
       "<Figure size 432x288 with 1 Axes>"
      ]
     },
     "metadata": {
      "needs_background": "light"
     },
     "output_type": "display_data"
    }
   ],
   "source": [
    "beneficios.select('Fecha').toPandas().hist()"
   ]
  },
  {
   "cell_type": "code",
   "execution_count": 80,
   "id": "4c8b16d0-1e81-4d1c-aaf6-0eb7cc4ac7fb",
   "metadata": {},
   "outputs": [
    {
     "data": {
      "image/png": "[encoded data removed]",
      "text/plain": [
       "<Figure size 720x432 with 2 Axes>"
      ]
     },
     "metadata": {},
     "output_type": "display_data"
    }
   ],
   "source": [
    "plot_numeric_box_plots(beneficios)"
   ]
  },
  {
   "cell_type": "code",
   "execution_count": 62,
   "id": "647e32a7-3bbd-4a1e-a58a-996bf05fa062",
   "metadata": {},
   "outputs": [
    {
     "name": "stdout",
     "output_type": "stream",
     "text": [
      "+-----+---------------------+-----+\n",
      "|EsEHB|EstaCubiertaPorSeguro|count|\n",
      "+-----+---------------------+-----+\n",
      "|  Yes|                  Yes|  282|\n",
      "|   No|                  Yes|  216|\n",
      "|   No|                   No|   39|\n",
      "|  Yes|                   No|   18|\n",
      "| True|                  Yes|   16|\n",
      "|   No|                False|    5|\n",
      "| True|                   No|    1|\n",
      "|  Yes|                False|    1|\n",
      "+-----+---------------------+-----+\n",
      "\n"
     ]
    }
   ],
   "source": [
    "contingency_table = beneficios.distinct().groupBy(\"EsEHB\", \"EstaCubiertaPorSeguro\").agg(count(\"*\").alias(\"count\")).orderBy(\"count\", ascending=False)\n",
    "contingency_table.show()"
   ]
  },
  {
   "cell_type": "markdown",
   "id": "a95b1676-eec6-44bd-bcc2-6e0584244e57",
   "metadata": {},
   "source": [
    "* La mayoria de los beneficios esenciales de salud estan cubiertos por los seguros.\n",
    "* Hay al menos 20 beneficios esenciales de salud no cubiertos por los seguros."
   ]
  },
  {
   "cell_type": "code",
   "execution_count": 63,
   "id": "19be520b-aba8-4a25-b9db-d73cc0a78af1",
   "metadata": {},
   "outputs": [
    {
     "name": "stdout",
     "output_type": "stream",
     "text": [
      "+----------------------------------------+---------------------------------------+-----+\n",
      "|ExcluidoDelDesembolsoMaximoDentroDeLaRed|ExcluidoDelDesembolsoMaximoFueraDeLaRed|count|\n",
      "+----------------------------------------+---------------------------------------+-----+\n",
      "|                                      No|                                     No|  344|\n",
      "|                                      No|                                    Yes|  197|\n",
      "|                                     Yes|                                    Yes|   33|\n",
      "|                           Algunas veces|                                    Yes|    2|\n",
      "|                                     Yes|                                     No|    2|\n",
      "+----------------------------------------+---------------------------------------+-----+\n",
      "\n"
     ]
    }
   ],
   "source": [
    "contingency_table = beneficios.distinct().groupBy(\"ExcluidoDelDesembolsoMaximoDentroDeLaRed\", \"ExcluidoDelDesembolsoMaximoFueraDeLaRed\").agg(count(\"*\").alias(\"count\")).orderBy(\"count\", ascending=False)\n",
    "contingency_table.show()"
   ]
  },
  {
   "cell_type": "markdown",
   "id": "20136eb1-51b5-4b8c-a41e-19c88e29e58b",
   "metadata": {},
   "source": [
    "* La mayoria de los beneficios que NO están `ExcluidoDelDesembolsoMaximoDentroDeLaRed` tampoco están `ExcluidoDelDesembolsoMaximoFueraDeLaRed`.\n",
    "* Se necesita comprender en mayor profundidad el significado de las columnas `ExcluidoDelDesembolsoMaximoDentroDeLaRed` y `ExcluidoDelDesembolsoMaximoFueraDeLaRed`."
   ]
  },
  {
   "cell_type": "code",
   "execution_count": 64,
   "id": "d2389e91-0c2d-4f6d-aa7a-410e8ebb8253",
   "metadata": {},
   "outputs": [
    {
     "name": "stdout",
     "output_type": "stream",
     "text": [
      "+---------------------+-----------------------+-----+\n",
      "|EstaCubiertaPorSeguro|TieneLimiteCuantitativo|count|\n",
      "+---------------------+-----------------------+-----+\n",
      "|                  Yes|                     No|  283|\n",
      "|                  Yes|                    Yes|  209|\n",
      "|                   No|                     No|   51|\n",
      "|                  Yes|                   Nein|   12|\n",
      "|                  Yes|                     Si|   10|\n",
      "|                   No|                   Nein|    6|\n",
      "|                False|                     No|    6|\n",
      "|                   No|                    Yes|    1|\n",
      "+---------------------+-----------------------+-----+\n",
      "\n"
     ]
    }
   ],
   "source": [
    "contingency_table = beneficios.distinct().groupBy(\"EstaCubiertaPorSeguro\", \"TieneLimiteCuantitativo\").agg(count(\"*\").alias(\"count\")).orderBy(\"count\", ascending=False)\n",
    "contingency_table.show()"
   ]
  },
  {
   "cell_type": "markdown",
   "id": "f240fde6-aa06-4ab4-9b0b-42adfa44dd52",
   "metadata": {},
   "source": [
    "* La mayoria de los beneficios cubiertos por los seguros no tienen limite cuantitativo (295).\n",
    "* Existen al menos 219 tipos de beneficios cubiertos por los seguros que tienen limite cuantitativo.\n",
    "* Hay solo 1 tipo de beneficio con limite cuantitativo no cubierto por el seguro."
   ]
  },
  {
   "cell_type": "markdown",
   "id": "2e04cd600e02d9ff",
   "metadata": {},
   "source": [
    "### Conclusiones\n",
    "\n",
    "Las conclusiones serán consolidadas en un solo documento aparte, sin embargo a lo largo de este Notebook se han dejado suficientes comentarios y conclusiones de cada sección.\n"
   ]
  }
 ],
 "metadata": {
  "kernelspec": {
   "display_name": "Python 3 (ipykernel)",
   "language": "python",
   "name": "python3"
  },
  "language_info": {
   "codemirror_mode": {
    "name": "ipython",
    "version": 3
   },
   "file_extension": ".py",
   "mimetype": "text/x-python",
   "name": "python",
   "nbconvert_exporter": "python",
   "pygments_lexer": "ipython3",
   "version": "3.7.13"
  }
 },
 "nbformat": 4,
 "nbformat_minor": 5
}
