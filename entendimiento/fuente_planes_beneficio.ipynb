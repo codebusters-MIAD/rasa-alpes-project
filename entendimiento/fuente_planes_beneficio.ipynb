{
 "cells": [
  {
   "cell_type": "markdown",
   "id": "b9c0dbc31f691d7f",
   "metadata": {},
   "source": [
    "### **Cargue de datos**\n"
   ]
  },
  {
   "cell_type": "code",
   "execution_count": 1,
   "id": "781906b5f40c60b0",
   "metadata": {
    "ExecuteTime": {
     "end_time": "2024-11-02T22:49:43.371799Z",
     "start_time": "2024-11-02T22:49:43.366445Z"
    }
   },
   "outputs": [],
   "source": [
    "# Important Libraries\n",
    "from pyspark.sql import SparkSession\n",
    "from pyspark.sql import functions\n",
    "from pyspark.sql.types import StructType\n",
    "from pyspark import SparkContext, SparkConf, SQLContext\n",
    "from pyspark.sql.types import FloatType, StringType, IntegerType, DateType\n",
    "from pyspark.sql.functions import udf, col, length, isnan, when, count\n",
    "from pyspark.sql.functions import col, to_date\n",
    "import pyspark.sql.functions as f\n",
    "from pyspark.sql.types import NumericType\n",
    "import os \n",
    "from datetime import datetime\n",
    "from pyspark.sql import types as t\n",
    "import matplotlib.pyplot as plt\n",
    "import numpy as np\n",
    "import pandas as pd\n",
    "import seaborn as sns\n",
    "import missingno as msno\n",
    "from pyspark.sql.functions import col"
   ]
  },
  {
   "cell_type": "code",
   "execution_count": 2,
   "id": "5a576e22647fc461",
   "metadata": {
    "ExecuteTime": {
     "end_time": "2024-11-02T22:48:48.393479Z",
     "start_time": "2024-11-02T22:48:48.381934Z"
    }
   },
   "outputs": [],
   "source": [
    "class MySQLConnector:\n",
    "    def __init__(self, spark: SparkSession, connection_properties: dict, url: str):\n",
    "        self.spark = spark\n",
    "        self.properties = connection_properties\n",
    "        self.url = url\n",
    "\n",
    "    def get_dataframe(self, sql_query: str):\n",
    "        \"\"\"\n",
    "        Execute a SQL query and return the result as a Spark DataFrame.\n",
    "\n",
    "        Parameters:\n",
    "        sql_query (str): SQL query to be executed.\n",
    "\n",
    "        Returns:\n",
    "        DataFrame: Resultant DataFrame from the executed SQL query.\n",
    "        \"\"\"\n",
    "        df = self.spark.read.jdbc(\n",
    "            url=self.url,\n",
    "            table=sql_query,\n",
    "            properties=self.properties\n",
    "        )\n",
    "        return df"
   ]
  },
  {
   "cell_type": "code",
   "execution_count": 3,
   "id": "5d1b792301c36aff",
   "metadata": {
    "ExecuteTime": {
     "end_time": "2024-11-02T22:48:56.343176Z",
     "start_time": "2024-11-02T22:48:56.339276Z"
    }
   },
   "outputs": [],
   "source": [
    "# Utils to create spark object\n",
    "def create_spark_session(path_jar_driver):\n",
    "    # Configuración de la sesión de Spark\n",
    "    conf = SparkConf() \\\n",
    "        .set('spark.driver.extraClassPath', path_jar_driver)\n",
    "\n",
    "    spark_context = SparkContext(conf=conf)\n",
    "    sql_context = SQLContext(spark_context)\n",
    "    spark = sql_context.sparkSession\n",
    "\n",
    "    return spark\n"
   ]
  },
  {
   "cell_type": "code",
   "execution_count": 4,
   "id": "7c8aba642579b88a",
   "metadata": {
    "ExecuteTime": {
     "end_time": "2024-11-02T13:40:49.789256Z",
     "start_time": "2024-11-02T13:40:49.786359Z"
    }
   },
   "outputs": [],
   "source": [
    "# Given Credentials\n",
    "db_user = 'Estudiante_65_202415'\n",
    "db_psswd = 'Estudiante_202010409'\n",
    "\n",
    "connection_properties = {\n",
    "    \"user\": db_user,\n",
    "    \"password\": db_psswd,\n",
    "    \"driver\": \"com.mysql.cj.jdbc.Driver\"\n",
    "}\n",
    "\n",
    "default_string_connection = 'jdbc:mysql://157.253.236.120:8080/WWImportersTransactional'"
   ]
  },
  {
   "cell_type": "markdown",
   "id": "40d1d522f74b332d",
   "metadata": {},
   "source": []
  },
  {
   "cell_type": "code",
   "execution_count": 5,
   "id": "d6340dd46feec44d",
   "metadata": {
    "ExecuteTime": {
     "end_time": "2024-11-02T13:34:01.405026Z",
     "start_time": "2024-11-02T13:34:01.398527Z"
    }
   },
   "outputs": [],
   "source": [
    "# WINDOWS - Compatible with VM  \n",
    "path_jar_driver = 'C:\\Program Files (x86)\\MySQL\\Connector J 8.0\\mysql-connector-java-8.0.28.jar'\n",
    "\n",
    "# LINUX users: to download the jar wget https://dev.mysql.com/get/Downloads/Connector-J/mysql-connector-java-8.0.28.tar.gz\n",
    "#path_jar_driver = '/opt/mysql/lib/mysql-connector-java-8.0.28.jar'"
   ]
  },
  {
   "cell_type": "code",
   "execution_count": 7,
   "id": "717e435e7aa32edc",
   "metadata": {
    "ExecuteTime": {
     "end_time": "2024-11-02T13:34:09.458247Z",
     "start_time": "2024-11-02T13:34:06.049085Z"
    }
   },
   "outputs": [
    {
     "name": "stderr",
     "output_type": "stream",
     "text": [
      "C:\\Users\\estudiante\\anaconda3\\envs\\Tutoriales\\lib\\site-packages\\pyspark\\sql\\context.py:79: FutureWarning: Deprecated in 3.0.0. Use SparkSession.builder.getOrCreate() instead.\n",
      "  FutureWarning\n"
     ]
    }
   ],
   "source": [
    "spark = create_spark_session(path_jar_driver)"
   ]
  },
  {
   "cell_type": "code",
   "execution_count": 10,
   "id": "b10143c751547669",
   "metadata": {
    "ExecuteTime": {
     "end_time": "2024-11-02T14:08:49.065974Z",
     "start_time": "2024-11-02T14:08:49.057925Z"
    }
   },
   "outputs": [],
   "source": [
    "conn = MySQLConnector(spark=spark, connection_properties=connection_properties, url=default_string_connection)"
   ]
  },
  {
   "cell_type": "code",
   "execution_count": 11,
   "id": "282dd4eaa006d227",
   "metadata": {
    "ExecuteTime": {
     "end_time": "2024-11-02T15:30:58.674579Z",
     "start_time": "2024-11-02T15:30:58.560729Z"
    }
   },
   "outputs": [],
   "source": [
    "sql_benefit_planes = 'RaSaTransaccional.FuentePlanesBeneficio_Copia_E'"
   ]
  },
  {
   "cell_type": "markdown",
   "id": "654e59fdea34b40f",
   "metadata": {},
   "source": [
    "## **Perfilamiento de datos**"
   ]
  },
  {
   "cell_type": "markdown",
   "id": "7a60a6b8-3c1e-4db2-984d-27ed25f49d8b",
   "metadata": {},
   "source": [
    "#### Exploración de la Estructura"
   ]
  },
  {
   "cell_type": "markdown",
   "id": "5444bcd3-8f21-4222-8efd-2be37ba5066e",
   "metadata": {},
   "source": [
    "FuentesPlanesBeneficio_Copia_E\n",
    "\n",
    "\tidPlan_T\tidentificador del plan\n",
    "\tidTipoBeneficio_T\tidentificador del tipo de beneficio\n",
    "\tidAreaDeServicio_T\tidentificador del área de servicio\n",
    "\tidCondicionesDePagoCopago_T\tidentificador de la condicion de pago Copago\n",
    "\tidCondicionesDePagoCoseguro_T\tidentificador de la condicion de pago Coseguro\n",
    "\tidProveedor_T\tidentificador del proveedor del plan\n",
    "\tFecha\tFecha de oferta del beneficio para ese plan\n",
    "\tidNivelServicio_T\tidentificador del nivel de servicio\n",
    "\tvalorCopago\tvalor del copago\n",
    "\tvalorCoseguro\tvalor del coseguro\n",
    "\tcantidadLimite\tcantidad limite del tipo de beneficio"
   ]
  },
  {
   "cell_type": "code",
   "execution_count": 30,
   "id": "a6d30cba-2c1a-439e-b1c4-dc470b91482f",
   "metadata": {},
   "outputs": [
    {
     "name": "stdout",
     "output_type": "stream",
     "text": [
      "El número total de registros en la tabla es: 36036\n"
     ]
    }
   ],
   "source": [
    "# Contar el número total de registros en la tabla\n",
    "total_registros = benefits.count()\n",
    "print(f\"El número total de registros en la tabla es: {total_registros}\")\n"
   ]
  },
  {
   "cell_type": "code",
   "execution_count": 13,
   "id": "eb5177b891222e47",
   "metadata": {
    "ExecuteTime": {
     "end_time": "2024-11-02T15:31:20.889852Z",
     "start_time": "2024-11-02T15:31:18.002649Z"
    }
   },
   "outputs": [
    {
     "name": "stdout",
     "output_type": "stream",
     "text": [
      "+-----------------+------------------+-------------------------+---------------------------+-----------------+-----------------+----------+-------------+-----------+-------------+--------------+\n",
      "|IdTipoBeneficio_T|IdAreaDeServicio_T|IdCondicionDePagoCopago_T|IdCondicionDePagoCoseguro_T|IdNivelServicio_T|         IdPlan_T|     Fecha|IdProveedor_T|valorCopago|valorCoseguro|cantidadLimite|\n",
      "+-----------------+------------------+-------------------------+---------------------------+-----------------+-----------------+----------+-------------+-----------+-------------+--------------+\n",
      "|              640|          10382017|                       34|                         27|                3|16842FL0070128-03|2017-12-31|        16842|          0|           50|            35|\n",
      "|              225|          31512017|                      238|                         45|                2|29418TX0140002-04|2017-12-31|        29418|          0|            0|          null|\n",
      "|              190|          66252017|                      238|                         45|                1|52697WI0010002-00|2017-12-31|        52697|          0|            0|          null|\n",
      "|              620|          49492017|                       34|                         45|                3|38166WI0180012-06|2017-12-31|        38166|          0|          100|          null|\n",
      "|              795|          37872017|                       34|                         45|                3|33602TX0460322-03|2017-12-31|        33602|          0|          100|          null|\n",
      "+-----------------+------------------+-------------------------+---------------------------+-----------------+-----------------+----------+-------------+-----------+-------------+--------------+\n",
      "only showing top 5 rows\n",
      "\n"
     ]
    }
   ],
   "source": [
    "benefits  = conn.get_dataframe(sql_benefit_planes)\n",
    "benefits.show(5)"
   ]
  },
  {
   "cell_type": "code",
   "execution_count": 31,
   "id": "540dd155-f810-4af4-8bef-64c1ebe93e4c",
   "metadata": {},
   "outputs": [
    {
     "name": "stdout",
     "output_type": "stream",
     "text": [
      "+-----------------+------------------+-------------------------+---------------------------+-----------------+--------+-----+-------------+-----------+-------------+------------------+\n",
      "|IdTipoBeneficio_T|IdAreaDeServicio_T|IdCondicionDePagoCopago_T|IdCondicionDePagoCoseguro_T|IdNivelServicio_T|IdPlan_T|Fecha|IdProveedor_T|valorCopago|valorCoseguro|    cantidadLimite|\n",
      "+-----------------+------------------+-------------------------+---------------------------+-----------------+--------+-----+-------------+-----------+-------------+------------------+\n",
      "|94.21134421134421| 94.33621933621934|                    100.0|                      100.0|            100.0|   100.0|100.0|        100.0|      100.0|        100.0|15.165390165390166|\n",
      "+-----------------+------------------+-------------------------+---------------------------+-----------------+--------+-----+-------------+-----------+-------------+------------------+\n",
      "\n"
     ]
    }
   ],
   "source": [
    "from pyspark.sql.functions import col, count, when\n",
    "\n",
    "# Obtener el total de registros en la tabla\n",
    "total_registros = benefits.count()\n",
    "\n",
    "# Calcular el porcentaje de completitud de cada columna\n",
    "completitud_columnas = benefits.select([\n",
    "    (count(when(col(c).isNotNull(), c)) / total_registros * 100).alias(c)\n",
    "    for c in benefits.columns\n",
    "])\n",
    "\n",
    "# Mostrar el porcentaje de completitud de cada columna\n",
    "completitud_columnas.show()\n"
   ]
  },
  {
   "cell_type": "markdown",
   "id": "fd23bd39-8e2b-4ac4-9693-22ff3d08ed73",
   "metadata": {},
   "source": [
    "De acuerdo al diccionario proporcionado, se evidencia que cada fila representa un beneficio especifico dentro del plan de salud.\n",
    "Dentro de las columnas que pueden ser claves dentro de la base y su objetivo se encuentran: \n",
    "1. Idplan_t identifica el plan de salud del beneficio \n",
    "2. IdTipoBeneficio_t proporciona el tipo de beneficio (compleitud de 94%)\n",
    "3. IdCondicionesServicio_t identifica el área del servicio \n",
    "\n",
    "Por lo tanto entendemos que cada fila representa un tipo de  beneficio ofrecido dentro del plan de salud en una fecha especifica y en un área predeterminada. "
   ]
  },
  {
   "cell_type": "markdown",
   "id": "a77d1e2f9221378f",
   "metadata": {},
   "source": [
    "### **Entendimiento de los datos**"
   ]
  },
  {
   "cell_type": "code",
   "execution_count": 19,
   "id": "e8894685-2bef-4b41-b6bd-2f060d2ee2a9",
   "metadata": {},
   "outputs": [
    {
     "name": "stdout",
     "output_type": "stream",
     "text": [
      "Columna 'IdTipoBeneficio_T': 286 valores únicos\n",
      "Columna 'IdAreaDeServicio_T': 6497 valores únicos\n",
      "Columna 'IdCondicionDePagoCopago_T': 14 valores únicos\n",
      "Columna 'IdCondicionDePagoCoseguro_T': 5 valores únicos\n",
      "Columna 'IdNivelServicio_T': 3 valores únicos\n",
      "Columna 'IdPlan_T': 393 valores únicos\n",
      "Columna 'Fecha': 5 valores únicos\n",
      "Columna 'IdProveedor_T': 125 valores únicos\n",
      "Columna 'valorCopago': 49 valores únicos\n",
      "Columna 'valorCoseguro': 25 valores únicos\n",
      "Columna 'cantidadLimite': 42 valores únicos\n",
      "Valores únicos en la columna 'IdTipoBeneficio_T':\n",
      "+-----------------+\n",
      "|IdTipoBeneficio_T|\n",
      "+-----------------+\n",
      "|             1950|\n",
      "|             1010|\n",
      "|               65|\n",
      "|             1840|\n",
      "|             1360|\n",
      "+-----------------+\n",
      "only showing top 5 rows\n",
      "\n",
      "Valores únicos en la columna 'IdAreaDeServicio_T':\n",
      "+------------------+\n",
      "|IdAreaDeServicio_T|\n",
      "+------------------+\n",
      "|          21482018|\n",
      "|          36982017|\n",
      "|          63022018|\n",
      "|          27112018|\n",
      "|          35272018|\n",
      "+------------------+\n",
      "only showing top 5 rows\n",
      "\n",
      "Valores únicos en la columna 'IdCondicionDePagoCopago_T':\n",
      "+-------------------------+\n",
      "|IdCondicionDePagoCopago_T|\n",
      "+-------------------------+\n",
      "|                       85|\n",
      "|                       34|\n",
      "|                      207|\n",
      "|                       17|\n",
      "|                      238|\n",
      "+-------------------------+\n",
      "only showing top 5 rows\n",
      "\n",
      "Valores únicos en la columna 'IdCondicionDePagoCoseguro_T':\n",
      "+---------------------------+\n",
      "|IdCondicionDePagoCoseguro_T|\n",
      "+---------------------------+\n",
      "|                         27|\n",
      "|                          9|\n",
      "|                         45|\n",
      "|                         18|\n",
      "|                         36|\n",
      "+---------------------------+\n",
      "\n",
      "Valores únicos en la columna 'IdNivelServicio_T':\n",
      "+-----------------+\n",
      "|IdNivelServicio_T|\n",
      "+-----------------+\n",
      "|                1|\n",
      "|                3|\n",
      "|                2|\n",
      "+-----------------+\n",
      "\n",
      "Valores únicos en la columna 'IdPlan_T':\n",
      "+-----------------+\n",
      "|         IdPlan_T|\n",
      "+-----------------+\n",
      "|37833WI0510051-02|\n",
      "|36194FL0030019-00|\n",
      "|27833IL0140001-00|\n",
      "|27882ND0220001-00|\n",
      "|60612HI0110009-01|\n",
      "+-----------------+\n",
      "only showing top 5 rows\n",
      "\n",
      "Valores únicos en la columna 'Fecha':\n",
      "+-----------+\n",
      "|      Fecha|\n",
      "+-----------+\n",
      "| 2018-12-31|\n",
      "|Dec 31,2017|\n",
      "|Dec 31,2018|\n",
      "| 2017-12-31|\n",
      "| 1920-12-31|\n",
      "+-----------+\n",
      "\n",
      "Valores únicos en la columna 'IdProveedor_T':\n",
      "+-------------+\n",
      "|IdProveedor_T|\n",
      "+-------------+\n",
      "|        52697|\n",
      "|        33602|\n",
      "|        54172|\n",
      "|        45127|\n",
      "|        30751|\n",
      "+-------------+\n",
      "only showing top 5 rows\n",
      "\n",
      "Valores únicos en la columna 'valorCopago':\n",
      "+-----------+\n",
      "|valorCopago|\n",
      "+-----------+\n",
      "|       3000|\n",
      "|         85|\n",
      "|         65|\n",
      "|        375|\n",
      "|        950|\n",
      "+-----------+\n",
      "only showing top 5 rows\n",
      "\n",
      "Valores únicos en la columna 'valorCoseguro':\n",
      "+-------------+\n",
      "|valorCoseguro|\n",
      "+-------------+\n",
      "|           65|\n",
      "|           40|\n",
      "|           20|\n",
      "|           54|\n",
      "|            5|\n",
      "+-------------+\n",
      "only showing top 5 rows\n",
      "\n",
      "Valores únicos en la columna 'cantidadLimite':\n",
      "+--------------+\n",
      "|cantidadLimite|\n",
      "+--------------+\n",
      "|            31|\n",
      "|          3000|\n",
      "|            85|\n",
      "|            26|\n",
      "|            12|\n",
      "+--------------+\n",
      "only showing top 5 rows\n",
      "\n"
     ]
    }
   ],
   "source": [
    "# Obtener la cantidad de valores únicos en cada columna\n",
    "for column in benefits.columns:\n",
    "    unique_count = benefits.select(column).distinct().count()\n",
    "    print(f\"Columna '{column}': {unique_count} valores únicos\")\n",
    "    \n",
    "# Opcional: Muestra los valores únicos para cada columna (esto es útil solo para columnas con pocos valores únicos)\n",
    "for column in benefits.columns:\n",
    "    print(f\"Valores únicos en la columna '{column}':\")\n",
    "    benefits.select(column).distinct().show(5)  # Muestra hasta 10 valores únicos por columna"
   ]
  },
  {
   "cell_type": "markdown",
   "id": "e95e45f5-5eaf-420d-a305-7b860c8a1ee4",
   "metadata": {},
   "source": [
    "1. De acuerdo a lo que evidencia el negocio, nos confirman que tienen 5.409 áreas de servicio, sin embargo en la fuente evidenciamos 6.497 lo que podria indicar inconsistencias en la fuente o duplicados. \n",
    "2. El negocio evidencia que las condiciones de copago son 15, sin embargo se evidencian solo 14 por lo que se debe validar con el negocio si hace falta algun dato.\n",
    "3. Para IdPlan_T en negocio nos dice que 301 planes para 2017 y de 422 para el año 2018 pero se identifican solo 393 valores únicos. \n",
    "4. Para IdTipoBeneficio_T el negocio nos dice que hay 170, sin embargo la fuente muestra 286 por lo que hay que revisar si se tienen duplicados o hay incosistencias en lo que dice en negocio. \n",
    "5. Se evidencian solo 5 valores únicos para fecha pero en un perido de tiempo de 2 años por lo que se dbeen revisar esas fechas tanto en el formato como con el negocio para validar que sean correctas o si la información se sube en un mismo periodo de tiempo y por eso tenemos tan pocas fechas. "
   ]
  },
  {
   "cell_type": "markdown",
   "id": "6064d87e-2f0f-4acf-9d4e-4c01865089de",
   "metadata": {},
   "source": [
    "#### Valores Únicos"
   ]
  },
  {
   "cell_type": "code",
   "execution_count": 14,
   "id": "86c22353-3659-4a69-bf1c-e0da6d0ac097",
   "metadata": {},
   "outputs": [
    {
     "name": "stdout",
     "output_type": "stream",
     "text": [
      "root\n",
      " |-- IdTipoBeneficio_T: long (nullable = true)\n",
      " |-- IdAreaDeServicio_T: long (nullable = true)\n",
      " |-- IdCondicionDePagoCopago_T: integer (nullable = true)\n",
      " |-- IdCondicionDePagoCoseguro_T: integer (nullable = true)\n",
      " |-- IdNivelServicio_T: integer (nullable = true)\n",
      " |-- IdPlan_T: string (nullable = true)\n",
      " |-- Fecha: string (nullable = true)\n",
      " |-- IdProveedor_T: integer (nullable = true)\n",
      " |-- valorCopago: integer (nullable = true)\n",
      " |-- valorCoseguro: integer (nullable = true)\n",
      " |-- cantidadLimite: integer (nullable = true)\n",
      "\n"
     ]
    }
   ],
   "source": [
    "# Mostrar la estructura de la tabla y tipos de datos de cada columna\n",
    "benefits.printSchema()"
   ]
  },
  {
   "cell_type": "markdown",
   "id": "6e22ce25-bad0-4556-afd7-2f9eb1bffef0",
   "metadata": {},
   "source": [
    "Estructura de la Tabla\n",
    "1. Tenemos variables long o integer para los ids. \n",
    "2. Valores cuantitativos para valores y y cantidad \n",
    "3. Hay valores catalogados como string como IdPlan_T y Fecha que necesitan revisión y ser modificados a integred y datatype.\n",
    "\n"
   ]
  },
  {
   "cell_type": "markdown",
   "id": "83460a52-02b9-49db-b477-764225c1beff",
   "metadata": {},
   "source": [
    "#### Análisis de Valores Nulos"
   ]
  },
  {
   "cell_type": "code",
   "execution_count": 15,
   "id": "66517288-be02-461b-aff5-5af5ac0dde5a",
   "metadata": {},
   "outputs": [
    {
     "name": "stdout",
     "output_type": "stream",
     "text": [
      "+-----------------+------------------+-------------------------+---------------------------+-----------------+--------+-----+-------------+-----------+-------------+--------------+\n",
      "|IdTipoBeneficio_T|IdAreaDeServicio_T|IdCondicionDePagoCopago_T|IdCondicionDePagoCoseguro_T|IdNivelServicio_T|IdPlan_T|Fecha|IdProveedor_T|valorCopago|valorCoseguro|cantidadLimite|\n",
      "+-----------------+------------------+-------------------------+---------------------------+-----------------+--------+-----+-------------+-----------+-------------+--------------+\n",
      "|             2086|              2041|                        0|                          0|                0|       0|    0|            0|          0|            0|         30571|\n",
      "+-----------------+------------------+-------------------------+---------------------------+-----------------+--------+-----+-------------+-----------+-------------+--------------+\n",
      "\n"
     ]
    }
   ],
   "source": [
    "from pyspark.sql.functions import col, when, count\n",
    "\n",
    "# Conteo de valores nulos en cada columna\n",
    "null_counts = benefits.select([count(when(col(c).isNull(), c)).alias(c) for c in benefits.columns])\n",
    "null_counts.show()\n"
   ]
  },
  {
   "cell_type": "markdown",
   "id": "83a0cce5-5ade-4685-a48e-44f26f5f3cf0",
   "metadata": {},
   "source": [
    "Hay que validar con el negocio donde se pde obtener la información teniendo en cuenta que es la que nos identifica el tipo de beneficio, área donde es ofrecido el servicio es clave para el analisis de la información."
   ]
  },
  {
   "cell_type": "markdown",
   "id": "9341b7a4-39df-4db0-87ac-3c57f9d33b73",
   "metadata": {},
   "source": [
    "#### Estadísticas Descriptivas"
   ]
  },
  {
   "cell_type": "code",
   "execution_count": 21,
   "id": "4d5471af-5554-430c-8dc9-c6aa138bd5c8",
   "metadata": {},
   "outputs": [
    {
     "name": "stdout",
     "output_type": "stream",
     "text": [
      "+-------+------------------+------------------+-----------------+\n",
      "|summary|       valorCopago|     valorCoseguro|   cantidadLimite|\n",
      "+-------+------------------+------------------+-----------------+\n",
      "|  count|             36036|             36036|             5465|\n",
      "|   mean| 9.778416028416029| 24.29279054279054|129.3313815187557|\n",
      "| stddev|100.41137967701272|36.959755494458506|951.2795862330698|\n",
      "|    min|                 0|                 0|                1|\n",
      "|    max|              3500|               100|            30000|\n",
      "+-------+------------------+------------------+-----------------+\n",
      "\n"
     ]
    }
   ],
   "source": [
    "# Seleccionar solo las columnas numéricas relevantes para estadísticas descriptivas\n",
    "numeric_columns = [\"valorCopago\", \"valorCoseguro\", \"cantidadLimite\"]\n",
    "\n",
    "# Generar estadísticas descriptivas para las columnas seleccionadas\n",
    "benefits.select(numeric_columns).describe().show()\n"
   ]
  },
  {
   "cell_type": "markdown",
   "id": "e806b99d-7107-4047-949b-3785ce3a5bb0",
   "metadata": {},
   "source": [
    "Valor_Copago:\n",
    "1. El valor promedio de copago es de 9.77 \n",
    "2. la std es bastante referentes al promedio lo que indica que que existe una gran variabilidad en los valores de esta variable. \n",
    "3. Exiten valores en 0, lo que indicaria que hay usuarios que no tienen que pagar por el servicio sin embargo vale la pena validar con el negocio si esto es una condicion valida. \n",
    "4. Vale la pena validar si hay errores en las cifras reportadas de copago, ya que el negocio informo que el máximo era de 3.300 pero tenemos registrados valores de 3.500. Es un error? \n",
    "Valor_Coseguro\n",
    "1. El valor promedio de coseguro es de 24.29\n",
    "2. La std es alta referente al promedio, lo que indicaria que existe una gran variabilidad de valores. \n",
    "3. Exiten valores en 0, lo que indicaria que hay usuarios que no tienen que pagan por el seguro sin embargo vale la pena validar con el negocio si esto es una condicion valida. \n",
    "Cantidad_Limite\n",
    "1. El valor promedio de copago es de 129, lo que podria indicar la cantidad de unidades permitidas para ciertos beneficios. \n",
    "2. La std es bastante más alta que el promedio, lo que indicaria que los limites varian segun el tipo de beneficio que se tiene. \n",
    "3. Hay servicios que permiten solo 1 beneficio\n",
    "4. El valor de 30.000 parece un valor a validar con el negocio si es posible tener tanta cantidad de unidades para un solo beneficio. "
   ]
  },
  {
   "cell_type": "markdown",
   "id": "d556f902a0923b4d",
   "metadata": {},
   "source": [
    "### **Revisión de reglas de negocio:** "
   ]
  },
  {
   "cell_type": "markdown",
   "id": "71165001dfc551ea",
   "metadata": {
    "tags": []
   },
   "source": [
    "#### Información 1: Las áreas de servicios reportadas cubren todos los condados del país"
   ]
  },
  {
   "cell_type": "code",
   "execution_count": 25,
   "id": "5c5ff80f-78c0-4282-ab35-4c13f70d4700",
   "metadata": {},
   "outputs": [
    {
     "name": "stdout",
     "output_type": "stream",
     "text": [
      "Existen 2041 registros con áreas de servicio nulas, lo cual indica datos incompletos en términos de cobertura.\n"
     ]
    }
   ],
   "source": [
    "# Verificar si existen valores nulos en la columna IdAreaDeServicio_T\n",
    "nulos_area_servicio = benefits.filter(col(\"IdAreaDeServicio_T\").isNull()).count()\n",
    "\n",
    "if nulos_area_servicio > 0:\n",
    "    print(f\"Existen {nulos_area_servicio} registros con áreas de servicio nulas, lo cual indica datos incompletos en términos de cobertura.\")\n",
    "else:\n",
    "    print(\"No existen valores nulos en la columna IdAreaDeServicio_T, por lo que todos los registros tienen una área de servicio asignada.\")\n"
   ]
  },
  {
   "cell_type": "markdown",
   "id": "d6172550-8604-4ff9-aeb9-48eb7163a903",
   "metadata": {},
   "source": [
    "IdAreaDeServicio_T se encuentran 2.041 valores nulos lo que hace que se deba validar la información proporcionada ya que deberia ser un valor que este reportado dentro de la base. "
   ]
  },
  {
   "cell_type": "markdown",
   "id": "999a9b2c-a622-4b43-a879-e6f707cd60dc",
   "metadata": {},
   "source": [
    "#### Información 2: Los tipos de beneficios con límite cuantitativo deben tener una cantidadLimite diferente de cero en los planes que los ofrecen."
   ]
  },
  {
   "cell_type": "code",
   "execution_count": 27,
   "id": "e4aeeea2-a9be-480e-9832-05546ee90ec0",
   "metadata": {},
   "outputs": [
    {
     "name": "stdout",
     "output_type": "stream",
     "text": [
      "La cantidad de registros que no cumplen con la condición de tener un `cantidadLimite` diferente de cero es: 30571\n"
     ]
    }
   ],
   "source": [
    "# Filtrar los registros donde `cantidadLimite` es 0 o nulo\n",
    "registros_sin_limite = benefits.filter((col(\"cantidadLimite\") == 0) | (col(\"cantidadLimite\").isNull()))\n",
    "\n",
    "# Contar los registros que no cumplen con la condición\n",
    "conteo_registros_sin_limite = registros_sin_limite.count()\n",
    "\n",
    "print(f\"La cantidad de registros que no cumplen con la condición de tener un `cantidadLimite` diferente de cero es: {conteo_registros_sin_limite}\")"
   ]
  },
  {
   "cell_type": "code",
   "execution_count": 32,
   "id": "23261b8c-889d-4ac3-a1e0-8268b3af08c9",
   "metadata": {},
   "outputs": [
    {
     "name": "stdout",
     "output_type": "stream",
     "text": [
      "Cantidad de registros con cantidadLimite igual a 0: 0\n",
      "Cantidad de registros con cantidadLimite nulo: 30571\n"
     ]
    }
   ],
   "source": [
    "# Contar registros con cantidadLimite igual a 0\n",
    "cantidad_limite_cero = benefits.filter(col(\"cantidadLimite\") == 0).count()\n",
    "\n",
    "# Contar registros con cantidadLimite nulo\n",
    "cantidad_limite_null = benefits.filter(col(\"cantidadLimite\").isNull()).count()\n",
    "\n",
    "print(f\"Cantidad de registros con cantidadLimite igual a 0: {cantidad_limite_cero}\")\n",
    "print(f\"Cantidad de registros con cantidadLimite nulo: {cantidad_limite_null}\")\n"
   ]
  },
  {
   "cell_type": "markdown",
   "id": "2e904252-7d15-456b-9a9a-c172ac0c1911",
   "metadata": {},
   "source": [
    "Se evidencia en la base que cantidadLimite nulos, lo que representa un problema para la completitud de la base y que no cumple con lo definido por el negocio. "
   ]
  },
  {
   "cell_type": "markdown",
   "id": "024a25ed-3d5d-453d-901e-57f2b687e246",
   "metadata": {},
   "source": [
    "#### Información 3: Las fuentes FuenteAreasDeServicio_Copia_E y FuenteTiposBeneficio_Copia_E comparten información de los años 2017 al 2019"
   ]
  },
  {
   "cell_type": "code",
   "execution_count": 41,
   "id": "36549bf5-dd32-42a6-919f-c8bafe9b27de",
   "metadata": {},
   "outputs": [
    {
     "name": "stdout",
     "output_type": "stream",
     "text": [
      "+----+-----+\n",
      "|Anio|count|\n",
      "+----+-----+\n",
      "|null| 2056|\n",
      "|1920| 2052|\n",
      "|2017|16134|\n",
      "|2018|15794|\n",
      "+----+-----+\n",
      "\n"
     ]
    }
   ],
   "source": [
    "from pyspark.sql.functions import year\n",
    "\n",
    "# Extraer el año de la columna `Fecha` y contar los registros por año\n",
    "registros_por_anio = benefits.withColumn(\"Anio\", year(col(\"Fecha\"))) \\\n",
    "                             .groupBy(\"Anio\") \\\n",
    "                             .count() \\\n",
    "                             .orderBy(\"Anio\")\n",
    "\n",
    "# Mostrar el conteo de registros por año\n",
    "registros_por_anio.show()\n"
   ]
  },
  {
   "cell_type": "markdown",
   "id": "ba26512b-9d2b-49ca-a6c4-4ada0668ca5a",
   "metadata": {
    "tags": []
   },
   "source": [
    "#### Información 4: La empresa comparte 5409 áreas de servicios y 170 tipos de beneficios."
   ]
  },
  {
   "cell_type": "code",
   "execution_count": 46,
   "id": "c9290630-6b66-4a3c-b593-861516c41db0",
   "metadata": {},
   "outputs": [
    {
     "name": "stdout",
     "output_type": "stream",
     "text": [
      "La cantidad de áreas de servicio es 6497, lo cual no coincide con las 5409 áreas esperadas.\n",
      "La cantidad de tipos de beneficios es 286, lo cual no coincide con los 170 tipos esperados.\n"
     ]
    }
   ],
   "source": [
    "# Contar los valores únicos en la columna `IdAreaDeServicio_T`\n",
    "areas_servicio_unicas = benefits.select(\"IdAreaDeServicio_T\").distinct().count()\n",
    "\n",
    "# Contar los valores únicos en la columna `IdTipoBeneficio_T`\n",
    "tipos_beneficio_unicos = benefits.select(\"IdTipoBeneficio_T\").distinct().count()\n",
    "\n",
    "# Valores esperados\n",
    "areas_servicio_esperadas = 5409\n",
    "tipos_beneficio_esperados = 170\n",
    "\n",
    "# Validar áreas de servicio\n",
    "if areas_servicio_unicas == areas_servicio_esperadas:\n",
    "    print(f\"La cantidad de áreas de servicio es correcta: {areas_servicio_unicas} áreas únicas.\")\n",
    "else:\n",
    "    print(f\"La cantidad de áreas de servicio es {areas_servicio_unicas}, lo cual no coincide con las {areas_servicio_esperadas} áreas esperadas.\")\n",
    "\n",
    "# Validar tipos de beneficio\n",
    "if tipos_beneficio_unicos == tipos_beneficio_esperados:\n",
    "    print(f\"La cantidad de tipos de beneficios es correcta: {tipos_beneficio_unicos} tipos únicos.\")\n",
    "else:\n",
    "    print(f\"La cantidad de tipos de beneficios es {tipos_beneficio_unicos}, lo cual no coincide con los {tipos_beneficio_esperados} tipos esperados.\")\n"
   ]
  },
  {
   "cell_type": "markdown",
   "id": "ecc7b333-f232-435d-8c9b-1d219b782f9e",
   "metadata": {},
   "source": [
    "Se debe validar con el negocio la información proporcionada ya que la cantidad de áreas y tipos de beneficios no coinciden por lo que se debe validar que toda la información suministrada es correcta o porque puedo tener más cantidades. "
   ]
  },
  {
   "cell_type": "markdown",
   "id": "bc6ae388-3aba-42b7-9ada-48ac24ba5516",
   "metadata": {
    "tags": []
   },
   "source": [
    "#### Información 5: El valor máximo Copago y Coseguro para el año 2018 es respectivamente 3300 y 100."
   ]
  },
  {
   "cell_type": "code",
   "execution_count": 52,
   "id": "06a0ce81-2321-4b81-98e8-edf0ae98ae86",
   "metadata": {},
   "outputs": [
    {
     "name": "stdout",
     "output_type": "stream",
     "text": [
      "Cantidad de registros con `valorCopago` > 3300 en 2018: 8\n",
      "Cantidad de registros con `valorCoseguro` > 100 en 2018: 0\n"
     ]
    }
   ],
   "source": [
    "# Contar los registros de 2018 donde `valorCopago` es mayor que 3,300\n",
    "copago_incorrecto = benefits.filter(\n",
    "    (col(\"Fecha\").between(\"2018-01-01\", \"2018-12-31\")) &\n",
    "    (col(\"valorCopago\") > 3300)\n",
    ").count()\n",
    "\n",
    "# Contar los registros de 2018 donde `valorCoseguro` es mayor que 100\n",
    "coseguro_incorrecto = benefits.filter(\n",
    "    (col(\"Fecha\").between(\"2018-01-01\", \"2018-12-31\")) &\n",
    "    (col(\"valorCoseguro\") > 100)\n",
    ").count()\n",
    "\n",
    "print(f\"Cantidad de registros con `valorCopago` > 3300 en 2018: {copago_incorrecto}\")\n",
    "print(f\"Cantidad de registros con `valorCoseguro` > 100 en 2018: {coseguro_incorrecto}\")\n"
   ]
  },
  {
   "cell_type": "code",
   "execution_count": 50,
   "id": "f63b506d-fe32-4a11-870f-06e5fc5aebfa",
   "metadata": {},
   "outputs": [
    {
     "name": "stdout",
     "output_type": "stream",
     "text": [
      "+-----------+-------------+\n",
      "|valorCopago|valorCoseguro|\n",
      "+-----------+-------------+\n",
      "|       3500|            0|\n",
      "|       3500|            0|\n",
      "|       3500|            0|\n",
      "|       3500|            0|\n",
      "|       3500|            0|\n",
      "|       3500|            0|\n",
      "|       3500|            0|\n",
      "|       3500|            0|\n",
      "+-----------+-------------+\n",
      "\n"
     ]
    }
   ],
   "source": [
    "# Mostrar solo las columnas `valorCopago` y `valorCoseguro` de los registros que no cumplen con la condición en 2018\n",
    "copago_coseguro_incorrecto.select(\"valorCopago\", \"valorCoseguro\").show(8)\n"
   ]
  },
  {
   "cell_type": "markdown",
   "id": "2ebe6f6a-a1a8-4ee8-9b96-246331ee0979",
   "metadata": {},
   "source": [
    "De acuerdo a la información proporcionada, tenemos solo 8 registros que no cumplen con las reglas del negocio para valorCopago. Se requiere validar con el negocio si está información es correcta o se deben hacer ajustes en la información. "
   ]
  },
  {
   "cell_type": "markdown",
   "id": "a57f3383-df5c-409b-ac49-96b7d8d77c5c",
   "metadata": {},
   "source": [
    "#### Información 6: Además, les comparte información de 301 planes para 2017 y de 422 para el año 2018."
   ]
  },
  {
   "cell_type": "code",
   "execution_count": 56,
   "id": "5c10f1c8-b4f8-4560-81e2-c71d43b6fcc8",
   "metadata": {},
   "outputs": [
    {
     "name": "stdout",
     "output_type": "stream",
     "text": [
      "Planes únicos en 2017: 203\n",
      "Planes únicos en 2018: 286\n",
      "El número total de planes únicos en la tabla es: 393\n"
     ]
    }
   ],
   "source": [
    "# Contar los planes únicos por año\n",
    "planes_2017 = benefits.filter(col(\"Fecha\").between(\"2017-01-01\", \"2017-12-31\")).select(\"IdPlan_T\").distinct().count()\n",
    "planes_2018 = benefits.filter(col(\"Fecha\").between(\"2018-01-01\", \"2018-12-31\")).select(\"IdPlan_T\").distinct().count()\n",
    "\n",
    "print(f\"Planes únicos en 2017: {planes_2017}\")\n",
    "print(f\"Planes únicos en 2018: {planes_2018}\")\n",
    "\n",
    "# Contar el número total de planes únicos en la columna `IdPlan_T`\n",
    "total_planes_unicos = benefits.select(\"IdPlan_T\").distinct().count()\n",
    "\n",
    "print(f\"El número total de planes únicos en la tabla es: {total_planes_unicos}\")\n",
    "\n"
   ]
  },
  {
   "cell_type": "markdown",
   "id": "9ce3420d-e328-4b0c-b47e-29584e737a9d",
   "metadata": {},
   "source": [
    "La cantidad de planes por año reportados por el negocio no corresponden a la información proporcionada. Tenemos menos cantidad para cada uno de los años mencionados. "
   ]
  },
  {
   "cell_type": "markdown",
   "id": "86217109-de94-4abf-9c83-934af3f4ace3",
   "metadata": {},
   "source": [
    "#### Información 6: Existen 15 y 5 diferentes condiciones de copago y coseguro respectivamente."
   ]
  },
  {
   "cell_type": "code",
   "execution_count": 59,
   "id": "66824a26-3d30-4e20-8436-4248b87d1825",
   "metadata": {},
   "outputs": [
    {
     "name": "stdout",
     "output_type": "stream",
     "text": [
      "La cantidad de condiciones de copago es 14, lo cual no coincide con las 15 condiciones esperadas.\n",
      "La cantidad de condiciones de coseguro es correcta: 5 condiciones únicas.\n"
     ]
    }
   ],
   "source": [
    "# Contar los valores únicos en `IdCondicionDePagoCopago_T`\n",
    "copago_unicos = benefits.select(\"IdCondicionDePagoCopago_T\").distinct().count()\n",
    "\n",
    "# Contar los valores únicos en `IdCondicionDePagoCoseguro_T`\n",
    "coseguro_unicos = benefits.select(\"IdCondicionDePagoCoseguro_T\").distinct().count()\n",
    "\n",
    "# Valores esperados\n",
    "copago_esperado = 15\n",
    "coseguro_esperado = 5\n",
    "\n",
    "# Validar las condiciones de copago\n",
    "if copago_unicos == copago_esperado:\n",
    "    print(f\"La cantidad de condiciones de copago es correcta: {copago_unicos} condiciones únicas.\")\n",
    "else:\n",
    "    print(f\"La cantidad de condiciones de copago es {copago_unicos}, lo cual no coincide con las {copago_esperado} condiciones esperadas.\")\n",
    "\n",
    "# Validar las condiciones de coseguro\n",
    "if coseguro_unicos == coseguro_esperado:\n",
    "    print(f\"La cantidad de condiciones de coseguro es correcta: {coseguro_unicos} condiciones únicas.\")\n",
    "else:\n",
    "    print(f\"La cantidad de condiciones de coseguro es {coseguro_unicos}, lo cual no coincide con las {coseguro_esperado} condiciones esperadas.\")\n"
   ]
  },
  {
   "cell_type": "markdown",
   "id": "91f598fc-a9d4-4f9f-8ce0-a1570126ca60",
   "metadata": {},
   "source": [
    "Se debe validar con el negocio por qué nos hace falta un copago? o porque no se incluyo."
   ]
  },
  {
   "cell_type": "markdown",
   "id": "323dd5357c6de355",
   "metadata": {},
   "source": [
    "### **Análisis de calidad de datos**"
   ]
  },
  {
   "cell_type": "markdown",
   "id": "4b884857f8d22160",
   "metadata": {},
   "source": [
    "#### **Completitud y Validez de los datos**"
   ]
  },
  {
   "cell_type": "markdown",
   "id": "8ccc9cf6-a35e-4dd9-b616-01d81f29e20c",
   "metadata": {},
   "source": [
    "#### Completitud"
   ]
  },
  {
   "cell_type": "code",
   "execution_count": 63,
   "id": "01a8b6ce-edda-4a30-8a4d-de65a5778ab2",
   "metadata": {},
   "outputs": [
    {
     "data": {
      "image/png": "[encoded data removed]",
      "text/plain": [
       "<Figure size 720x432 with 1 Axes>"
      ]
     },
     "metadata": {
      "needs_background": "light"
     },
     "output_type": "display_data"
    }
   ],
   "source": [
    "import pandas as pd\n",
    "import matplotlib.pyplot as plt\n",
    "\n",
    "# Convertir el DataFrame de PySpark a Pandas\n",
    "benefits_pd = benefits.toPandas()\n",
    "\n",
    "# Calcular el porcentaje de valores nulos por columna\n",
    "porcentaje_nulos = benefits_pd.isnull().mean() * 100\n",
    "\n",
    "# Crear un gráfico de barras del porcentaje de nulos por columna\n",
    "plt.figure(figsize=(10, 6))\n",
    "porcentaje_nulos.sort_values(ascending=False).plot(kind='bar', color='skyblue')\n",
    "plt.title('Porcentaje de Valores Nulos por Columna')\n",
    "plt.xlabel('Columnas')\n",
    "plt.ylabel('Porcentaje de Nulos (%)')\n",
    "plt.xticks(rotation=45, ha='right')\n",
    "plt.show()\n"
   ]
  },
  {
   "cell_type": "markdown",
   "id": "d21dcd3d-257f-465f-a9b6-8bb6a5bc5449",
   "metadata": {},
   "source": [
    "1. CantidadLimite tiene un 80% de valores nulos lo que representa un problema para el negocio ya que ellos definen \"Los tipos de beneficios con límite cuantitativo deben tener una cantidadLimite diferente de cero en los planes que los ofrecen\" lo que no permite validar que este limite se este cumpliendo de acuerdo al beneficio a evaluar teniendo en cuenta que afecta la completitud. Se debe validar con el negocio si hay forma de obtener estos datos ya que son claves para el analisis. \n",
    "2. IdTipoBeneficio_T y IdAreaDeServicio_T tienen menos de un 10% de datos nulos es muy relevante poder tener el 100% de los datos de acuerdo a que no se puede identificar el tipo de beneficio y no se puede especififcar al área a la que pertenece claves en los analisis y que afecta la completitud. "
   ]
  },
  {
   "cell_type": "markdown",
   "id": "ebddc1ad-ec6b-4526-a52b-c5288994956c",
   "metadata": {},
   "source": [
    "#### **Consistencia y Exactitud de los datos**"
   ]
  },
  {
   "cell_type": "markdown",
   "id": "766e42b6-7423-4ea1-abb1-f2352ab981ac",
   "metadata": {},
   "source": [
    "#### Consistencia en llaves:\n",
    "1. IdPlan_T deberia estar en todos los registros como llave e identificador único y sin duplicados\n",
    "2. IdTipoBeneficio_T, IdAreaDeServicio_T tambien deberian estar en todos los registros"
   ]
  },
  {
   "cell_type": "code",
   "execution_count": 65,
   "id": "f2a8e089-ed0a-4813-9971-9df88f03f652",
   "metadata": {},
   "outputs": [
    {
     "name": "stdout",
     "output_type": "stream",
     "text": [
      "Registros con llaves principales nulas (IdPlan_T, IdTipoBeneficio_T, IdAreaDeServicio_T): 4127\n",
      "+-----------------+------------------+-------------------------+---------------------------+-----------------+-----------------+----------+-------------+-----------+-------------+--------------+\n",
      "|IdTipoBeneficio_T|IdAreaDeServicio_T|IdCondicionDePagoCopago_T|IdCondicionDePagoCoseguro_T|IdNivelServicio_T|         IdPlan_T|     Fecha|IdProveedor_T|valorCopago|valorCoseguro|cantidadLimite|\n",
      "+-----------------+------------------+-------------------------+---------------------------+-----------------+-----------------+----------+-------------+-----------+-------------+--------------+\n",
      "|             null|         107352017|                      238|                         45|                2|93332GA0710044-00|2017-12-31|        93332|          0|            0|          null|\n",
      "|             null|          85992018|                      238|                         45|                2|71933PA0020003-00|2018-12-31|        71933|          0|            0|             1|\n",
      "|             null|          68832018|                      238|                         45|                2|54192IN0010012-02|2018-12-31|        54192|          0|            0|          null|\n",
      "|             null|         103272017|                       34|                         27|                2|91762NJ0070093-00|2017-12-31|        91762|          0|           50|          null|\n",
      "|             null|          47912017|                      238|                         45|                2|38166WI0150005-00|2017-12-31|        38166|          0|            0|          null|\n",
      "+-----------------+------------------+-------------------------+---------------------------+-----------------+-----------------+----------+-------------+-----------+-------------+--------------+\n",
      "only showing top 5 rows\n",
      "\n"
     ]
    }
   ],
   "source": [
    "# Verificar registros con valores nulos en llaves principales\n",
    "llaves_nulas = benefits.filter(\n",
    "    col(\"IdPlan_T\").isNull() | col(\"IdTipoBeneficio_T\").isNull() | col(\"IdAreaDeServicio_T\").isNull()\n",
    ")\n",
    "llaves_nulas_count = llaves_nulas.count()\n",
    "\n",
    "print(f\"Registros con llaves principales nulas (IdPlan_T, IdTipoBeneficio_T, IdAreaDeServicio_T): {llaves_nulas_count}\")\n",
    "llaves_nulas.show(5)\n"
   ]
  },
  {
   "cell_type": "markdown",
   "id": "c94ee262-3d58-4761-aa8e-96bc781e95b3",
   "metadata": {},
   "source": [
    "Se deben validar 4.127 registros que tiene nulls en las llaves principales y que son escenciales para analizar la base de beneficios. "
   ]
  },
  {
   "cell_type": "markdown",
   "id": "d27a0cfe-39be-49fa-9fea-9a5fd7fe53cc",
   "metadata": {},
   "source": [
    "#### Consistencia en Valores Numéricos"
   ]
  },
  {
   "cell_type": "code",
   "execution_count": 76,
   "id": "6890b716-4253-40f2-8b84-db05399fdd40",
   "metadata": {},
   "outputs": [
    {
     "name": "stdout",
     "output_type": "stream",
     "text": [
      "Registros con valores negativos en `valorCopago` o `valorCoseguro`: 0\n",
      "+-----------------+------------------+-------------------------+---------------------------+-----------------+--------+-----+-------------+-----------+-------------+--------------+\n",
      "|IdTipoBeneficio_T|IdAreaDeServicio_T|IdCondicionDePagoCopago_T|IdCondicionDePagoCoseguro_T|IdNivelServicio_T|IdPlan_T|Fecha|IdProveedor_T|valorCopago|valorCoseguro|cantidadLimite|\n",
      "+-----------------+------------------+-------------------------+---------------------------+-----------------+--------+-----+-------------+-----------+-------------+--------------+\n",
      "+-----------------+------------------+-------------------------+---------------------------+-----------------+--------+-----+-------------+-----------+-------------+--------------+\n",
      "\n",
      "Registros en 2018 con `valorCopago` > 3300 o `valorCoseguro` > 100: 8\n",
      "+----------+-----------+-------------+\n",
      "|     Fecha|valorCopago|valorCoseguro|\n",
      "+----------+-----------+-------------+\n",
      "|2018-12-31|       3500|            0|\n",
      "|2018-12-31|       3500|            0|\n",
      "|2018-12-31|       3500|            0|\n",
      "|2018-12-31|       3500|            0|\n",
      "|2018-12-31|       3500|            0|\n",
      "|2018-12-31|       3500|            0|\n",
      "|2018-12-31|       3500|            0|\n",
      "|2018-12-31|       3500|            0|\n",
      "+----------+-----------+-------------+\n",
      "\n",
      "Registros con `cantidadLimite` inválido (nulo o cero): 30571\n",
      "+-----------------+-----------------+------------------+--------------+\n",
      "|         IdPlan_T|IdTipoBeneficio_T|IdAreaDeServicio_T|cantidadLimite|\n",
      "+-----------------+-----------------+------------------+--------------+\n",
      "|29418TX0140002-04|              225|          31512017|          null|\n",
      "|52697WI0010002-00|              190|          66252017|          null|\n",
      "|38166WI0180012-06|              620|          49492017|          null|\n",
      "|33602TX0460322-03|              795|          37872017|          null|\n",
      "|37833WI0540010-01|              450|          46922017|          null|\n",
      "+-----------------+-----------------+------------------+--------------+\n",
      "only showing top 5 rows\n",
      "\n"
     ]
    }
   ],
   "source": [
    "from pyspark.sql.functions import col\n",
    "\n",
    "# Verificar valores negativos en `valorCopago` y `valorCoseguro`\n",
    "copago_coseguro_negativos = benefits.filter((col(\"valorCopago\") < 0) | (col(\"valorCoseguro\") < 0))\n",
    "copago_coseguro_negativos_count = copago_coseguro_negativos.count()\n",
    "\n",
    "print(f\"Registros con valores negativos en `valorCopago` o `valorCoseguro`: {copago_coseguro_negativos_count}\")\n",
    "copago_coseguro_negativos.show()\n",
    "\n",
    "# Verificar valores en 2018 que excedan los límites para `valorCopago` y `valorCoseguro`\n",
    "copago_coseguro_excedentes_2018 = benefits.filter(\n",
    "    (col(\"Fecha\").between(\"2018-01-01\", \"2018-12-31\")) &\n",
    "    ((col(\"valorCopago\") > 3300) | (col(\"valorCoseguro\") > 100))\n",
    ")\n",
    "copago_coseguro_excedentes_2018_count = copago_coseguro_excedentes_2018.count()\n",
    "\n",
    "print(f\"Registros en 2018 con `valorCopago` > 3300 o `valorCoseguro` > 100: {copago_coseguro_excedentes_2018_count}\")\n",
    "copago_coseguro_excedentes_2018.select(\"Fecha\", \"valorCopago\", \"valorCoseguro\").show()\n",
    "\n",
    "# Verificar `cantidadLimite` con valores nulos o cero\n",
    "cantidad_limite_invalida = benefits.filter((col(\"cantidadLimite\").isNull()) | (col(\"cantidadLimite\") == 0))\n",
    "cantidad_limite_invalida_count = cantidad_limite_invalida.count()  # Ejecutar el método `count()` correctamente\n",
    "\n",
    "print(f\"Registros con `cantidadLimite` inválido (nulo o cero): {cantidad_limite_invalida_count}\")\n",
    "\n",
    "# Mostrar algunos ejemplos de los registros con `cantidadLimite` inválido, incluyendo las columnas adicionales solicitadas\n",
    "cantidad_limite_invalida.select(\"IdPlan_T\", \"IdTipoBeneficio_T\", \"IdAreaDeServicio_T\", \"cantidadLimite\").show(5)\n"
   ]
  },
  {
   "cell_type": "markdown",
   "id": "a332ca5d-5195-4d44-88c6-c3bee1de2836",
   "metadata": {},
   "source": [
    "1. No se encuentran valores negativos para las variables númericas por lo que se verifica que no hay inconsistencias en estas columnas. \n",
    "2. Se encuentran 8 registros a validar con negocio para entender el por qué el valor del copago es superior a la información dada por el negocio. \n",
    "3. Se trae un ejemplo de cantidadLimite null relacionada con las llaves principales con el fin de darle el negocio una idea de los registros que tienen esa condicion para lograr completitud de los datos \n",
    "\n"
   ]
  },
  {
   "cell_type": "markdown",
   "id": "3a6a11c4-0cef-4a10-b604-96799546a11c",
   "metadata": {},
   "source": [
    "#### Consistencia en Fechas"
   ]
  },
  {
   "cell_type": "code",
   "execution_count": 79,
   "id": "505ac791-bf25-46b7-8aef-8b01e05e1cc5",
   "metadata": {},
   "outputs": [
    {
     "name": "stdout",
     "output_type": "stream",
     "text": [
      "+------------+\n",
      "|FormatoFecha|\n",
      "+------------+\n",
      "|2018-12-31  |\n",
      "|Dec 31,2017 |\n",
      "|Dec 31,2018 |\n",
      "|2017-12-31  |\n",
      "|1920-12-31  |\n",
      "+------------+\n",
      "\n"
     ]
    }
   ],
   "source": [
    "from pyspark.sql.functions import col, regexp_extract\n",
    "\n",
    "# Extraer diferentes patrones de fecha comunes (ejemplos: YYYY-MM-DD, DD-MM-YYYY, etc.)\n",
    "# Crear una columna temporal que intente capturar estos patrones\n",
    "benefits = benefits.withColumn(\n",
    "    \"FormatoFecha\",\n",
    "    regexp_extract(col(\"Fecha\"), r'(\\d{4}-\\d{2}-\\d{2})|(\\d{2}-\\d{2}-\\d{4})|(\\w{3} \\d{2},\\d{4})', 0)\n",
    ")\n",
    "\n",
    "# Ver los formatos únicos en la columna `FormatoFecha`\n",
    "formatos_fecha = benefits.select(\"FormatoFecha\").distinct()\n",
    "formatos_fecha.show(truncate=False)\n",
    "\n"
   ]
  },
  {
   "cell_type": "markdown",
   "id": "27d6b246-19a3-42e4-97b3-7d9561a430cb",
   "metadata": {},
   "source": [
    "1. Se evidencias diferentes formatos de fecha dentro de la base, por lo que se deben normalizar en DD-MM-YYYY\n",
    "2. Se debe validar con el negocio porque aparecen fechas de 1920 ya que no corresponde con el periodo de analísis y que afecta la calidad de los datos \n",
    "3. Se debe validar porque no aparece 2019 en la base"
   ]
  },
  {
   "cell_type": "markdown",
   "id": "5bbc8100-a7f7-425a-9556-e1fdbb3b639a",
   "metadata": {},
   "source": [
    "#### Consistencia en Condiciones de Pago"
   ]
  },
  {
   "cell_type": "code",
   "execution_count": 69,
   "id": "9c0a8cf8-ac7b-4806-9f8e-82cc2bd5862b",
   "metadata": {},
   "outputs": [
    {
     "name": "stdout",
     "output_type": "stream",
     "text": [
      "Condiciones de Copago Únicas: 14 (esperado: 15)\n",
      "Condiciones de Coseguro Únicas: 5 (esperado: 5)\n"
     ]
    }
   ],
   "source": [
    "# Verificar valores únicos en `IdCondicionDePagoCopago_T` y `IdCondicionDePagoCoseguro_T`\n",
    "condiciones_copago_unicas = benefits.select(\"IdCondicionDePagoCopago_T\").distinct().count()\n",
    "condiciones_coseguro_unicas = benefits.select(\"IdCondicionDePagoCoseguro_T\").distinct().count()\n",
    "\n",
    "print(f\"Condiciones de Copago Únicas: {condiciones_copago_unicas} (esperado: 15)\")\n",
    "print(f\"Condiciones de Coseguro Únicas: {condiciones_coseguro_unicas} (esperado: 5)\")\n"
   ]
  },
  {
   "cell_type": "markdown",
   "id": "7d732156-6c2f-4753-b038-0fe6687073b6",
   "metadata": {},
   "source": [
    "Se debe validar con el negocio por qué nos falta 1 condición de copago "
   ]
  },
  {
   "cell_type": "markdown",
   "id": "1d47b071-3f67-4656-b623-6e68df071716",
   "metadata": {},
   "source": [
    "#### Consistencia en registros duplicados "
   ]
  },
  {
   "cell_type": "code",
   "execution_count": 80,
   "id": "3d065605-1cfb-426f-a84a-9bb3521558eb",
   "metadata": {},
   "outputs": [
    {
     "name": "stdout",
     "output_type": "stream",
     "text": [
      "Cantidad total de registros completamente duplicados (todas las columnas): 8342\n",
      "+-----------------+------------------+-------------------------+---------------------------+-----------------+-----------------+-----------+-------------+-----------+-------------+--------------+------------+-----+\n",
      "|IdTipoBeneficio_T|IdAreaDeServicio_T|IdCondicionDePagoCopago_T|IdCondicionDePagoCoseguro_T|IdNivelServicio_T|IdPlan_T         |Fecha      |IdProveedor_T|valorCopago|valorCoseguro|cantidadLimite|FormatoFecha|count|\n",
      "+-----------------+------------------+-------------------------+---------------------------+-----------------+-----------------+-----------+-------------+-----------+-------------+--------------+------------+-----+\n",
      "|830              |67552018          |238                      |36                         |1                |53901AZ1420020-00|2018-12-31 |53901        |30         |0            |1             |2018-12-31  |2    |\n",
      "|330              |80662018          |187                      |36                         |1                |66252TX0050003-05|2018-12-31 |66252        |30         |0            |35            |2018-12-31  |2    |\n",
      "|735              |11102018          |51                       |9                          |1                |19636LA0240011-03|2018-12-31 |19636        |0          |0            |1             |2018-12-31  |2    |\n",
      "|795              |93312017          |238                      |45                         |2                |83761GA0040022-02|2017-12-31 |83761        |0          |0            |40            |2017-12-31  |2    |\n",
      "|335              |82492017          |238                      |45                         |2                |67243LA0090004-03|2017-12-31 |67243        |0          |0            |1             |2017-12-31  |2    |\n",
      "|350              |49002018          |34                       |45                         |3                |38166WI0180012-06|Dec 31,2018|38166        |0          |100          |60            |Dec 31,2018 |2    |\n",
      "|825              |34332018          |238                      |45                         |3                |30751MT0650009-00|2018-12-31 |30751        |0          |0            |null          |2018-12-31  |2    |\n",
      "|235              |27982018          |34                       |27                         |1                |28162OH0060068-01|2018-12-31 |28162        |0          |0            |null          |2018-12-31  |2    |\n",
      "|375              |80412017          |34                       |45                         |3                |66252TX0050001-00|2017-12-31 |66252        |0          |100          |null          |2017-12-31  |2    |\n",
      "|750              |107352017         |238                      |18                         |1                |93332GA0710044-00|2017-12-31 |93332        |15         |0            |null          |2017-12-31  |2    |\n",
      "|895              |67552018          |34                       |27                         |1                |53901AZ1420020-00|2018-12-31 |53901        |0          |10           |null          |2018-12-31  |2    |\n",
      "|215              |47742017          |238                      |45                         |2                |38166WI0140027-01|2017-12-31 |38166        |0          |0            |null          |2017-12-31  |2    |\n",
      "|225              |58132018          |34                       |45                         |3                |41921VA0020003-01|2018-12-31 |41921        |0          |100          |null          |2018-12-31  |2    |\n",
      "|480              |45922017          |34                       |45                         |3                |37833WI0380063-01|2017-12-31 |37833        |0          |100          |null          |2017-12-31  |2    |\n",
      "|540              |113932017         |34                       |27                         |1                |99248TN0060001-01|2017-12-31 |99248        |0          |50           |null          |2017-12-31  |2    |\n",
      "|235              |16322018          |34                       |45                         |3                |20129IL0330060-05|2018-12-31 |20129        |0          |100          |null          |2018-12-31  |2    |\n",
      "|420              |46572018          |238                      |45                         |2                |37833WI0510083-06|2018-12-31 |37833        |0          |0            |null          |2018-12-31  |2    |\n",
      "|350              |51902017          |238                      |45                         |2                |40047MI0070001-00|2017-12-31 |40047        |0          |0            |null          |2017-12-31  |2    |\n",
      "|135              |82522018          |238                      |45                         |2                |67243LA0090007-06|2018-12-31 |67243        |0          |0            |null          |2018-12-31  |2    |\n",
      "|1015             |72032017          |238                      |45                         |2                |56503FL2570001-04|2017-12-31 |56503        |0          |0            |null          |2017-12-31  |2    |\n",
      "+-----------------+------------------+-------------------------+---------------------------+-----------------+-----------------+-----------+-------------+-----------+-------------+--------------+------------+-----+\n",
      "only showing top 20 rows\n",
      "\n"
     ]
    }
   ],
   "source": [
    "# Agrupar por todas las columnas y contar registros duplicados\n",
    "duplicados_todas_columnas = benefits.groupBy(benefits.columns).count().filter(col(\"count\") > 1)\n",
    "\n",
    "# Contar el número total de registros duplicados\n",
    "total_duplicados_todas_columnas = duplicados_todas_columnas.count()\n",
    "\n",
    "print(f\"Cantidad total de registros completamente duplicados (todas las columnas): {total_duplicados_todas_columnas}\")\n",
    "\n",
    "# Mostrar algunos ejemplos de registros completamente duplicados\n",
    "duplicados_todas_columnas.show(truncate=False)\n"
   ]
  },
  {
   "cell_type": "markdown",
   "id": "82d44f5b-aedb-4329-bba8-d0be8aa9850c",
   "metadata": {},
   "source": [
    "Se identifican 8342 registros duplicados que coninciden exactamente en todas sus columnas por lo que hay que considerar eliminar estos registros para eliminar ruido en la base "
   ]
  },
  {
   "cell_type": "markdown",
   "id": "4da5861c338ad115",
   "metadata": {},
   "source": [
    "#### **Cardinalidad**"
   ]
  },
  {
   "cell_type": "code",
   "execution_count": 84,
   "id": "776bd369-c383-41d7-add5-aacba11463fd",
   "metadata": {},
   "outputs": [
    {
     "name": "stdout",
     "output_type": "stream",
     "text": [
      "Cardinalidad de la columna `IdTipoBeneficio_T`: 286\n",
      "Cardinalidad de la columna `IdAreaDeServicio_T`: 6497\n",
      "Cardinalidad de la columna `IdCondicionDePagoCopago_T`: 14\n",
      "Cardinalidad de la columna `IdCondicionDePagoCoseguro_T`: 5\n",
      "Cardinalidad de la columna `IdNivelServicio_T`: 3\n",
      "Cardinalidad de la columna `IdPlan_T`: 393\n",
      "Cardinalidad de la columna `Fecha`: 5\n",
      "Cardinalidad de la columna `IdProveedor_T`: 125\n",
      "Cardinalidad de la columna `valorCopago`: 49\n",
      "Cardinalidad de la columna `valorCoseguro`: 25\n",
      "Cardinalidad de la columna `cantidadLimite`: 42\n",
      "Cardinalidad de la columna `FormatoFecha`: 5\n"
     ]
    }
   ],
   "source": [
    "# Calcular y mostrar la cardinalidad para todas las columnas en el DataFrame\n",
    "for columna in benefits.columns:\n",
    "    cardinalidad = benefits.select(columna).distinct().count()\n",
    "    print(f\"Cardinalidad de la columna `{columna}`: {cardinalidad}\")\n"
   ]
  },
  {
   "cell_type": "code",
   "execution_count": 85,
   "id": "942a0ce8-ef31-437e-a228-aa70df059a16",
   "metadata": {},
   "outputs": [
    {
     "name": "stdout",
     "output_type": "stream",
     "text": [
      "Columnas de Alta Cardinalidad:\n",
      "  - IdTipoBeneficio_T: 286 valores únicos\n",
      "  - IdAreaDeServicio_T: 6497 valores únicos\n",
      "  - IdPlan_T: 393 valores únicos\n",
      "  - IdProveedor_T: 125 valores únicos\n",
      "  - valorCopago: 49 valores únicos\n",
      "  - valorCoseguro: 25 valores únicos\n",
      "  - cantidadLimite: 42 valores únicos\n",
      "\n",
      "Columnas de Baja Cardinalidad:\n",
      "  - IdCondicionDePagoCopago_T: 14 valores únicos\n",
      "  - IdCondicionDePagoCoseguro_T: 5 valores únicos\n",
      "  - IdNivelServicio_T: 3 valores únicos\n",
      "  - Fecha: 5 valores únicos\n",
      "  - FormatoFecha: 5 valores únicos\n"
     ]
    }
   ],
   "source": [
    "# Definir umbral para alta y baja cardinalidad\n",
    "umbral_cardinalidad = 20\n",
    "\n",
    "# Inicializar listas para almacenar las columnas de alta y baja cardinalidad\n",
    "alta_cardinalidad = []\n",
    "baja_cardinalidad = []\n",
    "\n",
    "# Calcular la cardinalidad para cada columna y clasificarla\n",
    "for columna in benefits.columns:\n",
    "    cardinalidad = benefits.select(columna).distinct().count()\n",
    "    if cardinalidad > umbral_cardinalidad:\n",
    "        alta_cardinalidad.append((columna, cardinalidad))\n",
    "    else:\n",
    "        baja_cardinalidad.append((columna, cardinalidad))\n",
    "\n",
    "# Mostrar resultados\n",
    "print(\"Columnas de Alta Cardinalidad:\")\n",
    "for columna, cardinalidad in alta_cardinalidad:\n",
    "    print(f\"  - {columna}: {cardinalidad} valores únicos\")\n",
    "\n",
    "print(\"\\nColumnas de Baja Cardinalidad:\")\n",
    "for columna, cardinalidad in baja_cardinalidad:\n",
    "    print(f\"  - {columna}: {cardinalidad} valores únicos\")\n"
   ]
  },
  {
   "cell_type": "markdown",
   "id": "8dcf91fb-e628-4fd5-b399-177d6ddcf5a3",
   "metadata": {},
   "source": [
    "Se dividen las columnas en alta y baja cardinalidad con el objetivo de entender las columnas que representan gran variedad de datos y cuales son más utiles para analizar a la hora de querer segmentar la información, mientras que las de baja nos ayudaran a la segmentación y analisis descriptivos."
   ]
  },
  {
   "cell_type": "markdown",
   "id": "d1126a91c0834298",
   "metadata": {},
   "source": [
    "### **Analisis Descriptivo**"
   ]
  },
  {
   "cell_type": "markdown",
   "id": "f27b5c2e0f1e59d7",
   "metadata": {},
   "source": [
    "### 1. Análisis sobre Comportamiento Desleal de Proveedores"
   ]
  },
  {
   "cell_type": "markdown",
   "id": "410018fd60c5d75",
   "metadata": {},
   "source": [
    "##### 1.a: Dado un proveedor o grupo de proveedores si tiene o ha tenido un comportamiento desleal?\n",
    "##### 1.b: Dado un rango de fechas se identifican proveedores con comportamientos desleales. Un comportamiento desleal corresponde a proveedores que brinden planes con el mismo tipo de beneficio cuyo valor de copago o coseguro evidencian diferencias mayores al 20%\""
   ]
  },
  {
   "cell_type": "markdown",
   "id": "c9289d76-02d2-4cc7-8d39-8b8cab00c24f",
   "metadata": {},
   "source": [
    "1. Para este analísis se tienen en cuenta las variables de \"IdProveedor_T\", \"IdTipoBeneficio_T\", \"valorCopago\", \"valorCoseguro\" para el mismo beneficio.\n",
    "2. Se denomina a un proveedor desleal sin la diferencia entre los valores máximo y mínimo de copago o coseguro para un tipo de beneficio excede el 20%.\n"
   ]
  },
  {
   "cell_type": "markdown",
   "id": "7ccb308e-3575-4625-ac26-73ff8ea2eb95",
   "metadata": {},
   "source": [
    "#####  Verificar Datos Completos en las Variables Clave"
   ]
  },
  {
   "cell_type": "code",
   "execution_count": 107,
   "id": "28859ec6-47a4-46cd-9f8f-5028e4806c90",
   "metadata": {},
   "outputs": [
    {
     "name": "stdout",
     "output_type": "stream",
     "text": [
      "+-------------+-----------------+-----------+-------------+\n",
      "|IdProveedor_T|IdTipoBeneficio_T|valorCopago|valorCoseguro|\n",
      "+-------------+-----------------+-----------+-------------+\n",
      "|            0|             2086|          0|            0|\n",
      "+-------------+-----------------+-----------+-------------+\n",
      "\n"
     ]
    }
   ],
   "source": [
    "from pyspark.sql.functions import col, sum\n",
    "\n",
    "# Lista de columnas clave\n",
    "columnas_clave = [\"IdProveedor_T\", \"IdTipoBeneficio_T\", \"valorCopago\", \"valorCoseguro\"]\n",
    "\n",
    "# Contar valores nulos en cada columna\n",
    "valores_nulos = benefits.select(\n",
    "    [sum(col(c).isNull().cast(\"int\")).alias(c) for c in columnas_clave]\n",
    ")\n",
    "\n",
    "# Mostrar cantidad de valores nulos en cada columna clave\n",
    "valores_nulos.show()\n"
   ]
  },
  {
   "cell_type": "markdown",
   "id": "0ccc90f5-5b07-4df0-a72f-32526fba23ba",
   "metadata": {},
   "source": [
    "Para este analisis se requiere IdTipoBeneficio_T tenga completitud en los datos por lo que hay que limpiarlo, imputarlos o traerlos de otra base. "
   ]
  },
  {
   "cell_type": "markdown",
   "id": "1f50f94b-18ac-426a-a615-9e549d04dbcd",
   "metadata": {},
   "source": [
    "##### Verificar si se pueden hacer cálculos de Mínimos, Máximos y Diferencias Porcentuales"
   ]
  },
  {
   "cell_type": "code",
   "execution_count": 108,
   "id": "aba27758-a5b2-44cf-a81b-ef68ad1a592d",
   "metadata": {
    "tags": []
   },
   "outputs": [
    {
     "name": "stdout",
     "output_type": "stream",
     "text": [
      "Cantidad de registros con valores fuera de rango:\n",
      "0\n",
      "+-----------------+------------------+-------------------------+---------------------------+-----------------+--------+-----+-------------+-----------+-------------+--------------+------------+\n",
      "|IdTipoBeneficio_T|IdAreaDeServicio_T|IdCondicionDePagoCopago_T|IdCondicionDePagoCoseguro_T|IdNivelServicio_T|IdPlan_T|Fecha|IdProveedor_T|valorCopago|valorCoseguro|cantidadLimite|FormatoFecha|\n",
      "+-----------------+------------------+-------------------------+---------------------------+-----------------+--------+-----+-------------+-----------+-------------+--------------+------------+\n",
      "+-----------------+------------------+-------------------------+---------------------------+-----------------+--------+-----+-------------+-----------+-------------+--------------+------------+\n",
      "\n"
     ]
    }
   ],
   "source": [
    "# Verificar si existen valores no numéricos o negativos en valorCopago y valorCoseguro\n",
    "valores_fuera_rango = benefits.filter(\n",
    "    (col(\"valorCopago\") < 0) | (col(\"valorCoseguro\") < 0)\n",
    ")\n",
    "\n",
    "# Contar valores fuera de rango y mostrar los primeros registros para revisión\n",
    "print(\"Cantidad de registros con valores fuera de rango:\")\n",
    "print(valores_fuera_rango.count())\n",
    "valores_fuera_rango.show()\n"
   ]
  },
  {
   "cell_type": "markdown",
   "id": "c3a47e07-3129-4cff-baa9-a7e8e3f98e2d",
   "metadata": {},
   "source": [
    "No existen valores anormales y fueran del rango que no permitan realizar los calculos de mínimos, máximos y diferencias porcentuales. "
   ]
  },
  {
   "cell_type": "markdown",
   "id": "4c610697-8790-46ba-b78a-b1ccda98df9e",
   "metadata": {},
   "source": [
    "##### Verificar la Estructura y Rango de Fechas"
   ]
  },
  {
   "cell_type": "code",
   "execution_count": 111,
   "id": "a415fba8-d16c-46dc-aefe-e541bd331778",
   "metadata": {},
   "outputs": [
    {
     "name": "stdout",
     "output_type": "stream",
     "text": [
      "Cantidad de registros con fechas inválidas:\n",
      "2056\n",
      "+-----------------+------------------+-------------------------+---------------------------+-----------------+-----------------+-----+-------------+-----------+-------------+--------------+------------+\n",
      "|IdTipoBeneficio_T|IdAreaDeServicio_T|IdCondicionDePagoCopago_T|IdCondicionDePagoCoseguro_T|IdNivelServicio_T|         IdPlan_T|Fecha|IdProveedor_T|valorCopago|valorCoseguro|cantidadLimite|FormatoFecha|\n",
      "+-----------------+------------------+-------------------------+---------------------------+-----------------+-----------------+-----+-------------+-----------+-------------+--------------+------------+\n",
      "|              255|          30292017|                      238|                         45|                2|29418TX0140002-04| null|        29418|          0|            0|          null| Dec 31,2017|\n",
      "|               15|         103882017|                      238|                         45|                1|91762NJ0070093-00| null|        91762|          0|            0|          null| Dec 31,2017|\n",
      "|              900|          98012018|                      238|                         36|                1|89942GA0060004-01| null|        89942|         50|            0|          null| Dec 31,2018|\n",
      "|              565|           5002017|                      238|                         45|                2|14002TN0190070-00| null|        14002|          0|            0|          null| Dec 31,2017|\n",
      "|              190|          32042017|                      238|                         45|                1|29698MI0540001-00| null|        29698|          0|            0|          null| Dec 31,2017|\n",
      "|              820|          68102018|                      238|                         45|                1|54192IN0010010-00| null|        54192|          0|            0|          null| Dec 31,2018|\n",
      "|              165|          38572017|                      238|                         45|                2|33602TX0770087-00| null|        33602|          0|            0|          null| Dec 31,2017|\n",
      "|             1035|          58722018|                       34|                         45|                3|41921VA0020003-03| null|        41921|          0|          100|          null| Dec 31,2018|\n",
      "|              795|          32202017|                       34|                         27|                1|29698MI0540001-00| null|        29698|          0|           30|            30| Dec 31,2017|\n",
      "|              775|          75632018|                      238|                         45|                2|60536SD0020029-02| null|        60536|          0|            0|          null| Dec 31,2018|\n",
      "|             1030|          99472017|                      238|                         45|                1|91450AZ0080035-02| null|        91450|          0|            0|          null| Dec 31,2017|\n",
      "|             1030|          82572018|                       34|                         45|                3|67243LA0090009-03| null|        67243|          0|          100|          null| Dec 31,2018|\n",
      "|              565|          82522018|                      238|                         45|                2|67243LA0090007-06| null|        67243|          0|            0|             4| Dec 31,2018|\n",
      "|              415|          13952018|                       34|                         27|                3|20129IL0310123-01| null|        20129|          0|           50|          null| Dec 31,2018|\n",
      "|              795|          38562017|                       34|                         27|                1|33602TX0770087-00| null|        33602|          0|           40|          null| Dec 31,2017|\n",
      "|               80|          34282018|                      238|                         45|                1|30751MT0650009-00| null|        30751|          0|            0|          null| Dec 31,2018|\n",
      "|               15|          63782018|                      238|                         45|                3|45845OH0030001-02| null|        45845|          0|            0|          null| Dec 31,2018|\n",
      "|               30|          45362018|                       34|                         27|                1|36239KY1140035-06| null|        36239|          0|           10|          null| Dec 31,2018|\n",
      "|             1015|          13742018|                       34|                         27|                3|20129IL0310123-01| null|        20129|          0|           50|          null| Dec 31,2018|\n",
      "|              825|         105752018|                       51|                         36|                1|91762NJ0070093-06| null|        91762|          0|            0|          null| Dec 31,2018|\n",
      "+-----------------+------------------+-------------------------+---------------------------+-----------------+-----------------+-----+-------------+-----------+-------------+--------------+------------+\n",
      "only showing top 20 rows\n",
      "\n",
      "+----------+----------+\n",
      "|Año mínimo|Año máximo|\n",
      "+----------+----------+\n",
      "|      1920|      2018|\n",
      "+----------+----------+\n",
      "\n"
     ]
    }
   ],
   "source": [
    "from pyspark.sql.functions import to_date, year\n",
    "\n",
    "# Convertir la columna de fecha a un formato de fecha, suponiendo que la columna de fecha se llama \"Fecha\"\n",
    "benefits = benefits.withColumn(\"Fecha\", to_date(col(\"Fecha\"), \"yyyy-MM-dd\"))\n",
    "\n",
    "# Verificar si hay fechas nulas después de la conversión (fechas en formato incorrecto se convertirán a nulo)\n",
    "fechas_nulas = benefits.filter(col(\"Fecha\").isNull())\n",
    "print(\"Cantidad de registros con fechas inválidas:\")\n",
    "print(fechas_nulas.count())\n",
    "fechas_nulas.show()\n",
    "\n",
    "# Verificar el rango de fechas, mostrando el año mínimo y máximo\n",
    "benefits.select(year(\"Fecha\").alias(\"Año\")).agg(\n",
    "    min(\"Año\").alias(\"Año mínimo\"),\n",
    "    max(\"Año\").alias(\"Año máximo\")\n",
    ").show()\n"
   ]
  },
  {
   "cell_type": "markdown",
   "id": "d771ece3-ee08-40a6-8a88-f53502cfc923",
   "metadata": {},
   "source": [
    "Para realizar el analisis de con el campo de fecha se debe:\n",
    "1. Normalizar la fecha con solo yyyy-MM-dd\n",
    "2. Existen 2056 registros que no tienen fecha y que deben ser validados para el analisis y si pueden ser imputados o se pueden traer de otras tablas. \n",
    "3. Se deben validar los registros que aparecen con fecha 1920 ya que no parecen estar acorde a lo reportado por el negocio. \n"
   ]
  },
  {
   "cell_type": "markdown",
   "id": "b834d175-c583-4922-ac4e-05a295d5ef74",
   "metadata": {},
   "source": [
    "Recomendaciones:\n",
    "1. Examinar el comportamiento desleal de los proveedores en el tiempo es relevante, sin embargo se recomienda validar el comportamiento por meses para identificar si hay temporadas en los que este comportamiento sea más recurrente para poder tomar medidas. \n",
    "2. Se recomienda identificar y segmentar por tipo de proveedores para identificar si hay un grupo especifico que presente los comportamiento desleales. Así mismo, hacer el mismo ejercicio para identificar proveedores con buenas practicas para implementarlos en los que no cumplen. \n",
    "3. Identificar si algun tipo de beneficio presenta en mayor medida practicas desleales \n",
    "4. Evaluar e identificar el impacto de eliminar a los proveedores desleales de los planes de beneficios.\n",
    "5. Se debe tener la información completa de IdTipoBeneficio_T antes de empezar con el analisis, o traer algun otro campo que nos permita hacer el analisis por tipo de beneficio. \n",
    "6. Se recomienda construir un modelo predictivo que nos permita identificar que proveedores tienen mayor propensión a ser desleales basados en los comportamientos historicos. "
   ]
  },
  {
   "cell_type": "markdown",
   "id": "493c1dcf-348f-4ecc-8ad1-8559efc651d9",
   "metadata": {},
   "source": [
    "### 2. Analisis sobre Cobertura de planes"
   ]
  },
  {
   "cell_type": "markdown",
   "id": "5d4e5bfb-8ad4-4989-99cd-cd1c5c45ee2d",
   "metadata": {},
   "source": [
    "##### 2.a: Dado un rango de años, mostrar el nivel de cobertura de los planes con respecto a las áreas de servicio\n",
    "##### 2.b ¿Se ha logrado una cobertura total de los proveedores, cubriendo con sus planes TODAS las áreas de servicio?\n",
    "##### 2.c: ¿Han existido áreas de servicios que sean cubiertas, a nivel de planes, por menos de dos proveedores?\""
   ]
  },
  {
   "cell_type": "markdown",
   "id": "f72d8b69-951a-4d3d-b454-fc73d10e6774",
   "metadata": {},
   "source": [
    "1. Para este analísis se tienen en cuenta las variables de \"IdAreaDeServicio_T\", \"IdPlan_T\", \"IdProveedor_T\", \"Fecha\" para el mismo beneficio\n",
    "2. Variables opciones \"valorCopago\" \"valorCoseguro\" para el mismo beneficio."
   ]
  },
  {
   "cell_type": "markdown",
   "id": "7c7f58d2-dd9a-4b42-922f-1da5d3f444c2",
   "metadata": {},
   "source": [
    "#####  Verificar Datos Completos en las Variables Clave"
   ]
  },
  {
   "cell_type": "code",
   "execution_count": 116,
   "id": "546b29ac-f1d7-4110-8b92-972d3f60347c",
   "metadata": {},
   "outputs": [
    {
     "name": "stdout",
     "output_type": "stream",
     "text": [
      "+------------------+--------+-------------+-----+\n",
      "|IdAreaDeServicio_T|IdPlan_T|IdProveedor_T|Fecha|\n",
      "+------------------+--------+-------------+-----+\n",
      "|              2041|       0|            0| 2056|\n",
      "+------------------+--------+-------------+-----+\n",
      "\n"
     ]
    }
   ],
   "source": [
    "from pyspark.sql.functions import col, sum\n",
    "\n",
    "# Lista de columnas clave para validar\n",
    "columnas_clave = [\"IdAreaDeServicio_T\", \"IdPlan_T\", \"IdProveedor_T\", \"Fecha\"]\n",
    "\n",
    "# Contar valores nulos en cada columna\n",
    "valores_nulos = benefits.select(\n",
    "    [sum(col(c).isNull().cast(\"int\")).alias(c) for c in columnas_clave]\n",
    ")\n",
    "\n",
    "# Mostrar la cantidad de valores nulos en cada columna clave\n",
    "valores_nulos.show()\n"
   ]
  },
  {
   "cell_type": "markdown",
   "id": "c3d817d8-28dd-474b-a721-0a757393f223",
   "metadata": {},
   "source": [
    "Para este analisis se requiere que IdAreaDeServicio_T y Fecha tengan completitud en los datos por lo que hay que limpiarlo, imputarlos o traerlos de otra base para poder hacer un analisis de la cobartura de los planes vs las áreas de servicio. "
   ]
  },
  {
   "cell_type": "code",
   "execution_count": 117,
   "id": "f54f6caf-a69b-4b1b-bcd1-ef1bb71b35da",
   "metadata": {},
   "outputs": [
    {
     "name": "stdout",
     "output_type": "stream",
     "text": [
      "+------------------+---------------+\n",
      "|IdAreaDeServicio_T|Cantidad_Planes|\n",
      "+------------------+---------------+\n",
      "+------------------+---------------+\n",
      "\n",
      "¿Se ha logrado una cobertura total de los proveedores? Sí\n"
     ]
    }
   ],
   "source": [
    "# Contar la cantidad de áreas de servicio y la cantidad de proveedores únicos\n",
    "total_areas = benefits.select(\"IdAreaDeServicio_T\").distinct().count()\n",
    "total_proveedores = benefits.select(\"IdProveedor_T\").distinct().count()\n",
    "\n",
    "# Obtener las áreas de servicio que no tienen planes\n",
    "areas_sin_planes = benefits.groupBy(\"IdAreaDeServicio_T\").agg(\n",
    "    count(\"IdPlan_T\").alias(\"Cantidad_Planes\")\n",
    ").filter(col(\"Cantidad_Planes\") == 0)\n",
    "\n",
    "# Mostrar áreas de servicio sin planes\n",
    "areas_sin_planes.show()\n",
    "\n",
    "# Verificar si hay áreas sin planes\n",
    "cobertura_total = areas_sin_planes.count() == 0\n",
    "print(f\"¿Se ha logrado una cobertura total de los proveedores? {'Sí' if cobertura_total else 'No'}\")\n"
   ]
  },
  {
   "cell_type": "markdown",
   "id": "56a1c3ae-d3f3-4ff3-9f84-779759c845f1",
   "metadata": {},
   "source": [
    "Para este analisis se tiene una completitud del 100% de la información para realizar el analisis de area de servicio vs cantidad de proveedores "
   ]
  },
  {
   "cell_type": "code",
   "execution_count": 120,
   "id": "2194f5f6-2028-47f2-8bb3-3a6554cb526e",
   "metadata": {},
   "outputs": [
    {
     "name": "stdout",
     "output_type": "stream",
     "text": [
      "Cantidad de valores nulos en columnas clave:\n",
      "+------------------+-------------+\n",
      "|IdAreaDeServicio_T|IdProveedor_T|\n",
      "+------------------+-------------+\n",
      "|              2041|            0|\n",
      "+------------------+-------------+\n",
      "\n",
      "Total de áreas de servicio: 6497\n",
      "Total de proveedores: 125\n",
      "Áreas de servicio cubiertas por menos de dos proveedores:\n",
      "+------------------+--------------------+\n",
      "|IdAreaDeServicio_T|Cantidad_Proveedores|\n",
      "+------------------+--------------------+\n",
      "|          63022018|                   1|\n",
      "|          35022018|                   1|\n",
      "|         103212018|                   1|\n",
      "|          47882017|                   1|\n",
      "|          35452018|                   1|\n",
      "|         109832017|                   1|\n",
      "|         137594035|                   1|\n",
      "|          21482018|                   1|\n",
      "|          22082018|                   1|\n",
      "|         109312017|                   1|\n",
      "|         175124036|                   1|\n",
      "|          27112018|                   1|\n",
      "|          80582018|                   1|\n",
      "|          67682018|                   1|\n",
      "|         231064035|                   1|\n",
      "|          52172017|                   1|\n",
      "|          35532018|                   1|\n",
      "|          96172017|                   1|\n",
      "|          36982017|                   1|\n",
      "|         105142018|                   1|\n",
      "+------------------+--------------------+\n",
      "only showing top 20 rows\n",
      "\n",
      "\n",
      "Cantidad de áreas de servicio cubiertas por menos de dos proveedores: 6496\n"
     ]
    }
   ],
   "source": [
    "from pyspark.sql.functions import col, count, countDistinct, sum\n",
    "\n",
    "# 1. Validar la completitud de las variables clave\n",
    "columnas_clave = [\"IdAreaDeServicio_T\", \"IdProveedor_T\"]\n",
    "\n",
    "# Contar valores nulos en cada columna clave\n",
    "valores_nulos = benefits.select(\n",
    "    [sum(col(c).isNull().cast(\"int\")).alias(c) for c in columnas_clave]\n",
    ")\n",
    "\n",
    "# Mostrar la cantidad de valores nulos en cada columna clave\n",
    "print(\"Cantidad de valores nulos en columnas clave:\")\n",
    "valores_nulos.show()\n",
    "\n",
    "# 2. Verificar que las áreas de servicio y proveedores tengan datos válidos\n",
    "# Contar el total de áreas de servicio\n",
    "total_areas_servicio = benefits.select(\"IdAreaDeServicio_T\").distinct().count()\n",
    "print(f\"Total de áreas de servicio: {total_areas_servicio}\")\n",
    "\n",
    "# Contar el total de proveedores únicos\n",
    "total_proveedores = benefits.select(\"IdProveedor_T\").distinct().count()\n",
    "print(f\"Total de proveedores: {total_proveedores}\")\n",
    "\n",
    "# 3. Contar la cantidad de proveedores que cubren cada área de servicio\n",
    "cobertura_proveedores = benefits.groupBy(\"IdAreaDeServicio_T\").agg(\n",
    "    countDistinct(\"IdProveedor_T\").alias(\"Cantidad_Proveedores\")\n",
    ")\n",
    "\n",
    "# 4. Filtrar áreas de servicio cubiertas por menos de dos proveedores\n",
    "areas_bajo_cobertura = cobertura_proveedores.filter(col(\"Cantidad_Proveedores\") < 2)\n",
    "\n",
    "# Contar áreas de servicio con menos de dos proveedores\n",
    "cantidad_areas_bajo_cobertura = areas_bajo_cobertura.count()\n",
    "\n",
    "# 5. Mostrar áreas de servicio con menos de dos proveedores\n",
    "print(\"Áreas de servicio cubiertas por menos de dos proveedores:\")\n",
    "areas_bajo_cobertura.show()\n",
    "\n",
    "# 6. Mostrar el resultado de los totales\n",
    "print(f\"\\nCantidad de áreas de servicio cubiertas por menos de dos proveedores: {cantidad_areas_bajo_cobertura}\")\n"
   ]
  },
  {
   "cell_type": "markdown",
   "id": "51cf7d97-da2a-4e42-acf3-f9d73c1bac2a",
   "metadata": {},
   "source": [
    "1. Se puede realizar el analisis de areas de servicio con menos de 2 proveedores, sin embargo se debe tener completitud en los datos por lo que hay que limpiarlo, imputarlos o traerlos de otra base"
   ]
  },
  {
   "cell_type": "markdown",
   "id": "68f61a4e-6045-4620-8f3a-faf30d7e2937",
   "metadata": {},
   "source": [
    "Recomendaciones:\n",
    "1. Examinar el comportamiento de la cobertura de planes es relevante, sin embargo se recomienda antes de iniciar el analisis generar la completitud de datos de IdAreaDeServicio_T, Fecha.\n",
    "2. Analizar cuantos proveedores cubren cada una de las áreas de servicio para identificar si se tienen zonas con mucha densidad y otras con menos con el fin de optimizar las áreas por tipo de beneficio. \n",
    "3. Se porpone profundizar en las áreas de servicio con baja covertura vs la cantidad de proveedores que se tienen para validar si se recomiendan buscar nuevos proveedores para esas zonas o se recomienda cerrarlas. \n",
    "4. Validar si pueden existir sesgos en la recolección de los datos por las areas identificadas. \n",
    "5. Generar un modelo que muestre las zonas que son consideraras en riesgo por no tener la cantidad de proveedores requeridos y que pone en riesgo la cobertura de beneficios. "
   ]
  },
  {
   "cell_type": "code",
   "execution_count": null,
   "id": "e8abb322-8bef-42d2-af02-da818a5de2bc",
   "metadata": {},
   "outputs": [],
   "source": []
  },
  {
   "cell_type": "code",
   "execution_count": 123,
   "id": "54a56674-176d-4360-90ed-fbe8e1892697",
   "metadata": {},
   "outputs": [],
   "source": [
    "def plot_numeric_box_plots(spark_df, sample_fraction=0.1):\n",
    "    \"\"\"\n",
    "    Genera diagramas de caja para todas las columnas numéricas de un DataFrame de Spark.\n",
    "\n",
    "    Parámetros:\n",
    "    - spark_df: DataFrame de Spark.\n",
    "    - sample_fraction: Fracción de datos a muestrear (valor entre 0 y 1). Por defecto es 1.0 (todos los datos).\n",
    "    Retorna:\n",
    "    - None. La función muestra los diagramas de caja.\n",
    "    \"\"\"\n",
    "    # Identificar las columnas numéricas\n",
    "    numeric_columns = [field.name for field in spark_df.schema.fields if isinstance(field.dataType, NumericType)]\n",
    "\n",
    "    if not numeric_columns:\n",
    "        print(\"El DataFrame no contiene columnas numéricas.\")\n",
    "        return\n",
    "\n",
    "    if sample_fraction < 1.0:\n",
    "        spark_df = spark_df.sample(fraction=sample_fraction)\n",
    "\n",
    "    spark_numeric_df = spark_df.select(*numeric_columns)\n",
    "\n",
    "    pandas_df = spark_numeric_df.toPandas()\n",
    "    pandas_df = pandas_df.dropna()\n",
    "\n",
    "    sns.set(style=\"whitegrid\")\n",
    "\n",
    "    num_columns = len(numeric_columns)\n",
    "    fig, axes = plt.subplots(nrows=1, ncols=num_columns, figsize=(5 * num_columns, 6))\n",
    "\n",
    "    if num_columns == 1:\n",
    "        axes = [axes]\n",
    "\n",
    "    for ax, column in zip(axes, numeric_columns):\n",
    "        sns.boxplot(y=pandas_df[column], ax=ax)\n",
    "        ax.set_title(f'Diagrama de caja de {column}')\n",
    "        ax.set_ylabel(column)\n",
    "        ax.set_xlabel('')\n",
    "\n",
    "    plt.tight_layout()\n",
    "    plt.show()\n"
   ]
  },
  {
   "cell_type": "code",
   "execution_count": 124,
   "id": "c5ae0b82-97fa-405b-ab72-6c05df003c8e",
   "metadata": {},
   "outputs": [
    {
     "ename": "AttributeError",
     "evalue": "'str' object has no attribute 'schema'",
     "output_type": "error",
     "traceback": [
      "\u001b[1;31m---------------------------------------------------------------------------\u001b[0m",
      "\u001b[1;31mAttributeError\u001b[0m                            Traceback (most recent call last)",
      "\u001b[1;32m~\\AppData\\Local\\Temp\\ipykernel_4488\\2308319422.py\u001b[0m in \u001b[0;36m<module>\u001b[1;34m\u001b[0m\n\u001b[1;32m----> 1\u001b[1;33m \u001b[0mplot_numeric_box_plots\u001b[0m \u001b[1;33m(\u001b[0m\u001b[0msql_benefit_planes\u001b[0m\u001b[1;33m)\u001b[0m\u001b[1;33m\u001b[0m\u001b[1;33m\u001b[0m\u001b[0m\n\u001b[0m",
      "\u001b[1;32m~\\AppData\\Local\\Temp\\ipykernel_4488\\2199839575.py\u001b[0m in \u001b[0;36mplot_numeric_box_plots\u001b[1;34m(spark_df, sample_fraction)\u001b[0m\n\u001b[0;32m     10\u001b[0m     \"\"\"\n\u001b[0;32m     11\u001b[0m     \u001b[1;31m# Identificar las columnas numéricas\u001b[0m\u001b[1;33m\u001b[0m\u001b[1;33m\u001b[0m\u001b[1;33m\u001b[0m\u001b[0m\n\u001b[1;32m---> 12\u001b[1;33m     \u001b[0mnumeric_columns\u001b[0m \u001b[1;33m=\u001b[0m \u001b[1;33m[\u001b[0m\u001b[0mfield\u001b[0m\u001b[1;33m.\u001b[0m\u001b[0mname\u001b[0m \u001b[1;32mfor\u001b[0m \u001b[0mfield\u001b[0m \u001b[1;32min\u001b[0m \u001b[0mspark_df\u001b[0m\u001b[1;33m.\u001b[0m\u001b[0mschema\u001b[0m\u001b[1;33m.\u001b[0m\u001b[0mfields\u001b[0m \u001b[1;32mif\u001b[0m \u001b[0misinstance\u001b[0m\u001b[1;33m(\u001b[0m\u001b[0mfield\u001b[0m\u001b[1;33m.\u001b[0m\u001b[0mdataType\u001b[0m\u001b[1;33m,\u001b[0m \u001b[0mNumericType\u001b[0m\u001b[1;33m)\u001b[0m\u001b[1;33m]\u001b[0m\u001b[1;33m\u001b[0m\u001b[1;33m\u001b[0m\u001b[0m\n\u001b[0m\u001b[0;32m     13\u001b[0m \u001b[1;33m\u001b[0m\u001b[0m\n\u001b[0;32m     14\u001b[0m     \u001b[1;32mif\u001b[0m \u001b[1;32mnot\u001b[0m \u001b[0mnumeric_columns\u001b[0m\u001b[1;33m:\u001b[0m\u001b[1;33m\u001b[0m\u001b[1;33m\u001b[0m\u001b[0m\n",
      "\u001b[1;31mAttributeError\u001b[0m: 'str' object has no attribute 'schema'"
     ]
    }
   ],
   "source": [
    "plot_numeric_box_plots (sql_benefit_planes)"
   ]
  },
  {
   "cell_type": "code",
   "execution_count": null,
   "id": "8bf2b9b0-729e-48ee-a573-f1bbc47afd8e",
   "metadata": {},
   "outputs": [],
   "source": []
  },
  {
   "cell_type": "code",
   "execution_count": null,
   "id": "aef96be4-2900-4782-9add-89ce040d5d6a",
   "metadata": {},
   "outputs": [],
   "source": []
  },
  {
   "cell_type": "code",
   "execution_count": null,
   "id": "86d88d7f-1dfe-43ef-be20-9435fb69ad0a",
   "metadata": {},
   "outputs": [],
   "source": []
  },
  {
   "cell_type": "code",
   "execution_count": null,
   "id": "7966ac05-8eed-465b-9d3c-38ee9f181090",
   "metadata": {},
   "outputs": [],
   "source": []
  },
  {
   "cell_type": "markdown",
   "id": "2e04cd600e02d9ff",
   "metadata": {},
   "source": [
    "### Conclusiones\n",
    "\n",
    "Las conclusiones se van consolidad en un solo documento word.\n"
   ]
  }
 ],
 "metadata": {
  "kernelspec": {
   "display_name": "Python 3 (ipykernel)",
   "language": "python",
   "name": "python3"
  },
  "language_info": {
   "codemirror_mode": {
    "name": "ipython",
    "version": 3
   },
   "file_extension": ".py",
   "mimetype": "text/x-python",
   "name": "python",
   "nbconvert_exporter": "python",
   "pygments_lexer": "ipython3",
   "version": "3.7.13"
  }
 },
 "nbformat": 4,
 "nbformat_minor": 5
}
