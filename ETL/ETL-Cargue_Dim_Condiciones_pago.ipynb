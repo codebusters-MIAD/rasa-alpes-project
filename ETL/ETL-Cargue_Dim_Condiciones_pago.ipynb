{
 "cells": [
  {
   "cell_type": "markdown",
   "metadata": {
    "id": "IcY9y56n86vn"
   },
   "source": [
    "# Configuración Inicial\n",
    "Métodos un utils en común en los notebooks"
   ]
  },
  {
   "cell_type": "code",
   "metadata": {
    "ExecuteTime": {
     "end_time": "2024-11-18T23:03:15.065758Z",
     "start_time": "2024-11-18T23:03:14.958157Z"
    }
   },
   "source": [
    "# Imports \n",
    "from pyspark.sql.types import IntegerType, StringType\n",
    "from pyspark.sql import functions as f, SparkSession\n",
    "from pyspark import SparkContext, SparkConf, SQLContext\n",
    "from pyspark.sql.functions import when, col\n"
   ],
   "outputs": [],
   "execution_count": 1
  },
  {
   "cell_type": "code",
   "metadata": {
    "ExecuteTime": {
     "end_time": "2024-11-18T23:03:15.085883Z",
     "start_time": "2024-11-18T23:03:15.079660Z"
    }
   },
   "source": [
    "class MySQLConnector:\n",
    "    def __init__(self, spark: SparkSession, connection_properties: dict, url: str):\n",
    "        self.spark = spark\n",
    "        self.properties = connection_properties\n",
    "        self.url = url\n",
    "\n",
    "    def get_dataframe(self, sql_query: str):        \n",
    "        df = self.spark.read.jdbc(\n",
    "            url=self.url,\n",
    "            table=sql_query,\n",
    "            properties=self.properties\n",
    "        )\n",
    "        return df\n",
    "    \n",
    "    def save_db(self, df, tabla):\n",
    "        df.write.jdbc(\n",
    "            url=self.url,\n",
    "            table=tabla,\n",
    "            mode='append',\n",
    "            properties=self.properties\n",
    "        )\n",
    "        \n",
    "def create_spark_session(path_jar_driver):    \n",
    "    conf = SparkConf().set('spark.driver.extraClassPath', path_jar_driver)\n",
    "    spark_context = SparkContext(conf=conf)\n",
    "    sql_context = SQLContext(spark_context)\n",
    "    return sql_context.sparkSession    \n",
    "\n",
    "def get_dataframe_from_csv(_PATH, _sep):\n",
    "    return spark.read.load(_PATH, format=\"csv\", sep=_sep, inferSchema=\"true\", header='true')"
   ],
   "outputs": [],
   "execution_count": 2
  },
  {
   "cell_type": "code",
   "metadata": {
    "id": "os1iJYmu86vt",
    "ExecuteTime": {
     "end_time": "2024-11-18T23:10:31.989369Z",
     "start_time": "2024-11-18T23:10:31.986077Z"
    }
   },
   "source": [
    "db_user = 'Estudiante_65_202415'\n",
    "db_psswd = 'Estudiante_202010409'\n",
    "\n",
    "connection_properties = {\n",
    "    \"user\": db_user,\n",
    "    \"password\": db_psswd,\n",
    "    \"driver\": \"com.mysql.cj.jdbc.Driver\"\n",
    "}\n",
    "\n",
    "source_db_string_connection = 'jdbc:mysql://157.253.236.120:8080/RaSaTransaccional_ETL'\n",
    "destination_db_string_connection = f'jdbc:mysql://157.253.236.120:8080/{db_user}'\n",
    "\n",
    "# jdbc:mysql://157.253.236.120:8080/WWImporters_DWH_tablero\n",
    "\n",
    "# Driver de conexion\n",
    "# LINUX\n",
    "path_jar_driver = '/opt/mysql/lib/mysql-connector-java-8.0.28.jar'\n",
    "# WINDOWS\n",
    "#path_jar_driver = 'C:\\Users\\Rodolfo\\OneDrive\\Maestria MIAD\\Semestre 1\\Ciclo 2\\Modelado de Datos y ETL\\Semana 2\\mysql-connector-j-9.0.0.jar'\n",
    "# WINDOWS como esta en la VM \n",
    "#path_jar_driver = 'C:\\Program Files (x86)\\MySQL\\Connector J 8.0\\mysql-connector-java-8.0.28.jar'"
   ],
   "outputs": [],
   "execution_count": 15
  },
  {
   "cell_type": "code",
   "metadata": {
    "ExecuteTime": {
     "end_time": "2024-11-18T23:03:24.132606Z",
     "start_time": "2024-11-18T23:03:20.372825Z"
    }
   },
   "source": [
    "spark = create_spark_session(path_jar_driver)"
   ],
   "outputs": [
    {
     "name": "stderr",
     "output_type": "stream",
     "text": [
      "24/11/18 18:03:22 WARN Utils: Your hostname, willp resolves to a loopback address: 127.0.1.1; using 192.168.0.6 instead (on interface enp8s0)\n",
      "24/11/18 18:03:22 WARN Utils: Set SPARK_LOCAL_IP if you need to bind to another address\n",
      "Setting default log level to \"WARN\".\n",
      "To adjust logging level use sc.setLogLevel(newLevel). For SparkR, use setLogLevel(newLevel).\n",
      "24/11/18 18:03:22 WARN NativeCodeLoader: Unable to load native-hadoop library for your platform... using builtin-java classes where applicable\n",
      "/home/willp/anaconda3/lib/python3.11/site-packages/pyspark/sql/context.py:112: FutureWarning: Deprecated in 3.0.0. Use SparkSession.builder.getOrCreate() instead.\n",
      "  warnings.warn(\n"
     ]
    }
   ],
   "execution_count": 4
  },
  {
   "cell_type": "code",
   "metadata": {
    "ExecuteTime": {
     "end_time": "2024-11-18T23:10:39.495836Z",
     "start_time": "2024-11-18T23:10:39.493210Z"
    }
   },
   "source": [
    "conn_orig = MySQLConnector(spark=spark, connection_properties=connection_properties, url=source_db_string_connection)\n",
    "conn_dest = MySQLConnector(spark=spark, connection_properties=connection_properties, url=destination_db_string_connection)"
   ],
   "outputs": [],
   "execution_count": 16
  },
  {
   "cell_type": "markdown",
   "metadata": {
    "id": "LqQVz5s686vq"
   },
   "source": "# Dimensión Condiciones de Pago"
  },
  {
   "cell_type": "markdown",
   "metadata": {
    "id": "UpOSEfhX86vs"
   },
   "source": [
    "![Modelo Movimientos](./images/CondPago.png)"
   ]
  },
  {
   "cell_type": "markdown",
   "metadata": {},
   "source": [
    "### Extraction"
   ]
  },
  {
   "cell_type": "code",
   "metadata": {
    "ExecuteTime": {
     "end_time": "2024-11-18T23:11:05.754499Z",
     "start_time": "2024-11-18T23:11:05.538920Z"
    }
   },
   "source": [
    "sql_Rs_CondicionDePago = '''\n",
    "(\n",
    "SELECT DISTINCT \n",
    "    IdCondicionesDePago_T AS IdCondicionDePago_T, \n",
    "    Descripcion, \n",
    "    Tipo \n",
    "FROM FuenteCondicionesDePago_ETL\n",
    "ORDER BY IdCondicionDePago_T\n",
    ") AS CondicionDePago\n",
    "'''\n",
    "\n",
    "df_Rs_CondicionDePago = conn_orig.get_dataframe(sql_Rs_CondicionDePago)\n",
    "df_Rs_CondicionDePago = df_Rs_CondicionDePago \\\n",
    "    .withColumn('IdCondicionDePago_T', col('IdCondicionDePago_T').cast(IntegerType())) \\\n",
    "    .withColumn('Descripcion', col('Descripcion').cast(StringType())) \\\n",
    "    .withColumn('Tipo', col('Tipo').cast(StringType())) \\\n",
    "    .orderBy(\"IdCondicionDePago_T\")\n"
   ],
   "outputs": [],
   "execution_count": 17
  },
  {
   "cell_type": "code",
   "metadata": {
    "ExecuteTime": {
     "end_time": "2024-11-18T23:11:08.872006Z",
     "start_time": "2024-11-18T23:11:08.769428Z"
    }
   },
   "source": [
    "df_Rs_CondicionDePago.show(40)"
   ],
   "outputs": [
    {
     "name": "stdout",
     "output_type": "stream",
     "text": [
      "+-------------------+--------------------+-----------+\n",
      "|IdCondicionDePago_T|         Descripcion|       Tipo|\n",
      "+-------------------+--------------------+-----------+\n",
      "|                  9|           No Charge|Coseguridad|\n",
      "|                 17|Copay per Day aft...|   Copagado|\n",
      "|                 18|No Charge after d...|   Coseguro|\n",
      "|                 27|Coinsurance after...|   Coseguro|\n",
      "|                 34|      Not Applicable|   Copagado|\n",
      "|                 36|      Not Applicable|   Coseguro|\n",
      "|                 45|         Coinsurance|   Coseguro|\n",
      "|                 51|           No Charge|     Copago|\n",
      "|                 68|Copay per Stay af...|     Copago|\n",
      "|                 85|Copay per Day bef...|     Copago|\n",
      "|                102|Copay per Stay be...|     Copago|\n",
      "|                119|Copay per Day wit...|     Copago|\n",
      "|                136|Copay per Stay wi...|   Copagado|\n",
      "|                153|Copay after deduc...|     Copago|\n",
      "|                170|Copay before dedu...|     Copago|\n",
      "|                187|Copay with deduct...|     Copago|\n",
      "|                204|       Copay per Day|     Copago|\n",
      "|                207|No Charge after d...|     Copago|\n",
      "|                221|      Copay per Stay|     Copago|\n",
      "|                238|               Copay|     Copago|\n",
      "+-------------------+--------------------+-----------+\n",
      "\n"
     ]
    }
   ],
   "execution_count": 18
  },
  {
   "cell_type": "markdown",
   "metadata": {},
   "source": [
    "## Transformation"
   ]
  },
  {
   "cell_type": "markdown",
   "metadata": {},
   "source": "Realizar las transformaciones en la variable \"Tipo\" para que únicamente que valores Copago y Coseguro "
  },
  {
   "cell_type": "code",
   "metadata": {
    "ExecuteTime": {
     "end_time": "2024-11-18T23:11:10.832677Z",
     "start_time": "2024-11-18T23:11:10.715886Z"
    }
   },
   "source": [
    "# Realizar las transformaciones en la columna \"Tipo\"\n",
    "df_Rs_CondicionDePago = df_Rs_CondicionDePago.withColumn(\n",
    "    \"Tipo\",\n",
    "    when(col(\"Tipo\") == \"Copagado\", \"Copago\")\n",
    "    .when(col(\"Tipo\") == \"Coseguridad\", \"Coseguro\")\n",
    "    .otherwise(col(\"Tipo\"))\n",
    ")\n",
    "\n",
    "# Mostrar los resultados para verificar las transformaciones\n",
    "df_Rs_CondicionDePago.show(40)"
   ],
   "outputs": [
    {
     "name": "stdout",
     "output_type": "stream",
     "text": [
      "+-------------------+--------------------+--------+\n",
      "|IdCondicionDePago_T|         Descripcion|    Tipo|\n",
      "+-------------------+--------------------+--------+\n",
      "|                  9|           No Charge|Coseguro|\n",
      "|                 17|Copay per Day aft...|  Copago|\n",
      "|                 18|No Charge after d...|Coseguro|\n",
      "|                 27|Coinsurance after...|Coseguro|\n",
      "|                 34|      Not Applicable|  Copago|\n",
      "|                 36|      Not Applicable|Coseguro|\n",
      "|                 45|         Coinsurance|Coseguro|\n",
      "|                 51|           No Charge|  Copago|\n",
      "|                 68|Copay per Stay af...|  Copago|\n",
      "|                 85|Copay per Day bef...|  Copago|\n",
      "|                102|Copay per Stay be...|  Copago|\n",
      "|                119|Copay per Day wit...|  Copago|\n",
      "|                136|Copay per Stay wi...|  Copago|\n",
      "|                153|Copay after deduc...|  Copago|\n",
      "|                170|Copay before dedu...|  Copago|\n",
      "|                187|Copay with deduct...|  Copago|\n",
      "|                204|       Copay per Day|  Copago|\n",
      "|                207|No Charge after d...|  Copago|\n",
      "|                221|      Copay per Stay|  Copago|\n",
      "|                238|               Copay|  Copago|\n",
      "+-------------------+--------------------+--------+\n",
      "\n"
     ]
    }
   ],
   "execution_count": 19
  },
  {
   "cell_type": "markdown",
   "metadata": {},
   "source": "Incluir la variable de la base de datos IdCondicionDePago_DWH y organizar la estructura de la tabla"
  },
  {
   "metadata": {},
   "cell_type": "markdown",
   "source": "Adicionar comodin cuando la referencia no exista"
  },
  {
   "cell_type": "code",
   "metadata": {
    "ExecuteTime": {
     "end_time": "2024-11-18T23:11:14.211256Z",
     "start_time": "2024-11-18T23:11:13.991735Z"
    }
   },
   "source": [
    "df_Rs_CondicionDePago = df_Rs_CondicionDePago.coalesce(1).withColumn('IdCondicionDePago_DWH', f.monotonically_increasing_id() + 1)\n",
    "df_Rs_CondicionDePago.show(40)"
   ],
   "outputs": [
    {
     "name": "stdout",
     "output_type": "stream",
     "text": [
      "+-------------------+--------------------+--------+---------------------+\n",
      "|IdCondicionDePago_T|         Descripcion|    Tipo|IdCondicionDePago_DWH|\n",
      "+-------------------+--------------------+--------+---------------------+\n",
      "|                  9|           No Charge|Coseguro|                    1|\n",
      "|                 17|Copay per Day aft...|  Copago|                    2|\n",
      "|                 18|No Charge after d...|Coseguro|                    3|\n",
      "|                 27|Coinsurance after...|Coseguro|                    4|\n",
      "|                 34|      Not Applicable|  Copago|                    5|\n",
      "|                 36|      Not Applicable|Coseguro|                    6|\n",
      "|                 45|         Coinsurance|Coseguro|                    7|\n",
      "|                 51|           No Charge|  Copago|                    8|\n",
      "|                 68|Copay per Stay af...|  Copago|                    9|\n",
      "|                 85|Copay per Day bef...|  Copago|                   10|\n",
      "|                102|Copay per Stay be...|  Copago|                   11|\n",
      "|                119|Copay per Day wit...|  Copago|                   12|\n",
      "|                136|Copay per Stay wi...|  Copago|                   13|\n",
      "|                153|Copay after deduc...|  Copago|                   14|\n",
      "|                170|Copay before dedu...|  Copago|                   15|\n",
      "|                187|Copay with deduct...|  Copago|                   16|\n",
      "|                204|       Copay per Day|  Copago|                   17|\n",
      "|                207|No Charge after d...|  Copago|                   18|\n",
      "|                221|      Copay per Stay|  Copago|                   19|\n",
      "|                238|               Copay|  Copago|                   20|\n",
      "+-------------------+--------------------+--------+---------------------+\n",
      "\n"
     ]
    }
   ],
   "execution_count": 20
  },
  {
   "metadata": {
    "ExecuteTime": {
     "end_time": "2024-11-18T23:11:17.874383Z",
     "start_time": "2024-11-18T23:11:16.494628Z"
    }
   },
   "cell_type": "code",
   "source": [
    "cond_data = [(0, \"Missing\", \"Missing\", 0)]\n",
    "cond_columns = [\"IdCondicionDePago_T\", \"Descripcion\", \"Tipo\", \"IdCondicionDePago_DWH\"]\n",
    "dummy_cond_pago = spark.createDataFrame(cond_data, cond_columns)\n",
    "\n",
    "df_Rs_CondicionDePago = dummy_cond_pago.union(df_Rs_CondicionDePago)\n",
    "df_Rs_CondicionDePago.show(40)\n"
   ],
   "outputs": [
    {
     "name": "stderr",
     "output_type": "stream",
     "text": [
      "                                                                                \r"
     ]
    },
    {
     "name": "stdout",
     "output_type": "stream",
     "text": [
      "+-------------------+--------------------+--------+---------------------+\n",
      "|IdCondicionDePago_T|         Descripcion|    Tipo|IdCondicionDePago_DWH|\n",
      "+-------------------+--------------------+--------+---------------------+\n",
      "|                  0|             Missing| Missing|                    0|\n",
      "|                  9|           No Charge|Coseguro|                    1|\n",
      "|                 17|Copay per Day aft...|  Copago|                    2|\n",
      "|                 18|No Charge after d...|Coseguro|                    3|\n",
      "|                 27|Coinsurance after...|Coseguro|                    4|\n",
      "|                 34|      Not Applicable|  Copago|                    5|\n",
      "|                 36|      Not Applicable|Coseguro|                    6|\n",
      "|                 45|         Coinsurance|Coseguro|                    7|\n",
      "|                 51|           No Charge|  Copago|                    8|\n",
      "|                 68|Copay per Stay af...|  Copago|                    9|\n",
      "|                 85|Copay per Day bef...|  Copago|                   10|\n",
      "|                102|Copay per Stay be...|  Copago|                   11|\n",
      "|                119|Copay per Day wit...|  Copago|                   12|\n",
      "|                136|Copay per Stay wi...|  Copago|                   13|\n",
      "|                153|Copay after deduc...|  Copago|                   14|\n",
      "|                170|Copay before dedu...|  Copago|                   15|\n",
      "|                187|Copay with deduct...|  Copago|                   16|\n",
      "|                204|       Copay per Day|  Copago|                   17|\n",
      "|                207|No Charge after d...|  Copago|                   18|\n",
      "|                221|      Copay per Stay|  Copago|                   19|\n",
      "|                238|               Copay|  Copago|                   20|\n",
      "+-------------------+--------------------+--------+---------------------+\n",
      "\n"
     ]
    }
   ],
   "execution_count": 21
  },
  {
   "metadata": {},
   "cell_type": "markdown",
   "source": "## Load"
  },
  {
   "metadata": {
    "ExecuteTime": {
     "end_time": "2024-11-18T23:04:53.666667Z",
     "start_time": "2024-11-18T23:04:53.661826Z"
    }
   },
   "cell_type": "code",
   "source": "df_Rs_CondicionDePago.printSchema()",
   "outputs": [
    {
     "name": "stdout",
     "output_type": "stream",
     "text": [
      "root\n",
      " |-- IdCondicionDePago_T: integer (nullable = true)\n",
      " |-- Descripcion: string (nullable = true)\n",
      " |-- Tipo: string (nullable = true)\n",
      " |-- IdCondicionDePago_DWH: long (nullable = false)\n",
      "\n"
     ]
    }
   ],
   "execution_count": 10
  },
  {
   "metadata": {
    "ExecuteTime": {
     "end_time": "2024-11-18T23:11:30.105560Z",
     "start_time": "2024-11-18T23:11:30.060703Z"
    }
   },
   "cell_type": "code",
   "source": [
    "df_Rs_CondicionDePago = df_Rs_CondicionDePago \\\n",
    "    .withColumn('IdCondicionDePago_DWH', col('IdCondicionDePago_DWH').cast(IntegerType())) \\\n",
    "    .withColumn('IdCondicionDePago_T', col('IdCondicionDePago_T').cast(IntegerType())) \\\n",
    "    .withColumn('Descripcion', col('Descripcion').cast(StringType())) \\\n",
    "    .withColumn('Tipo', col('Tipo').cast(StringType())) \n",
    "df_Rs_CondicionDePago.printSchema()\n"
   ],
   "outputs": [
    {
     "name": "stdout",
     "output_type": "stream",
     "text": [
      "root\n",
      " |-- IdCondicionDePago_T: integer (nullable = true)\n",
      " |-- Descripcion: string (nullable = true)\n",
      " |-- Tipo: string (nullable = true)\n",
      " |-- IdCondicionDePago_DWH: integer (nullable = true)\n",
      "\n"
     ]
    }
   ],
   "execution_count": 22
  },
  {
   "metadata": {
    "ExecuteTime": {
     "end_time": "2024-11-18T23:12:03.455134Z",
     "start_time": "2024-11-18T23:12:02.815781Z"
    }
   },
   "cell_type": "code",
   "source": "df_Rs_CondicionDePago.count()",
   "outputs": [
    {
     "data": {
      "text/plain": [
       "21"
      ]
     },
     "execution_count": 24,
     "metadata": {},
     "output_type": "execute_result"
    }
   ],
   "execution_count": 24
  },
  {
   "cell_type": "code",
   "metadata": {
    "ExecuteTime": {
     "end_time": "2024-11-18T23:11:40.094414Z",
     "start_time": "2024-11-18T23:11:39.121711Z"
    }
   },
   "source": [
    "# Cargue de la dimension\n",
    "conn_dest.save_db(df_Rs_CondicionDePago, \"Rs_CondicionDePago\")"
   ],
   "outputs": [],
   "execution_count": 23
  },
  {
   "cell_type": "markdown",
   "metadata": {},
   "source": "# Dimensión Proveedor"
  },
  {
   "cell_type": "markdown",
   "metadata": {},
   "source": [
    "### Extraction\n",
    "Aplicando el distinct se garantiza la unicidad"
   ]
  },
  {
   "cell_type": "code",
   "metadata": {
    "ExecuteTime": {
     "end_time": "2024-11-19T00:12:09.004472Z",
     "start_time": "2024-11-19T00:12:08.927091Z"
    }
   },
   "source": [
    "sql_Rs_Proveedor = \"(SELECT DISTINCT IdProveedor_T FROM FuentePlanesBeneficio_ETL) AS Rs_Proveedor\"\n",
    "\n",
    "df_Rs_Proveedor = conn_orig.get_dataframe(sql_Rs_Proveedor)\n",
    "df_Rs_Proveedor.withColumn('IdProveedor_T', col('IdProveedor_T').cast(IntegerType()))"
   ],
   "outputs": [
    {
     "data": {
      "text/plain": [
       "DataFrame[IdProveedor_T: int]"
      ]
     },
     "execution_count": 53,
     "metadata": {},
     "output_type": "execute_result"
    }
   ],
   "execution_count": 53
  },
  {
   "cell_type": "code",
   "metadata": {
    "ExecuteTime": {
     "end_time": "2024-11-19T00:12:11.087953Z",
     "start_time": "2024-11-19T00:12:10.947438Z"
    }
   },
   "source": [
    "df_Rs_Proveedor.show()"
   ],
   "outputs": [
    {
     "name": "stdout",
     "output_type": "stream",
     "text": [
      "+-------------+\n",
      "|IdProveedor_T|\n",
      "+-------------+\n",
      "|        16842|\n",
      "|        14002|\n",
      "|        19722|\n",
      "|        81413|\n",
      "|        52697|\n",
      "|        28162|\n",
      "|        20129|\n",
      "|        40572|\n",
      "|        38166|\n",
      "|        70893|\n",
      "|        25268|\n",
      "|        36096|\n",
      "|        95185|\n",
      "|        93078|\n",
      "|        66252|\n",
      "|        27248|\n",
      "|        47840|\n",
      "|        30751|\n",
      "|        49046|\n",
      "|        48121|\n",
      "+-------------+\n",
      "only showing top 20 rows\n",
      "\n"
     ]
    }
   ],
   "execution_count": 54
  },
  {
   "metadata": {
    "ExecuteTime": {
     "end_time": "2024-11-19T00:07:37.186442Z",
     "start_time": "2024-11-19T00:07:37.181911Z"
    }
   },
   "cell_type": "code",
   "source": "df_Rs_Proveedor.printSchema()",
   "outputs": [
    {
     "name": "stdout",
     "output_type": "stream",
     "text": [
      "root\n",
      " |-- IdProveedor_T: integer (nullable = true)\n",
      "\n"
     ]
    }
   ],
   "execution_count": 48
  },
  {
   "cell_type": "markdown",
   "metadata": {},
   "source": [
    "### Seleccionar los valores únicos de IdProveedor_T"
   ]
  },
  {
   "cell_type": "code",
   "metadata": {
    "ExecuteTime": {
     "end_time": "2024-11-19T00:12:29.535985Z",
     "start_time": "2024-11-19T00:12:29.309749Z"
    }
   },
   "source": [
    "df_Rs_Proveedor = df_Rs_Proveedor.select(\"IdProveedor_T\").distinct().orderBy(\"IdProveedor_T\")\n",
    "\n",
    "df_Rs_Proveedor.show()"
   ],
   "outputs": [
    {
     "name": "stdout",
     "output_type": "stream",
     "text": [
      "+-------------+\n",
      "|IdProveedor_T|\n",
      "+-------------+\n",
      "|        10207|\n",
      "|        11269|\n",
      "|        11469|\n",
      "|        11512|\n",
      "|        12303|\n",
      "|        12379|\n",
      "|        12858|\n",
      "|        14002|\n",
      "|        14609|\n",
      "|        15560|\n",
      "|        15833|\n",
      "|        16322|\n",
      "|        16842|\n",
      "|        16985|\n",
      "|        18239|\n",
      "|        18350|\n",
      "|        19636|\n",
      "|        19722|\n",
      "|        20069|\n",
      "|        20129|\n",
      "+-------------+\n",
      "only showing top 20 rows\n",
      "\n"
     ]
    }
   ],
   "execution_count": 55
  },
  {
   "cell_type": "code",
   "metadata": {
    "ExecuteTime": {
     "end_time": "2024-11-19T00:12:35.750392Z",
     "start_time": "2024-11-19T00:12:35.528567Z"
    }
   },
   "source": [
    "print((df_Rs_Proveedor.count(), len(df_Rs_Proveedor.columns)))"
   ],
   "outputs": [
    {
     "name": "stdout",
     "output_type": "stream",
     "text": [
      "(171, 1)\n"
     ]
    }
   ],
   "execution_count": 56
  },
  {
   "cell_type": "code",
   "metadata": {
    "ExecuteTime": {
     "end_time": "2024-11-19T00:12:39.139104Z",
     "start_time": "2024-11-19T00:12:38.720850Z"
    }
   },
   "source": [
    "df_Rs_Proveedor = df_Rs_Proveedor.coalesce(1).withColumn('IdProveedor_DWH', f.monotonically_increasing_id() + 1)\n",
    "df_Rs_Proveedor = df_Rs_Proveedor.select(\"IdProveedor_DWH\", \"IdProveedor_T\")\n",
    "df_Rs_Proveedor.show()"
   ],
   "outputs": [
    {
     "name": "stdout",
     "output_type": "stream",
     "text": [
      "+---------------+-------------+\n",
      "|IdProveedor_DWH|IdProveedor_T|\n",
      "+---------------+-------------+\n",
      "|              1|        10207|\n",
      "|              2|        11269|\n",
      "|              3|        11469|\n",
      "|              4|        11512|\n",
      "|              5|        12303|\n",
      "|              6|        12379|\n",
      "|              7|        12858|\n",
      "|              8|        14002|\n",
      "|              9|        14609|\n",
      "|             10|        15560|\n",
      "|             11|        15833|\n",
      "|             12|        16322|\n",
      "|             13|        16842|\n",
      "|             14|        16985|\n",
      "|             15|        18239|\n",
      "|             16|        18350|\n",
      "|             17|        19636|\n",
      "|             18|        19722|\n",
      "|             19|        20069|\n",
      "|             20|        20129|\n",
      "+---------------+-------------+\n",
      "only showing top 20 rows\n",
      "\n"
     ]
    }
   ],
   "execution_count": 57
  },
  {
   "metadata": {
    "ExecuteTime": {
     "end_time": "2024-11-19T00:14:17.759546Z",
     "start_time": "2024-11-19T00:14:16.873340Z"
    }
   },
   "cell_type": "code",
   "source": [
    "proveedor_data = [(0, 0)]\n",
    "proveedor_columns = [\"IdProveedor_T\", \"IdProveedor_DWH\"]\n",
    "dummy_proveedor = spark.createDataFrame(proveedor_data, proveedor_columns)                          \n",
    "\n",
    "df_Rs_Proveedor = dummy_proveedor.union(df_Rs_Proveedor)\n",
    "df_Rs_Proveedor.show(40)"
   ],
   "outputs": [
    {
     "name": "stdout",
     "output_type": "stream",
     "text": [
      "+-------------+---------------+\n",
      "|IdProveedor_T|IdProveedor_DWH|\n",
      "+-------------+---------------+\n",
      "|            0|              0|\n",
      "|            1|          10207|\n",
      "|            2|          11269|\n",
      "|            3|          11469|\n",
      "|            4|          11512|\n",
      "|            5|          12303|\n",
      "|            6|          12379|\n",
      "|            7|          12858|\n",
      "|            8|          14002|\n",
      "|            9|          14609|\n",
      "|           10|          15560|\n",
      "|           11|          15833|\n",
      "|           12|          16322|\n",
      "|           13|          16842|\n",
      "|           14|          16985|\n",
      "|           15|          18239|\n",
      "|           16|          18350|\n",
      "|           17|          19636|\n",
      "|           18|          19722|\n",
      "|           19|          20069|\n",
      "|           20|          20129|\n",
      "|           21|          20305|\n",
      "|           22|          20507|\n",
      "|           23|          21663|\n",
      "|           24|          21989|\n",
      "|           25|          22444|\n",
      "|           26|          23426|\n",
      "|           27|          23552|\n",
      "|           28|          23603|\n",
      "|           29|          23818|\n",
      "|           30|          25268|\n",
      "|           31|          26065|\n",
      "|           32|          26250|\n",
      "|           33|          27248|\n",
      "|           34|          27833|\n",
      "|           35|          27882|\n",
      "|           36|          28162|\n",
      "|           37|          28856|\n",
      "|           38|          29276|\n",
      "|           39|          29418|\n",
      "+-------------+---------------+\n",
      "only showing top 40 rows\n",
      "\n"
     ]
    }
   ],
   "execution_count": 60
  },
  {
   "cell_type": "markdown",
   "metadata": {},
   "source": [
    "## Load"
   ]
  },
  {
   "cell_type": "code",
   "metadata": {
    "ExecuteTime": {
     "end_time": "2024-11-19T00:14:31.750306Z",
     "start_time": "2024-11-19T00:14:30.403517Z"
    }
   },
   "source": [
    "# CARGUE\n",
    "conn_dest.save_db(df_Rs_Proveedor, \"Rs_Proveedor\")"
   ],
   "outputs": [],
   "execution_count": 61
  },
  {
   "cell_type": "markdown",
   "metadata": {},
   "source": [
    "## Dimensión NivelesDeServicio"
   ]
  },
  {
   "cell_type": "markdown",
   "metadata": {},
   "source": [
    "### Extraction"
   ]
  },
  {
   "cell_type": "code",
   "metadata": {
    "ExecuteTime": {
     "end_time": "2024-11-19T00:17:03.367580Z",
     "start_time": "2024-11-19T00:17:03.184870Z"
    }
   },
   "source": [
    "sql_Rs_NivelesDeServicio = 'RaSaTransaccional_ETL.NivelesDeServicio'\n",
    "\n",
    "df_Rs_NivelesDeServicio = conn_orig.get_dataframe(sql_Rs_NivelesDeServicio)\n",
    "df_Rs_NivelesDeServicio = df_Rs_NivelesDeServicio \\\n",
    "    .withColumn('IdNivelDeServicio_DWH', col('IdNivelDeServicio_DWH').cast(IntegerType())) \\\n",
    "    .withColumn('IdNivelDeServicio_T', col('IdNivelDeServicio_T').cast(IntegerType())) \\\n",
    "    .withColumn('Descripcion', col('Descripcion').cast(StringType()))"
   ],
   "outputs": [],
   "execution_count": 64
  },
  {
   "cell_type": "code",
   "metadata": {
    "ExecuteTime": {
     "end_time": "2024-11-19T00:17:04.966587Z",
     "start_time": "2024-11-19T00:17:04.877616Z"
    }
   },
   "source": [
    "df_Rs_NivelesDeServicio.show()"
   ],
   "outputs": [
    {
     "name": "stdout",
     "output_type": "stream",
     "text": [
      "+---------------------+-------------------+---------------+\n",
      "|IdNivelDeServicio_DWH|IdNivelDeServicio_T|    Descripcion|\n",
      "+---------------------+-------------------+---------------+\n",
      "|                    1|                  1|        Nivel 1|\n",
      "|                    2|                  2|        Nivel 2|\n",
      "|                    3|                  3|Fuera de la red|\n",
      "+---------------------+-------------------+---------------+\n",
      "\n"
     ]
    }
   ],
   "execution_count": 65
  },
  {
   "cell_type": "markdown",
   "metadata": {},
   "source": [
    "## Transformation"
   ]
  },
  {
   "metadata": {
    "ExecuteTime": {
     "end_time": "2024-11-19T00:17:07.071897Z",
     "start_time": "2024-11-19T00:17:06.573171Z"
    }
   },
   "cell_type": "code",
   "source": [
    "nivel_data = [(0, 0, \"Missing\")]\n",
    "nivel_columns = [\"IdNivelDeServicio_DWH\", \"IdNivelDeServicio_T\", \"Descripcion\"]\n",
    "dummy_nivel = spark.createDataFrame(nivel_data, nivel_columns)                          \n",
    "\n",
    "df_Rs_NivelesDeServicio = dummy_nivel.union(df_Rs_NivelesDeServicio)\n",
    "df_Rs_NivelesDeServicio.show(40)"
   ],
   "outputs": [
    {
     "name": "stdout",
     "output_type": "stream",
     "text": [
      "+---------------------+-------------------+---------------+\n",
      "|IdNivelDeServicio_DWH|IdNivelDeServicio_T|    Descripcion|\n",
      "+---------------------+-------------------+---------------+\n",
      "|                    0|                  0|        Missing|\n",
      "|                    1|                  1|        Nivel 1|\n",
      "|                    2|                  2|        Nivel 2|\n",
      "|                    3|                  3|Fuera de la red|\n",
      "+---------------------+-------------------+---------------+\n",
      "\n"
     ]
    }
   ],
   "execution_count": 66
  },
  {
   "cell_type": "markdown",
   "metadata": {},
   "source": [
    "No existen Transformaciones"
   ]
  },
  {
   "cell_type": "markdown",
   "metadata": {},
   "source": [
    "## Load"
   ]
  },
  {
   "cell_type": "code",
   "metadata": {
    "ExecuteTime": {
     "end_time": "2024-11-19T00:17:14.300829Z",
     "start_time": "2024-11-19T00:17:13.820973Z"
    }
   },
   "source": [
    "# CARGUE\n",
    "conn_dest.save_db(df_Rs_NivelesDeServicio, \"Rs_NivelesDeServicio\")  "
   ],
   "outputs": [],
   "execution_count": 67
  }
 ],
 "metadata": {
  "colab": {
   "collapsed_sections": [
    "vtE61qk986vx",
    "X9Oou0g986vy",
    "B5kFkHTD86vz",
    "ddFhEOmL86vz",
    "MuvVgJ4R86v0",
    "BZjDeVYd86v1",
    "_7xbgfCk86v1",
    "Rh_102Yy86v1",
    "HogvCqW_86v2",
    "9rKmT9jd86v2",
    "R9SnkMUH86v3",
    "k8O1GvOd86v3",
    "Mo633Vpg86v3",
    "i36NawhX86v4",
    "LvgnsPfK86v4",
    "dTv_CIOT86v5",
    "N9f10qpB86v9"
   ],
   "name": "MISW-ETL-TutorialETL.ipynb",
   "provenance": []
  },
  "kernelspec": {
   "display_name": "Python 3 (ipykernel)",
   "language": "python",
   "name": "python3"
  },
  "language_info": {
   "codemirror_mode": {
    "name": "ipython",
    "version": 3
   },
   "file_extension": ".py",
   "mimetype": "text/x-python",
   "name": "python",
   "nbconvert_exporter": "python",
   "pygments_lexer": "ipython3",
   "version": "3.7.1"
  }
 },
 "nbformat": 4,
 "nbformat_minor": 4
}
