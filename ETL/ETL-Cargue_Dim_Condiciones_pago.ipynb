{
 "cells": [
  {
   "cell_type": "markdown",
   "metadata": {
    "id": "IcY9y56n86vn"
   },
   "source": [
    "ETL: Carga de Datos"
   ]
  },
  {
   "cell_type": "code",
   "execution_count": 1,
   "metadata": {
    "ExecuteTime": {
     "end_time": "2024-11-16T13:39:56.271810Z",
     "start_time": "2024-11-16T13:39:56.268816Z"
    }
   },
   "outputs": [],
   "source": [
    "# Imports \n",
    "from pyspark.sql.types import IntegerType, StringType, DateType, LongType\n",
    "from pyspark.sql import functions as f, SparkSession, types as t\n",
    "from pyspark import SparkContext, SparkConf, SQLContext\n",
    "from pyspark.sql.functions import col, length\n",
    "from pyspark.sql.functions import when, col\n"
   ]
  },
  {
   "cell_type": "code",
   "execution_count": 2,
   "metadata": {
    "ExecuteTime": {
     "end_time": "2024-11-16T13:39:59.561504Z",
     "start_time": "2024-11-16T13:39:59.556957Z"
    }
   },
   "outputs": [],
   "source": [
    "class MySQLConnector:\n",
    "    def __init__(self, spark: SparkSession, connection_properties: dict, url: str):\n",
    "        self.spark = spark\n",
    "        self.properties = connection_properties\n",
    "        self.url = url\n",
    "\n",
    "    def get_dataframe(self, sql_query: str):        \n",
    "        df = self.spark.read.jdbc(\n",
    "            url=self.url,\n",
    "            table=sql_query,\n",
    "            properties=self.properties\n",
    "        )\n",
    "        return df\n",
    "    \n",
    "    def save_db(self, df, tabla):\n",
    "        df.write.jdbc(\n",
    "            url=self.url,\n",
    "            table=tabla,\n",
    "            mode='append',\n",
    "            properties=self.properties\n",
    "        )\n",
    "        \n",
    "def create_spark_session(path_jar_driver):    \n",
    "    conf = SparkConf().set('spark.driver.extraClassPath', path_jar_driver)\n",
    "    spark_context = SparkContext(conf=conf)\n",
    "    sql_context = SQLContext(spark_context)\n",
    "    return sql_context.sparkSession    \n",
    "\n",
    "def get_dataframe_from_csv(_PATH, _sep):\n",
    "    return spark.read.load(_PATH, format=\"csv\", sep=_sep, inferSchema=\"true\", header='true')"
   ]
  },
  {
   "cell_type": "code",
   "execution_count": 3,
   "metadata": {
    "ExecuteTime": {
     "end_time": "2024-11-16T13:40:29.103266Z",
     "start_time": "2024-11-16T13:40:29.093571Z"
    },
    "id": "os1iJYmu86vt"
   },
   "outputs": [],
   "source": [
    "# LLENAR CON EL USUARIO DE CADA UNO\n",
    "db_user = 'Estudiante_52_202415'\n",
    "db_psswd = 'Estudiante_202425423'\n",
    "\n",
    "\n",
    "connection_properties = {\n",
    "    \"user\": db_user,\n",
    "    \"password\": db_psswd,\n",
    "    \"driver\": \"com.mysql.cj.jdbc.Driver\"\n",
    "}\n",
    "\n",
    "source_db_string_connection = 'jdbc:mysql://157.253.236.120:8080/RaSaTransaccional_ETL'\n",
    "destination_db_string_connection = f'jdbc:mysql://157.253.236.120:8080/{db_user}'\n",
    "\n",
    "# Driver de conexion\n",
    "# LINUX\n",
    "#path_jar_driver = '/opt/mysql/lib/mysql-connector-java-8.0.28.jar'\n",
    "# WINDOWS\n",
    "path_jar_driver = 'C:\\\\Users\\\\Rodolfo\\\\OneDrive\\\\Maestria MIAD\\\\Semestre 1\\\\Ciclo 2\\\\Modelado de Datos y ETL\\\\Semana 2\\\\mysql-connector-j-9.0.0.jar'"
   ]
  },
  {
   "cell_type": "code",
   "execution_count": 4,
   "metadata": {
    "ExecuteTime": {
     "end_time": "2024-11-16T13:40:36.484852Z",
     "start_time": "2024-11-16T13:40:33.016452Z"
    }
   },
   "outputs": [
    {
     "name": "stderr",
     "output_type": "stream",
     "text": [
      "C:\\Users\\Rodolfo\\anaconda3\\envs\\ETL\\lib\\site-packages\\pyspark\\sql\\context.py:79: FutureWarning: Deprecated in 3.0.0. Use SparkSession.builder.getOrCreate() instead.\n",
      "  FutureWarning\n"
     ]
    }
   ],
   "source": [
    "spark = create_spark_session(path_jar_driver)"
   ]
  },
  {
   "cell_type": "code",
   "execution_count": 5,
   "metadata": {
    "ExecuteTime": {
     "end_time": "2024-11-16T13:40:40.941673Z",
     "start_time": "2024-11-16T13:40:40.931528Z"
    }
   },
   "outputs": [],
   "source": [
    "conn_orig = MySQLConnector(spark=spark, connection_properties=connection_properties, url=source_db_string_connection)\n",
    "conn_dest = MySQLConnector(spark=spark, connection_properties=connection_properties, url=destination_db_string_connection)"
   ]
  },
  {
   "cell_type": "markdown",
   "metadata": {
    "id": "LqQVz5s686vq"
   },
   "source": [
    "## Proceso de ETL para una dimensión."
   ]
  },
  {
   "cell_type": "markdown",
   "metadata": {
    "id": "A2UT2Ia586vr"
   },
   "source": [
    "DESCRIPCION PROCESO"
   ]
  },
  {
   "cell_type": "markdown",
   "metadata": {
    "id": "ZhFsv4ba86vw"
   },
   "source": [
    "## Dimensión Condiciones de Pago\n",
    "\n",
    "\n",
    "AJUSTAR EL BLOQUE DEL DISENO PARA EL NUEVO MODELO DADO EN CLASE\n"
   ]
  },
  {
   "cell_type": "markdown",
   "metadata": {
    "id": "UpOSEfhX86vs"
   },
   "source": [
    "![Modelo Movimientos](./images/CondPago.png)"
   ]
  },
  {
   "cell_type": "markdown",
   "metadata": {},
   "source": [
    "### Extraction"
   ]
  },
  {
   "cell_type": "code",
   "execution_count": 37,
   "metadata": {},
   "outputs": [],
   "source": [
    "sql_Rs_CondicionDePago = 'RaSaTransaccional_ETL.FuenteCondicionesDePago_ETL'\n",
    "\n",
    "df_Rs_CondicionDePago = conn_orig.get_dataframe(sql_Rs_CondicionDePago)\n",
    "df_Rs_CondicionDePago = df_Rs_CondicionDePago \\\n",
    "    .withColumn('IdCondicionesDePago_T', col('IdCondicionesDePago_T').cast(LongType())) \\\n",
    "    .withColumn('Descripcion', col('Descripcion').cast(StringType())) \\\n",
    "    .withColumn('Tipo', col('Tipo').cast(StringType())) \\\n",
    "    .orderBy(\"IdCondicionesDePago_T\")\n"
   ]
  },
  {
   "cell_type": "code",
   "execution_count": 38,
   "metadata": {},
   "outputs": [
    {
     "name": "stdout",
     "output_type": "stream",
     "text": [
      "+---------------------+--------------------+-----------+\n",
      "|IdCondicionesDePago_T|         Descripcion|       Tipo|\n",
      "+---------------------+--------------------+-----------+\n",
      "|                    9|           No Charge|Coseguridad|\n",
      "|                   17|Copay per Day aft...|   Copagado|\n",
      "|                   18|No Charge after d...|   Coseguro|\n",
      "|                   27|Coinsurance after...|   Coseguro|\n",
      "|                   34|      Not Applicable|   Copagado|\n",
      "|                   34|      Not Applicable|   Copagado|\n",
      "|                   36|      Not Applicable|   Coseguro|\n",
      "|                   45|         Coinsurance|   Coseguro|\n",
      "|                   45|         Coinsurance|   Coseguro|\n",
      "|                   51|           No Charge|     Copago|\n",
      "|                   68|Copay per Stay af...|     Copago|\n",
      "|                   85|Copay per Day bef...|     Copago|\n",
      "|                  102|Copay per Stay be...|     Copago|\n",
      "|                  119|Copay per Day wit...|     Copago|\n",
      "|                  136|Copay per Stay wi...|   Copagado|\n",
      "|                  136|Copay per Stay wi...|   Copagado|\n",
      "|                  153|Copay after deduc...|     Copago|\n",
      "|                  170|Copay before dedu...|     Copago|\n",
      "|                  187|Copay with deduct...|     Copago|\n",
      "|                  204|       Copay per Day|     Copago|\n",
      "|                  207|No Charge after d...|     Copago|\n",
      "|                  207|No Charge after d...|     Copago|\n",
      "|                  221|      Copay per Stay|     Copago|\n",
      "|                  221|      Copay per Stay|     Copago|\n",
      "|                  238|               Copay|     Copago|\n",
      "|                  238|               Copay|     Copago|\n",
      "+---------------------+--------------------+-----------+\n",
      "\n"
     ]
    }
   ],
   "source": [
    "df_Rs_CondicionDePago.show(40)"
   ]
  },
  {
   "cell_type": "markdown",
   "metadata": {},
   "source": [
    "## Transformation"
   ]
  },
  {
   "cell_type": "markdown",
   "metadata": {},
   "source": [
    "### Realizar las transformaciones en la variable \"Tipo\" para que únicamente que valores Copago y Coseguro "
   ]
  },
  {
   "cell_type": "code",
   "execution_count": 39,
   "metadata": {},
   "outputs": [
    {
     "name": "stdout",
     "output_type": "stream",
     "text": [
      "+---------------------+--------------------+--------+\n",
      "|IdCondicionesDePago_T|         Descripcion|    Tipo|\n",
      "+---------------------+--------------------+--------+\n",
      "|                    9|           No Charge|Coseguro|\n",
      "|                   17|Copay per Day aft...|  Copago|\n",
      "|                   18|No Charge after d...|Coseguro|\n",
      "|                   27|Coinsurance after...|Coseguro|\n",
      "|                   34|      Not Applicable|  Copago|\n",
      "|                   34|      Not Applicable|  Copago|\n",
      "|                   36|      Not Applicable|Coseguro|\n",
      "|                   45|         Coinsurance|Coseguro|\n",
      "|                   45|         Coinsurance|Coseguro|\n",
      "|                   51|           No Charge|  Copago|\n",
      "|                   68|Copay per Stay af...|  Copago|\n",
      "|                   85|Copay per Day bef...|  Copago|\n",
      "|                  102|Copay per Stay be...|  Copago|\n",
      "|                  119|Copay per Day wit...|  Copago|\n",
      "|                  136|Copay per Stay wi...|  Copago|\n",
      "|                  136|Copay per Stay wi...|  Copago|\n",
      "|                  153|Copay after deduc...|  Copago|\n",
      "|                  170|Copay before dedu...|  Copago|\n",
      "|                  187|Copay with deduct...|  Copago|\n",
      "|                  204|       Copay per Day|  Copago|\n",
      "|                  207|No Charge after d...|  Copago|\n",
      "|                  207|No Charge after d...|  Copago|\n",
      "|                  221|      Copay per Stay|  Copago|\n",
      "|                  221|      Copay per Stay|  Copago|\n",
      "|                  238|               Copay|  Copago|\n",
      "|                  238|               Copay|  Copago|\n",
      "+---------------------+--------------------+--------+\n",
      "\n"
     ]
    }
   ],
   "source": [
    "# Realizar las transformaciones en la columna \"Tipo\"\n",
    "df_Rs_CondicionDePago = df_Rs_CondicionDePago.withColumn(\n",
    "    \"Tipo\",\n",
    "    when(col(\"Tipo\") == \"Copagado\", \"Copago\")\n",
    "    .when(col(\"Tipo\") == \"Coseguridad\", \"Coseguro\")\n",
    "    .otherwise(col(\"Tipo\"))\n",
    ")\n",
    "\n",
    "# Mostrar los resultados para verificar las transformaciones\n",
    "df_Rs_CondicionDePago.show(40)"
   ]
  },
  {
   "cell_type": "markdown",
   "metadata": {},
   "source": [
    "### Incluir la variable de la base de datos IdCondicionDePago_DWH y organizar la estructura de la tabla"
   ]
  },
  {
   "cell_type": "code",
   "execution_count": 40,
   "metadata": {},
   "outputs": [
    {
     "name": "stdout",
     "output_type": "stream",
     "text": [
      "+-------------------+--------------------+--------+---------------------+\n",
      "|IdCondicionDePago_T|         Descripcion|    Tipo|IdCondicionDePago_DWH|\n",
      "+-------------------+--------------------+--------+---------------------+\n",
      "|                  9|           No Charge|Coseguro|                    1|\n",
      "|                 17|Copay per Day aft...|  Copago|                    2|\n",
      "|                 18|No Charge after d...|Coseguro|                    3|\n",
      "|                 27|Coinsurance after...|Coseguro|                    4|\n",
      "|                 34|      Not Applicable|  Copago|                    5|\n",
      "|                 34|      Not Applicable|  Copago|                    6|\n",
      "|                 36|      Not Applicable|Coseguro|                    7|\n",
      "|                 45|         Coinsurance|Coseguro|                    8|\n",
      "|                 45|         Coinsurance|Coseguro|                    9|\n",
      "|                 51|           No Charge|  Copago|                   10|\n",
      "|                 68|Copay per Stay af...|  Copago|                   11|\n",
      "|                 85|Copay per Day bef...|  Copago|                   12|\n",
      "|                102|Copay per Stay be...|  Copago|                   13|\n",
      "|                119|Copay per Day wit...|  Copago|                   14|\n",
      "|                136|Copay per Stay wi...|  Copago|                   15|\n",
      "|                136|Copay per Stay wi...|  Copago|                   16|\n",
      "|                153|Copay after deduc...|  Copago|                   17|\n",
      "|                170|Copay before dedu...|  Copago|                   18|\n",
      "|                187|Copay with deduct...|  Copago|                   19|\n",
      "|                204|       Copay per Day|  Copago|                   20|\n",
      "+-------------------+--------------------+--------+---------------------+\n",
      "only showing top 20 rows\n",
      "\n"
     ]
    }
   ],
   "source": [
    "df_Rs_CondicionDePago = df_Rs_CondicionDePago.coalesce(1).withColumn('IdCondicionDePago_DWH', f.monotonically_increasing_id() + 1)\n",
    "df_Rs_CondicionDePago = df_Rs_CondicionDePago.withColumnRenamed('IdCondicionesDePago_T', 'IdCondicionDePago_T')\n",
    "df_Rs_CondicionDePago.show()"
   ]
  },
  {
   "cell_type": "code",
   "execution_count": 14,
   "metadata": {},
   "outputs": [
    {
     "name": "stdout",
     "output_type": "stream",
     "text": [
      "+---------------------+-------------------+--------------------+--------+\n",
      "|IdCondicionDePago_DWH|IdCondicionDePago_T|         Descripcion|    Tipo|\n",
      "+---------------------+-------------------+--------------------+--------+\n",
      "|                    1|                187|Copay with deduct...|  Copago|\n",
      "|                    2|                204|       Copay per Day|  Copago|\n",
      "|                    3|                 45|         Coinsurance|Coseguro|\n",
      "|                    4|                 85|Copay per Day bef...|  Copago|\n",
      "|                    5|                 18|No Charge after d...|Coseguro|\n",
      "|                    6|                 27|Coinsurance after...|Coseguro|\n",
      "|                    7|                238|               Copay|  Copago|\n",
      "|                    8|                207|No Charge after d...|  Copago|\n",
      "|                    9|                 68|Copay per Stay af...|  Copago|\n",
      "|                   10|                153|Copay after deduc...|  Copago|\n",
      "|                   11|                 36|      Not Applicable|Coseguro|\n",
      "|                   12|                221|      Copay per Stay|  Copago|\n",
      "|                   13|                119|Copay per Day wit...|  Copago|\n",
      "|                   14|                170|Copay before dedu...|  Copago|\n",
      "|                   15|                 51|           No Charge|  Copago|\n",
      "|                   16|                102|Copay per Stay be...|  Copago|\n",
      "|                   17|                136|Copay per Stay wi...|  Copago|\n",
      "|                   18|                 34|      Not Applicable|  Copago|\n",
      "|                   19|                 17|Copay per Day aft...|  Copago|\n",
      "|                   20|                  9|           No Charge|Coseguro|\n",
      "+---------------------+-------------------+--------------------+--------+\n",
      "only showing top 20 rows\n",
      "\n"
     ]
    }
   ],
   "source": [
    "# Reorganizar las columnas en el orden de la BD\n",
    "df_Rs_CondicionDePago = df_Rs_CondicionDePago.select(\n",
    "    \"IdCondicionDePago_DWH\", \"IdCondicionDePago_T\", \"Descripcion\", \"Tipo\"\n",
    ")\n",
    "\n",
    "df_Rs_CondicionDePago.show()"
   ]
  },
  {
   "cell_type": "markdown",
   "metadata": {},
   "source": [
    "## Load"
   ]
  },
  {
   "cell_type": "code",
   "execution_count": 19,
   "metadata": {},
   "outputs": [],
   "source": [
    "# CARGUE\n",
    "conn_dest.save_db(df_Rs_CondicionDePago, \"Rs_CondicionDePago\")  "
   ]
  },
  {
   "cell_type": "markdown",
   "metadata": {},
   "source": [
    "## Dimensión Proveedor"
   ]
  },
  {
   "cell_type": "markdown",
   "metadata": {},
   "source": [
    "### Extraction"
   ]
  },
  {
   "cell_type": "code",
   "execution_count": 49,
   "metadata": {},
   "outputs": [
    {
     "data": {
      "text/plain": [
       "DataFrame[IdProveedor_T: bigint]"
      ]
     },
     "execution_count": 49,
     "metadata": {},
     "output_type": "execute_result"
    }
   ],
   "source": [
    "sql_Rs_Proveedor = \"(SELECT IdProveedor_T FROM FuentePlanesBeneficio_ETL) AS Rs_Proveedor\"\n",
    "\n",
    "df_Rs_Proveedor = conn_orig.get_dataframe(sql_Rs_Proveedor)\n",
    "df_Rs_Proveedor.withColumn('IdProveedor_T', col('IdProveedor_T').cast(LongType()))"
   ]
  },
  {
   "cell_type": "code",
   "execution_count": 50,
   "metadata": {},
   "outputs": [
    {
     "name": "stdout",
     "output_type": "stream",
     "text": [
      "+-------------+\n",
      "|IdProveedor_T|\n",
      "+-------------+\n",
      "|        16842|\n",
      "|        14002|\n",
      "|        19722|\n",
      "|        81413|\n",
      "|        52697|\n",
      "|        28162|\n",
      "|        20129|\n",
      "|        40572|\n",
      "|        38166|\n",
      "|        70893|\n",
      "|        25268|\n",
      "|        36096|\n",
      "|        95185|\n",
      "|        93078|\n",
      "|        66252|\n",
      "|        27248|\n",
      "|        47840|\n",
      "|        47840|\n",
      "|        66252|\n",
      "|        30751|\n",
      "+-------------+\n",
      "only showing top 20 rows\n",
      "\n"
     ]
    }
   ],
   "source": [
    "df_Rs_Proveedor.show()"
   ]
  },
  {
   "cell_type": "code",
   "execution_count": 24,
   "metadata": {},
   "outputs": [
    {
     "name": "stdout",
     "output_type": "stream",
     "text": [
      "(70752, 1)\n"
     ]
    }
   ],
   "source": [
    "print((df_Rs_Proveedor.count(), len(df_Rs_Proveedor.columns)))"
   ]
  },
  {
   "cell_type": "code",
   "execution_count": 25,
   "metadata": {},
   "outputs": [
    {
     "name": "stdout",
     "output_type": "stream",
     "text": [
      "Valores únicos en 'IdProveedor_T': 171\n"
     ]
    }
   ],
   "source": [
    "Vrunicos = df_Rs_Proveedor.distinct().count() \n",
    "print(f\"Valores únicos en 'IdProveedor_T': {Vrunicos}\")"
   ]
  },
  {
   "cell_type": "code",
   "execution_count": 26,
   "metadata": {},
   "outputs": [
    {
     "name": "stdout",
     "output_type": "stream",
     "text": [
      "Cantidad de registros duplicados: 70581\n"
     ]
    }
   ],
   "source": [
    "total_registros = df_Rs_Proveedor.count()\n",
    "registros_sin_duplicados = df_Rs_Proveedor.dropDuplicates()\n",
    "duplicados = total_registros - registros_sin_duplicados.count()\n",
    "print(f\"Cantidad de registros duplicados: {duplicados}\")"
   ]
  },
  {
   "cell_type": "markdown",
   "metadata": {},
   "source": [
    "### Seleccionar los valores únicos de IdProveedor_T"
   ]
  },
  {
   "cell_type": "code",
   "execution_count": 54,
   "metadata": {},
   "outputs": [
    {
     "name": "stdout",
     "output_type": "stream",
     "text": [
      "+-------------+\n",
      "|IdProveedor_T|\n",
      "+-------------+\n",
      "|        10207|\n",
      "|        11269|\n",
      "|        11469|\n",
      "|        11512|\n",
      "|        12303|\n",
      "|        12379|\n",
      "|        12858|\n",
      "|        14002|\n",
      "|        14609|\n",
      "|        15560|\n",
      "|        15833|\n",
      "|        16322|\n",
      "|        16842|\n",
      "|        16985|\n",
      "|        18239|\n",
      "|        18350|\n",
      "|        19636|\n",
      "|        19722|\n",
      "|        20069|\n",
      "|        20129|\n",
      "+-------------+\n",
      "only showing top 20 rows\n",
      "\n"
     ]
    }
   ],
   "source": [
    "# Seleccionar valores únicos de la columna IdProveedor_T\n",
    "df_Rs_Proveedor = df_Rs_Proveedor.select(\"IdProveedor_T\").distinct().orderBy(\"IdProveedor_T\")\n",
    "\n",
    "# Mostrar los resultados\n",
    "df_Rs_Proveedor.show()"
   ]
  },
  {
   "cell_type": "code",
   "execution_count": 28,
   "metadata": {},
   "outputs": [
    {
     "name": "stdout",
     "output_type": "stream",
     "text": [
      "(171, 1)\n"
     ]
    }
   ],
   "source": [
    "print((df_Rs_Proveedor.count(), len(df_Rs_Proveedor.columns)))"
   ]
  },
  {
   "cell_type": "code",
   "execution_count": 55,
   "metadata": {},
   "outputs": [
    {
     "name": "stdout",
     "output_type": "stream",
     "text": [
      "+---------------+-------------+\n",
      "|IdProveedor_DWH|IdProveedor_T|\n",
      "+---------------+-------------+\n",
      "|              1|        10207|\n",
      "|              2|        11269|\n",
      "|              3|        11469|\n",
      "|              4|        11512|\n",
      "|              5|        12303|\n",
      "|              6|        12379|\n",
      "|              7|        12858|\n",
      "|              8|        14002|\n",
      "|              9|        14609|\n",
      "|             10|        15560|\n",
      "|             11|        15833|\n",
      "|             12|        16322|\n",
      "|             13|        16842|\n",
      "|             14|        16985|\n",
      "|             15|        18239|\n",
      "|             16|        18350|\n",
      "|             17|        19636|\n",
      "|             18|        19722|\n",
      "|             19|        20069|\n",
      "|             20|        20129|\n",
      "+---------------+-------------+\n",
      "only showing top 20 rows\n",
      "\n"
     ]
    }
   ],
   "source": [
    "df_Rs_Proveedor = df_Rs_Proveedor.coalesce(1).withColumn('IdProveedor_DWH', f.monotonically_increasing_id() + 1)\n",
    "df_Rs_Proveedor = df_Rs_Proveedor.select(\"IdProveedor_DWH\", \"IdProveedor_T\")\n",
    "df_Rs_Proveedor.show()"
   ]
  },
  {
   "cell_type": "markdown",
   "metadata": {},
   "source": [
    "## Load"
   ]
  },
  {
   "cell_type": "code",
   "execution_count": 31,
   "metadata": {},
   "outputs": [],
   "source": [
    "# CARGUE\n",
    "conn_dest.save_db(df_Rs_Proveedor, \"Rs_Proveedor\")  "
   ]
  },
  {
   "cell_type": "markdown",
   "metadata": {},
   "source": [
    "## Dimensión NivelesDeServicio"
   ]
  },
  {
   "cell_type": "markdown",
   "metadata": {},
   "source": [
    "### Extraction"
   ]
  },
  {
   "cell_type": "code",
   "execution_count": 34,
   "metadata": {},
   "outputs": [],
   "source": [
    "sql_Rs_NivelesDeServicio = 'RaSaTransaccional_ETL.NivelesDeServicio'\n",
    "\n",
    "df_Rs_NivelesDeServicio = conn_orig.get_dataframe(sql_Rs_NivelesDeServicio)\n",
    "df_Rs_NivelesDeServicio = df_Rs_NivelesDeServicio \\\n",
    "    .withColumn('IdNivelDeServicio_DWH', col('IdNivelDeServicio_DWH').cast(LongType())) \\\n",
    "    .withColumn('IdNivelDeServicio_T', col('IdNivelDeServicio_T').cast(LongType())) \\\n",
    "    .withColumn('Descripcion', col('Descripcion').cast(StringType()))"
   ]
  },
  {
   "cell_type": "code",
   "execution_count": 35,
   "metadata": {},
   "outputs": [
    {
     "name": "stdout",
     "output_type": "stream",
     "text": [
      "+---------------------+-------------------+---------------+\n",
      "|IdNivelDeServicio_DWH|IdNivelDeServicio_T|    Descripcion|\n",
      "+---------------------+-------------------+---------------+\n",
      "|                    1|                  1|        Nivel 1|\n",
      "|                    2|                  2|        Nivel 2|\n",
      "|                    3|                  3|Fuera de la red|\n",
      "+---------------------+-------------------+---------------+\n",
      "\n"
     ]
    }
   ],
   "source": [
    "df_Rs_NivelesDeServicio.show()"
   ]
  },
  {
   "cell_type": "markdown",
   "metadata": {},
   "source": [
    "## Transformation"
   ]
  },
  {
   "cell_type": "markdown",
   "metadata": {},
   "source": [
    "No existen Transformaciones"
   ]
  },
  {
   "cell_type": "markdown",
   "metadata": {},
   "source": [
    "## Load"
   ]
  },
  {
   "cell_type": "code",
   "execution_count": 36,
   "metadata": {},
   "outputs": [],
   "source": [
    "# CARGUE\n",
    "conn_dest.save_db(df_Rs_NivelesDeServicio, \"Rs_NivelesDeServicio\")  "
   ]
  }
 ],
 "metadata": {
  "colab": {
   "collapsed_sections": [
    "vtE61qk986vx",
    "X9Oou0g986vy",
    "B5kFkHTD86vz",
    "ddFhEOmL86vz",
    "MuvVgJ4R86v0",
    "BZjDeVYd86v1",
    "_7xbgfCk86v1",
    "Rh_102Yy86v1",
    "HogvCqW_86v2",
    "9rKmT9jd86v2",
    "R9SnkMUH86v3",
    "k8O1GvOd86v3",
    "Mo633Vpg86v3",
    "i36NawhX86v4",
    "LvgnsPfK86v4",
    "dTv_CIOT86v5",
    "N9f10qpB86v9"
   ],
   "name": "MISW-ETL-TutorialETL.ipynb",
   "provenance": []
  },
  "kernelspec": {
   "display_name": "Python 3 (ipykernel)",
   "language": "python",
   "name": "python3"
  },
  "language_info": {
   "codemirror_mode": {
    "name": "ipython",
    "version": 3
   },
   "file_extension": ".py",
   "mimetype": "text/x-python",
   "name": "python",
   "nbconvert_exporter": "python",
   "pygments_lexer": "ipython3",
   "version": "3.7.1"
  }
 },
 "nbformat": 4,
 "nbformat_minor": 4
}
