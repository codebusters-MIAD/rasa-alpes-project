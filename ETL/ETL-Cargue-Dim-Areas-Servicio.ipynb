{
 "cells": [
  {
   "cell_type": "markdown",
   "metadata": {
    "id": "IcY9y56n86vn"
   },
   "source": [
    "# ETL: Carga Areas de Servicio"
   ]
  },
  {
   "cell_type": "code",
   "metadata": {
    "ExecuteTime": {
     "end_time": "2024-11-18T16:59:44.906087Z",
     "start_time": "2024-11-18T16:59:44.897402Z"
    }
   },
   "source": [
    "# Imports \n",
    "from pyspark.sql.types import IntegerType, StringType, DateType, LongType, DoubleType\n",
    "from pyspark.sql import functions as f, SparkSession, types as t\n",
    "from pyspark import SparkContext, SparkConf, SQLContext\n",
    "from pyspark.sql.functions import col, length, when, floor, monotonically_increasing_id, lit, round\n",
    "\n"
   ],
   "outputs": [],
   "execution_count": 74
  },
  {
   "cell_type": "code",
   "metadata": {
    "ExecuteTime": {
     "end_time": "2024-11-18T15:39:40.105317Z",
     "start_time": "2024-11-18T15:39:40.099174Z"
    }
   },
   "source": [
    "class MySQLConnector:\n",
    "    def __init__(self, spark: SparkSession, connection_properties: dict, url: str):\n",
    "        self.spark = spark\n",
    "        self.properties = connection_properties\n",
    "        self.url = url\n",
    "\n",
    "    def get_dataframe(self, sql_query: str):        \n",
    "        df = self.spark.read.jdbc(\n",
    "            url=self.url,\n",
    "            table=sql_query,\n",
    "            properties=self.properties\n",
    "        )\n",
    "        return df\n",
    "    \n",
    "    def save_db(self, df, tabla):\n",
    "        df.write.jdbc(\n",
    "            url=self.url,\n",
    "            table=tabla,\n",
    "            mode='append',\n",
    "            properties=self.properties\n",
    "        )\n",
    "        \n",
    "def create_spark_session(path_jar_driver):    \n",
    "    conf = SparkConf().set('spark.driver.extraClassPath', path_jar_driver)\n",
    "    spark_context = SparkContext(conf=conf)\n",
    "    sql_context = SQLContext(spark_context)\n",
    "    return sql_context.sparkSession    \n",
    "\n",
    "def get_dataframe_from_csv(_PATH, _sep):\n",
    "    return spark.read.load(_PATH, format=\"csv\", sep=_sep, inferSchema=\"true\", header='true')"
   ],
   "outputs": [],
   "execution_count": 4
  },
  {
   "cell_type": "code",
   "metadata": {
    "id": "os1iJYmu86vt",
    "ExecuteTime": {
     "end_time": "2024-11-18T15:39:42.222696Z",
     "start_time": "2024-11-18T15:39:42.219287Z"
    }
   },
   "source": [
    "\n",
    "db_user = 'Estudiante_65_202415'\n",
    "db_psswd = 'Estudiante_202010409'\n",
    "\n",
    "connection_properties = {\n",
    "    \"user\": db_user,\n",
    "    \"password\": db_psswd,\n",
    "    \"driver\": \"com.mysql.cj.jdbc.Driver\"\n",
    "}\n",
    "\n",
    "source_db_string_connection = 'jdbc:mysql://157.253.236.120:8080/RaSaTransaccional_ETL'\n",
    "destination_db_string_connection = f'jdbc:mysql://157.253.236.120:8080/{db_user}'\n",
    "\n",
    "# Driver de conexion\n",
    "# LINUX\n",
    "path_jar_driver = '/opt/mysql/lib/mysql-connector-java-8.0.28.jar'\n",
    "# WINDOWS\n",
    "#path_jar_driver = 'C:\\Program Files (x86)\\MySQL\\Connector J 8.0\\mysql-connector-java-8.0.28.jar'"
   ],
   "outputs": [],
   "execution_count": 5
  },
  {
   "cell_type": "code",
   "metadata": {
    "ExecuteTime": {
     "end_time": "2024-11-18T15:39:49.446034Z",
     "start_time": "2024-11-18T15:39:45.114933Z"
    }
   },
   "source": [
    "spark = create_spark_session(path_jar_driver)"
   ],
   "outputs": [
    {
     "name": "stderr",
     "output_type": "stream",
     "text": [
      "24/11/18 10:39:47 WARN Utils: Your hostname, willp resolves to a loopback address: 127.0.1.1; using 192.168.1.113 instead (on interface wlp9s0)\n",
      "24/11/18 10:39:47 WARN Utils: Set SPARK_LOCAL_IP if you need to bind to another address\n",
      "Setting default log level to \"WARN\".\n",
      "To adjust logging level use sc.setLogLevel(newLevel). For SparkR, use setLogLevel(newLevel).\n",
      "24/11/18 10:39:48 WARN NativeCodeLoader: Unable to load native-hadoop library for your platform... using builtin-java classes where applicable\n",
      "/home/willp/anaconda3/lib/python3.11/site-packages/pyspark/sql/context.py:112: FutureWarning: Deprecated in 3.0.0. Use SparkSession.builder.getOrCreate() instead.\n",
      "  warnings.warn(\n"
     ]
    }
   ],
   "execution_count": 6
  },
  {
   "cell_type": "code",
   "metadata": {
    "ExecuteTime": {
     "end_time": "2024-11-18T15:39:50.833158Z",
     "start_time": "2024-11-18T15:39:50.830763Z"
    }
   },
   "source": [
    "conn_orig = MySQLConnector(spark=spark, connection_properties=connection_properties, url=source_db_string_connection)\n",
    "conn_dest = MySQLConnector(spark=spark, connection_properties=connection_properties, url=destination_db_string_connection)"
   ],
   "outputs": [],
   "execution_count": 7
  },
  {
   "cell_type": "markdown",
   "metadata": {
    "id": "LqQVz5s686vq"
   },
   "source": [
    "## Proceso de ETL para una dimensión."
   ]
  },
  {
   "cell_type": "markdown",
   "metadata": {
    "id": "UpOSEfhX86vs"
   },
   "source": [
    "![Modelo Movimientos](./images/AreasDeServicio.png)"
   ]
  },
  {
   "cell_type": "markdown",
   "metadata": {
    "tags": []
   },
   "source": [
    "## Cargar FuenteAreasDeServicio_ETL"
   ]
  },
  {
   "cell_type": "markdown",
   "metadata": {},
   "source": [
    "# Areas de Servicio"
   ]
  },
  {
   "cell_type": "markdown",
   "metadata": {},
   "source": [
    "### Extracción de datos de AreasDeServicio\n",
    "\n",
    "Con el distinct se evitan los duplicados"
   ]
  },
  {
   "metadata": {
    "ExecuteTime": {
     "end_time": "2024-11-18T19:13:01.633372Z",
     "start_time": "2024-11-18T19:13:01.573890Z"
    }
   },
   "cell_type": "code",
   "source": [
    "# Extracción de todos los campos de FuenteAreasDeServicio_ETL\n",
    "sql_areas_servicio_all_fields = '''\n",
    "(\n",
    "SELECT \n",
    "    DISTINCT IdAreaDeServicio_T AS IdAreaDeServicio_T, \n",
    "    NombreAreaDeServicio AS Nombre,\n",
    "    CONCAT(Fecha, '-01-01') AS AnnioCreacion\n",
    " FROM FuenteAreasDeServicio_ETL\n",
    " ORDER BY IdAreaDeServicio_T) AS AreasDeServicio\n",
    "'''\n",
    "df_areas_servicio = conn_orig.get_dataframe(sql_areas_servicio_all_fields)\n",
    "df_areas_servicio.printSchema()"
   ],
   "outputs": [
    {
     "name": "stdout",
     "output_type": "stream",
     "text": [
      "root\n",
      " |-- IdAreaDeServicio_T: integer (nullable = true)\n",
      " |-- Nombre: string (nullable = true)\n",
      " |-- AnnioCreacion: string (nullable = true)\n",
      "\n"
     ]
    }
   ],
   "execution_count": 99
  },
  {
   "cell_type": "markdown",
   "metadata": {},
   "source": "### Transformación "
  },
  {
   "metadata": {},
   "cell_type": "markdown",
   "source": "#### Cast types "
  },
  {
   "metadata": {
    "ExecuteTime": {
     "end_time": "2024-11-18T19:13:05.205469Z",
     "start_time": "2024-11-18T19:13:04.189172Z"
    }
   },
   "cell_type": "code",
   "source": [
    "df_areas_servicio = df_areas_servicio \\\n",
    "    .withColumn('IdAreaDeServicio_T', col('IdAreaDeServicio_T').cast(IntegerType())) \\\n",
    "    .withColumn('Nombre', col('Nombre').cast(StringType())) \\\n",
    "    .withColumn('AnnioCreacion', col('AnnioCreacion').cast(DateType()))\n",
    "df_areas_servicio.show(3)\n"
   ],
   "outputs": [
    {
     "name": "stderr",
     "output_type": "stream",
     "text": [
      "[Stage 323:>                                                        (0 + 1) / 1]\r"
     ]
    },
    {
     "name": "stdout",
     "output_type": "stream",
     "text": [
      "+------------------+--------------------+-------------+\n",
      "|IdAreaDeServicio_T|              Nombre|AnnioCreacion|\n",
      "+------------------+--------------------+-------------+\n",
      "|             12018|NoVa10207VA038000...|   2018-01-01|\n",
      "|             22019|NoVA10207VA038000...|   2019-01-01|\n",
      "|             32019|NoVA10207VA038000...|   2019-01-01|\n",
      "+------------------+--------------------+-------------+\n",
      "only showing top 3 rows\n",
      "\n"
     ]
    },
    {
     "name": "stderr",
     "output_type": "stream",
     "text": [
      "                                                                                \r"
     ]
    }
   ],
   "execution_count": 100
  },
  {
   "cell_type": "markdown",
   "metadata": {
    "tags": []
   },
   "source": "#### Crear un identificador único y consecutivo "
  },
  {
   "cell_type": "code",
   "metadata": {
    "ExecuteTime": {
     "end_time": "2024-11-18T19:13:08.469793Z",
     "start_time": "2024-11-18T19:13:07.584321Z"
    }
   },
   "source": [
    "df_areas_servicio = df_areas_servicio.withColumn(\"IdAreaDeServicio_DWH\", monotonically_increasing_id() + 1)\n",
    "df_areas_servicio.show(3)\n"
   ],
   "outputs": [
    {
     "name": "stdout",
     "output_type": "stream",
     "text": [
      "+------------------+--------------------+-------------+--------------------+\n",
      "|IdAreaDeServicio_T|              Nombre|AnnioCreacion|IdAreaDeServicio_DWH|\n",
      "+------------------+--------------------+-------------+--------------------+\n",
      "|             12018|NoVa10207VA038000...|   2018-01-01|                   1|\n",
      "|             22019|NoVA10207VA038000...|   2019-01-01|                   2|\n",
      "|             32019|NoVA10207VA038000...|   2019-01-01|                   3|\n",
      "+------------------+--------------------+-------------+--------------------+\n",
      "only showing top 3 rows\n",
      "\n"
     ]
    },
    {
     "name": "stderr",
     "output_type": "stream",
     "text": [
      "                                                                                \r"
     ]
    }
   ],
   "execution_count": 101
  },
  {
   "metadata": {},
   "cell_type": "markdown",
   "source": "#### Adicionar comodin para evitar referencias nulas."
  },
  {
   "metadata": {
    "ExecuteTime": {
     "end_time": "2024-11-18T19:13:12.765802Z",
     "start_time": "2024-11-18T19:13:11.454554Z"
    }
   },
   "cell_type": "code",
   "source": [
    "data = [(0, \"Missing\", \"3000-01-01\", 0)]\n",
    "columns = [\"IdAreaDeServicio_T\", \"Nombre\", \"AnnioCreacion\", \"IdAreaDeServicio_DWH\"]\n",
    "dummy_areas_servicio = spark.createDataFrame(data, columns)\n",
    "\n",
    "df_areas_servicio = dummy_areas_servicio.union(df_areas_servicio)\n",
    "df_areas_servicio.show(3)\n"
   ],
   "outputs": [
    {
     "name": "stderr",
     "output_type": "stream",
     "text": [
      "[Stage 327:==========================================>              (3 + 1) / 4]\r"
     ]
    },
    {
     "name": "stdout",
     "output_type": "stream",
     "text": [
      "+------------------+--------------------+-------------+--------------------+\n",
      "|IdAreaDeServicio_T|              Nombre|AnnioCreacion|IdAreaDeServicio_DWH|\n",
      "+------------------+--------------------+-------------+--------------------+\n",
      "|                 0|             Missing|   3000-01-01|                   0|\n",
      "|             12018|NoVa10207VA038000...|   2018-01-01|                   1|\n",
      "|             22019|NoVA10207VA038000...|   2019-01-01|                   2|\n",
      "+------------------+--------------------+-------------+--------------------+\n",
      "only showing top 3 rows\n",
      "\n"
     ]
    },
    {
     "name": "stderr",
     "output_type": "stream",
     "text": [
      "                                                                                \r"
     ]
    }
   ],
   "execution_count": 102
  },
  {
   "metadata": {
    "ExecuteTime": {
     "end_time": "2024-11-18T04:51:45.060017Z",
     "start_time": "2024-11-18T04:51:42.859560Z"
    }
   },
   "cell_type": "code",
   "source": "df_areas_servicio.show(3)",
   "outputs": [
    {
     "name": "stderr",
     "output_type": "stream",
     "text": [
      "[Stage 13:>                 (0 + 1) / 1][Stage 33:=============>    (3 + 1) / 4]\r"
     ]
    },
    {
     "name": "stdout",
     "output_type": "stream",
     "text": [
      "+------------------+--------------------+-------------+--------------------+\n",
      "|IdAreaDeServicio_T|              Nombre|AnnioCreacion|IdAreaDeServicio_DWH|\n",
      "+------------------+--------------------+-------------+--------------------+\n",
      "|                 0|             Missing|   3000-01-01|                   0|\n",
      "|             12018|NoVa10207VA038000...|   2018-01-01|                   1|\n",
      "|             22019|NoVA10207VA038000...|   2019-01-01|                   2|\n",
      "+------------------+--------------------+-------------+--------------------+\n",
      "only showing top 3 rows\n",
      "\n"
     ]
    },
    {
     "name": "stderr",
     "output_type": "stream",
     "text": [
      "                                                                                \r"
     ]
    }
   ],
   "execution_count": 61
  },
  {
   "metadata": {
    "ExecuteTime": {
     "end_time": "2024-11-18T19:13:20.951038Z",
     "start_time": "2024-11-18T19:13:19.963065Z"
    }
   },
   "cell_type": "code",
   "source": "df_areas_servicio.count()",
   "outputs": [
    {
     "name": "stderr",
     "output_type": "stream",
     "text": [
      "                                                                                \r"
     ]
    },
    {
     "data": {
      "text/plain": [
       "11621"
      ]
     },
     "execution_count": 103,
     "metadata": {},
     "output_type": "execute_result"
    }
   ],
   "execution_count": 103
  },
  {
   "cell_type": "markdown",
   "metadata": {},
   "source": [
    "# Cargar los datos transformados"
   ]
  },
  {
   "cell_type": "code",
   "metadata": {
    "ExecuteTime": {
     "end_time": "2024-11-18T05:14:56.109490Z",
     "start_time": "2024-11-18T05:14:29.511772Z"
    }
   },
   "source": [
    "# Carga de los datos transformados\n",
    "conn_dest.save_db(df_areas_servicio, 'Rs_AreasDeServicio')"
   ],
   "outputs": [
    {
     "name": "stderr",
     "output_type": "stream",
     "text": [
      "                                                                                \r"
     ]
    }
   ],
   "execution_count": 65
  },
  {
   "cell_type": "markdown",
   "metadata": {
    "tags": []
   },
   "source": [
    "# Geografía "
   ]
  },
  {
   "cell_type": "markdown",
   "metadata": {},
   "source": [
    "### Extracción de datos de Geografia"
   ]
  },
  {
   "metadata": {},
   "cell_type": "markdown",
   "source": "Con SQL se ajusta los valores de la poblacion altos."
  },
  {
   "cell_type": "code",
   "metadata": {
    "ExecuteTime": {
     "end_time": "2024-11-18T17:03:20.500132Z",
     "start_time": "2024-11-18T17:03:20.426301Z"
    }
   },
   "source": [
    "# Extracción de datos de Geografia\n",
    "sql_geografia = '''\n",
    "(\n",
    "SELECT DISTINCT IdGeografia_T,\n",
    "                Estado,\n",
    "                Condado,\n",
    "                ABS(Area) AS AreaAct,\n",
    "                CASE\n",
    "                    WHEN PoblacionAct % 10000 = 1 THEN FLOOR(ABS(PoblacionAct) / 10000)\n",
    "                    ELSE PoblacionAct\n",
    "                    END AS PoblacionAct\n",
    "FROM FuenteAreasDeServicio_ETL\n",
    "ORDER BY IdGeografia_T) AS Geografia\n",
    "'''\n",
    "df_geografia = conn_orig.get_dataframe(sql_geografia)\n",
    "df_geografia = df_geografia.withColumn('IdGeografia_T', col('IdGeografia_T').cast(IntegerType())) \\\n",
    "    .withColumn('PoblacionAct', col('PoblacionAct').cast(DoubleType()))\n",
    " \n",
    "df_geografia.printSchema()\n",
    "\n"
   ],
   "outputs": [
    {
     "name": "stdout",
     "output_type": "stream",
     "text": [
      "root\n",
      " |-- IdGeografia_T: integer (nullable = true)\n",
      " |-- Estado: string (nullable = true)\n",
      " |-- Condado: string (nullable = true)\n",
      " |-- AreaAct: double (nullable = true)\n",
      " |-- PoblacionAct: double (nullable = true)\n",
      "\n"
     ]
    }
   ],
   "execution_count": 78
  },
  {
   "cell_type": "markdown",
   "metadata": {},
   "source": [
    "## Transformation"
   ]
  },
  {
   "cell_type": "markdown",
   "metadata": {},
   "source": [
    "### 1. Crear un identificador único y consecutivo "
   ]
  },
  {
   "cell_type": "code",
   "metadata": {
    "ExecuteTime": {
     "end_time": "2024-11-18T17:03:27.058649Z",
     "start_time": "2024-11-18T17:03:26.197268Z"
    }
   },
   "source": [
    "df_geografia = df_geografia.withColumn(\"IdGeografia_DWH\", monotonically_increasing_id() + 1)\n",
    "df_geografia.show(3, truncate=False)\n"
   ],
   "outputs": [
    {
     "name": "stdout",
     "output_type": "stream",
     "text": [
      "+-------------+-------+--------------+-------+------------+---------------+\n",
      "|IdGeografia_T|Estado |Condado       |AreaAct|PoblacionAct|IdGeografia_DWH|\n",
      "+-------------+-------+--------------+-------+------------+---------------+\n",
      "|1001         |Alabama|Autauga County|594.0  |59095.0     |1              |\n",
      "|1003         |Alabama|Baldwin County|1589.0 |239294.0    |2              |\n",
      "|1005         |Alabama|Barbour County|884.0  |24964.0     |3              |\n",
      "+-------------+-------+--------------+-------+------------+---------------+\n",
      "only showing top 3 rows\n",
      "\n"
     ]
    },
    {
     "name": "stderr",
     "output_type": "stream",
     "text": [
      "                                                                                \r"
     ]
    }
   ],
   "execution_count": 79
  },
  {
   "cell_type": "markdown",
   "metadata": {},
   "source": [
    "### 3. Errores en la población "
   ]
  },
  {
   "metadata": {},
   "cell_type": "markdown",
   "source": "Se valida de nuevo que no existan valores excesivamente altos"
  },
  {
   "metadata": {
    "ExecuteTime": {
     "end_time": "2024-11-18T17:03:31.968185Z",
     "start_time": "2024-11-18T17:03:31.066006Z"
    }
   },
   "cell_type": "code",
   "source": "df_geografia.filter(col(\"PoblacionAct\") > 10000000).show(10)",
   "outputs": [
    {
     "name": "stderr",
     "output_type": "stream",
     "text": [
      "[Stage 234:>                                                        (0 + 1) / 1]\r"
     ]
    },
    {
     "name": "stdout",
     "output_type": "stream",
     "text": [
      "+-------------+------+-------+-------+------------+---------------+\n",
      "|IdGeografia_T|Estado|Condado|AreaAct|PoblacionAct|IdGeografia_DWH|\n",
      "+-------------+------+-------+-------+------------+---------------+\n",
      "+-------------+------+-------+-------+------------+---------------+\n",
      "\n"
     ]
    },
    {
     "name": "stderr",
     "output_type": "stream",
     "text": [
      "                                                                                \r"
     ]
    }
   ],
   "execution_count": 80
  },
  {
   "metadata": {
    "ExecuteTime": {
     "end_time": "2024-11-18T17:03:36.296583Z",
     "start_time": "2024-11-18T17:03:34.524762Z"
    }
   },
   "cell_type": "code",
   "source": [
    "df_invalid_poblacion = df_geografia.filter(col(\"PoblacionAct\").like(\"%0001\"))\n",
    "\n",
    "df_invalid_poblacion.show(truncate=False)\n",
    "\n",
    "count_invalid = df_invalid_poblacion.count()\n",
    "if count_invalid > 0:\n",
    "    print(f\"Se encontraron {count_invalid} registros con PoblacionAct terminando en '0001'.\")\n",
    "else:\n",
    "    print(\"No se encontraron registros con PoblacionAct terminando en '0001'.\")\n"
   ],
   "outputs": [
    {
     "name": "stderr",
     "output_type": "stream",
     "text": [
      "                                                                                \r"
     ]
    },
    {
     "name": "stdout",
     "output_type": "stream",
     "text": [
      "+-------------+------+-------+-------+------------+---------------+\n",
      "|IdGeografia_T|Estado|Condado|AreaAct|PoblacionAct|IdGeografia_DWH|\n",
      "+-------------+------+-------+-------+------------+---------------+\n",
      "+-------------+------+-------+-------+------------+---------------+\n",
      "\n"
     ]
    },
    {
     "name": "stderr",
     "output_type": "stream",
     "text": [
      "[Stage 236:>                                                        (0 + 1) / 1]\r"
     ]
    },
    {
     "name": "stdout",
     "output_type": "stream",
     "text": [
      "No se encontraron registros con PoblacionAct terminando en '0001'.\n"
     ]
    },
    {
     "name": "stderr",
     "output_type": "stream",
     "text": [
      "                                                                                \r"
     ]
    }
   ],
   "execution_count": 81
  },
  {
   "metadata": {},
   "cell_type": "markdown",
   "source": "### Adicionar el comodin "
  },
  {
   "metadata": {
    "ExecuteTime": {
     "end_time": "2024-11-18T17:03:40.536795Z",
     "start_time": "2024-11-18T17:03:39.403996Z"
    }
   },
   "cell_type": "code",
   "source": [
    "data = [(0, \"Missing\", \"Missing\", 0.0, 0.0, 0)]\n",
    "columns = [\"IdGeografia_T\", \"Estado\", \"Condado\", \"AreaAct\", \"PoblacionAct\", \"IdGeografia_DWH\"]\n",
    "dummy_df_geografia = spark.createDataFrame(data, columns)\n",
    "\n",
    "df_geografia = dummy_df_geografia.union(df_geografia)\n",
    "df_geografia.show(3)"
   ],
   "outputs": [
    {
     "name": "stdout",
     "output_type": "stream",
     "text": [
      "+-------------+-------+--------------+-------+------------+---------------+\n",
      "|IdGeografia_T| Estado|       Condado|AreaAct|PoblacionAct|IdGeografia_DWH|\n",
      "+-------------+-------+--------------+-------+------------+---------------+\n",
      "|            0|Missing|       Missing|    0.0|         0.0|              0|\n",
      "|         1001|Alabama|Autauga County|  594.0|     59095.0|              1|\n",
      "|         1003|Alabama|Baldwin County| 1589.0|    239294.0|              2|\n",
      "+-------------+-------+--------------+-------+------------+---------------+\n",
      "only showing top 3 rows\n",
      "\n"
     ]
    },
    {
     "name": "stderr",
     "output_type": "stream",
     "text": [
      "                                                                                \r"
     ]
    }
   ],
   "execution_count": 82
  },
  {
   "metadata": {},
   "cell_type": "markdown",
   "source": "Adicionar Densidad a partir del calculo de dos columnas para corroborar su valor\n"
  },
  {
   "cell_type": "markdown",
   "metadata": {},
   "source": "### 4. Completar los campos nulos de poblacion y area"
  },
  {
   "metadata": {},
   "cell_type": "markdown",
   "source": "Verificar si existen valores nulos en las columnas relevantes "
  },
  {
   "cell_type": "code",
   "metadata": {
    "ExecuteTime": {
     "end_time": "2024-11-18T17:03:45.504917Z",
     "start_time": "2024-11-18T17:03:42.658799Z"
    }
   },
   "source": [
    "\n",
    "columns_to_check = [\"IdGeografia_T\", \"Estado\", \"Condado\", \"AreaAct\", \"IdGeografia_DWH\"]\n",
    "\n",
    "for col_name in columns_to_check:\n",
    "    null_count = df_geografia.filter(col(col_name).isNull()).count()\n",
    "    if null_count > 0:\n",
    "        print(f\"Se encontraron {null_count} valores nulos en la columna {col_name}.\")\n",
    "    else:\n",
    "        print(f\"No se encontraron valores nulos en la columna {col_name}.\")\n"
   ],
   "outputs": [
    {
     "name": "stderr",
     "output_type": "stream",
     "text": [
      "                                                                                \r"
     ]
    },
    {
     "name": "stdout",
     "output_type": "stream",
     "text": [
      "No se encontraron valores nulos en la columna IdGeografia_T.\n",
      "No se encontraron valores nulos en la columna Estado.\n",
      "No se encontraron valores nulos en la columna Condado.\n",
      "Se encontraron 31 valores nulos en la columna AreaAct.\n",
      "No se encontraron valores nulos en la columna IdGeografia_DWH.\n"
     ]
    }
   ],
   "execution_count": 83
  },
  {
   "metadata": {},
   "cell_type": "markdown",
   "source": [
    "### Garantizar completitud de las poblaciones\n",
    "Se garantiza la completitud de las poblaciones y areas nulas, primero se hace un query en la base de datos, para obtener los condados con dichos valores vacios, como son pocos se completa la informacion con wikipedia."
   ]
  },
  {
   "metadata": {
    "ExecuteTime": {
     "end_time": "2024-11-18T17:03:46.793615Z",
     "start_time": "2024-11-18T17:03:46.763521Z"
    }
   },
   "cell_type": "code",
   "source": [
    "data = [\n",
    "    (51510, \"Virginia\", \"Alexandria City\", 15.03, 159200),\n",
    "    (51650, \"Virginia\", \"Hampton City\", 51.41, 137148),\n",
    "    (51735, \"Virginia\", \"Poquoson City\", 15.5, 12150),\n",
    "    (51830, \"Virginia\", \"Williamsburg City\", 9.1, 15000),\n",
    "    (51710, \"Virginia\", \"Norfolk City\", 54.0, 238005),\n",
    "    (51700, \"Virginia\", \"Newport News City\", 69.2, 179225),\n",
    "    (51670, \"Virginia\", \"Hopewell City\", 10.2, 22529),\n",
    "    (51570, \"Virginia\", \"Colonial Heights City\", 7.5, 17411),\n",
    "    (51730, \"Virginia\", \"Petersburg City\", 23.2, 30587),\n",
    "    (51760, \"Virginia\", \"Richmond City\", 62.5, 226610),\n",
    "    (51810, \"Virginia\", \"Virginia Beach City\", 249.0, 450189),\n",
    "    (51550, \"Virginia\", \"Chesapeake City\", 340.7, 249422),\n",
    "    (51610, \"Virginia\", \"Falls Church City\", 2.0, 14617),\n",
    "    (51685, \"Virginia\", \"Manassas Park City\", 2.5, 16800),\n",
    "    (51600, \"Virginia\", \"Fairfax City\", 6.3, 24019),\n",
    "    (51740, \"Virginia\", \"Portsmouth City\", 33.6, 94698),\n",
    "    (51620, \"Virginia\", \"Franklin City\", 8.3, 8000),\n",
    "    (51630, \"Virginia\", \"Fredericksburg City\", 10.5, 29036),\n",
    "    (51678, \"Virginia\", \"Lexington City\", 2.5, 7200),\n",
    "    (51683, \"Virginia\", \"Manassas City\", 10.0, 41764),\n",
    "    (51540, \"Virginia\", \"Charlottesville City\", 10.3, 47146),\n",
    "    (51790, \"Virginia\", \"Staunton City\", 20.0, 24932),\n",
    "    (51800, \"Virginia\", \"Suffolk City\", 400.0, 94586),\n",
    "    (51660, \"Virginia\", \"Harrisonburg City\", 17.4, 54033),\n",
    "    (51515, \"Virginia\", \"Bedford\", 6.9, 6500),\n",
    "    (51680, \"Virginia\", \"Lynchburg City\", 49.6, 82000),\n",
    "    (51595, \"Virginia\", \"Emporia City\", 7.0, 5400),\n",
    "    (51530, \"Virginia\", \"Buena Vista City\", 6.8, 6000),\n",
    "    (51580, \"Virginia\", \"Covington City\", 5.7, 5700),\n",
    "    (51820, \"Virginia\", \"Waynesboro City\", 15.4, 22000),\n",
    "    (51840, \"Virginia\", \"Winchester City\", 9.3, 28078),\n",
    "]\n",
    "\n",
    "columns = [\"IdGeografia_T\", \"State\", \"Country\", \"Area\", \"Population\"]\n",
    "\n",
    "df_missing_countries = spark.createDataFrame(data, columns)\n"
   ],
   "outputs": [],
   "execution_count": 84
  },
  {
   "metadata": {
    "ExecuteTime": {
     "end_time": "2024-11-18T17:03:50.673454Z",
     "start_time": "2024-11-18T17:03:49.319519Z"
    }
   },
   "cell_type": "code",
   "source": [
    "df_geografia = df_geografia.join(df_missing_countries, how = 'left', on = 'IdGeografia_T')\n",
    "\n",
    "# Probar para algunos IDs que fueron identificados como nulos\n",
    "df_geografia.filter(col(\"IdGeografia_T\").isin(51650, 51510, 51735, 51700)).show()"
   ],
   "outputs": [
    {
     "name": "stdout",
     "output_type": "stream",
     "text": [
      "+-------------+--------+-----------------+-------+------------+---------------+--------+-----------------+-----+----------+\n",
      "|IdGeografia_T|  Estado|          Condado|AreaAct|PoblacionAct|IdGeografia_DWH|   State|          Country| Area|Population|\n",
      "+-------------+--------+-----------------+-------+------------+---------------+--------+-----------------+-----+----------+\n",
      "|        51700|Virginia|Newport News City|   null|    179582.0|           2485|Virginia|Newport News City| 69.2|    179225|\n",
      "|        51650|Virginia|     Hampton City|   null|    135169.0|           2478|Virginia|     Hampton City|51.41|    137148|\n",
      "|        51510|Virginia|  Alexandria City|   null|    158309.0|           2466|Virginia|  Alexandria City|15.03|    159200|\n",
      "|        51735|Virginia|    Poquoson City|   null|     12121.0|           2488|Virginia|    Poquoson City| 15.5|     12150|\n",
      "+-------------+--------+-----------------+-------+------------+---------------+--------+-----------------+-----+----------+\n",
      "\n"
     ]
    },
    {
     "name": "stderr",
     "output_type": "stream",
     "text": [
      "                                                                                \r"
     ]
    }
   ],
   "execution_count": 85
  },
  {
   "metadata": {
    "ExecuteTime": {
     "end_time": "2024-11-18T17:03:54.745442Z",
     "start_time": "2024-11-18T17:03:53.459226Z"
    }
   },
   "cell_type": "code",
   "source": [
    "df_geografia = df_geografia.withColumn(\"AreaAct\", when(col(\"AreaAct\").isNull(), \n",
    "                                                                 col(\"Area\")).otherwise(col(\"AreaAct\")))\n",
    "\n",
    "df_geografia.filter(col(\"IdGeografia_T\").isin(51650, 51510, 51735, 51700)).show()\n"
   ],
   "outputs": [
    {
     "name": "stdout",
     "output_type": "stream",
     "text": [
      "+-------------+--------+-----------------+-------+------------+---------------+--------+-----------------+-----+----------+\n",
      "|IdGeografia_T|  Estado|          Condado|AreaAct|PoblacionAct|IdGeografia_DWH|   State|          Country| Area|Population|\n",
      "+-------------+--------+-----------------+-------+------------+---------------+--------+-----------------+-----+----------+\n",
      "|        51700|Virginia|Newport News City|   69.2|    179582.0|           2485|Virginia|Newport News City| 69.2|    179225|\n",
      "|        51650|Virginia|     Hampton City|  51.41|    135169.0|           2478|Virginia|     Hampton City|51.41|    137148|\n",
      "|        51510|Virginia|  Alexandria City|  15.03|    158309.0|           2466|Virginia|  Alexandria City|15.03|    159200|\n",
      "|        51735|Virginia|    Poquoson City|   15.5|     12121.0|           2488|Virginia|    Poquoson City| 15.5|     12150|\n",
      "+-------------+--------+-----------------+-------+------------+---------------+--------+-----------------+-----+----------+\n",
      "\n"
     ]
    },
    {
     "name": "stderr",
     "output_type": "stream",
     "text": [
      "                                                                                \r"
     ]
    }
   ],
   "execution_count": 86
  },
  {
   "metadata": {
    "ExecuteTime": {
     "end_time": "2024-11-18T17:03:59.370318Z",
     "start_time": "2024-11-18T17:03:58.173336Z"
    }
   },
   "cell_type": "code",
   "source": [
    "columns_to_drop = [\"State\", \"Country\", \"Area\", \"Population\"]\n",
    "\n",
    "df_geografia = df_geografia.drop(*columns_to_drop)\n",
    "df_geografia.show(3)\n"
   ],
   "outputs": [
    {
     "name": "stdout",
     "output_type": "stream",
     "text": [
      "+-------------+-------+--------------+-------+------------+---------------+\n",
      "|IdGeografia_T| Estado|       Condado|AreaAct|PoblacionAct|IdGeografia_DWH|\n",
      "+-------------+-------+--------------+-------+------------+---------------+\n",
      "|            0|Missing|       Missing|    0.0|         0.0|              0|\n",
      "|         1007|Alabama|   Bibb County|  622.0|     22477.0|              4|\n",
      "|         1005|Alabama|Barbour County|  884.0|     24964.0|              3|\n",
      "+-------------+-------+--------------+-------+------------+---------------+\n",
      "only showing top 3 rows\n",
      "\n"
     ]
    },
    {
     "name": "stderr",
     "output_type": "stream",
     "text": [
      "                                                                                \r"
     ]
    }
   ],
   "execution_count": 87
  },
  {
   "metadata": {},
   "cell_type": "markdown",
   "source": [
    "### Adicionar la Densidad\n",
    "Al ser este un campo calculado , se recomienda al negocio no persistir estos datos, es una mala practica, se puede crear vista o otras alternativas."
   ]
  },
  {
   "metadata": {
    "ExecuteTime": {
     "end_time": "2024-11-18T17:04:04.902046Z",
     "start_time": "2024-11-18T17:04:03.846667Z"
    }
   },
   "cell_type": "code",
   "source": [
    "df_geografia = df_geografia.withColumn(\"DensidadAct\", round(col(\"PoblacionAct\") / col(\"AreaAct\"), 3))\n",
    "df_geografia.show(3)\n"
   ],
   "outputs": [
    {
     "name": "stdout",
     "output_type": "stream",
     "text": [
      "+-------------+--------+--------------+-------+------------+---------------+-----------+\n",
      "|IdGeografia_T|  Estado|       Condado|AreaAct|PoblacionAct|IdGeografia_DWH|DensidadAct|\n",
      "+-------------+--------+--------------+-------+------------+---------------+-----------+\n",
      "|            0| Missing|       Missing|    0.0|         0.0|              0|       null|\n",
      "|        17043|Illinois| DuPage County|  327.0|    924885.0|            432|   2828.394|\n",
      "|        18147| Indiana|Spencer County|  397.0|     19798.0|            586|     49.869|\n",
      "+-------------+--------+--------------+-------+------------+---------------+-----------+\n",
      "only showing top 3 rows\n",
      "\n"
     ]
    },
    {
     "name": "stderr",
     "output_type": "stream",
     "text": [
      "                                                                                \r"
     ]
    }
   ],
   "execution_count": 88
  },
  {
   "metadata": {},
   "cell_type": "markdown",
   "source": [
    "Cambiar valor de la densidad del comodin \n",
    "\n"
   ]
  },
  {
   "metadata": {
    "ExecuteTime": {
     "end_time": "2024-11-18T17:04:12.024520Z",
     "start_time": "2024-11-18T17:04:10.754793Z"
    }
   },
   "cell_type": "code",
   "source": [
    "df_geografia = df_geografia.withColumn(\"DensidadAct\",\n",
    "    when(col(\"IdGeografia_T\") == 0, 0.0).otherwise(col(\"DensidadAct\")))\n",
    "\n",
    "df_geografia.show(3)"
   ],
   "outputs": [
    {
     "name": "stderr",
     "output_type": "stream",
     "text": [
      "[Stage 281:==================================================>      (8 + 1) / 9]\r"
     ]
    },
    {
     "name": "stdout",
     "output_type": "stream",
     "text": [
      "+-------------+--------+--------------+-------+------------+---------------+-----------+\n",
      "|IdGeografia_T|  Estado|       Condado|AreaAct|PoblacionAct|IdGeografia_DWH|DensidadAct|\n",
      "+-------------+--------+--------------+-------+------------+---------------+-----------+\n",
      "|            0| Missing|       Missing|    0.0|         0.0|              0|        0.0|\n",
      "|        17043|Illinois| DuPage County|  327.0|    924885.0|            432|   2828.394|\n",
      "|        18147| Indiana|Spencer County|  397.0|     19798.0|            586|     49.869|\n",
      "+-------------+--------+--------------+-------+------------+---------------+-----------+\n",
      "only showing top 3 rows\n",
      "\n"
     ]
    },
    {
     "name": "stderr",
     "output_type": "stream",
     "text": [
      "                                                                                \r"
     ]
    }
   ],
   "execution_count": 89
  },
  {
   "metadata": {},
   "cell_type": "markdown",
   "source": "## LOAD - Geografia"
  },
  {
   "metadata": {
    "ExecuteTime": {
     "end_time": "2024-11-18T17:04:40.301367Z",
     "start_time": "2024-11-18T17:04:38.136200Z"
    }
   },
   "cell_type": "code",
   "source": [
    "df_geografia = df_geografia.withColumn('IdGeografia_DWH',col('IdGeografia_DWH').cast('int')).orderBy(col('IdGeografia_DWH'))\n",
    "\n",
    "df_geografia.printSchema()\n",
    "df_geografia.show(5)\n",
    "df_geografia.count()"
   ],
   "outputs": [
    {
     "name": "stdout",
     "output_type": "stream",
     "text": [
      "root\n",
      " |-- IdGeografia_T: long (nullable = true)\n",
      " |-- Estado: string (nullable = true)\n",
      " |-- Condado: string (nullable = true)\n",
      " |-- AreaAct: double (nullable = true)\n",
      " |-- PoblacionAct: double (nullable = true)\n",
      " |-- IdGeografia_DWH: integer (nullable = true)\n",
      " |-- DensidadAct: double (nullable = true)\n",
      "\n",
      "+-------------+-------+--------------+-------+------------+---------------+-----------+\n",
      "|IdGeografia_T| Estado|       Condado|AreaAct|PoblacionAct|IdGeografia_DWH|DensidadAct|\n",
      "+-------------+-------+--------------+-------+------------+---------------+-----------+\n",
      "|            0|Missing|       Missing|    0.0|         0.0|              0|        0.0|\n",
      "|         1001|Alabama|Autauga County|  594.0|     59095.0|              1|     99.487|\n",
      "|         1003|Alabama|Baldwin County| 1589.0|    239294.0|              2|    150.594|\n",
      "|         1005|Alabama|Barbour County|  884.0|     24964.0|              3|      28.24|\n",
      "|         1007|Alabama|   Bibb County|  622.0|     22477.0|              4|     36.137|\n",
      "+-------------+-------+--------------+-------+------------+---------------+-----------+\n",
      "only showing top 5 rows\n",
      "\n"
     ]
    },
    {
     "data": {
      "text/plain": [
       "2647"
      ]
     },
     "execution_count": 91,
     "metadata": {},
     "output_type": "execute_result"
    }
   ],
   "execution_count": 91
  },
  {
   "metadata": {
    "ExecuteTime": {
     "end_time": "2024-11-18T17:05:04.573266Z",
     "start_time": "2024-11-18T17:04:54.749972Z"
    }
   },
   "cell_type": "code",
   "source": "conn_dest.save_db(df_geografia, 'Rs_Geografia')",
   "outputs": [
    {
     "name": "stderr",
     "output_type": "stream",
     "text": [
      "                                                                                \r"
     ]
    }
   ],
   "execution_count": 93
  },
  {
   "cell_type": "markdown",
   "metadata": {
    "jp-MarkdownHeadingCollapsed": true,
    "tags": []
   },
   "source": [
    "# AsociacionAreaServicioGeografia"
   ]
  },
  {
   "cell_type": "markdown",
   "metadata": {},
   "source": [
    "### Extracción de datos de AsociacionAreaServicioGeografia"
   ]
  },
  {
   "cell_type": "code",
   "metadata": {
    "ExecuteTime": {
     "end_time": "2024-11-18T19:23:30.413213Z",
     "start_time": "2024-11-18T19:23:30.350946Z"
    }
   },
   "source": [
    "# Extracción desde Rs_AreasDeServicio\n",
    "sql_areas_servicio_geografia = '''\n",
    "(\n",
    "SELECT DISTINCT IdAreaDeServicio_T,\n",
    "                IdGeografia_T               \n",
    "FROM FuenteAreasDeServicio_ETL\n",
    "WHERE IdAreaDeServicio_T IS NOT NULL AND IdGeografia_T IS NOT NULL\n",
    "GROUP BY IdAreaDeServicio_T, IdGeografia_T, NombreAreaDeServicio, Condado, Estado\n",
    "ORDER BY IdAreaDeServicio_T, IdGeografia_T\n",
    ") AS AreasDeServicioIds\n",
    "'''\n",
    "df_areas_servicio_source = conn_orig.get_dataframe(sql_areas_servicio_geografia)\n",
    "df_areas_servicio_source = df_areas_servicio_source.withColumn('IdAreaDeServicio_T', col('IdAreaDeServicio_T').cast(IntegerType())) \\\n",
    "    .withColumn('IdGeografia_T', col('IdGeografia_T').cast(IntegerType()))\n",
    "df_areas_servicio_source.printSchema()"
   ],
   "outputs": [
    {
     "name": "stdout",
     "output_type": "stream",
     "text": [
      "root\n",
      " |-- IdAreaDeServicio_T: integer (nullable = true)\n",
      " |-- IdGeografia_T: integer (nullable = true)\n",
      "\n"
     ]
    }
   ],
   "execution_count": 108
  },
  {
   "metadata": {
    "ExecuteTime": {
     "end_time": "2024-11-18T19:20:13.655456Z",
     "start_time": "2024-11-18T19:20:11.367355Z"
    }
   },
   "cell_type": "code",
   "source": [
    "# Filtrar por las dos tablas anteriores\n",
    "# Correcting the selection of specific columns\n",
    "df_geografia_filtered_ids = df_geografia.select(\"IdGeografia_T\", \"IdGeografia_DWH\")\n",
    "df_areas_servicio_filtered_ids = df_areas_servicio.select(\"IdAreaDeServicio_T\", \"IdAreaDeServicio_DWH\")\n",
    "\n",
    "# Display the results\n",
    "df_geografia_filtered_ids.show(3)\n",
    "df_areas_servicio_filtered_ids.show(3)"
   ],
   "outputs": [
    {
     "name": "stdout",
     "output_type": "stream",
     "text": [
      "+-------------+---------------+\n",
      "|IdGeografia_T|IdGeografia_DWH|\n",
      "+-------------+---------------+\n",
      "|            0|              0|\n",
      "|         1001|              1|\n",
      "|         1003|              2|\n",
      "+-------------+---------------+\n",
      "only showing top 3 rows\n",
      "\n"
     ]
    },
    {
     "name": "stderr",
     "output_type": "stream",
     "text": [
      "[Stage 356:==========================================>              (3 + 1) / 4]\r"
     ]
    },
    {
     "name": "stdout",
     "output_type": "stream",
     "text": [
      "+------------------+--------------------+\n",
      "|IdAreaDeServicio_T|IdAreaDeServicio_DWH|\n",
      "+------------------+--------------------+\n",
      "|                 0|                   0|\n",
      "|             12018|                   1|\n",
      "|             22019|                   2|\n",
      "+------------------+--------------------+\n",
      "only showing top 3 rows\n",
      "\n"
     ]
    },
    {
     "name": "stderr",
     "output_type": "stream",
     "text": [
      "                                                                                \r"
     ]
    }
   ],
   "execution_count": 107
  },
  {
   "metadata": {
    "ExecuteTime": {
     "end_time": "2024-11-18T19:41:27.175636Z",
     "start_time": "2024-11-18T19:41:23.382358Z"
    }
   },
   "cell_type": "code",
   "source": [
    "areas_servicio_ids = (df_areas_servicio_source.join(df_geografia_filtered_ids, how = 'left', on = 'IdGeografia_T').join(df_areas_servicio_filtered_ids, how = 'left', on='IdAreaDeServicio_T')\n",
    "                      .select([col('IdAreaDeServicio_DWH'),col('IdGeografia_DWH')])\n",
    "                      .fillna({'IdAreaDeServicio_DWH': 0, 'IdGeografia_DWH': 0}))\n",
    "areas_servicio_ids.count()\n"
   ],
   "outputs": [
    {
     "name": "stderr",
     "output_type": "stream",
     "text": [
      "                                                                                \r"
     ]
    },
    {
     "data": {
      "text/plain": [
       "268444"
      ]
     },
     "execution_count": 118,
     "metadata": {},
     "output_type": "execute_result"
    }
   ],
   "execution_count": 118
  },
  {
   "metadata": {
    "ExecuteTime": {
     "end_time": "2024-11-18T19:41:36.644572Z",
     "start_time": "2024-11-18T19:41:36.641485Z"
    }
   },
   "cell_type": "code",
   "source": "areas_servicio_ids.printSchema()",
   "outputs": [
    {
     "name": "stdout",
     "output_type": "stream",
     "text": [
      "root\n",
      " |-- IdAreaDeServicio_DWH: long (nullable = false)\n",
      " |-- IdGeografia_DWH: integer (nullable = false)\n",
      "\n"
     ]
    }
   ],
   "execution_count": 119
  },
  {
   "metadata": {
    "ExecuteTime": {
     "end_time": "2024-11-18T19:41:41.871846Z",
     "start_time": "2024-11-18T19:41:41.843007Z"
    }
   },
   "cell_type": "code",
   "source": [
    "areas_servicio_ids = areas_servicio_ids.withColumn('IdAreaDeServicio_DWH', col('IdAreaDeServicio_DWH').cast(IntegerType())) \\\n",
    "    .withColumn('IdGeografia_DWH', col('IdGeografia_DWH').cast(IntegerType()))"
   ],
   "outputs": [],
   "execution_count": 120
  },
  {
   "metadata": {
    "ExecuteTime": {
     "end_time": "2024-11-18T19:41:44.149218Z",
     "start_time": "2024-11-18T19:41:44.142699Z"
    }
   },
   "cell_type": "code",
   "source": "areas_servicio_ids.printSchema()",
   "outputs": [
    {
     "name": "stdout",
     "output_type": "stream",
     "text": [
      "root\n",
      " |-- IdAreaDeServicio_DWH: integer (nullable = false)\n",
      " |-- IdGeografia_DWH: integer (nullable = false)\n",
      "\n"
     ]
    }
   ],
   "execution_count": 121
  },
  {
   "metadata": {
    "ExecuteTime": {
     "end_time": "2024-11-18T19:46:37.882060Z",
     "start_time": "2024-11-18T19:43:27.072910Z"
    }
   },
   "cell_type": "code",
   "source": [
    "areas_servicio_ids = areas_servicio_ids.repartition(4)\n",
    "conn_dest.save_db(areas_servicio_ids, 'Rs_AsociacionAreaServicioGeografia')"
   ],
   "outputs": [
    {
     "name": "stderr",
     "output_type": "stream",
     "text": [
      "                                                                                \r"
     ]
    }
   ],
   "execution_count": 123
  }
 ],
 "metadata": {
  "colab": {
   "collapsed_sections": [
    "vtE61qk986vx",
    "X9Oou0g986vy",
    "B5kFkHTD86vz",
    "ddFhEOmL86vz",
    "MuvVgJ4R86v0",
    "BZjDeVYd86v1",
    "_7xbgfCk86v1",
    "Rh_102Yy86v1",
    "HogvCqW_86v2",
    "9rKmT9jd86v2",
    "R9SnkMUH86v3",
    "k8O1GvOd86v3",
    "Mo633Vpg86v3",
    "i36NawhX86v4",
    "LvgnsPfK86v4",
    "dTv_CIOT86v5",
    "N9f10qpB86v9"
   ],
   "name": "MISW-ETL-TutorialETL.ipynb",
   "provenance": []
  },
  "kernelspec": {
   "display_name": "Python 3 (ipykernel)",
   "language": "python",
   "name": "python3"
  },
  "language_info": {
   "codemirror_mode": {
    "name": "ipython",
    "version": 3
   },
   "file_extension": ".py",
   "mimetype": "text/x-python",
   "name": "python",
   "nbconvert_exporter": "python",
   "pygments_lexer": "ipython3",
   "version": "3.9.12"
  }
 },
 "nbformat": 4,
 "nbformat_minor": 4
}
