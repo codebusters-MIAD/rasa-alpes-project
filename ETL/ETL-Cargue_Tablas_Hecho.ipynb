{
 "cells": [
  {
   "cell_type": "markdown",
   "metadata": {
    "id": "IcY9y56n86vn"
   },
   "source": [
    "# Configuración Inicial\n",
    "Métodos un utils en común en los notebooks"
   ]
  },
  {
   "metadata": {
    "ExecuteTime": {
     "end_time": "2024-11-21T02:37:28.356950Z",
     "start_time": "2024-11-21T02:37:28.349780Z"
    }
   },
   "cell_type": "code",
   "source": [
    "# Imports\n",
    "from pyspark.sql import SparkSession\n",
    "from pyspark import SparkContext, SparkConf, SQLContext\n",
    "from pyspark.sql.functions import to_date, date_add\n",
    "from pyspark.sql.types import IntegerType, DecimalType\n",
    "from pyspark.sql.types import StringType\n",
    "from pyspark.sql import functions as f\n",
    "from pyspark.sql.functions import col, lit, when, row_number, concat\n",
    "from pyspark.sql.window import Window"
   ],
   "outputs": [],
   "execution_count": 66
  },
  {
   "metadata": {
    "ExecuteTime": {
     "end_time": "2024-11-21T00:08:33.385436Z",
     "start_time": "2024-11-21T00:08:33.380662Z"
    }
   },
   "cell_type": "code",
   "source": [
    "class MySQLConnector:\n",
    "    def __init__(self, spark: SparkSession, connection_properties: dict, url: str):\n",
    "        self.spark = spark\n",
    "        self.properties = connection_properties\n",
    "        self.url = url\n",
    "\n",
    "    def get_dataframe(self, sql_query: str):        \n",
    "        df = self.spark.read.jdbc(\n",
    "            url=self.url,\n",
    "            table=sql_query,\n",
    "            properties=self.properties\n",
    "        )\n",
    "        return df\n",
    "    \n",
    "    def save_db(self, df, tabla):\n",
    "        df.write.jdbc(\n",
    "            url=self.url,\n",
    "            table=tabla,\n",
    "            mode='append',\n",
    "            properties=self.properties\n",
    "        )\n",
    "        \n",
    "def create_spark_session(path_jar_driver):    \n",
    "    conf = SparkConf().set('spark.driver.extraClassPath', path_jar_driver)\n",
    "    spark_context = SparkContext(conf=conf)\n",
    "    sql_context = SQLContext(spark_context)\n",
    "    return sql_context.sparkSession    \n",
    "\n",
    "def get_dataframe_from_csv(_PATH, _sep):\n",
    "    return spark.read.load(_PATH, format=\"csv\", sep=_sep, inferSchema=\"true\", header='true')"
   ],
   "outputs": [],
   "execution_count": 2
  },
  {
   "cell_type": "code",
   "metadata": {
    "id": "os1iJYmu86vt",
    "ExecuteTime": {
     "end_time": "2024-11-21T00:54:28.105977Z",
     "start_time": "2024-11-21T00:54:28.101289Z"
    }
   },
   "source": [
    "db_user = 'Estudiante_65_202415'\n",
    "db_psswd = 'Estudiante_202010409'\n",
    "\n",
    "connection_properties = {\n",
    "    \"user\": db_user,\n",
    "    \"password\": db_psswd,\n",
    "    \"driver\": \"com.mysql.cj.jdbc.Driver\",\n",
    "    \"batchsize\": '500'\n",
    "}\n",
    "\n",
    "source_db_string_connection = 'jdbc:mysql://157.253.236.120:8080/RaSaTransaccional_ETL'\n",
    "destination_db_string_connection = f'jdbc:mysql://157.253.236.120:8080/{db_user}'\n",
    "\n",
    "# Driver de conexion\n",
    "# LINUX\n",
    "path_jar_driver = '/opt/mysql/lib/mysql-connector-java-8.0.28.jar'\n",
    "# WINDOWS\n",
    "#path_jar_driver = 'C:\\Program Files (x86)\\MySQL\\Connector J 8.0\\mysql-connector-java-8.0.28.jar'"
   ],
   "outputs": [],
   "execution_count": 32
  },
  {
   "metadata": {
    "ExecuteTime": {
     "end_time": "2024-11-21T00:54:30.959364Z",
     "start_time": "2024-11-21T00:54:30.787736Z"
    }
   },
   "cell_type": "code",
   "source": "spark = create_spark_session(path_jar_driver)",
   "outputs": [
    {
     "ename": "ValueError",
     "evalue": "Cannot run multiple SparkContexts at once; existing SparkContext(app=pyspark-shell, master=local[*]) created by __init__ at /tmp/ipykernel_3857/885711144.py:25 ",
     "output_type": "error",
     "traceback": [
      "\u001B[0;31m---------------------------------------------------------------------------\u001B[0m",
      "\u001B[0;31mValueError\u001B[0m                                Traceback (most recent call last)",
      "Cell \u001B[0;32mIn[33], line 1\u001B[0m\n\u001B[0;32m----> 1\u001B[0m spark \u001B[38;5;241m=\u001B[39m create_spark_session(path_jar_driver)\n",
      "Cell \u001B[0;32mIn[2], line 25\u001B[0m, in \u001B[0;36mcreate_spark_session\u001B[0;34m(path_jar_driver)\u001B[0m\n\u001B[1;32m     23\u001B[0m \u001B[38;5;28;01mdef\u001B[39;00m \u001B[38;5;21mcreate_spark_session\u001B[39m(path_jar_driver):    \n\u001B[1;32m     24\u001B[0m     conf \u001B[38;5;241m=\u001B[39m SparkConf()\u001B[38;5;241m.\u001B[39mset(\u001B[38;5;124m'\u001B[39m\u001B[38;5;124mspark.driver.extraClassPath\u001B[39m\u001B[38;5;124m'\u001B[39m, path_jar_driver)\n\u001B[0;32m---> 25\u001B[0m     spark_context \u001B[38;5;241m=\u001B[39m SparkContext(conf\u001B[38;5;241m=\u001B[39mconf)\n\u001B[1;32m     26\u001B[0m     sql_context \u001B[38;5;241m=\u001B[39m SQLContext(spark_context)\n\u001B[1;32m     27\u001B[0m     \u001B[38;5;28;01mreturn\u001B[39;00m sql_context\u001B[38;5;241m.\u001B[39msparkSession\n",
      "File \u001B[0;32m~/anaconda3/lib/python3.11/site-packages/pyspark/context.py:198\u001B[0m, in \u001B[0;36mSparkContext.__init__\u001B[0;34m(self, master, appName, sparkHome, pyFiles, environment, batchSize, serializer, conf, gateway, jsc, profiler_cls, udf_profiler_cls, memory_profiler_cls)\u001B[0m\n\u001B[1;32m    192\u001B[0m \u001B[38;5;28;01mif\u001B[39;00m gateway \u001B[38;5;129;01mis\u001B[39;00m \u001B[38;5;129;01mnot\u001B[39;00m \u001B[38;5;28;01mNone\u001B[39;00m \u001B[38;5;129;01mand\u001B[39;00m gateway\u001B[38;5;241m.\u001B[39mgateway_parameters\u001B[38;5;241m.\u001B[39mauth_token \u001B[38;5;129;01mis\u001B[39;00m \u001B[38;5;28;01mNone\u001B[39;00m:\n\u001B[1;32m    193\u001B[0m     \u001B[38;5;28;01mraise\u001B[39;00m \u001B[38;5;167;01mValueError\u001B[39;00m(\n\u001B[1;32m    194\u001B[0m         \u001B[38;5;124m\"\u001B[39m\u001B[38;5;124mYou are trying to pass an insecure Py4j gateway to Spark. This\u001B[39m\u001B[38;5;124m\"\u001B[39m\n\u001B[1;32m    195\u001B[0m         \u001B[38;5;124m\"\u001B[39m\u001B[38;5;124m is not allowed as it is a security risk.\u001B[39m\u001B[38;5;124m\"\u001B[39m\n\u001B[1;32m    196\u001B[0m     )\n\u001B[0;32m--> 198\u001B[0m SparkContext\u001B[38;5;241m.\u001B[39m_ensure_initialized(\u001B[38;5;28mself\u001B[39m, gateway\u001B[38;5;241m=\u001B[39mgateway, conf\u001B[38;5;241m=\u001B[39mconf)\n\u001B[1;32m    199\u001B[0m \u001B[38;5;28;01mtry\u001B[39;00m:\n\u001B[1;32m    200\u001B[0m     \u001B[38;5;28mself\u001B[39m\u001B[38;5;241m.\u001B[39m_do_init(\n\u001B[1;32m    201\u001B[0m         master,\n\u001B[1;32m    202\u001B[0m         appName,\n\u001B[0;32m   (...)\u001B[0m\n\u001B[1;32m    212\u001B[0m         memory_profiler_cls,\n\u001B[1;32m    213\u001B[0m     )\n",
      "File \u001B[0;32m~/anaconda3/lib/python3.11/site-packages/pyspark/context.py:445\u001B[0m, in \u001B[0;36mSparkContext._ensure_initialized\u001B[0;34m(cls, instance, gateway, conf)\u001B[0m\n\u001B[1;32m    442\u001B[0m     callsite \u001B[38;5;241m=\u001B[39m SparkContext\u001B[38;5;241m.\u001B[39m_active_spark_context\u001B[38;5;241m.\u001B[39m_callsite\n\u001B[1;32m    444\u001B[0m     \u001B[38;5;66;03m# Raise error if there is already a running Spark context\u001B[39;00m\n\u001B[0;32m--> 445\u001B[0m     \u001B[38;5;28;01mraise\u001B[39;00m \u001B[38;5;167;01mValueError\u001B[39;00m(\n\u001B[1;32m    446\u001B[0m         \u001B[38;5;124m\"\u001B[39m\u001B[38;5;124mCannot run multiple SparkContexts at once; \u001B[39m\u001B[38;5;124m\"\u001B[39m\n\u001B[1;32m    447\u001B[0m         \u001B[38;5;124m\"\u001B[39m\u001B[38;5;124mexisting SparkContext(app=\u001B[39m\u001B[38;5;132;01m%s\u001B[39;00m\u001B[38;5;124m, master=\u001B[39m\u001B[38;5;132;01m%s\u001B[39;00m\u001B[38;5;124m)\u001B[39m\u001B[38;5;124m\"\u001B[39m\n\u001B[1;32m    448\u001B[0m         \u001B[38;5;124m\"\u001B[39m\u001B[38;5;124m created by \u001B[39m\u001B[38;5;132;01m%s\u001B[39;00m\u001B[38;5;124m at \u001B[39m\u001B[38;5;132;01m%s\u001B[39;00m\u001B[38;5;124m:\u001B[39m\u001B[38;5;132;01m%s\u001B[39;00m\u001B[38;5;124m \u001B[39m\u001B[38;5;124m\"\u001B[39m\n\u001B[1;32m    449\u001B[0m         \u001B[38;5;241m%\u001B[39m (\n\u001B[1;32m    450\u001B[0m             currentAppName,\n\u001B[1;32m    451\u001B[0m             currentMaster,\n\u001B[1;32m    452\u001B[0m             callsite\u001B[38;5;241m.\u001B[39mfunction,\n\u001B[1;32m    453\u001B[0m             callsite\u001B[38;5;241m.\u001B[39mfile,\n\u001B[1;32m    454\u001B[0m             callsite\u001B[38;5;241m.\u001B[39mlinenum,\n\u001B[1;32m    455\u001B[0m         )\n\u001B[1;32m    456\u001B[0m     )\n\u001B[1;32m    457\u001B[0m \u001B[38;5;28;01melse\u001B[39;00m:\n\u001B[1;32m    458\u001B[0m     SparkContext\u001B[38;5;241m.\u001B[39m_active_spark_context \u001B[38;5;241m=\u001B[39m instance\n",
      "\u001B[0;31mValueError\u001B[0m: Cannot run multiple SparkContexts at once; existing SparkContext(app=pyspark-shell, master=local[*]) created by __init__ at /tmp/ipykernel_3857/885711144.py:25 "
     ]
    }
   ],
   "execution_count": 33
  },
  {
   "metadata": {
    "ExecuteTime": {
     "end_time": "2024-11-21T00:09:24.978320Z",
     "start_time": "2024-11-21T00:09:24.972726Z"
    }
   },
   "cell_type": "code",
   "source": [
    "conn_orig = MySQLConnector(spark=spark, connection_properties=connection_properties, url=source_db_string_connection)\n",
    "conn_dest = MySQLConnector(spark=spark, connection_properties=connection_properties, url=destination_db_string_connection)"
   ],
   "outputs": [],
   "execution_count": 12
  },
  {
   "metadata": {},
   "cell_type": "markdown",
   "source": "# Consultar Dimensiones"
  },
  {
   "metadata": {
    "ExecuteTime": {
     "end_time": "2024-11-21T00:09:29.151881Z",
     "start_time": "2024-11-21T00:09:27.291064Z"
    }
   },
   "cell_type": "code",
   "source": [
    "# Areas de Servicio\n",
    "sql_dim_areas_servicio = '''(SELECT IdAreaDeServicio_DWH, IdAreaDeServicio_T FROM Rs_AreasDeServicio ORDER BY IdAreaDeServicio_DWH, IdAreaDeServicio_T ASC) AS AreasDeServicio'''\n",
    "dim_areas_servicio = conn_dest.get_dataframe(sql_dim_areas_servicio)"
   ],
   "outputs": [],
   "execution_count": 13
  },
  {
   "metadata": {
    "ExecuteTime": {
     "end_time": "2024-11-21T00:09:31.091729Z",
     "start_time": "2024-11-21T00:09:31.025411Z"
    }
   },
   "cell_type": "code",
   "source": [
    "# Mini condiciones\n",
    "sql_dim_condiciones = '''(SELECT IdCondicionesBeneficios_DWH AS IdCondicionesTipoBeneficio_DWH, IdTipoBeneficio_T, Annio FROM Rs_MiniCondicionesTipoBeneficio ORDER BY IdCondicionesBeneficios_DWH, IdTipoBeneficio_T, Annio ASC) AS MiniCondicionesTipoBeneficio'''\n",
    "dim_mini_condiciones = conn_dest.get_dataframe(sql_dim_condiciones)"
   ],
   "outputs": [],
   "execution_count": 14
  },
  {
   "metadata": {
    "ExecuteTime": {
     "end_time": "2024-11-21T00:09:33.572146Z",
     "start_time": "2024-11-21T00:09:33.496747Z"
    }
   },
   "cell_type": "code",
   "source": [
    "# Proveedor\n",
    "sql_dim_proveedores = '''(SELECT IdProveedor_DWH, IdProveedor_T FROM Rs_Proveedor ORDER BY IdProveedor_DWH, IdProveedor_T ASC) AS Proveedor'''\n",
    "dim_proveedores = conn_dest.get_dataframe(sql_dim_proveedores)"
   ],
   "outputs": [],
   "execution_count": 15
  },
  {
   "metadata": {
    "ExecuteTime": {
     "end_time": "2024-11-21T00:09:35.507993Z",
     "start_time": "2024-11-21T00:09:35.081694Z"
    }
   },
   "cell_type": "code",
   "source": [
    "# Niveles de Servicio\n",
    "sql_dim_nivel_servicio = '''(SELECT IdNivelDeServicio_DWH, IdNivelDeServicio_T FROM Rs_NivelesDeServicio ORDER BY IdNivelDeServicio_DWH, IdNivelDeServicio_T ASC) AS NivelesDeServicio'''\n",
    "dim_nivel_servicio = conn_dest.get_dataframe(sql_dim_nivel_servicio)"
   ],
   "outputs": [],
   "execution_count": 16
  },
  {
   "metadata": {
    "ExecuteTime": {
     "end_time": "2024-11-21T00:09:37.131162Z",
     "start_time": "2024-11-21T00:09:36.937536Z"
    }
   },
   "cell_type": "code",
   "source": [
    "# Tipos Beneficio\n",
    "sql_dim_tipos_beneficio = '''(SELECT IdTipoBeneficio_DWH, IdTipoBeneficio_T FROM Rs_TiposBeneficio ORDER BY IdTipoBeneficio_DWH, IdTipoBeneficio_T ASC) AS TiposBeneficio'''\n",
    "dim_tipos_beneficio = conn_dest.get_dataframe(sql_dim_tipos_beneficio)"
   ],
   "outputs": [],
   "execution_count": 17
  },
  {
   "metadata": {
    "ExecuteTime": {
     "end_time": "2024-11-21T00:09:41.240342Z",
     "start_time": "2024-11-21T00:09:39.653581Z"
    }
   },
   "cell_type": "code",
   "source": [
    "# Fecha\n",
    "sql_dim_fecha = '''(SELECT IdFecha AS IdFechaEmision FROM Rs_Fecha ORDER BY IdFecha ASC) AS Rs_Fecha'''\n",
    "dim_fecha = conn_dest.get_dataframe(sql_dim_fecha)\n",
    "\n",
    "dim_fecha.show()"
   ],
   "outputs": [
    {
     "name": "stdout",
     "output_type": "stream",
     "text": [
      "+--------------+\n",
      "|IdFechaEmision|\n",
      "+--------------+\n",
      "|      20171231|\n",
      "|      20181231|\n",
      "|      20191231|\n",
      "|      20201231|\n",
      "|      20211231|\n",
      "+--------------+\n",
      "\n"
     ]
    }
   ],
   "execution_count": 18
  },
  {
   "metadata": {
    "ExecuteTime": {
     "end_time": "2024-11-21T00:09:48.841205Z",
     "start_time": "2024-11-21T00:09:48.543766Z"
    }
   },
   "cell_type": "code",
   "source": [
    "# Condiciones de Pago \n",
    "sql_dim_condiciones_coseguro = '''(\n",
    "SELECT IdCondicionDePago_DWH AS IdCondicionDePagoCoseguro_DWH, IdCondicionDePago_T AS IdCondPagoCoseguro_T\n",
    "FROM Rs_CondicionDePago\n",
    "WHERE Tipo = 'Coseguro'\n",
    "ORDER BY IdCondicionDePago_DWH, IdCondicionDePago_T ASC) AS coseguro'''\n",
    "dim_coseguro = conn_dest.get_dataframe(sql_dim_condiciones_coseguro)\n",
    "\n",
    "sql_dim_condiciones_copago = '''(\n",
    "SELECT IdCondicionDePago_DWH AS IdCondicionDePagoCopago_DWH, IdCondicionDePago_T AS IdCondPagoCopago_T\n",
    "FROM Rs_CondicionDePago\n",
    "WHERE Tipo = 'Copago'\n",
    "ORDER BY IdCondicionDePago_DWH, IdCondicionDePago_T ASC\n",
    ") AS copago'''\n",
    "dim_copago = conn_dest.get_dataframe(sql_dim_condiciones_copago)"
   ],
   "outputs": [],
   "execution_count": 19
  },
  {
   "metadata": {},
   "cell_type": "markdown",
   "source": "Se muestra la estructura cargada"
  },
  {
   "metadata": {
    "ExecuteTime": {
     "end_time": "2024-11-21T00:09:51.866074Z",
     "start_time": "2024-11-21T00:09:51.859197Z"
    }
   },
   "cell_type": "code",
   "source": [
    "\n",
    "dim_tipos_beneficio.printSchema()\n",
    "dim_mini_condiciones.printSchema()\n",
    "dim_areas_servicio.printSchema()\n",
    "dim_nivel_servicio.printSchema()\n",
    "dim_coseguro.printSchema()\n",
    "dim_copago.printSchema()\n",
    "dim_proveedores.printSchema()\n",
    "dim_fecha.printSchema()\n"
   ],
   "outputs": [
    {
     "name": "stdout",
     "output_type": "stream",
     "text": [
      "root\n",
      " |-- IdTipoBeneficio_DWH: integer (nullable = true)\n",
      " |-- IdTipoBeneficio_T: integer (nullable = true)\n",
      "\n",
      "root\n",
      " |-- IdCondicionesTipoBeneficio_DWH: integer (nullable = true)\n",
      " |-- IdTipoBeneficio_T: integer (nullable = true)\n",
      " |-- Annio: integer (nullable = true)\n",
      "\n",
      "root\n",
      " |-- IdAreaDeServicio_DWH: integer (nullable = true)\n",
      " |-- IdAreaDeServicio_T: integer (nullable = true)\n",
      "\n",
      "root\n",
      " |-- IdNivelDeServicio_DWH: integer (nullable = true)\n",
      " |-- IdNivelDeServicio_T: integer (nullable = true)\n",
      "\n",
      "root\n",
      " |-- IdCondicionDePagoCoseguro_DWH: integer (nullable = true)\n",
      " |-- IdCondPagoCoseguro_T: integer (nullable = true)\n",
      "\n",
      "root\n",
      " |-- IdCondicionDePagoCopago_DWH: integer (nullable = true)\n",
      " |-- IdCondPagoCopago_T: integer (nullable = true)\n",
      "\n",
      "root\n",
      " |-- IdProveedor_DWH: integer (nullable = true)\n",
      " |-- IdProveedor_T: integer (nullable = true)\n",
      "\n",
      "root\n",
      " |-- IdFechaEmision: integer (nullable = true)\n",
      "\n"
     ]
    }
   ],
   "execution_count": 20
  },
  {
   "metadata": {},
   "cell_type": "markdown",
   "source": "# Hecho Planes tipo Beneficio"
  },
  {
   "metadata": {},
   "cell_type": "markdown",
   "source": [
    "## Extraction\n",
    "\n",
    "Se consulto la tabla fuente haciendo uso de cast y when de modificaron los campos para obtener la informacion requirida de manera limpia, y finalmente se eliminaron duplicados."
   ]
  },
  {
   "metadata": {
    "ExecuteTime": {
     "end_time": "2024-11-21T00:09:54.856462Z",
     "start_time": "2024-11-21T00:09:54.191570Z"
    }
   },
   "cell_type": "code",
   "source": [
    "# Your SQL query remains the same\n",
    "sql_fuente_planes = '''(\n",
    "SELECT DISTINCT\n",
    "    IdTipoBeneficio_T AS IdTipoBeneficio, \n",
    "    IdAreaDeServicio_T AS IdAreaDeServicio,\n",
    "    IdCondicionDePagoCoseguro_T AS IdCondicionDePagoCoseguro,\n",
    "    IdCondicionDePagoCopago_T AS IdCondicionDePagoCopago,\n",
    "    IdNivelServicio_T AS IdNivelDeServicio,\n",
    "    IdPlan_T AS IdPlan_DD,\n",
    "    IdProveedor_T AS IdProveedor,    \n",
    "    CASE\n",
    "        WHEN Fecha REGEXP '^[0-9]{4}-[0-9]{2}-[0-9]{2}$'\n",
    "            THEN CAST(REPLACE(Fecha, '-', '') AS UNSIGNED)\n",
    "        WHEN Fecha REGEXP '^[A-Za-z]{3} [0-9]{1,2},[0-9]{4}$'\n",
    "            THEN CAST(DATE_FORMAT(STR_TO_DATE(TRIM(Fecha), '%b %d,%Y'), '%Y%m%d') AS UNSIGNED)        \n",
    "    END AS FechaID,\n",
    "    COALESCE(valorCoseguro, 0) AS valorCoseguro,\n",
    "    COALESCE(valorCopago, 0) AS valorCopago,\n",
    "    COALESCE(cantidadLimite, 0) AS cantidadLimite\n",
    "FROM\n",
    "    FuentePlanesBeneficio_ETL\n",
    "ORDER BY\n",
    "    IdTipoBeneficio,\n",
    "    IdAreaDeServicio,\n",
    "    IdCondicionDePagoCoseguro,\n",
    "    IdCondicionDePagoCopago,\n",
    "    IdNivelDeServicio,\n",
    "    IdPlan_DD,\n",
    "    IdProveedor,\n",
    "    FechaID\n",
    ") AS FuentePlanesBeneficio_ETL'''\n",
    "\n",
    "df_fuente_planes = conn_orig.get_dataframe(sql_fuente_planes)\n",
    "\n",
    "df_fuente_planes = df_fuente_planes \\\n",
    "    .withColumn('IdTipoBeneficio', col('IdTipoBeneficio').cast(IntegerType())) \\\n",
    "    .withColumn('IdAreaDeServicio', col('IdAreaDeServicio').cast(IntegerType())) \\\n",
    "    .withColumn('IdCondicionDePagoCoseguro', col('IdCondicionDePagoCoseguro').cast(IntegerType())) \\\n",
    "    .withColumn('IdCondicionDePagoCopago', col('IdCondicionDePagoCopago').cast(IntegerType())) \\\n",
    "    .withColumn('IdNivelDeServicio', col('IdNivelDeServicio').cast(IntegerType())) \\\n",
    "    .withColumn('IdPlan_DD', col('IdPlan_DD').cast(StringType())) \\\n",
    "    .withColumn('IdProveedor', col('IdProveedor').cast(IntegerType())) \\\n",
    "    .withColumn('FechaID', col('FechaID').cast(IntegerType())) \\\n",
    "    .withColumn('valorCoseguro', col('valorCoseguro').cast(DecimalType(18, 2))) \\\n",
    "    .withColumn('valorCopago', col('valorCopago').cast(DecimalType(18, 2)))  \\\n",
    "    .withColumn('cantidadLimite', col('cantidadLimite').cast(IntegerType())) \n",
    "    "
   ],
   "outputs": [],
   "execution_count": 21
  },
  {
   "metadata": {
    "ExecuteTime": {
     "end_time": "2024-11-21T00:09:59.916211Z",
     "start_time": "2024-11-21T00:09:58.419998Z"
    }
   },
   "cell_type": "code",
   "source": "df_fuente_planes.show()",
   "outputs": [
    {
     "name": "stderr",
     "output_type": "stream",
     "text": [
      "[Stage 1:>                                                          (0 + 1) / 1]\r"
     ]
    },
    {
     "name": "stdout",
     "output_type": "stream",
     "text": [
      "+---------------+----------------+-------------------------+-----------------------+-----------------+-----------------+-----------+--------+-------------+-----------+--------------+\n",
      "|IdTipoBeneficio|IdAreaDeServicio|IdCondicionDePagoCoseguro|IdCondicionDePagoCopago|IdNivelDeServicio|        IdPlan_DD|IdProveedor| FechaID|valorCoseguro|valorCopago|cantidadLimite|\n",
      "+---------------+----------------+-------------------------+-----------------------+-----------------+-----------------+-----------+--------+-------------+-----------+--------------+\n",
      "|              5|          312017|                       45|                    238|                1|11269WY0080014-00|      11269|20171231|         0.00|       0.00|             0|\n",
      "|              5|          312017|                       45|                    238|                2|11269WY0080014-00|      11269|20171231|         0.00|       0.00|             0|\n",
      "|              5|          312017|                       45|                    238|                3|11269WY0080014-00|      11269|20171231|         0.00|       0.00|             0|\n",
      "|              5|         1352019|                       45|                    238|                1|11512NC0100028-03|      11512|20191231|         0.00|       0.00|             0|\n",
      "|              5|         1352019|                       45|                    238|                2|11512NC0100028-03|      11512|20191231|         0.00|       0.00|             0|\n",
      "|              5|         1352019|                       45|                    238|                3|11512NC0100028-03|      11512|20191231|         0.00|       0.00|             0|\n",
      "|              5|         1572020|                       45|                    238|                1|11512NC0100028-03|      11512|20201231|         0.00|       0.00|             0|\n",
      "|              5|         1572020|                       45|                    238|                2|11512NC0100028-03|      11512|20201231|         0.00|       0.00|             0|\n",
      "|              5|         1572020|                       45|                    238|                3|11512NC0100028-03|      11512|20201231|         0.00|       0.00|             0|\n",
      "|              5|         1702021|                       45|                    238|                1|11512NC0100028-03|      11512|20211231|         0.00|       0.00|             0|\n",
      "|              5|         1702021|                       45|                    238|                2|11512NC0100028-03|      11512|20211231|         0.00|       0.00|             0|\n",
      "|              5|         1702021|                       45|                    238|                3|11512NC0100028-03|      11512|20211231|         0.00|       0.00|             0|\n",
      "|              5|         2392017|                       45|                    238|                1|11512NC0100028-03|      11512|20171231|         0.00|       0.00|             0|\n",
      "|              5|         2392017|                       45|                    238|                2|11512NC0100028-03|      11512|20171231|         0.00|       0.00|             0|\n",
      "|              5|         2392017|                       45|                    238|                3|11512NC0100028-03|      11512|20171231|         0.00|       0.00|             0|\n",
      "|              5|         3232018|                       45|                    238|                1|11512NC0100028-03|      11512|20181231|         0.00|       0.00|             0|\n",
      "|              5|         3232018|                       45|                    238|                2|11512NC0100028-03|      11512|20181231|         0.00|       0.00|             0|\n",
      "|              5|         3232018|                       45|                    238|                3|11512NC0100028-03|      11512|20181231|         0.00|       0.00|             0|\n",
      "|              5|         3532019|                       45|                    238|                1|11512NC0100053-02|      11512|20191231|         0.00|       0.00|             0|\n",
      "|              5|         3532019|                       45|                    238|                2|11512NC0100053-02|      11512|20191231|         0.00|       0.00|             0|\n",
      "+---------------+----------------+-------------------------+-----------------------+-----------------+-----------------+-----------+--------+-------------+-----------+--------------+\n",
      "only showing top 20 rows\n",
      "\n"
     ]
    },
    {
     "name": "stderr",
     "output_type": "stream",
     "text": [
      "                                                                                \r"
     ]
    }
   ],
   "execution_count": 22
  },
  {
   "metadata": {},
   "cell_type": "markdown",
   "source": "## Transformation"
  },
  {
   "metadata": {},
   "cell_type": "markdown",
   "source": "Tabla temporal para unir Tipos de beneficio y mini condiciones de tipo de beneficio"
  },
  {
   "metadata": {
    "ExecuteTime": {
     "end_time": "2024-11-21T00:10:02.591929Z",
     "start_time": "2024-11-21T00:10:01.745817Z"
    }
   },
   "cell_type": "code",
   "source": [
    "df_condiciones_tipo_beneficio = (\n",
    "    dim_mini_condiciones.alias('mini')\n",
    "    .join(\n",
    "        dim_tipos_beneficio.alias('tb'),\n",
    "        col('mini.IdTipoBeneficio_T') == col('tb.IdTipoBeneficio_T'),\n",
    "        'left'\n",
    "    )\n",
    "    .select(\n",
    "        col('mini.IdCondicionesTipoBeneficio_DWH'),\n",
    "        col('mini.IdTipoBeneficio_T'),\n",
    "        col('mini.Annio'),\n",
    "        col('tb.IdTipoBeneficio_DWH')\n",
    "    )\n",
    ")\n",
    "\n",
    "df_condiciones_tipo_beneficio.show()"
   ],
   "outputs": [
    {
     "name": "stdout",
     "output_type": "stream",
     "text": [
      "+------------------------------+-----------------+-----+-------------------+\n",
      "|IdCondicionesTipoBeneficio_DWH|IdTipoBeneficio_T|Annio|IdTipoBeneficio_DWH|\n",
      "+------------------------------+-----------------+-----+-------------------+\n",
      "|                             0|                0|    0|                  0|\n",
      "|                             1|                5| 2017|                  1|\n",
      "|                             2|                5| 2020|                  1|\n",
      "|                             3|               10| 2017|                  2|\n",
      "|                             4|               10| 2019|                  2|\n",
      "|                             5|               20| 2019|                  3|\n",
      "|                             6|               25| 2018|                  4|\n",
      "|                             7|               30| 2020|                  5|\n",
      "|                             8|               40| 2017|                  6|\n",
      "|                             9|               45| 2018|                  7|\n",
      "|                            10|               50| 2017|                  8|\n",
      "|                            11|               60| 2017|                  9|\n",
      "|                            12|               60| 2020|                  9|\n",
      "|                            13|               65| 2020|                 10|\n",
      "|                            14|               70| 2017|                 11|\n",
      "|                            15|               75| 2020|                 12|\n",
      "|                            16|               80| 2017|                 13|\n",
      "|                            17|               80| 2018|                 13|\n",
      "|                            18|               80| 2019|                 13|\n",
      "|                            19|               80| 2021|                 13|\n",
      "+------------------------------+-----------------+-----+-------------------+\n",
      "only showing top 20 rows\n",
      "\n"
     ]
    }
   ],
   "execution_count": 23
  },
  {
   "metadata": {},
   "cell_type": "markdown",
   "source": "Revision de posibles nulos."
  },
  {
   "metadata": {
    "ExecuteTime": {
     "end_time": "2024-11-21T00:10:07.521888Z",
     "start_time": "2024-11-21T00:10:05.946449Z"
    }
   },
   "cell_type": "code",
   "source": [
    "columns_to_check = [\"IdCondicionesTipoBeneficio_DWH\", \"IdTipoBeneficio_T\", \"Annio\", \"IdTipoBeneficio_DWH\", \"IdTipoBeneficio_T\"]\n",
    "\n",
    "for col_name in columns_to_check:\n",
    "    null_count = df_condiciones_tipo_beneficio.filter(col(col_name).isNull()).count()\n",
    "    if null_count > 0:\n",
    "        print(f\"Se encontraron {null_count} valores nulos en la columna {col_name}.\")\n",
    "    else:\n",
    "        print(f\"No se encontraron valores nulos en la columna {col_name}.\")\n"
   ],
   "outputs": [
    {
     "name": "stdout",
     "output_type": "stream",
     "text": [
      "No se encontraron valores nulos en la columna IdCondicionesTipoBeneficio_DWH.\n",
      "No se encontraron valores nulos en la columna IdTipoBeneficio_T.\n",
      "No se encontraron valores nulos en la columna Annio.\n",
      "No se encontraron valores nulos en la columna IdTipoBeneficio_DWH.\n",
      "No se encontraron valores nulos en la columna IdTipoBeneficio_T.\n"
     ]
    }
   ],
   "execution_count": 24
  },
  {
   "metadata": {
    "ExecuteTime": {
     "end_time": "2024-11-21T00:10:11.250098Z",
     "start_time": "2024-11-21T00:10:09.481391Z"
    }
   },
   "cell_type": "code",
   "source": [
    "from pyspark.sql.functions import col\n",
    "\n",
    "fact_fuente_planes = (df_fuente_planes.alias('fp')                    \n",
    "                    .join(df_condiciones_tipo_beneficio.alias('cd'), df_fuente_planes.IdTipoBeneficio == df_condiciones_tipo_beneficio.IdTipoBeneficio_T, 'left')\n",
    "                    .join(dim_areas_servicio.alias('ase'), df_fuente_planes.IdAreaDeServicio == dim_areas_servicio.IdAreaDeServicio_T, 'left')                    \n",
    "                    .join(dim_nivel_servicio.alias('ns'), df_fuente_planes.IdNivelDeServicio == dim_nivel_servicio.IdNivelDeServicio_T, 'left')\n",
    "                    .join(dim_coseguro.alias('cos'), df_fuente_planes.IdCondicionDePagoCoseguro == dim_coseguro.IdCondPagoCoseguro_T, 'left')\n",
    "                    .join(dim_copago.alias('cop'), df_fuente_planes.IdCondicionDePagoCoseguro == dim_copago.IdCondPagoCopago_T, 'left')\n",
    "                    .join(dim_proveedores.alias('pro'), df_fuente_planes.IdProveedor == dim_proveedores.IdProveedor_T, 'left')\n",
    "                    .join(dim_fecha.alias('fec'), df_fuente_planes.FechaID == dim_fecha.IdFechaEmision, 'left')\n",
    "                    .select([col('cd.IdCondicionesTipoBeneficio_DWH'), col('cd.IdTipoBeneficio_DWH'),\n",
    "                             col('ase.IdAreaDeServicio_DWH'),\n",
    "                             col('ns.IdNivelDeServicio_DWH'),\n",
    "                             col('cos.IdCondicionDePagoCoseguro_DWH'),\n",
    "                             col('cop.IdCondicionDePagoCopago_DWH'),\n",
    "                             col('pro.IdProveedor_DWH'),\n",
    "                             col('fec.IdFechaEmision'),\n",
    "                             col('fp.IdPlan_DD'),\n",
    "                             col('fp.ValorCoseguro'), col('fp.ValorCopago'), col('fp.CantidadLimite')\n",
    "                             ])\n",
    "                    .fillna({'IdCondicionesTipoBeneficio_DWH': 0, 'IdTipoBeneficio_DWH': 0, 'IdAreaDeServicio_DWH': 0, 'IdNivelDeServicio_DWH': 0, 'IdCondicionDePagoCoseguro_DWH': 0, 'IdCondicionDePagoCopago_DWH': 0, 'IdProveedor_DWH': 0})) \n",
    "                    \n",
    "fact_fuente_planes.show(5)\n"
   ],
   "outputs": [
    {
     "name": "stdout",
     "output_type": "stream",
     "text": [
      "+------------------------------+-------------------+--------------------+---------------------+-----------------------------+---------------------------+---------------+--------------+-----------------+-------------+-----------+--------------+\n",
      "|IdCondicionesTipoBeneficio_DWH|IdTipoBeneficio_DWH|IdAreaDeServicio_DWH|IdNivelDeServicio_DWH|IdCondicionDePagoCoseguro_DWH|IdCondicionDePagoCopago_DWH|IdProveedor_DWH|IdFechaEmision|        IdPlan_DD|ValorCoseguro|ValorCopago|CantidadLimite|\n",
      "+------------------------------+-------------------+--------------------+---------------------+-----------------------------+---------------------------+---------------+--------------+-----------------+-------------+-----------+--------------+\n",
      "|                             1|                  1|                  31|                    1|                            7|                          0|              0|      20171231|11269WY0080014-00|         0.00|       0.00|             0|\n",
      "|                             2|                  1|                  31|                    1|                            7|                          0|              0|      20171231|11269WY0080014-00|         0.00|       0.00|             0|\n",
      "|                           331|                  1|                  31|                    1|                            7|                          0|              0|      20171231|11269WY0080014-00|         0.00|       0.00|             0|\n",
      "|                             1|                  1|                  31|                    2|                            7|                          0|              0|      20171231|11269WY0080014-00|         0.00|       0.00|             0|\n",
      "|                             2|                  1|                  31|                    2|                            7|                          0|              0|      20171231|11269WY0080014-00|         0.00|       0.00|             0|\n",
      "+------------------------------+-------------------+--------------------+---------------------+-----------------------------+---------------------------+---------------+--------------+-----------------+-------------+-----------+--------------+\n",
      "only showing top 5 rows\n",
      "\n"
     ]
    }
   ],
   "execution_count": 25
  },
  {
   "metadata": {},
   "cell_type": "markdown",
   "source": "Revision de duplicados"
  },
  {
   "metadata": {
    "ExecuteTime": {
     "end_time": "2024-11-21T00:10:16.271359Z",
     "start_time": "2024-11-21T00:10:14.384588Z"
    }
   },
   "cell_type": "code",
   "source": "fact_fuente_planes.count()",
   "outputs": [
    {
     "name": "stderr",
     "output_type": "stream",
     "text": [
      "                                                                                \r"
     ]
    },
    {
     "data": {
      "text/plain": [
       "184121"
      ]
     },
     "execution_count": 26,
     "metadata": {},
     "output_type": "execute_result"
    }
   ],
   "execution_count": 26
  },
  {
   "metadata": {
    "ExecuteTime": {
     "end_time": "2024-11-21T01:00:02.694221Z",
     "start_time": "2024-11-21T00:59:59.934819Z"
    }
   },
   "cell_type": "code",
   "source": [
    "columns_to_check = [\"IdCondicionesTipoBeneficio_DWH\", \"IdTipoBeneficio_DWH\", \"IdAreaDeServicio_DWH\", \"IdCondicionDePagoCoseguro_DWH\", \"IdCondicionDePagoCopago_DWH\", \"IdCondicionDePagoCopago_DWH\", \"IdProveedor_DWH\", \"IdFechaEmision\",  \"IdPlan_DD\"]\n",
    "\n",
    "for col_name in columns_to_check:\n",
    "    null_count = fact_fuente_planes.filter(col(col_name).isNull()).count()\n",
    "    if null_count > 0:\n",
    "        print(f\"Se encontraron {null_count} valores nulos en la columna {col_name}.\")\n",
    "    else:\n",
    "        print(f\"No se encontraron valores nulos en la columna {col_name}.\")\n"
   ],
   "outputs": [
    {
     "name": "stdout",
     "output_type": "stream",
     "text": [
      "No se encontraron valores nulos en la columna IdCondicionesTipoBeneficio_DWH.\n",
      "No se encontraron valores nulos en la columna IdTipoBeneficio_DWH.\n",
      "No se encontraron valores nulos en la columna IdAreaDeServicio_DWH.\n",
      "No se encontraron valores nulos en la columna IdCondicionDePagoCoseguro_DWH.\n",
      "No se encontraron valores nulos en la columna IdCondicionDePagoCopago_DWH.\n",
      "No se encontraron valores nulos en la columna IdCondicionDePagoCopago_DWH.\n",
      "No se encontraron valores nulos en la columna IdProveedor_DWH.\n"
     ]
    },
    {
     "name": "stderr",
     "output_type": "stream",
     "text": [
      "                                                                                \r"
     ]
    },
    {
     "name": "stdout",
     "output_type": "stream",
     "text": [
      "No se encontraron valores nulos en la columna IdFechaEmision.\n",
      "No se encontraron valores nulos en la columna IdPlan_DD.\n"
     ]
    }
   ],
   "execution_count": 38
  },
  {
   "metadata": {
    "ExecuteTime": {
     "end_time": "2024-11-21T00:10:33.950258Z",
     "start_time": "2024-11-21T00:10:33.945590Z"
    }
   },
   "cell_type": "code",
   "source": "fact_fuente_planes.printSchema()",
   "outputs": [
    {
     "name": "stdout",
     "output_type": "stream",
     "text": [
      "root\n",
      " |-- IdCondicionesTipoBeneficio_DWH: integer (nullable = false)\n",
      " |-- IdTipoBeneficio_DWH: integer (nullable = false)\n",
      " |-- IdAreaDeServicio_DWH: integer (nullable = false)\n",
      " |-- IdNivelDeServicio_DWH: integer (nullable = false)\n",
      " |-- IdCondicionDePagoCoseguro_DWH: integer (nullable = false)\n",
      " |-- IdCondicionDePagoCopago_DWH: integer (nullable = false)\n",
      " |-- IdProveedor_DWH: integer (nullable = false)\n",
      " |-- IdFechaEmision: integer (nullable = true)\n",
      " |-- IdPlan_DD: string (nullable = true)\n",
      " |-- ValorCoseguro: decimal(18,2) (nullable = true)\n",
      " |-- ValorCopago: decimal(18,2) (nullable = true)\n",
      " |-- CantidadLimite: integer (nullable = true)\n",
      "\n"
     ]
    }
   ],
   "execution_count": 28
  },
  {
   "metadata": {
    "ExecuteTime": {
     "end_time": "2024-11-21T00:10:37.997866Z",
     "start_time": "2024-11-21T00:10:36.402666Z"
    }
   },
   "cell_type": "code",
   "source": "fact_fuente_planes.count()",
   "outputs": [
    {
     "name": "stderr",
     "output_type": "stream",
     "text": [
      "                                                                                \r"
     ]
    },
    {
     "data": {
      "text/plain": [
       "184121"
      ]
     },
     "execution_count": 29,
     "metadata": {},
     "output_type": "execute_result"
    }
   ],
   "execution_count": 29
  },
  {
   "metadata": {
    "ExecuteTime": {
     "end_time": "2024-11-21T01:00:35.085298Z",
     "start_time": "2024-11-21T01:00:32.849275Z"
    }
   },
   "cell_type": "code",
   "source": [
    "#columns_to_check = [\"IdCondicionesTipoBeneficio_DWH\", \"IdTipoBeneficio_DWH\", \"IdAreaDeServicio_DWH\", \"IdCondicionDePagoCoseguro_DWH\", \"IdCondicionDePagoCopago_DWH\", \"IdCondicionDePagoCopago_DWH\", \"IdProveedor_DWH\", \"IdFechaEmision\"]\n",
    "fact_fuente_planes_without_duplicates = fact_fuente_planes.dropDuplicates(columns_to_check)\n",
    "fact_fuente_planes_without_duplicates.count()"
   ],
   "outputs": [
    {
     "name": "stderr",
     "output_type": "stream",
     "text": [
      "                                                                                \r"
     ]
    },
    {
     "data": {
      "text/plain": [
       "107359"
      ]
     },
     "execution_count": 39,
     "metadata": {},
     "output_type": "execute_result"
    }
   ],
   "execution_count": 39
  },
  {
   "metadata": {},
   "cell_type": "markdown",
   "source": "## LOAD"
  },
  {
   "metadata": {
    "ExecuteTime": {
     "end_time": "2024-11-21T01:04:49.701445Z",
     "start_time": "2024-11-21T01:01:57.444877Z"
    }
   },
   "cell_type": "code",
   "source": "conn_dest.save_db(fact_fuente_planes_without_duplicates, \"Rs_HechoPlanesTiposBeneficio\")",
   "outputs": [
    {
     "name": "stderr",
     "output_type": "stream",
     "text": [
      "                                                                                \r"
     ]
    }
   ],
   "execution_count": 40
  },
  {
   "metadata": {},
   "cell_type": "markdown",
   "source": [
    "# Hecho Historia Condiciones Tipo Beneficio\n",
    "\n",
    "## Extraction  \n",
    "Se reusa la tabla temporal de mini condiciones tipo beneficio de la parte de arriba\n",
    "\n"
   ]
  },
  {
   "metadata": {
    "ExecuteTime": {
     "end_time": "2024-11-21T01:48:04.909482Z",
     "start_time": "2024-11-21T01:48:04.632781Z"
    }
   },
   "cell_type": "code",
   "source": "df_condiciones_tipo_beneficio.show()",
   "outputs": [
    {
     "name": "stdout",
     "output_type": "stream",
     "text": [
      "+------------------------------+-----------------+-----+-------------------+\n",
      "|IdCondicionesTipoBeneficio_DWH|IdTipoBeneficio_T|Annio|IdTipoBeneficio_DWH|\n",
      "+------------------------------+-----------------+-----+-------------------+\n",
      "|                             0|                0|    0|                  0|\n",
      "|                             1|                5| 2017|                  1|\n",
      "|                             2|                5| 2020|                  1|\n",
      "|                             3|               10| 2017|                  2|\n",
      "|                             4|               10| 2019|                  2|\n",
      "|                             5|               20| 2019|                  3|\n",
      "|                             6|               25| 2018|                  4|\n",
      "|                             7|               30| 2020|                  5|\n",
      "|                             8|               40| 2017|                  6|\n",
      "|                             9|               45| 2018|                  7|\n",
      "|                            10|               50| 2017|                  8|\n",
      "|                            11|               60| 2017|                  9|\n",
      "|                            12|               60| 2020|                  9|\n",
      "|                            13|               65| 2020|                 10|\n",
      "|                            14|               70| 2017|                 11|\n",
      "|                            15|               75| 2020|                 12|\n",
      "|                            16|               80| 2017|                 13|\n",
      "|                            17|               80| 2018|                 13|\n",
      "|                            18|               80| 2019|                 13|\n",
      "|                            19|               80| 2021|                 13|\n",
      "+------------------------------+-----------------+-----+-------------------+\n",
      "only showing top 20 rows\n",
      "\n"
     ]
    }
   ],
   "execution_count": 42
  },
  {
   "metadata": {},
   "cell_type": "markdown",
   "source": "## Extraction"
  },
  {
   "metadata": {
    "ExecuteTime": {
     "end_time": "2024-11-21T02:40:23.756693Z",
     "start_time": "2024-11-21T02:40:23.365930Z"
    }
   },
   "cell_type": "code",
   "source": [
    "df_condiciones_tipo_beneficio_temp = df_condiciones_tipo_beneficio.withColumn(\"IdFechaInicio\", concat(col(\"Annio\").cast(\"string\"), lit(\"1231\")))\n",
    "\n",
    "window_spec = Window.partitionBy(\"IdTipoBeneficio_T\").orderBy(col(\"Annio\").desc())\n",
    "\n",
    "df_condiciones_tipo_beneficio_temp = df_condiciones_tipo_beneficio_temp.withColumn(\"Cambio\", when(row_number().over(window_spec) == 1, \"Yes\").otherwise(\"No\"))\n",
    "\n",
    "df_condiciones_tipo_beneficio_temp = df_condiciones_tipo_beneficio_temp.withColumn(\n",
    "    \"end_date\",\n",
    "    when(col(\"Cambio\") == \"Yes\", to_date(lit(\"99991231\"), \"yyyyMMdd\"))  \n",
    "    .otherwise(\n",
    "         date_add(to_date(concat(col(\"Annio\").cast(\"string\"), lit(\"1231\")), \"yyyyMMdd\"), 365)\n",
    "    )\n",
    ")\n",
    "\n",
    "df_condiciones_tipo_beneficio_temp = df_condiciones_tipo_beneficio_temp.withColumn(\"IdFechaFin\", f.date_format(\"end_date\", \"yyyyMMdd\").cast(\"int\"))\n",
    "df_condiciones_tipo_beneficio_temp.show()"
   ],
   "outputs": [
    {
     "name": "stdout",
     "output_type": "stream",
     "text": [
      "+------------------------------+-----------------+-----+-------------------+-------------+------+----------+----------+\n",
      "|IdCondicionesTipoBeneficio_DWH|IdTipoBeneficio_T|Annio|IdTipoBeneficio_DWH|IdFechaInicio|Cambio|  end_date|IdFechaFin|\n",
      "+------------------------------+-----------------+-----+-------------------+-------------+------+----------+----------+\n",
      "|                             0|                0|    0|                  0|        01231|   Yes|9999-12-31|  99991231|\n",
      "|                             2|                5| 2020|                  1|     20201231|   Yes|9999-12-31|  99991231|\n",
      "|                           331|                5| 2018|                  1|     20181231|    No|2019-12-31|  20191231|\n",
      "|                             1|                5| 2017|                  1|     20171231|    No|2018-12-31|  20181231|\n",
      "|                           273|               10| 2021|                  2|     20211231|   Yes|9999-12-31|  99991231|\n",
      "|                             4|               10| 2019|                  2|     20191231|    No|2020-12-30|  20201230|\n",
      "|                           325|               10| 2018|                  2|     20181231|    No|2019-12-31|  20191231|\n",
      "|                             3|               10| 2017|                  2|     20171231|    No|2018-12-31|  20181231|\n",
      "|                           289|               15| 2020|                178|     20201231|   Yes|9999-12-31|  99991231|\n",
      "|                           318|               15| 2019|                178|     20191231|    No|2020-12-30|  20201230|\n",
      "|                           253|               15| 2018|                178|     20181231|    No|2019-12-31|  20191231|\n",
      "|                           312|               15| 2017|                178|     20171231|    No|2018-12-31|  20181231|\n",
      "|                             5|               20| 2019|                  3|     20191231|   Yes|9999-12-31|  99991231|\n",
      "|                             6|               25| 2018|                  4|     20181231|   Yes|9999-12-31|  99991231|\n",
      "|                             7|               30| 2020|                  5|     20201231|   Yes|9999-12-31|  99991231|\n",
      "|                           244|               30| 2017|                  5|     20171231|    No|2018-12-31|  20181231|\n",
      "|                           342|               35| 2021|                205|     20211231|   Yes|9999-12-31|  99991231|\n",
      "|                             8|               40| 2017|                  6|     20171231|   Yes|9999-12-31|  99991231|\n",
      "|                             9|               45| 2018|                  7|     20181231|   Yes|9999-12-31|  99991231|\n",
      "|                            10|               50| 2017|                  8|     20171231|   Yes|9999-12-31|  99991231|\n",
      "+------------------------------+-----------------+-----+-------------------+-------------+------+----------+----------+\n",
      "only showing top 20 rows\n",
      "\n"
     ]
    }
   ],
   "execution_count": 68
  },
  {
   "metadata": {
    "ExecuteTime": {
     "end_time": "2024-11-21T03:17:46.690618Z",
     "start_time": "2024-11-21T03:17:46.675526Z"
    }
   },
   "cell_type": "code",
   "source": "fact_PlanesTiposBeneficio = df_condiciones_tipo_beneficio_temp.select(col(\"IdCondicionesTipoBeneficio_DWH\"), col(\"IdTipoBeneficio_DWH\"), col(\"IdFechaInicio\"), col(\"IdFechaFin\"), col(\"Cambio\"))\n",
   "outputs": [],
   "execution_count": 88
  },
  {
   "metadata": {},
   "cell_type": "markdown",
   "source": "# LOAD"
  },
  {
   "metadata": {
    "ExecuteTime": {
     "end_time": "2024-11-21T03:20:33.985954Z",
     "start_time": "2024-11-21T03:20:32.886917Z"
    }
   },
   "cell_type": "code",
   "source": [
    "columns_to_check = [\"IdCondicionesTipoBeneficio_DWH\", \"IdTipoBeneficio_DWH\", \"IdFechaInicio\", \"IdFechaFin\", \"Cambio\"]\n",
    "\n",
    "for col_name in columns_to_check:\n",
    "    null_count = fact_PlanesTiposBeneficio.filter(col(col_name).isNull()).count()\n",
    "    if null_count > 0:\n",
    "        print(f\"Se encontraron {null_count} valores nulos en la columna {col_name}.\")\n",
    "    else:\n",
    "        print(f\"No se encontraron valores nulos en la columna {col_name}.\")"
   ],
   "outputs": [
    {
     "name": "stderr",
     "output_type": "stream",
     "text": [
      "                                                                                \r"
     ]
    },
    {
     "name": "stdout",
     "output_type": "stream",
     "text": [
      "No se encontraron valores nulos en la columna IdCondicionesTipoBeneficio_DWH.\n",
      "No se encontraron valores nulos en la columna IdTipoBeneficio_DWH.\n",
      "No se encontraron valores nulos en la columna IdFechaInicio.\n",
      "No se encontraron valores nulos en la columna IdFechaFin.\n",
      "No se encontraron valores nulos en la columna Cambio.\n"
     ]
    }
   ],
   "execution_count": 90
  },
  {
   "metadata": {
    "ExecuteTime": {
     "end_time": "2024-11-21T03:24:43.446829Z",
     "start_time": "2024-11-21T03:24:43.432545Z"
    }
   },
   "cell_type": "code",
   "source": "fact_PlanesTiposBeneficio = fact_PlanesTiposBeneficio.withColumn('IdFechaInicio', col('IdFechaInicio').cast(IntegerType()))",
   "outputs": [],
   "execution_count": 92
  },
  {
   "metadata": {
    "ExecuteTime": {
     "end_time": "2024-11-21T03:24:51.653072Z",
     "start_time": "2024-11-21T03:24:51.649846Z"
    }
   },
   "cell_type": "code",
   "source": "fact_PlanesTiposBeneficio.printSchema()",
   "outputs": [
    {
     "name": "stdout",
     "output_type": "stream",
     "text": [
      "root\n",
      " |-- IdCondicionesTipoBeneficio_DWH: integer (nullable = true)\n",
      " |-- IdTipoBeneficio_DWH: integer (nullable = true)\n",
      " |-- IdFechaInicio: integer (nullable = true)\n",
      " |-- IdFechaFin: integer (nullable = true)\n",
      " |-- Cambio: string (nullable = false)\n",
      "\n"
     ]
    }
   ],
   "execution_count": 93
  },
  {
   "metadata": {
    "ExecuteTime": {
     "end_time": "2024-11-21T03:26:26.964077Z",
     "start_time": "2024-11-21T03:26:26.751111Z"
    }
   },
   "cell_type": "code",
   "source": "fact_PlanesTiposBeneficio.select(col(\"IdFechaInicio\")).distinct().show()",
   "outputs": [
    {
     "name": "stdout",
     "output_type": "stream",
     "text": [
      "+-------------+\n",
      "|IdFechaInicio|\n",
      "+-------------+\n",
      "|     20211231|\n",
      "|         1231|\n",
      "|     20191231|\n",
      "|     20171231|\n",
      "|     20181231|\n",
      "|     20201231|\n",
      "+-------------+\n",
      "\n"
     ]
    },
    {
     "name": "stderr",
     "output_type": "stream",
     "text": [
      "                                                                                \r"
     ]
    }
   ],
   "execution_count": 97
  },
  {
   "metadata": {
    "ExecuteTime": {
     "end_time": "2024-11-21T03:31:24.662101Z",
     "start_time": "2024-11-21T03:31:24.342952Z"
    }
   },
   "cell_type": "code",
   "source": [
    "fact_PlanesTiposBeneficio = fact_PlanesTiposBeneficio.filter(col(\"IdCondicionesTipoBeneficio_DWH\") != 0)\n",
    "fact_PlanesTiposBeneficio.show()"
   ],
   "outputs": [
    {
     "name": "stdout",
     "output_type": "stream",
     "text": [
      "+------------------------------+-------------------+-------------+----------+------+\n",
      "|IdCondicionesTipoBeneficio_DWH|IdTipoBeneficio_DWH|IdFechaInicio|IdFechaFin|Cambio|\n",
      "+------------------------------+-------------------+-------------+----------+------+\n",
      "|                             2|                  1|     20201231|  99991231|   Yes|\n",
      "|                           331|                  1|     20181231|  20191231|    No|\n",
      "|                             1|                  1|     20171231|  20181231|    No|\n",
      "|                           273|                  2|     20211231|  99991231|   Yes|\n",
      "|                             4|                  2|     20191231|  20201230|    No|\n",
      "|                           325|                  2|     20181231|  20191231|    No|\n",
      "|                             3|                  2|     20171231|  20181231|    No|\n",
      "|                           289|                178|     20201231|  99991231|   Yes|\n",
      "|                           318|                178|     20191231|  20201230|    No|\n",
      "|                           253|                178|     20181231|  20191231|    No|\n",
      "|                           312|                178|     20171231|  20181231|    No|\n",
      "|                             5|                  3|     20191231|  99991231|   Yes|\n",
      "|                             6|                  4|     20181231|  99991231|   Yes|\n",
      "|                             7|                  5|     20201231|  99991231|   Yes|\n",
      "|                           244|                  5|     20171231|  20181231|    No|\n",
      "|                           342|                205|     20211231|  99991231|   Yes|\n",
      "|                             8|                  6|     20171231|  99991231|   Yes|\n",
      "|                             9|                  7|     20181231|  99991231|   Yes|\n",
      "|                            10|                  8|     20171231|  99991231|   Yes|\n",
      "|                           308|                192|     20181231|  99991231|   Yes|\n",
      "+------------------------------+-------------------+-------------+----------+------+\n",
      "only showing top 20 rows\n",
      "\n"
     ]
    }
   ],
   "execution_count": 99
  },
  {
   "metadata": {
    "ExecuteTime": {
     "end_time": "2024-11-21T03:56:54.738744Z",
     "start_time": "2024-11-21T03:56:54.727459Z"
    }
   },
   "cell_type": "code",
   "source": "fact_PlanesTiposBeneficio = fact_PlanesTiposBeneficio.select(col(\"IdTipoBeneficio_DWH\"), col(\"IdCondicionesTipoBeneficio_DWH\"), col(\"IdFechaInicio\"), col(\"IdFechaFin\"), col(\"Cambio\"))",
   "outputs": [],
   "execution_count": 108
  },
  {
   "metadata": {
    "ExecuteTime": {
     "end_time": "2024-11-21T04:06:45.440540Z",
     "start_time": "2024-11-21T04:06:43.678643Z"
    }
   },
   "cell_type": "code",
   "source": "conn_dest.save_db(fact_PlanesTiposBeneficio, \"Rs_HechoHistCondicionesTiposBeneficio\")",
   "outputs": [
    {
     "name": "stderr",
     "output_type": "stream",
     "text": [
      "                                                                                \r"
     ]
    }
   ],
   "execution_count": 115
  }
 ],
 "metadata": {
  "colab": {
   "collapsed_sections": [
    "vtE61qk986vx",
    "X9Oou0g986vy",
    "B5kFkHTD86vz",
    "ddFhEOmL86vz",
    "MuvVgJ4R86v0",
    "BZjDeVYd86v1",
    "_7xbgfCk86v1",
    "Rh_102Yy86v1",
    "HogvCqW_86v2",
    "9rKmT9jd86v2",
    "R9SnkMUH86v3",
    "k8O1GvOd86v3",
    "Mo633Vpg86v3",
    "i36NawhX86v4",
    "LvgnsPfK86v4",
    "dTv_CIOT86v5",
    "N9f10qpB86v9"
   ],
   "name": "MISW-ETL-TutorialETL.ipynb",
   "provenance": []
  },
  "kernelspec": {
   "display_name": "Python 3 (ipykernel)",
   "language": "python",
   "name": "python3"
  },
  "language_info": {
   "codemirror_mode": {
    "name": "ipython",
    "version": 3
   },
   "file_extension": ".py",
   "mimetype": "text/x-python",
   "name": "python",
   "nbconvert_exporter": "python",
   "pygments_lexer": "ipython3",
   "version": "3.7.13"
  }
 },
 "nbformat": 4,
 "nbformat_minor": 4
}
