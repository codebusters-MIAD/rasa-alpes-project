{
 "cells": [
  {
   "cell_type": "markdown",
   "metadata": {
    "id": "IcY9y56n86vn"
   },
   "source": [
    "ETL: Carga Areas de Servicio"
   ]
  },
  {
   "cell_type": "code",
   "execution_count": 1,
   "metadata": {
    "ExecuteTime": {
     "end_time": "2024-11-16T13:39:56.271810Z",
     "start_time": "2024-11-16T13:39:56.268816Z"
    }
   },
   "outputs": [],
   "source": [
    "# Imports \n",
    "from pyspark.sql.types import IntegerType, StringType, DateType, LongType\n",
    "from pyspark.sql import functions as f, SparkSession, types as t\n",
    "from pyspark import SparkContext, SparkConf, SQLContext\n",
    "from pyspark.sql.functions import col, length"
   ]
  },
  {
   "cell_type": "code",
   "execution_count": 2,
   "metadata": {
    "ExecuteTime": {
     "end_time": "2024-11-16T13:39:59.561504Z",
     "start_time": "2024-11-16T13:39:59.556957Z"
    }
   },
   "outputs": [],
   "source": [
    "class MySQLConnector:\n",
    "    def __init__(self, spark: SparkSession, connection_properties: dict, url: str):\n",
    "        self.spark = spark\n",
    "        self.properties = connection_properties\n",
    "        self.url = url\n",
    "\n",
    "    def get_dataframe(self, sql_query: str):        \n",
    "        df = self.spark.read.jdbc(\n",
    "            url=self.url,\n",
    "            table=sql_query,\n",
    "            properties=self.properties\n",
    "        )\n",
    "        return df\n",
    "    \n",
    "    def save_db(self, df, tabla):\n",
    "        df.write.jdbc(\n",
    "            url=self.url,\n",
    "            table=tabla,\n",
    "            mode='append',\n",
    "            properties=self.properties\n",
    "        )\n",
    "        \n",
    "def create_spark_session(path_jar_driver):    \n",
    "    conf = SparkConf().set('spark.driver.extraClassPath', path_jar_driver)\n",
    "    spark_context = SparkContext(conf=conf)\n",
    "    sql_context = SQLContext(spark_context)\n",
    "    return sql_context.sparkSession  \n",
    "\n",
    "def get_dataframe_from_csv(_PATH, _sep):\n",
    "    return spark.read.load(_PATH, format=\"csv\", sep=_sep, inferSchema=\"true\", header='true')"
   ]
  },
  {
   "cell_type": "code",
   "execution_count": 3,
   "metadata": {
    "ExecuteTime": {
     "end_time": "2024-11-16T13:40:29.103266Z",
     "start_time": "2024-11-16T13:40:29.093571Z"
    },
    "id": "os1iJYmu86vt"
   },
   "outputs": [],
   "source": [
    "# LLENAR CON EL USUARIO DE CADA UNO\n",
    "db_user = 'Estudiante_58_202415'\n",
    "db_psswd = 'Estudiante_202425426'\n",
    "\n",
    "\n",
    "connection_properties = {\n",
    "    \"user\": db_user,\n",
    "    \"password\": db_psswd,\n",
    "    \"driver\": \"com.mysql.cj.jdbc.Driver\"\n",
    "}\n",
    "\n",
    "source_db_string_connection = 'jdbc:mysql://157.253.236.120:8080/RaSaTransaccional_ETL'\n",
    "destination_db_string_connection = f'jdbc:mysql://157.253.236.120:8080/{db_user}'\n",
    "\n",
    "# Driver de conexion\n",
    "# LINUX\n",
    "#path_jar_driver = '/opt/mysql/lib/mysql-connector-java-8.0.28.jar'\n",
    "# WINDOWS\n",
    "path_jar_driver = 'C:\\Program Files (x86)\\MySQL\\Connector J 8.0\\mysql-connector-java-8.0.28.jar'"
   ]
  },
  {
   "cell_type": "code",
   "execution_count": 4,
   "metadata": {
    "ExecuteTime": {
     "end_time": "2024-11-16T13:40:36.484852Z",
     "start_time": "2024-11-16T13:40:33.016452Z"
    }
   },
   "outputs": [
    {
     "name": "stderr",
     "output_type": "stream",
     "text": [
      "C:\\Users\\estudiante\\anaconda3\\envs\\Tutoriales\\lib\\site-packages\\pyspark\\sql\\context.py:79: FutureWarning: Deprecated in 3.0.0. Use SparkSession.builder.getOrCreate() instead.\n",
      "  FutureWarning\n"
     ]
    }
   ],
   "source": [
    "spark = create_spark_session(path_jar_driver)"
   ]
  },
  {
   "cell_type": "code",
   "execution_count": 5,
   "metadata": {
    "ExecuteTime": {
     "end_time": "2024-11-16T13:40:40.941673Z",
     "start_time": "2024-11-16T13:40:40.931528Z"
    }
   },
   "outputs": [],
   "source": [
    "conn_orig = MySQLConnector(spark=spark, connection_properties=connection_properties, url=source_db_string_connection)\n",
    "conn_dest = MySQLConnector(spark=spark, connection_properties=connection_properties, url=destination_db_string_connection)"
   ]
  },
  {
   "cell_type": "markdown",
   "metadata": {
    "id": "LqQVz5s686vq"
   },
   "source": [
    "## Proceso de ETL para las dimensiones `TiposBeneficio` y `MiniCondicionesTipoBeneficio`"
   ]
  },
  {
   "cell_type": "markdown",
   "metadata": {
    "id": "UpOSEfhX86vs"
   },
   "source": [
    "![Modelo Movimientos](./images/CondicionesTipoBeneficio.png)"
   ]
  },
  {
   "cell_type": "markdown",
   "metadata": {
    "id": "ZhFsv4ba86vw"
   },
   "source": [
    "## Dimensión Tipo Beneficio"
   ]
  },
  {
   "cell_type": "markdown",
   "metadata": {},
   "source": [
    "### Extraction"
   ]
  },
  {
   "cell_type": "code",
   "execution_count": 9,
   "metadata": {},
   "outputs": [
    {
     "name": "stdout",
     "output_type": "stream",
     "text": [
      "+-----------------+--------------------+\n",
      "|IdTipoBeneficio_T|              Nombre|\n",
      "+-----------------+--------------------+\n",
      "|                5|Abortion For Whic...|\n",
      "|               10|   Accidental Dental|\n",
      "|               20|Adult Frames And ...|\n",
      "|               25|  Allergy Injections|\n",
      "|               30|     Allergy Testing|\n",
      "|               40|          Anesthesia|\n",
      "|               45|Anesthesia Servic...|\n",
      "|               50|Applied Behavior ...|\n",
      "|               60|Autism Spectrum D...|\n",
      "|               65|Autism Spectrum D...|\n",
      "|               70|Autism Spectrum D...|\n",
      "|               75|   Bariatric Surgery|\n",
      "|               80|Basic Dental Care...|\n",
      "|               85|Basic Dental Care...|\n",
      "|               90|Blood And Blood S...|\n",
      "|               95| Bone Marrow Testing|\n",
      "|              100|Bone Marrow Trans...|\n",
      "|              105|        Brain Injury|\n",
      "|              110|Breast Implant Re...|\n",
      "|              115|   Cancer Treatments|\n",
      "+-----------------+--------------------+\n",
      "only showing top 20 rows\n",
      "\n"
     ]
    }
   ],
   "source": [
    "# Se extraen los datos y se muestran\n",
    "sql_tipo_beneficio = '''(SELECT DISTINCT IdTipoBeneficio_T, Nombre FROM RaSaTransaccional_ETL.FuenteTiposBeneficio_ETL) AS Beneficios'''\n",
    "tipo_beneficio = conn_orig.get_dataframe(sql_tipo_beneficio)\n",
    "tipo_beneficio.show()"
   ]
  },
  {
   "cell_type": "markdown",
   "metadata": {},
   "source": [
    "### Transformation"
   ]
  },
  {
   "cell_type": "code",
   "execution_count": 10,
   "metadata": {},
   "outputs": [
    {
     "name": "stdout",
     "output_type": "stream",
     "text": [
      "+-------------------+-----------------+--------------------+\n",
      "|IdTipoBeneficio_DWH|IdTipoBeneficio_T|              Nombre|\n",
      "+-------------------+-----------------+--------------------+\n",
      "|                  1|                5|Abortion For Whic...|\n",
      "|                  2|               10|   Accidental Dental|\n",
      "|                  3|               20|Adult Frames And ...|\n",
      "|                  4|               25|  Allergy Injections|\n",
      "|                  5|               30|     Allergy Testing|\n",
      "|                  6|               40|          Anesthesia|\n",
      "|                  7|               45|Anesthesia Servic...|\n",
      "|                  8|               50|Applied Behavior ...|\n",
      "|                  9|               60|Autism Spectrum D...|\n",
      "|                 10|               65|Autism Spectrum D...|\n",
      "|                 11|               70|Autism Spectrum D...|\n",
      "|                 12|               75|   Bariatric Surgery|\n",
      "|                 13|               80|Basic Dental Care...|\n",
      "|                 14|               85|Basic Dental Care...|\n",
      "|                 15|               90|Blood And Blood S...|\n",
      "|                 16|               95| Bone Marrow Testing|\n",
      "|                 17|              100|Bone Marrow Trans...|\n",
      "|                 18|              105|        Brain Injury|\n",
      "|                 19|              110|Breast Implant Re...|\n",
      "|                 20|              115|   Cancer Treatments|\n",
      "+-------------------+-----------------+--------------------+\n",
      "only showing top 20 rows\n",
      "\n"
     ]
    }
   ],
   "source": [
    "# Se incluye el indice de la bodega de datos y se ordenan las columnas en el dataframe\n",
    "tipo_beneficio = tipo_beneficio.coalesce(1).withColumn('IdTipoBeneficio_DWH', f.monotonically_increasing_id() + 1)\n",
    "tipo_beneficio = tipo_beneficio.select('IdTipoBeneficio_DWH','IdTipoBeneficio_T','Nombre')\n",
    "tipo_beneficio.show()"
   ]
  },
  {
   "cell_type": "markdown",
   "metadata": {},
   "source": [
    "### Load"
   ]
  },
  {
   "cell_type": "code",
   "execution_count": 11,
   "metadata": {},
   "outputs": [],
   "source": [
    "# Se realiza la carga delos datos\n",
    "conn_dest.save_db(tipo_beneficio, 'Estudiante_58_202415.Rs_TiposBeneficio')"
   ]
  },
  {
   "cell_type": "markdown",
   "metadata": {},
   "source": [
    "## Dimensión MiniCondiciones Tipo de Servicio"
   ]
  },
  {
   "cell_type": "markdown",
   "metadata": {},
   "source": [
    "### Extraction"
   ]
  },
  {
   "cell_type": "code",
   "execution_count": 25,
   "metadata": {},
   "outputs": [
    {
     "name": "stdout",
     "output_type": "stream",
     "text": [
      "+---------------------+-----+-----------------------+----------------------------------------+---------------------------------------+--------------------+\n",
      "|EstaCubiertoPorSeguro|EsEHB|TieneLimiteCuantitativo|ExcluidoDelDesembolsoMaximoDentroDeLaRed|ExcluidoDelDesembolsoMaximoFueraDeLaRed|     UnidadDelLimite|\n",
      "+---------------------+-----+-----------------------+----------------------------------------+---------------------------------------+--------------------+\n",
      "|                   No|   No|                     No|                                      No|                                     No|                    |\n",
      "|                  Yes|   No|                     No|                                      No|                                    Yes|                    |\n",
      "|                  Yes|  Yes|                    Yes|                                      No|                                     No| Dollars per Episode|\n",
      "|                   No|  Yes|                     No|                                      No|                                     No|                    |\n",
      "|                  Yes|   No|                    Yes|                                     Yes|                                    Yes|    Item(s) per Year|\n",
      "|                  Yes|   No|                     No|                                      No|                                     No|                    |\n",
      "|                  Yes|   No|                    Yes|                                      No|                                     No|    Dollars per Year|\n",
      "|                  Yes|   No|                    Yes|                                      No|                                     No|   Visit(s) per Year|\n",
      "|                  Yes|   No|                    Yes|                                      No|                                    Yes|   Visit(s) per Year|\n",
      "|                   No|   No|                     No|                                     Yes|                                    Yes|                    |\n",
      "|                  Yes|   No|                    Yes|                                     Yes|                                    Yes|Dollars per Benef...|\n",
      "|                  Yes|   No|                    Yes|                                      No|                                    Yes|    Dollars per Year|\n",
      "|                   No|   No|                    Yes|                                     Yes|                                    Yes|    Dollars per Year|\n",
      "|                  Yes|   No|                    Yes|                                      No|                                    Yes|Procedure(s) per ...|\n",
      "|                  Yes|  Yes|                    Yes|                                      No|                                    Yes|Procedure(s) per ...|\n",
      "|                  Yes|  Yes|                     No|                                      No|                                     No|                    |\n",
      "|                  Yes|  Yes|                    Yes|                                      No|                                     No|Treatment(s) per ...|\n",
      "|                  Yes|  Yes|                    Yes|                                      No|                                    Yes|Procedure(s) per ...|\n",
      "|                   No|  Yes|                    Yes|                                      No|                                     No|   Visit(s) per Year|\n",
      "|                   No|  Yes|                    Yes|                                      No|                                     No|Visit(s) per 6 Mo...|\n",
      "+---------------------+-----+-----------------------+----------------------------------------+---------------------------------------+--------------------+\n",
      "only showing top 20 rows\n",
      "\n"
     ]
    }
   ],
   "source": [
    "# Se extraen los datos y se muestran\n",
    "sql_mini_condiciones = '''(SELECT DISTINCT EstaCubiertaPorSeguro as EstaCubiertoPorSeguro, EsEHB, TieneLimiteCuantitativo, ExcluidoDelDesembolsoMaximoDentroDeLaRed, ExcluidoDelDesembolsoMaximoFueraDeLaRed, UnidadDelLimite FROM RaSaTransaccional_ETL.FuenteTiposBeneficio_ETL) AS Condiciones'''\n",
    "mini_condiciones = conn_orig.get_dataframe(sql_mini_condiciones)\n",
    "mini_condiciones.show()"
   ]
  },
  {
   "cell_type": "markdown",
   "metadata": {},
   "source": [
    "### Transformation"
   ]
  },
  {
   "cell_type": "code",
   "execution_count": 26,
   "metadata": {},
   "outputs": [
    {
     "name": "stdout",
     "output_type": "stream",
     "text": [
      "+---------------------------+---------------------+-----+-----------------------+----------------------------------------+---------------------------------------+--------------------+\n",
      "|IdCondicionesBeneficios_DWH|EstaCubiertoPorSeguro|EsEHB|TieneLimiteCuantitativo|ExcluidoDelDesembolsoMaximoDentroDeLaRed|ExcluidoDelDesembolsoMaximoFueraDeLaRed|     UnidadDelLimite|\n",
      "+---------------------------+---------------------+-----+-----------------------+----------------------------------------+---------------------------------------+--------------------+\n",
      "|                          1|                   No|   No|                     No|                                      No|                                     No|                    |\n",
      "|                          2|                  Yes|   No|                     No|                                      No|                                    Yes|                    |\n",
      "|                          3|                  Yes|  Yes|                    Yes|                                      No|                                     No| Dollars per Episode|\n",
      "|                          4|                   No|  Yes|                     No|                                      No|                                     No|                    |\n",
      "|                          5|                  Yes|   No|                    Yes|                                     Yes|                                    Yes|    Item(s) per Year|\n",
      "|                          6|                  Yes|   No|                     No|                                      No|                                     No|                    |\n",
      "|                          7|                  Yes|   No|                    Yes|                                      No|                                     No|    Dollars per Year|\n",
      "|                          8|                  Yes|   No|                    Yes|                                      No|                                     No|   Visit(s) per Year|\n",
      "|                          9|                  Yes|   No|                    Yes|                                      No|                                    Yes|   Visit(s) per Year|\n",
      "|                         10|                   No|   No|                     No|                                     Yes|                                    Yes|                    |\n",
      "|                         11|                  Yes|   No|                    Yes|                                     Yes|                                    Yes|Dollars per Benef...|\n",
      "|                         12|                  Yes|   No|                    Yes|                                      No|                                    Yes|    Dollars per Year|\n",
      "|                         13|                   No|   No|                    Yes|                                     Yes|                                    Yes|    Dollars per Year|\n",
      "|                         14|                  Yes|   No|                    Yes|                                      No|                                    Yes|Procedure(s) per ...|\n",
      "|                         15|                  Yes|  Yes|                    Yes|                                      No|                                    Yes|Procedure(s) per ...|\n",
      "|                         16|                  Yes|  Yes|                     No|                                      No|                                     No|                    |\n",
      "|                         17|                  Yes|  Yes|                    Yes|                                      No|                                     No|Treatment(s) per ...|\n",
      "|                         18|                  Yes|  Yes|                    Yes|                                      No|                                    Yes|Procedure(s) per ...|\n",
      "|                         19|                   No|  Yes|                    Yes|                                      No|                                     No|   Visit(s) per Year|\n",
      "|                         20|                   No|  Yes|                    Yes|                                      No|                                     No|Visit(s) per 6 Mo...|\n",
      "+---------------------------+---------------------+-----+-----------------------+----------------------------------------+---------------------------------------+--------------------+\n",
      "only showing top 20 rows\n",
      "\n"
     ]
    }
   ],
   "source": [
    "# Se incluye el indice de la bodega de datos y se ordenan las columnas en el dataframe\n",
    "mini_condiciones = mini_condiciones.coalesce(1).withColumn('IdCondicionesBeneficios_DWH', f.monotonically_increasing_id() + 1)\n",
    "mini_condiciones = mini_condiciones.select('IdCondicionesBeneficios_DWH','EstaCubiertoPorSeguro','EsEHB','TieneLimiteCuantitativo','ExcluidoDelDesembolsoMaximoDentroDeLaRed','ExcluidoDelDesembolsoMaximoFueraDeLaRed','UnidadDelLimite')\n",
    "mini_condiciones.show()"
   ]
  },
  {
   "cell_type": "code",
   "execution_count": 27,
   "metadata": {},
   "outputs": [
    {
     "name": "stdout",
     "output_type": "stream",
     "text": [
      "+---------------------+-----+\n",
      "|EstaCubiertoPorSeguro|count|\n",
      "+---------------------+-----+\n",
      "|                  Yes|   98|\n",
      "|                   No|    8|\n",
      "|                False|    1|\n",
      "+---------------------+-----+\n",
      "\n",
      "+-----+-----+\n",
      "|EsEHB|count|\n",
      "+-----+-----+\n",
      "|  Yes|   50|\n",
      "|   No|   44|\n",
      "| True|   13|\n",
      "+-----+-----+\n",
      "\n",
      "+-----------------------+-----+\n",
      "|TieneLimiteCuantitativo|count|\n",
      "+-----------------------+-----+\n",
      "|                    Yes|   72|\n",
      "|                     No|   26|\n",
      "|                     Si|    9|\n",
      "+-----------------------+-----+\n",
      "\n",
      "+----------------------------------------+-----+\n",
      "|ExcluidoDelDesembolsoMaximoDentroDeLaRed|count|\n",
      "+----------------------------------------+-----+\n",
      "|                                      No|   98|\n",
      "|                                     Yes|    9|\n",
      "+----------------------------------------+-----+\n",
      "\n",
      "+---------------------------------------+-----+\n",
      "|ExcluidoDelDesembolsoMaximoFueraDeLaRed|count|\n",
      "+---------------------------------------+-----+\n",
      "|                                     No|   67|\n",
      "|                                    Yes|   40|\n",
      "+---------------------------------------+-----+\n",
      "\n"
     ]
    }
   ],
   "source": [
    "# Se exploran los datos de las columnas categoricas de tipo 'Yes/No' para verificar que solo existan este tipo de valores\n",
    "mini_condiciones.groupby('EstaCubiertoPorSeguro').count().orderBy(\"count\", ascending=False).show()\n",
    "mini_condiciones.groupby('EsEHB').count().orderBy(\"count\", ascending=False).show()\n",
    "mini_condiciones.groupby('TieneLimiteCuantitativo').count().orderBy(\"count\", ascending=False).show()\n",
    "mini_condiciones.groupby('ExcluidoDelDesembolsoMaximoDentroDeLaRed').count().orderBy(\"count\", ascending=False).show()\n",
    "mini_condiciones.groupby('ExcluidoDelDesembolsoMaximoFueraDeLaRed').count().orderBy(\"count\", ascending=False).show()"
   ]
  },
  {
   "cell_type": "markdown",
   "metadata": {},
   "source": [
    "Dado que existen valores diferentes a `Yes` y `No` se deben hacer transformaciones adicionales para estandarizar los datos."
   ]
  },
  {
   "cell_type": "code",
   "execution_count": 28,
   "metadata": {},
   "outputs": [
    {
     "name": "stdout",
     "output_type": "stream",
     "text": [
      "+---------------------------+---------------------+-----+-----------------------+----------------------------------------+---------------------------------------+--------------------+\n",
      "|IdCondicionesBeneficios_DWH|EstaCubiertoPorSeguro|EsEHB|TieneLimiteCuantitativo|ExcluidoDelDesembolsoMaximoDentroDeLaRed|ExcluidoDelDesembolsoMaximoFueraDeLaRed|     UnidadDelLimite|\n",
      "+---------------------------+---------------------+-----+-----------------------+----------------------------------------+---------------------------------------+--------------------+\n",
      "|                          1|                   No|   No|                     No|                                      No|                                     No|                    |\n",
      "|                          2|                  Yes|   No|                     No|                                      No|                                    Yes|                    |\n",
      "|                          3|                  Yes|  Yes|                    Yes|                                      No|                                     No| Dollars per Episode|\n",
      "|                          4|                   No|  Yes|                     No|                                      No|                                     No|                    |\n",
      "|                          5|                  Yes|   No|                    Yes|                                     Yes|                                    Yes|    Item(s) per Year|\n",
      "|                          6|                  Yes|   No|                     No|                                      No|                                     No|                    |\n",
      "|                          7|                  Yes|   No|                    Yes|                                      No|                                     No|    Dollars per Year|\n",
      "|                          8|                  Yes|   No|                    Yes|                                      No|                                     No|   Visit(s) per Year|\n",
      "|                          9|                  Yes|   No|                    Yes|                                      No|                                    Yes|   Visit(s) per Year|\n",
      "|                         10|                   No|   No|                     No|                                     Yes|                                    Yes|                    |\n",
      "|                         11|                  Yes|   No|                    Yes|                                     Yes|                                    Yes|Dollars per Benef...|\n",
      "|                         12|                  Yes|   No|                    Yes|                                      No|                                    Yes|    Dollars per Year|\n",
      "|                         13|                   No|   No|                    Yes|                                     Yes|                                    Yes|    Dollars per Year|\n",
      "|                         14|                  Yes|   No|                    Yes|                                      No|                                    Yes|Procedure(s) per ...|\n",
      "|                         15|                  Yes|  Yes|                    Yes|                                      No|                                    Yes|Procedure(s) per ...|\n",
      "|                         16|                  Yes|  Yes|                     No|                                      No|                                     No|                    |\n",
      "|                         17|                  Yes|  Yes|                    Yes|                                      No|                                     No|Treatment(s) per ...|\n",
      "|                         18|                  Yes|  Yes|                    Yes|                                      No|                                    Yes|Procedure(s) per ...|\n",
      "|                         19|                   No|  Yes|                    Yes|                                      No|                                     No|   Visit(s) per Year|\n",
      "|                         20|                   No|  Yes|                    Yes|                                      No|                                     No|Visit(s) per 6 Mo...|\n",
      "+---------------------------+---------------------+-----+-----------------------+----------------------------------------+---------------------------------------+--------------------+\n",
      "only showing top 20 rows\n",
      "\n"
     ]
    }
   ],
   "source": [
    "# Se define una función que transforme los datos 'Si' y 'True' a valores 'Yes'; y los datos 'False' a valores 'No'\n",
    "def transformar_valores(df, nombre_columna):\n",
    "    return df.withColumn(\n",
    "        nombre_columna,\n",
    "        f.when(f.col(nombre_columna).isin('Si', 'True'), 'Yes') \\\n",
    "         .when(f.col(nombre_columna) == 'False', 'No') \\\n",
    "         .otherwise(f.col(nombre_columna))\n",
    "    )\n",
    "\n",
    "# Se especifican ahora las columnas que se deben transformar segun la mini-exploración anterior\n",
    "columnas_a_transformar = ['EstaCubiertoPorSeguro', 'EsEHB', 'TieneLimiteCuantitativo']\n",
    "\n",
    "# Se realiza la transformación de las columnas\n",
    "for col in columnas_a_transformar:\n",
    "    mini_condiciones = transformar_valores(mini_condiciones, col)\n",
    "    \n",
    "# Se inspecciona el dataframe\n",
    "mini_condiciones.show()"
   ]
  },
  {
   "cell_type": "code",
   "execution_count": 29,
   "metadata": {},
   "outputs": [
    {
     "name": "stdout",
     "output_type": "stream",
     "text": [
      "+---------------------+-----+\n",
      "|EstaCubiertoPorSeguro|count|\n",
      "+---------------------+-----+\n",
      "|                  Yes|   98|\n",
      "|                   No|    9|\n",
      "+---------------------+-----+\n",
      "\n",
      "+-----+-----+\n",
      "|EsEHB|count|\n",
      "+-----+-----+\n",
      "|  Yes|   63|\n",
      "|   No|   44|\n",
      "+-----+-----+\n",
      "\n",
      "+-----------------------+-----+\n",
      "|TieneLimiteCuantitativo|count|\n",
      "+-----------------------+-----+\n",
      "|                    Yes|   81|\n",
      "|                     No|   26|\n",
      "+-----------------------+-----+\n",
      "\n",
      "+----------------------------------------+-----+\n",
      "|ExcluidoDelDesembolsoMaximoDentroDeLaRed|count|\n",
      "+----------------------------------------+-----+\n",
      "|                                      No|   98|\n",
      "|                                     Yes|    9|\n",
      "+----------------------------------------+-----+\n",
      "\n",
      "+---------------------------------------+-----+\n",
      "|ExcluidoDelDesembolsoMaximoFueraDeLaRed|count|\n",
      "+---------------------------------------+-----+\n",
      "|                                     No|   67|\n",
      "|                                    Yes|   40|\n",
      "+---------------------------------------+-----+\n",
      "\n"
     ]
    }
   ],
   "source": [
    "# Se exploran nuevamente los datos de las columnas categoricas de tipo 'Yes/No' para verificar que solo existan este tipo de valores\n",
    "mini_condiciones.groupby('EstaCubiertoPorSeguro').count().orderBy(\"count\", ascending=False).show()\n",
    "mini_condiciones.groupby('EsEHB').count().orderBy(\"count\", ascending=False).show()\n",
    "mini_condiciones.groupby('TieneLimiteCuantitativo').count().orderBy(\"count\", ascending=False).show()\n",
    "mini_condiciones.groupby('ExcluidoDelDesembolsoMaximoDentroDeLaRed').count().orderBy(\"count\", ascending=False).show()\n",
    "mini_condiciones.groupby('ExcluidoDelDesembolsoMaximoFueraDeLaRed').count().orderBy(\"count\", ascending=False).show()"
   ]
  },
  {
   "cell_type": "markdown",
   "metadata": {},
   "source": [
    "### Load"
   ]
  },
  {
   "cell_type": "code",
   "execution_count": 30,
   "metadata": {},
   "outputs": [],
   "source": [
    "# Se realiza la carga delos datos\n",
    "conn_dest.save_db(mini_condiciones, 'Estudiante_58_202415.Rs_MiniCondicionesTipoBeneficio')"
   ]
  }
 ],
 "metadata": {
  "colab": {
   "collapsed_sections": [
    "vtE61qk986vx",
    "X9Oou0g986vy",
    "B5kFkHTD86vz",
    "ddFhEOmL86vz",
    "MuvVgJ4R86v0",
    "BZjDeVYd86v1",
    "_7xbgfCk86v1",
    "Rh_102Yy86v1",
    "HogvCqW_86v2",
    "9rKmT9jd86v2",
    "R9SnkMUH86v3",
    "k8O1GvOd86v3",
    "Mo633Vpg86v3",
    "i36NawhX86v4",
    "LvgnsPfK86v4",
    "dTv_CIOT86v5",
    "N9f10qpB86v9"
   ],
   "name": "MISW-ETL-TutorialETL.ipynb",
   "provenance": []
  },
  "kernelspec": {
   "display_name": "Python 3 (ipykernel)",
   "language": "python",
   "name": "python3"
  },
  "language_info": {
   "codemirror_mode": {
    "name": "ipython",
    "version": 3
   },
   "file_extension": ".py",
   "mimetype": "text/x-python",
   "name": "python",
   "nbconvert_exporter": "python",
   "pygments_lexer": "ipython3",
   "version": "3.7.13"
  }
 },
 "nbformat": 4,
 "nbformat_minor": 4
}
