{
 "cells": [
  {
   "metadata": {},
   "cell_type": "markdown",
   "source": [
    "# Configuración Inicial\n",
    "Métodos un utils en común en los notebooks"
   ],
   "id": "5313c15677c13467"
  },
  {
   "cell_type": "code",
   "id": "initial_id",
   "metadata": {
    "collapsed": true,
    "ExecuteTime": {
     "end_time": "2024-11-20T19:44:07.250933Z",
     "start_time": "2024-11-20T19:44:07.248642Z"
    }
   },
   "source": [
    "# Imports \n",
    "from pyspark.sql import functions as f, SparkSession\n",
    "from pyspark import SparkContext, SparkConf, SQLContext\n"
   ],
   "outputs": [],
   "execution_count": 12
  },
  {
   "metadata": {
    "ExecuteTime": {
     "end_time": "2024-11-19T00:29:52.786935Z",
     "start_time": "2024-11-19T00:29:52.778152Z"
    }
   },
   "cell_type": "code",
   "source": [
    "class MySQLConnector:\n",
    "    def __init__(self, spark: SparkSession, connection_properties: dict, url: str):\n",
    "        self.spark = spark\n",
    "        self.properties = connection_properties\n",
    "        self.url = url\n",
    "\n",
    "    def get_dataframe(self, sql_query: str):        \n",
    "        df = self.spark.read.jdbc(\n",
    "            url=self.url,\n",
    "            table=sql_query,\n",
    "            properties=self.properties\n",
    "        )\n",
    "        return df\n",
    "    \n",
    "    def save_db(self, df, tabla):\n",
    "        df.write.jdbc(\n",
    "            url=self.url,\n",
    "            table=tabla,\n",
    "            mode='append',\n",
    "            properties=self.properties\n",
    "        )\n",
    "        \n",
    "def create_spark_session(path_jar_driver):    \n",
    "    conf = SparkConf().set('spark.driver.extraClassPath', path_jar_driver)\n",
    "    spark_context = SparkContext(conf=conf)\n",
    "    sql_context = SQLContext(spark_context)\n",
    "    return sql_context.sparkSession  \n",
    "\n",
    "def get_dataframe_from_csv(_PATH, _sep):\n",
    "    return spark.read.load(_PATH, format=\"csv\", sep=_sep, inferSchema=\"true\", header='true')"
   ],
   "id": "73b88f3d069fbd3",
   "outputs": [],
   "execution_count": 3
  },
  {
   "metadata": {
    "ExecuteTime": {
     "end_time": "2024-11-19T00:29:54.486511Z",
     "start_time": "2024-11-19T00:29:54.474819Z"
    }
   },
   "cell_type": "code",
   "source": [
    "db_user = 'Estudiante_65_202415'\n",
    "db_psswd = 'Estudiante_202010409'\n",
    "\n",
    "connection_properties = {\n",
    "    \"user\": db_user,\n",
    "    \"password\": db_psswd,\n",
    "    \"driver\": \"com.mysql.cj.jdbc.Driver\"\n",
    "}\n",
    "\n",
    "source_db_string_connection = 'jdbc:mysql://157.253.236.120:8080/RaSaTransaccional_ETL'\n",
    "destination_db_string_connection = f'jdbc:mysql://157.253.236.120:8080/{db_user}'\n",
    "\n",
    "# Driver de conexion\n",
    "# LINUX\n",
    "path_jar_driver = '/opt/mysql/lib/mysql-connector-java-8.0.28.jar'\n",
    "# WINDOWS\n",
    "#path_jar_driver = 'C:\\Program Files (x86)\\MySQL\\Connector J 8.0\\mysql-connector-java-8.0.28.jar'"
   ],
   "id": "da3757d6f3d7a26d",
   "outputs": [],
   "execution_count": 4
  },
  {
   "metadata": {
    "ExecuteTime": {
     "end_time": "2024-11-19T00:30:06.531892Z",
     "start_time": "2024-11-19T00:30:02.805601Z"
    }
   },
   "cell_type": "code",
   "source": "spark = create_spark_session(path_jar_driver)",
   "id": "73164a8584e89086",
   "outputs": [
    {
     "name": "stderr",
     "output_type": "stream",
     "text": [
      "24/11/18 19:30:04 WARN Utils: Your hostname, willp resolves to a loopback address: 127.0.1.1; using 192.168.0.6 instead (on interface enp8s0)\n",
      "24/11/18 19:30:04 WARN Utils: Set SPARK_LOCAL_IP if you need to bind to another address\n",
      "Setting default log level to \"WARN\".\n",
      "To adjust logging level use sc.setLogLevel(newLevel). For SparkR, use setLogLevel(newLevel).\n",
      "24/11/18 19:30:05 WARN NativeCodeLoader: Unable to load native-hadoop library for your platform... using builtin-java classes where applicable\n",
      "/home/willp/anaconda3/lib/python3.11/site-packages/pyspark/sql/context.py:112: FutureWarning: Deprecated in 3.0.0. Use SparkSession.builder.getOrCreate() instead.\n",
      "  warnings.warn(\n"
     ]
    }
   ],
   "execution_count": 5
  },
  {
   "metadata": {
    "ExecuteTime": {
     "end_time": "2024-11-19T00:30:21.328205Z",
     "start_time": "2024-11-19T00:30:21.325564Z"
    }
   },
   "cell_type": "code",
   "source": [
    "conn_orig = MySQLConnector(spark=spark, connection_properties=connection_properties, url=source_db_string_connection)\n",
    "conn_dest = MySQLConnector(spark=spark, connection_properties=connection_properties, url=destination_db_string_connection)"
   ],
   "id": "2878b1543421be18",
   "outputs": [],
   "execution_count": 6
  },
  {
   "metadata": {},
   "cell_type": "markdown",
   "source": "# Dimensión Tipo Beneficio",
   "id": "7d3b8da72554fcb"
  },
  {
   "metadata": {},
   "cell_type": "markdown",
   "source": "## Extraction",
   "id": "778657f6d325a0d"
  },
  {
   "metadata": {
    "ExecuteTime": {
     "end_time": "2024-11-19T00:33:16.452192Z",
     "start_time": "2024-11-19T00:33:12.807504Z"
    }
   },
   "cell_type": "code",
   "source": [
    "# Se extraen los datos y se muestran\n",
    "sql_tipo_beneficio = '''(SELECT DISTINCT IdTipoBeneficio_T, Nombre FROM RaSaTransaccional_ETL.FuenteTiposBeneficio_ETL) AS Beneficios'''\n",
    "tipo_beneficio = conn_orig.get_dataframe(sql_tipo_beneficio)\n",
    "tipo_beneficio.show()"
   ],
   "id": "9a5118fef50bfaee",
   "outputs": [
    {
     "name": "stdout",
     "output_type": "stream",
     "text": [
      "+-----------------+--------------------+\n",
      "|IdTipoBeneficio_T|              Nombre|\n",
      "+-----------------+--------------------+\n",
      "|                5|Abortion For Whic...|\n",
      "|               10|   Accidental Dental|\n",
      "|               20|Adult Frames And ...|\n",
      "|               25|  Allergy Injections|\n",
      "|               30|     Allergy Testing|\n",
      "|               40|          Anesthesia|\n",
      "|               45|Anesthesia Servic...|\n",
      "|               50|Applied Behavior ...|\n",
      "|               60|Autism Spectrum D...|\n",
      "|               65|Autism Spectrum D...|\n",
      "|               70|Autism Spectrum D...|\n",
      "|               75|   Bariatric Surgery|\n",
      "|               80|Basic Dental Care...|\n",
      "|               85|Basic Dental Care...|\n",
      "|               90|Blood And Blood S...|\n",
      "|               95| Bone Marrow Testing|\n",
      "|              100|Bone Marrow Trans...|\n",
      "|              105|        Brain Injury|\n",
      "|              110|Breast Implant Re...|\n",
      "|              115|   Cancer Treatments|\n",
      "+-----------------+--------------------+\n",
      "only showing top 20 rows\n",
      "\n"
     ]
    }
   ],
   "execution_count": 7
  },
  {
   "metadata": {},
   "cell_type": "markdown",
   "source": [
    "## Transformation\n",
    "Se incluye el indice de la bodega de datos y se ordenan las columnas en el dataframe\n"
   ],
   "id": "e1905213949e725f"
  },
  {
   "metadata": {
    "ExecuteTime": {
     "end_time": "2024-11-19T00:53:34.761448Z",
     "start_time": "2024-11-19T00:53:34.697917Z"
    }
   },
   "cell_type": "code",
   "source": "tipo_beneficio = tipo_beneficio.coalesce(1).withColumn('IdTipoBeneficio_DWH', f.monotonically_increasing_id() + 1)\n",
   "id": "a8f1ccc4999e96a",
   "outputs": [],
   "execution_count": 8
  },
  {
   "metadata": {
    "ExecuteTime": {
     "end_time": "2024-11-19T00:54:48.531959Z",
     "start_time": "2024-11-19T00:54:48.526970Z"
    }
   },
   "cell_type": "code",
   "source": "tipo_beneficio.printSchema()",
   "id": "99c5241874231287",
   "outputs": [
    {
     "name": "stdout",
     "output_type": "stream",
     "text": [
      "root\n",
      " |-- IdTipoBeneficio_T: integer (nullable = true)\n",
      " |-- Nombre: string (nullable = true)\n",
      " |-- IdTipoBeneficio_DWH: long (nullable = false)\n",
      "\n"
     ]
    }
   ],
   "execution_count": 10
  },
  {
   "metadata": {
    "ExecuteTime": {
     "end_time": "2024-11-19T00:55:57.706260Z",
     "start_time": "2024-11-19T00:55:56.382308Z"
    }
   },
   "cell_type": "code",
   "source": [
    "ben_data = [(0, \"Missing\", 0)]\n",
    "ben_columns = [\"IdTipoBeneficio_T\", \"Nombre\", \"IdTipoBeneficio_DWH\"]\n",
    "dummy_ben = spark.createDataFrame(ben_data, ben_columns)\n",
    "\n",
    "tipo_beneficio = dummy_ben.union(tipo_beneficio)\n",
    "tipo_beneficio.show(40)\n"
   ],
   "id": "b4b16758de9a4ac9",
   "outputs": [
    {
     "name": "stderr",
     "output_type": "stream",
     "text": [
      "                                                                                \r"
     ]
    },
    {
     "name": "stdout",
     "output_type": "stream",
     "text": [
      "+-----------------+--------------------+-------------------+\n",
      "|IdTipoBeneficio_T|              Nombre|IdTipoBeneficio_DWH|\n",
      "+-----------------+--------------------+-------------------+\n",
      "|                0|             Missing|                  0|\n",
      "|                5|Abortion For Whic...|                  1|\n",
      "|               10|   Accidental Dental|                  2|\n",
      "|               20|Adult Frames And ...|                  3|\n",
      "|               25|  Allergy Injections|                  4|\n",
      "|               30|     Allergy Testing|                  5|\n",
      "|               40|          Anesthesia|                  6|\n",
      "|               45|Anesthesia Servic...|                  7|\n",
      "|               50|Applied Behavior ...|                  8|\n",
      "|               60|Autism Spectrum D...|                  9|\n",
      "|               65|Autism Spectrum D...|                 10|\n",
      "|               70|Autism Spectrum D...|                 11|\n",
      "|               75|   Bariatric Surgery|                 12|\n",
      "|               80|Basic Dental Care...|                 13|\n",
      "|               85|Basic Dental Care...|                 14|\n",
      "|               90|Blood And Blood S...|                 15|\n",
      "|               95| Bone Marrow Testing|                 16|\n",
      "|              100|Bone Marrow Trans...|                 17|\n",
      "|              105|        Brain Injury|                 18|\n",
      "|              110|Breast Implant Re...|                 19|\n",
      "|              115|   Cancer Treatments|                 20|\n",
      "|              120|Cardiac And Pulmo...|                 21|\n",
      "|              125|Cardiac Rehabilit...|                 22|\n",
      "|              130|        Chemotherapy|                 23|\n",
      "|              135|   Chiropractic Care|                 24|\n",
      "|              140|     Clinical Trials|                 25|\n",
      "|              145|   Cochlear Implants|                 26|\n",
      "|              160|Congenital Anomal...|                 27|\n",
      "|              165|    Cosmetic Surgery|                 28|\n",
      "|              170|Craniofacial Surgery|                 29|\n",
      "|              175|Delivery And All ...|                 30|\n",
      "|              180|   Dental Anesthesia|                 31|\n",
      "|              185|Dental Check-up F...|                 32|\n",
      "|              190|Dental Check-up F...|                 33|\n",
      "|              195|       Dental X-rays|                 34|\n",
      "|              200| Denture Adjustments|                 35|\n",
      "|              205|Denture Reline An...|                 36|\n",
      "|              210|Devices And Suppl...|                 37|\n",
      "|              215|Diabetes Care Man...|                 38|\n",
      "|              220|  Diabetes Education|                 39|\n",
      "+-----------------+--------------------+-------------------+\n",
      "only showing top 40 rows\n",
      "\n"
     ]
    }
   ],
   "execution_count": 11
  },
  {
   "metadata": {},
   "cell_type": "markdown",
   "source": "## Load",
   "id": "d7e7951414f749ec"
  },
  {
   "metadata": {
    "ExecuteTime": {
     "end_time": "2024-11-19T00:57:12.606437Z",
     "start_time": "2024-11-19T00:57:11.183480Z"
    }
   },
   "cell_type": "code",
   "source": "conn_dest.save_db(tipo_beneficio, 'Rs_TiposBeneficio')",
   "id": "4a2ad1d0056c33ac",
   "outputs": [
    {
     "name": "stderr",
     "output_type": "stream",
     "text": [
      "                                                                                \r"
     ]
    }
   ],
   "execution_count": 12
  },
  {
   "metadata": {},
   "cell_type": "markdown",
   "source": "# Dimensión MiniCondiciones Tipo de Servicio",
   "id": "6be4e277ea0a92e8"
  },
  {
   "metadata": {},
   "cell_type": "markdown",
   "source": "## Extraction",
   "id": "c56ddc10a5ffec4c"
  },
  {
   "metadata": {
    "ExecuteTime": {
     "end_time": "2024-11-19T01:36:08.968104Z",
     "start_time": "2024-11-19T01:36:08.807633Z"
    }
   },
   "cell_type": "code",
   "source": [
    "sql_mini_condiciones = '''(\n",
    "SELECT DISTINCT IdTipoBeneficio_T,\n",
    "                EstaCubiertaPorSeguro as EstaCubiertoPorSeguro,\n",
    "                EsEHB,\n",
    "                TieneLimiteCuantitativo,\n",
    "                ExcluidoDelDesembolsoMaximoDentroDeLaRed,\n",
    "                ExcluidoDelDesembolsoMaximoFueraDeLaRed,\n",
    "                UnidadDelLimite,\n",
    "                Fecha                 as Annio\n",
    "FROM RaSaTransaccional_ETL.FuenteTiposBeneficio_ETL\n",
    ") AS Condiciones'''\n",
    "mini_condiciones = conn_orig.get_dataframe(sql_mini_condiciones)\n",
    "mini_condiciones.show()"
   ],
   "id": "e04670ddcd42c36d",
   "outputs": [
    {
     "name": "stdout",
     "output_type": "stream",
     "text": [
      "+-----------------+---------------------+-----+-----------------------+----------------------------------------+---------------------------------------+--------------------+-----+\n",
      "|IdTipoBeneficio_T|EstaCubiertoPorSeguro|EsEHB|TieneLimiteCuantitativo|ExcluidoDelDesembolsoMaximoDentroDeLaRed|ExcluidoDelDesembolsoMaximoFueraDeLaRed|     UnidadDelLimite|Annio|\n",
      "+-----------------+---------------------+-----+-----------------------+----------------------------------------+---------------------------------------+--------------------+-----+\n",
      "|                5|                   No|   No|                     No|                                      No|                                     No|                    | 2017|\n",
      "|                5|                  Yes|   No|                     No|                                      No|                                    Yes|                    | 2020|\n",
      "|               10|                  Yes|  Yes|                    Yes|                                      No|                                     No| Dollars per Episode| 2017|\n",
      "|               10|                   No|  Yes|                     No|                                      No|                                     No|                    | 2019|\n",
      "|               20|                  Yes|   No|                    Yes|                                     Yes|                                    Yes|    Item(s) per Year| 2019|\n",
      "|               25|                  Yes|   No|                     No|                                      No|                                    Yes|                    | 2018|\n",
      "|               30|                   No|   No|                     No|                                      No|                                     No|                    | 2020|\n",
      "|               40|                  Yes|   No|                     No|                                      No|                                     No|                    | 2017|\n",
      "|               45|                  Yes|   No|                     No|                                      No|                                     No|                    | 2018|\n",
      "|               50|                  Yes|   No|                    Yes|                                      No|                                     No|    Dollars per Year| 2017|\n",
      "|               60|                  Yes|   No|                    Yes|                                      No|                                     No|   Visit(s) per Year| 2017|\n",
      "|               60|                  Yes|   No|                    Yes|                                      No|                                    Yes|   Visit(s) per Year| 2020|\n",
      "|               65|                  Yes|   No|                    Yes|                                      No|                                    Yes|   Visit(s) per Year| 2020|\n",
      "|               70|                  Yes|   No|                     No|                                      No|                                     No|                    | 2017|\n",
      "|               75|                   No|   No|                     No|                                     Yes|                                    Yes|                    | 2020|\n",
      "|               80|                  Yes|   No|                    Yes|                                     Yes|                                    Yes|Dollars per Benef...| 2017|\n",
      "|               80|                  Yes|   No|                    Yes|                                      No|                                    Yes|    Dollars per Year| 2018|\n",
      "|               80|                  Yes|   No|                    Yes|                                      No|                                     No|    Dollars per Year| 2019|\n",
      "|               80|                   No|   No|                    Yes|                                     Yes|                                    Yes|    Dollars per Year| 2021|\n",
      "|               85|                  Yes|   No|                    Yes|                                      No|                                    Yes|Procedure(s) per ...| 2017|\n",
      "+-----------------+---------------------+-----+-----------------------+----------------------------------------+---------------------------------------+--------------------+-----+\n",
      "only showing top 20 rows\n",
      "\n"
     ]
    }
   ],
   "execution_count": 18
  },
  {
   "metadata": {},
   "cell_type": "markdown",
   "source": "### Transformation",
   "id": "d677a998431aeeab"
  },
  {
   "metadata": {
    "ExecuteTime": {
     "end_time": "2024-11-19T01:36:11.809065Z",
     "start_time": "2024-11-19T01:36:11.692609Z"
    }
   },
   "cell_type": "code",
   "source": [
    "# Se incluye el indice de la bodega de datos y se ordenan las columnas en el dataframe\n",
    "mini_condiciones = mini_condiciones.coalesce(1).withColumn('IdCondicionesBeneficios_DWH', f.monotonically_increasing_id() + 1)\n",
    "mini_condiciones.show()"
   ],
   "id": "ad2881d1e229d227",
   "outputs": [
    {
     "name": "stdout",
     "output_type": "stream",
     "text": [
      "+-----------------+---------------------+-----+-----------------------+----------------------------------------+---------------------------------------+--------------------+-----+---------------------------+\n",
      "|IdTipoBeneficio_T|EstaCubiertoPorSeguro|EsEHB|TieneLimiteCuantitativo|ExcluidoDelDesembolsoMaximoDentroDeLaRed|ExcluidoDelDesembolsoMaximoFueraDeLaRed|     UnidadDelLimite|Annio|IdCondicionesBeneficios_DWH|\n",
      "+-----------------+---------------------+-----+-----------------------+----------------------------------------+---------------------------------------+--------------------+-----+---------------------------+\n",
      "|                5|                   No|   No|                     No|                                      No|                                     No|                    | 2017|                          1|\n",
      "|                5|                  Yes|   No|                     No|                                      No|                                    Yes|                    | 2020|                          2|\n",
      "|               10|                  Yes|  Yes|                    Yes|                                      No|                                     No| Dollars per Episode| 2017|                          3|\n",
      "|               10|                   No|  Yes|                     No|                                      No|                                     No|                    | 2019|                          4|\n",
      "|               20|                  Yes|   No|                    Yes|                                     Yes|                                    Yes|    Item(s) per Year| 2019|                          5|\n",
      "|               25|                  Yes|   No|                     No|                                      No|                                    Yes|                    | 2018|                          6|\n",
      "|               30|                   No|   No|                     No|                                      No|                                     No|                    | 2020|                          7|\n",
      "|               40|                  Yes|   No|                     No|                                      No|                                     No|                    | 2017|                          8|\n",
      "|               45|                  Yes|   No|                     No|                                      No|                                     No|                    | 2018|                          9|\n",
      "|               50|                  Yes|   No|                    Yes|                                      No|                                     No|    Dollars per Year| 2017|                         10|\n",
      "|               60|                  Yes|   No|                    Yes|                                      No|                                     No|   Visit(s) per Year| 2017|                         11|\n",
      "|               60|                  Yes|   No|                    Yes|                                      No|                                    Yes|   Visit(s) per Year| 2020|                         12|\n",
      "|               65|                  Yes|   No|                    Yes|                                      No|                                    Yes|   Visit(s) per Year| 2020|                         13|\n",
      "|               70|                  Yes|   No|                     No|                                      No|                                     No|                    | 2017|                         14|\n",
      "|               75|                   No|   No|                     No|                                     Yes|                                    Yes|                    | 2020|                         15|\n",
      "|               80|                  Yes|   No|                    Yes|                                     Yes|                                    Yes|Dollars per Benef...| 2017|                         16|\n",
      "|               80|                  Yes|   No|                    Yes|                                      No|                                    Yes|    Dollars per Year| 2018|                         17|\n",
      "|               80|                  Yes|   No|                    Yes|                                      No|                                     No|    Dollars per Year| 2019|                         18|\n",
      "|               80|                   No|   No|                    Yes|                                     Yes|                                    Yes|    Dollars per Year| 2021|                         19|\n",
      "|               85|                  Yes|   No|                    Yes|                                      No|                                    Yes|Procedure(s) per ...| 2017|                         20|\n",
      "+-----------------+---------------------+-----+-----------------------+----------------------------------------+---------------------------------------+--------------------+-----+---------------------------+\n",
      "only showing top 20 rows\n",
      "\n"
     ]
    }
   ],
   "execution_count": 19
  },
  {
   "metadata": {
    "ExecuteTime": {
     "end_time": "2024-11-19T01:36:14.682338Z",
     "start_time": "2024-11-19T01:36:14.239821Z"
    }
   },
   "cell_type": "code",
   "source": [
    "# Adicionar Comodin\n",
    "mini_data = [(0,'No','No','No','No', 'No', \"Missing\", 0, 0)]\n",
    "mini_columns = [\"IdTipoBeneficio_T\", \"EstaCubiertoPorSeguro\", \"EsEHB\", \"TieneLimiteCuantitativo\", \"ExcluidoDelDesembolsoMaximoDentroDeLaRed\", \"ExcluidoDelDesembolsoMaximoFueraDeLaRed\", \"UnidadDelLimite\", \"Annio\", \"IdCondicionesBeneficios_DWH\"]\n",
    "dummy_mini = spark.createDataFrame(mini_data, mini_columns)\n",
    "\n",
    "mini_condiciones = dummy_mini.union(mini_condiciones)\n",
    "mini_condiciones.show(3)\n"
   ],
   "id": "d71e7038913fad1d",
   "outputs": [
    {
     "name": "stdout",
     "output_type": "stream",
     "text": [
      "+-----------------+---------------------+-----+-----------------------+----------------------------------------+---------------------------------------+---------------+-----+---------------------------+\n",
      "|IdTipoBeneficio_T|EstaCubiertoPorSeguro|EsEHB|TieneLimiteCuantitativo|ExcluidoDelDesembolsoMaximoDentroDeLaRed|ExcluidoDelDesembolsoMaximoFueraDeLaRed|UnidadDelLimite|Annio|IdCondicionesBeneficios_DWH|\n",
      "+-----------------+---------------------+-----+-----------------------+----------------------------------------+---------------------------------------+---------------+-----+---------------------------+\n",
      "|                0|                   No|   No|                     No|                                      No|                                     No|        Missing|    0|                          0|\n",
      "|                5|                   No|   No|                     No|                                      No|                                     No|               | 2017|                          1|\n",
      "|                5|                  Yes|   No|                     No|                                      No|                                    Yes|               | 2020|                          2|\n",
      "+-----------------+---------------------+-----+-----------------------+----------------------------------------+---------------------------------------+---------------+-----+---------------------------+\n",
      "only showing top 3 rows\n",
      "\n"
     ]
    }
   ],
   "execution_count": 20
  },
  {
   "metadata": {
    "ExecuteTime": {
     "end_time": "2024-11-19T01:36:24.327984Z",
     "start_time": "2024-11-19T01:36:21.673576Z"
    }
   },
   "cell_type": "code",
   "source": [
    "# Se exploran los datos de las columnas categoricas de tipo 'Yes/No' para verificar que solo existan este tipo de valores\n",
    "mini_condiciones.groupby('EstaCubiertoPorSeguro').count().orderBy(\"count\", ascending=False).show()\n",
    "mini_condiciones.groupby('EsEHB').count().orderBy(\"count\", ascending=False).show()\n",
    "mini_condiciones.groupby('TieneLimiteCuantitativo').count().orderBy(\"count\", ascending=False).show()\n",
    "mini_condiciones.groupby('ExcluidoDelDesembolsoMaximoDentroDeLaRed').count().orderBy(\"count\", ascending=False).show()\n",
    "mini_condiciones.groupby('ExcluidoDelDesembolsoMaximoFueraDeLaRed').count().orderBy(\"count\", ascending=False).show()"
   ],
   "id": "543f9db68a879d7f",
   "outputs": [
    {
     "name": "stdout",
     "output_type": "stream",
     "text": [
      "+---------------------+-----+\n",
      "|EstaCubiertoPorSeguro|count|\n",
      "+---------------------+-----+\n",
      "|                  Yes|  313|\n",
      "|                   No|   31|\n",
      "|                False|    2|\n",
      "+---------------------+-----+\n",
      "\n",
      "+-----+-----+\n",
      "|EsEHB|count|\n",
      "+-----+-----+\n",
      "|   No|  226|\n",
      "|  Yes|  103|\n",
      "| True|   17|\n",
      "+-----+-----+\n",
      "\n",
      "+-----------------------+-----+\n",
      "|TieneLimiteCuantitativo|count|\n",
      "+-----------------------+-----+\n",
      "|                     No|  217|\n",
      "|                    Yes|  119|\n",
      "|                     Si|   10|\n",
      "+-----------------------+-----+\n",
      "\n",
      "+----------------------------------------+-----+\n",
      "|ExcluidoDelDesembolsoMaximoDentroDeLaRed|count|\n",
      "+----------------------------------------+-----+\n",
      "|                                      No|  328|\n",
      "|                                     Yes|   18|\n",
      "+----------------------------------------+-----+\n",
      "\n",
      "+---------------------------------------+-----+\n",
      "|ExcluidoDelDesembolsoMaximoFueraDeLaRed|count|\n",
      "+---------------------------------------+-----+\n",
      "|                                     No|  237|\n",
      "|                                    Yes|  109|\n",
      "+---------------------------------------+-----+\n",
      "\n"
     ]
    }
   ],
   "execution_count": 21
  },
  {
   "metadata": {
    "ExecuteTime": {
     "end_time": "2024-11-19T01:37:06.299757Z",
     "start_time": "2024-11-19T01:37:05.672977Z"
    }
   },
   "cell_type": "code",
   "source": [
    "# Se define una función que transforme los datos 'Si' y 'True' a valores 'Yes'; y los datos 'False' a valores 'No'\n",
    "def transformar_valores(df, nombre_columna):\n",
    "    return df.withColumn(\n",
    "        nombre_columna,\n",
    "        f.when(f.col(nombre_columna).isin('Si', 'True'), 'Yes') \\\n",
    "         .when(f.col(nombre_columna) == 'False', 'No') \\\n",
    "         .otherwise(f.col(nombre_columna))\n",
    "    )\n",
    "\n",
    "# Se especifican ahora las columnas que se deben transformar segun la mini-exploración anterior\n",
    "columnas_a_transformar = ['EstaCubiertoPorSeguro', 'EsEHB', 'TieneLimiteCuantitativo']\n",
    "\n",
    "# Se realiza la transformación de las columnas\n",
    "for col in columnas_a_transformar:\n",
    "    mini_condiciones = transformar_valores(mini_condiciones, col)\n",
    "    \n",
    "# Se inspecciona el dataframe\n",
    "mini_condiciones.show()"
   ],
   "id": "d7cea88091aba08f",
   "outputs": [
    {
     "name": "stdout",
     "output_type": "stream",
     "text": [
      "+-----------------+---------------------+-----+-----------------------+----------------------------------------+---------------------------------------+--------------------+-----+---------------------------+\n",
      "|IdTipoBeneficio_T|EstaCubiertoPorSeguro|EsEHB|TieneLimiteCuantitativo|ExcluidoDelDesembolsoMaximoDentroDeLaRed|ExcluidoDelDesembolsoMaximoFueraDeLaRed|     UnidadDelLimite|Annio|IdCondicionesBeneficios_DWH|\n",
      "+-----------------+---------------------+-----+-----------------------+----------------------------------------+---------------------------------------+--------------------+-----+---------------------------+\n",
      "|                0|                   No|   No|                     No|                                      No|                                     No|             Missing|    0|                          0|\n",
      "|                5|                   No|   No|                     No|                                      No|                                     No|                    | 2017|                          1|\n",
      "|                5|                  Yes|   No|                     No|                                      No|                                    Yes|                    | 2020|                          2|\n",
      "|               10|                  Yes|  Yes|                    Yes|                                      No|                                     No| Dollars per Episode| 2017|                          3|\n",
      "|               10|                   No|  Yes|                     No|                                      No|                                     No|                    | 2019|                          4|\n",
      "|               20|                  Yes|   No|                    Yes|                                     Yes|                                    Yes|    Item(s) per Year| 2019|                          5|\n",
      "|               25|                  Yes|   No|                     No|                                      No|                                    Yes|                    | 2018|                          6|\n",
      "|               30|                   No|   No|                     No|                                      No|                                     No|                    | 2020|                          7|\n",
      "|               40|                  Yes|   No|                     No|                                      No|                                     No|                    | 2017|                          8|\n",
      "|               45|                  Yes|   No|                     No|                                      No|                                     No|                    | 2018|                          9|\n",
      "|               50|                  Yes|   No|                    Yes|                                      No|                                     No|    Dollars per Year| 2017|                         10|\n",
      "|               60|                  Yes|   No|                    Yes|                                      No|                                     No|   Visit(s) per Year| 2017|                         11|\n",
      "|               60|                  Yes|   No|                    Yes|                                      No|                                    Yes|   Visit(s) per Year| 2020|                         12|\n",
      "|               65|                  Yes|   No|                    Yes|                                      No|                                    Yes|   Visit(s) per Year| 2020|                         13|\n",
      "|               70|                  Yes|   No|                     No|                                      No|                                     No|                    | 2017|                         14|\n",
      "|               75|                   No|   No|                     No|                                     Yes|                                    Yes|                    | 2020|                         15|\n",
      "|               80|                  Yes|   No|                    Yes|                                     Yes|                                    Yes|Dollars per Benef...| 2017|                         16|\n",
      "|               80|                  Yes|   No|                    Yes|                                      No|                                    Yes|    Dollars per Year| 2018|                         17|\n",
      "|               80|                  Yes|   No|                    Yes|                                      No|                                     No|    Dollars per Year| 2019|                         18|\n",
      "|               80|                   No|   No|                    Yes|                                     Yes|                                    Yes|    Dollars per Year| 2021|                         19|\n",
      "+-----------------+---------------------+-----+-----------------------+----------------------------------------+---------------------------------------+--------------------+-----+---------------------------+\n",
      "only showing top 20 rows\n",
      "\n"
     ]
    }
   ],
   "execution_count": 22
  },
  {
   "metadata": {
    "ExecuteTime": {
     "end_time": "2024-11-19T01:37:36.473917Z",
     "start_time": "2024-11-19T01:37:34.571034Z"
    }
   },
   "cell_type": "code",
   "source": [
    "# Se exploran nuevamente los datos de las columnas categoricas de tipo 'Yes/No' para verificar que solo existan este tipo de valores\n",
    "mini_condiciones.groupby('EstaCubiertoPorSeguro').count().orderBy(\"count\", ascending=False).show()\n",
    "mini_condiciones.groupby('EsEHB').count().orderBy(\"count\", ascending=False).show()\n",
    "mini_condiciones.groupby('TieneLimiteCuantitativo').count().orderBy(\"count\", ascending=False).show()\n",
    "mini_condiciones.groupby('ExcluidoDelDesembolsoMaximoDentroDeLaRed').count().orderBy(\"count\", ascending=False).show()\n",
    "mini_condiciones.groupby('ExcluidoDelDesembolsoMaximoFueraDeLaRed').count().orderBy(\"count\", ascending=False).show()"
   ],
   "id": "92f84e7188907eaa",
   "outputs": [
    {
     "name": "stdout",
     "output_type": "stream",
     "text": [
      "+---------------------+-----+\n",
      "|EstaCubiertoPorSeguro|count|\n",
      "+---------------------+-----+\n",
      "|                  Yes|  313|\n",
      "|                   No|   33|\n",
      "+---------------------+-----+\n",
      "\n",
      "+-----+-----+\n",
      "|EsEHB|count|\n",
      "+-----+-----+\n",
      "|   No|  226|\n",
      "|  Yes|  120|\n",
      "+-----+-----+\n",
      "\n",
      "+-----------------------+-----+\n",
      "|TieneLimiteCuantitativo|count|\n",
      "+-----------------------+-----+\n",
      "|                     No|  217|\n",
      "|                    Yes|  129|\n",
      "+-----------------------+-----+\n",
      "\n",
      "+----------------------------------------+-----+\n",
      "|ExcluidoDelDesembolsoMaximoDentroDeLaRed|count|\n",
      "+----------------------------------------+-----+\n",
      "|                                      No|  328|\n",
      "|                                     Yes|   18|\n",
      "+----------------------------------------+-----+\n",
      "\n",
      "+---------------------------------------+-----+\n",
      "|ExcluidoDelDesembolsoMaximoFueraDeLaRed|count|\n",
      "+---------------------------------------+-----+\n",
      "|                                     No|  237|\n",
      "|                                    Yes|  109|\n",
      "+---------------------------------------+-----+\n",
      "\n"
     ]
    }
   ],
   "execution_count": 23
  },
  {
   "metadata": {
    "ExecuteTime": {
     "end_time": "2024-11-19T01:38:17.885149Z",
     "start_time": "2024-11-19T01:38:17.603389Z"
    }
   },
   "cell_type": "code",
   "source": [
    "# Por ultimo se verifica que la columna Annio no contenga nulos y se verifica el tipo de dato\n",
    "mini_condiciones.groupby('Annio').count().orderBy(\"count\", ascending=False).show()\n",
    "mini_condiciones.printSchema()"
   ],
   "id": "edbc61d7378c3cec",
   "outputs": [
    {
     "name": "stdout",
     "output_type": "stream",
     "text": [
      "+-----+-----+\n",
      "|Annio|count|\n",
      "+-----+-----+\n",
      "| 2017|  155|\n",
      "| 2018|   62|\n",
      "| 2021|   58|\n",
      "| 2019|   37|\n",
      "| 2020|   33|\n",
      "|    0|    1|\n",
      "+-----+-----+\n",
      "\n",
      "root\n",
      " |-- IdTipoBeneficio_T: long (nullable = true)\n",
      " |-- EstaCubiertoPorSeguro: string (nullable = true)\n",
      " |-- EsEHB: string (nullable = true)\n",
      " |-- TieneLimiteCuantitativo: string (nullable = true)\n",
      " |-- ExcluidoDelDesembolsoMaximoDentroDeLaRed: string (nullable = true)\n",
      " |-- ExcluidoDelDesembolsoMaximoFueraDeLaRed: string (nullable = true)\n",
      " |-- UnidadDelLimite: string (nullable = true)\n",
      " |-- Annio: long (nullable = true)\n",
      " |-- IdCondicionesBeneficios_DWH: long (nullable = true)\n",
      "\n"
     ]
    }
   ],
   "execution_count": 25
  },
  {
   "metadata": {},
   "cell_type": "markdown",
   "source": "## Load",
   "id": "7fd346ca314af76f"
  },
  {
   "metadata": {
    "ExecuteTime": {
     "end_time": "2024-11-19T01:38:59.528280Z",
     "start_time": "2024-11-19T01:38:59.143264Z"
    }
   },
   "cell_type": "code",
   "source": "mini_condiciones.count()",
   "id": "f2a3fe3f30d91795",
   "outputs": [
    {
     "data": {
      "text/plain": [
       "346"
      ]
     },
     "execution_count": 26,
     "metadata": {},
     "output_type": "execute_result"
    }
   ],
   "execution_count": 26
  },
  {
   "metadata": {
    "ExecuteTime": {
     "end_time": "2024-11-19T01:39:03.820733Z",
     "start_time": "2024-11-19T01:39:02.385867Z"
    }
   },
   "cell_type": "code",
   "source": [
    "# Se realiza la carga delos datos\n",
    "conn_dest.save_db(mini_condiciones, 'Rs_MiniCondicionesTipoBeneficio')"
   ],
   "id": "29e8b88e37fe3c3a",
   "outputs": [
    {
     "name": "stderr",
     "output_type": "stream",
     "text": [
      "                                                                                \r"
     ]
    }
   ],
   "execution_count": 27
  }
 ],
 "metadata": {
  "kernelspec": {
   "display_name": "Python 3",
   "language": "python",
   "name": "python3"
  },
  "language_info": {
   "codemirror_mode": {
    "name": "ipython",
    "version": 2
   },
   "file_extension": ".py",
   "mimetype": "text/x-python",
   "name": "python",
   "nbconvert_exporter": "python",
   "pygments_lexer": "ipython2",
   "version": "2.7.6"
  }
 },
 "nbformat": 4,
 "nbformat_minor": 5
}
